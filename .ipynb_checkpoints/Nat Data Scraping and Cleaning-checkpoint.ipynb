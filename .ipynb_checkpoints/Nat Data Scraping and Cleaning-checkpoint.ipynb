{
 "cells": [
  {
   "cell_type": "markdown",
   "metadata": {},
   "source": [
    "# 1. Data to be used"
   ]
  },
  {
   "cell_type": "markdown",
   "metadata": {},
   "source": [
    "All data is from the CIA World Factbook (https://www.cia.gov/library/publications/resources/the-world-factbook/)\n",
    "\n",
    "1. 'emissions' reports millions of megatons of carbon dioxide emitted nationally from consumption of energy\n",
    "2. 'urban' is the percent of total population living in urban areas\n",
    "3. 'gdp' is the gross domestic product per capita in US dollars"
   ]
  },
  {
   "cell_type": "markdown",
   "metadata": {},
   "source": [
    "Links to the tables of data:\n",
    "\n",
    "1. emissions = https://www.cia.gov/library/publications/resources/the-world-factbook/fields/274.html\n",
    "2. urban = https://www.cia.gov/library/publications/resources/the-world-factbook/fields/349.html\n",
    "3. gdp = https://www.cia.gov/library/publications/resources/the-world-factbook/fields/211.html"
   ]
  },
  {
   "cell_type": "markdown",
   "metadata": {},
   "source": [
    "# 2. Reading the data"
   ]
  },
  {
   "cell_type": "code",
   "execution_count": 606,
   "metadata": {},
   "outputs": [
    {
     "data": {
      "text/html": [
       "<div>\n",
       "<style scoped>\n",
       "    .dataframe tbody tr th:only-of-type {\n",
       "        vertical-align: middle;\n",
       "    }\n",
       "\n",
       "    .dataframe tbody tr th {\n",
       "        vertical-align: top;\n",
       "    }\n",
       "\n",
       "    .dataframe thead th {\n",
       "        text-align: right;\n",
       "    }\n",
       "</style>\n",
       "<table border=\"1\" class=\"dataframe\">\n",
       "  <thead>\n",
       "    <tr style=\"text-align: right;\">\n",
       "      <th></th>\n",
       "      <th>Country</th>\n",
       "      <th>Carbon dioxide emissions from consumption of energy</th>\n",
       "    </tr>\n",
       "  </thead>\n",
       "  <tbody>\n",
       "    <tr>\n",
       "      <th>0</th>\n",
       "      <td>Afghanistan</td>\n",
       "      <td>9.067 million Mt  (2017 est.)</td>\n",
       "    </tr>\n",
       "    <tr>\n",
       "      <th>1</th>\n",
       "      <td>Albania</td>\n",
       "      <td>4.5 million Mt  (2017 est.)</td>\n",
       "    </tr>\n",
       "    <tr>\n",
       "      <th>2</th>\n",
       "      <td>Algeria</td>\n",
       "      <td>135.9 million Mt  (2017 est.)</td>\n",
       "    </tr>\n",
       "    <tr>\n",
       "      <th>3</th>\n",
       "      <td>American Samoa</td>\n",
       "      <td>361,100 Mt  (2017 est.)</td>\n",
       "    </tr>\n",
       "    <tr>\n",
       "      <th>4</th>\n",
       "      <td>Angola</td>\n",
       "      <td>20.95 million Mt  (2017 est.)</td>\n",
       "    </tr>\n",
       "  </tbody>\n",
       "</table>\n",
       "</div>"
      ],
      "text/plain": [
       "          Country Carbon dioxide emissions from consumption of energy\n",
       "0     Afghanistan                      9.067 million Mt  (2017 est.) \n",
       "1         Albania                        4.5 million Mt  (2017 est.) \n",
       "2         Algeria                      135.9 million Mt  (2017 est.) \n",
       "3  American Samoa                            361,100 Mt  (2017 est.) \n",
       "4          Angola                      20.95 million Mt  (2017 est.) "
      ]
     },
     "execution_count": 606,
     "metadata": {},
     "output_type": "execute_result"
    }
   ],
   "source": [
    "#creating a dataframe of CO2 emmissions\n",
    "import pandas as pd\n",
    "link1=\"https://www.cia.gov/library/publications/resources/the-world-factbook/fields/274.html\"\n",
    "emissions=pd.read_html(link1,header=0,flavor='bs4',attrs={'id': 'fieldListing'})[0]\n",
    "emissions.head()"
   ]
  },
  {
   "cell_type": "code",
   "execution_count": 607,
   "metadata": {},
   "outputs": [
    {
     "data": {
      "text/html": [
       "<div>\n",
       "<style scoped>\n",
       "    .dataframe tbody tr th:only-of-type {\n",
       "        vertical-align: middle;\n",
       "    }\n",
       "\n",
       "    .dataframe tbody tr th {\n",
       "        vertical-align: top;\n",
       "    }\n",
       "\n",
       "    .dataframe thead th {\n",
       "        text-align: right;\n",
       "    }\n",
       "</style>\n",
       "<table border=\"1\" class=\"dataframe\">\n",
       "  <thead>\n",
       "    <tr style=\"text-align: right;\">\n",
       "      <th></th>\n",
       "      <th>Country</th>\n",
       "      <th>Urbanization</th>\n",
       "    </tr>\n",
       "  </thead>\n",
       "  <tbody>\n",
       "    <tr>\n",
       "      <th>0</th>\n",
       "      <td>Afghanistan</td>\n",
       "      <td>urban population:  25.5% of total population  ...</td>\n",
       "    </tr>\n",
       "    <tr>\n",
       "      <th>1</th>\n",
       "      <td>Albania</td>\n",
       "      <td>urban population:  60.3% of total population  ...</td>\n",
       "    </tr>\n",
       "    <tr>\n",
       "      <th>2</th>\n",
       "      <td>Algeria</td>\n",
       "      <td>urban population:  72.6% of total population  ...</td>\n",
       "    </tr>\n",
       "    <tr>\n",
       "      <th>3</th>\n",
       "      <td>American Samoa</td>\n",
       "      <td>urban population:  87.2% of total population  ...</td>\n",
       "    </tr>\n",
       "    <tr>\n",
       "      <th>4</th>\n",
       "      <td>Andorra</td>\n",
       "      <td>urban population:  88.1% of total population  ...</td>\n",
       "    </tr>\n",
       "  </tbody>\n",
       "</table>\n",
       "</div>"
      ],
      "text/plain": [
       "          Country                                       Urbanization\n",
       "0     Afghanistan  urban population:  25.5% of total population  ...\n",
       "1         Albania  urban population:  60.3% of total population  ...\n",
       "2         Algeria  urban population:  72.6% of total population  ...\n",
       "3  American Samoa  urban population:  87.2% of total population  ...\n",
       "4         Andorra  urban population:  88.1% of total population  ..."
      ]
     },
     "execution_count": 607,
     "metadata": {},
     "output_type": "execute_result"
    }
   ],
   "source": [
    "#creating a dataframe of percent urbanization\n",
    "link2=\"https://www.cia.gov/library/publications/resources/the-world-factbook/fields/349.html\"\n",
    "urban=pd.read_html(link2,header=0,flavor='bs4',attrs={'id': 'fieldListing'})[0]\n",
    "urban.head()"
   ]
  },
  {
   "cell_type": "code",
   "execution_count": 608,
   "metadata": {},
   "outputs": [
    {
     "data": {
      "text/plain": [
       "(232, 2)"
      ]
     },
     "execution_count": 608,
     "metadata": {},
     "output_type": "execute_result"
    }
   ],
   "source": [
    "#creating a dataframe of GDP per capita\n",
    "link3=\"https://www.cia.gov/library/publications/resources/the-world-factbook/fields/211.html\"\n",
    "gdp=pd.read_html(link3,header=0,flavor='bs4',attrs={'id': 'fieldListing'})[0]\n",
    "gdp.shape"
   ]
  },
  {
   "cell_type": "markdown",
   "metadata": {},
   "source": [
    "# 3. Merging data sets"
   ]
  },
  {
   "cell_type": "code",
   "execution_count": 609,
   "metadata": {},
   "outputs": [
    {
     "data": {
      "text/html": [
       "<div>\n",
       "<style scoped>\n",
       "    .dataframe tbody tr th:only-of-type {\n",
       "        vertical-align: middle;\n",
       "    }\n",
       "\n",
       "    .dataframe tbody tr th {\n",
       "        vertical-align: top;\n",
       "    }\n",
       "\n",
       "    .dataframe thead th {\n",
       "        text-align: right;\n",
       "    }\n",
       "</style>\n",
       "<table border=\"1\" class=\"dataframe\">\n",
       "  <thead>\n",
       "    <tr style=\"text-align: right;\">\n",
       "      <th></th>\n",
       "      <th>Country</th>\n",
       "      <th>Carbon dioxide emissions from consumption of energy</th>\n",
       "      <th>Urbanization</th>\n",
       "    </tr>\n",
       "  </thead>\n",
       "  <tbody>\n",
       "    <tr>\n",
       "      <th>0</th>\n",
       "      <td>Afghanistan</td>\n",
       "      <td>9.067 million Mt  (2017 est.)</td>\n",
       "      <td>urban population:  25.5% of total population  ...</td>\n",
       "    </tr>\n",
       "    <tr>\n",
       "      <th>1</th>\n",
       "      <td>Albania</td>\n",
       "      <td>4.5 million Mt  (2017 est.)</td>\n",
       "      <td>urban population:  60.3% of total population  ...</td>\n",
       "    </tr>\n",
       "    <tr>\n",
       "      <th>2</th>\n",
       "      <td>Algeria</td>\n",
       "      <td>135.9 million Mt  (2017 est.)</td>\n",
       "      <td>urban population:  72.6% of total population  ...</td>\n",
       "    </tr>\n",
       "    <tr>\n",
       "      <th>3</th>\n",
       "      <td>American Samoa</td>\n",
       "      <td>361,100 Mt  (2017 est.)</td>\n",
       "      <td>urban population:  87.2% of total population  ...</td>\n",
       "    </tr>\n",
       "    <tr>\n",
       "      <th>4</th>\n",
       "      <td>Angola</td>\n",
       "      <td>20.95 million Mt  (2017 est.)</td>\n",
       "      <td>urban population:  65.5% of total population  ...</td>\n",
       "    </tr>\n",
       "  </tbody>\n",
       "</table>\n",
       "</div>"
      ],
      "text/plain": [
       "          Country Carbon dioxide emissions from consumption of energy  \\\n",
       "0     Afghanistan                      9.067 million Mt  (2017 est.)    \n",
       "1         Albania                        4.5 million Mt  (2017 est.)    \n",
       "2         Algeria                      135.9 million Mt  (2017 est.)    \n",
       "3  American Samoa                            361,100 Mt  (2017 est.)    \n",
       "4          Angola                      20.95 million Mt  (2017 est.)    \n",
       "\n",
       "                                        Urbanization  \n",
       "0  urban population:  25.5% of total population  ...  \n",
       "1  urban population:  60.3% of total population  ...  \n",
       "2  urban population:  72.6% of total population  ...  \n",
       "3  urban population:  87.2% of total population  ...  \n",
       "4  urban population:  65.5% of total population  ...  "
      ]
     },
     "execution_count": 609,
     "metadata": {},
     "output_type": "execute_result"
    }
   ],
   "source": [
    "#1st merge. Confirm that country data is lining up. \n",
    "join1=pd.merge(emissions,urban,left_on='Country',right_on='Country')\n",
    "join1.head()"
   ]
  },
  {
   "cell_type": "code",
   "execution_count": 610,
   "metadata": {},
   "outputs": [
    {
     "data": {
      "text/plain": [
       "(214, 3)"
      ]
     },
     "execution_count": 610,
     "metadata": {},
     "output_type": "execute_result"
    }
   ],
   "source": [
    "#18 countries that didn't show up in both dataframes being merged were dropped.\n",
    "join1.shape"
   ]
  },
  {
   "cell_type": "code",
   "execution_count": 611,
   "metadata": {},
   "outputs": [
    {
     "data": {
      "text/html": [
       "<div>\n",
       "<style scoped>\n",
       "    .dataframe tbody tr th:only-of-type {\n",
       "        vertical-align: middle;\n",
       "    }\n",
       "\n",
       "    .dataframe tbody tr th {\n",
       "        vertical-align: top;\n",
       "    }\n",
       "\n",
       "    .dataframe thead th {\n",
       "        text-align: right;\n",
       "    }\n",
       "</style>\n",
       "<table border=\"1\" class=\"dataframe\">\n",
       "  <thead>\n",
       "    <tr style=\"text-align: right;\">\n",
       "      <th></th>\n",
       "      <th>Country</th>\n",
       "      <th>Carbon dioxide emissions from consumption of energy</th>\n",
       "      <th>Urbanization</th>\n",
       "      <th>GDP - per capita (PPP)</th>\n",
       "    </tr>\n",
       "  </thead>\n",
       "  <tbody>\n",
       "    <tr>\n",
       "      <th>0</th>\n",
       "      <td>Afghanistan</td>\n",
       "      <td>9.067 million Mt  (2017 est.)</td>\n",
       "      <td>urban population:  25.5% of total population  ...</td>\n",
       "      <td>$2,000  (2017 est.)  $2,000  (2016 est.)  $2,0...</td>\n",
       "    </tr>\n",
       "    <tr>\n",
       "      <th>1</th>\n",
       "      <td>Albania</td>\n",
       "      <td>4.5 million Mt  (2017 est.)</td>\n",
       "      <td>urban population:  60.3% of total population  ...</td>\n",
       "      <td>$12,500  (2017 est.)  $12,100  (2016 est.)  $1...</td>\n",
       "    </tr>\n",
       "    <tr>\n",
       "      <th>2</th>\n",
       "      <td>Algeria</td>\n",
       "      <td>135.9 million Mt  (2017 est.)</td>\n",
       "      <td>urban population:  72.6% of total population  ...</td>\n",
       "      <td>$15,200  (2017 est.)  $15,200  (2016 est.)  $1...</td>\n",
       "    </tr>\n",
       "    <tr>\n",
       "      <th>3</th>\n",
       "      <td>American Samoa</td>\n",
       "      <td>361,100 Mt  (2017 est.)</td>\n",
       "      <td>urban population:  87.2% of total population  ...</td>\n",
       "      <td>$11,200  (2016 est.)  $11,300  (2015 est.)  $1...</td>\n",
       "    </tr>\n",
       "    <tr>\n",
       "      <th>4</th>\n",
       "      <td>Angola</td>\n",
       "      <td>20.95 million Mt  (2017 est.)</td>\n",
       "      <td>urban population:  65.5% of total population  ...</td>\n",
       "      <td>$6,800  (2017 est.)  $7,200  (2016 est.)  $7,6...</td>\n",
       "    </tr>\n",
       "  </tbody>\n",
       "</table>\n",
       "</div>"
      ],
      "text/plain": [
       "          Country Carbon dioxide emissions from consumption of energy  \\\n",
       "0     Afghanistan                      9.067 million Mt  (2017 est.)    \n",
       "1         Albania                        4.5 million Mt  (2017 est.)    \n",
       "2         Algeria                      135.9 million Mt  (2017 est.)    \n",
       "3  American Samoa                            361,100 Mt  (2017 est.)    \n",
       "4          Angola                      20.95 million Mt  (2017 est.)    \n",
       "\n",
       "                                        Urbanization  \\\n",
       "0  urban population:  25.5% of total population  ...   \n",
       "1  urban population:  60.3% of total population  ...   \n",
       "2  urban population:  72.6% of total population  ...   \n",
       "3  urban population:  87.2% of total population  ...   \n",
       "4  urban population:  65.5% of total population  ...   \n",
       "\n",
       "                              GDP - per capita (PPP)  \n",
       "0  $2,000  (2017 est.)  $2,000  (2016 est.)  $2,0...  \n",
       "1  $12,500  (2017 est.)  $12,100  (2016 est.)  $1...  \n",
       "2  $15,200  (2017 est.)  $15,200  (2016 est.)  $1...  \n",
       "3  $11,200  (2016 est.)  $11,300  (2015 est.)  $1...  \n",
       "4  $6,800  (2017 est.)  $7,200  (2016 est.)  $7,6...  "
      ]
     },
     "execution_count": 611,
     "metadata": {},
     "output_type": "execute_result"
    }
   ],
   "source": [
    "#2nd merge. Confirm that country data is lining up. \n",
    "data=pd.merge(join1,gdp,on='Country')\n",
    "data.head()"
   ]
  },
  {
   "cell_type": "code",
   "execution_count": 612,
   "metadata": {},
   "outputs": [
    {
     "data": {
      "text/plain": [
       "(214, 4)"
      ]
     },
     "execution_count": 612,
     "metadata": {},
     "output_type": "execute_result"
    }
   ],
   "source": [
    "data.shape"
   ]
  },
  {
   "cell_type": "markdown",
   "metadata": {},
   "source": [
    "# 4. Renaming columns"
   ]
  },
  {
   "cell_type": "code",
   "execution_count": 613,
   "metadata": {},
   "outputs": [
    {
     "name": "stdout",
     "output_type": "stream",
     "text": [
      "<class 'pandas.core.frame.DataFrame'>\n",
      "Int64Index: 214 entries, 0 to 213\n",
      "Data columns (total 4 columns):\n",
      "Country                                                214 non-null object\n",
      "Carbon dioxide emissions from consumption of energy    214 non-null object\n",
      "Urbanization                                           214 non-null object\n",
      "GDP - per capita (PPP)                                 214 non-null object\n",
      "dtypes: object(4)\n",
      "memory usage: 8.4+ KB\n"
     ]
    }
   ],
   "source": [
    "data.info()"
   ]
  },
  {
   "cell_type": "code",
   "execution_count": 614,
   "metadata": {},
   "outputs": [
    {
     "data": {
      "text/plain": [
       "Index(['Country', 'Carbon dioxide emissions from consumption of energy',\n",
       "       'Urbanization', 'GDP - per capita (PPP)'],\n",
       "      dtype='object')"
      ]
     },
     "execution_count": 614,
     "metadata": {},
     "output_type": "execute_result"
    }
   ],
   "source": [
    "data.columns"
   ]
  },
  {
   "cell_type": "code",
   "execution_count": 615,
   "metadata": {},
   "outputs": [],
   "source": [
    "newNames=['Country','CO2 Emissions','Urbanization','GDP Per Capita']"
   ]
  },
  {
   "cell_type": "code",
   "execution_count": 616,
   "metadata": {},
   "outputs": [],
   "source": [
    "nameChanges={old:new for old,new in zip(data.columns,newNames)}"
   ]
  },
  {
   "cell_type": "code",
   "execution_count": 617,
   "metadata": {},
   "outputs": [],
   "source": [
    "data.rename(nameChanges,axis=1,inplace=True)"
   ]
  },
  {
   "cell_type": "code",
   "execution_count": 618,
   "metadata": {},
   "outputs": [
    {
     "data": {
      "text/html": [
       "<div>\n",
       "<style scoped>\n",
       "    .dataframe tbody tr th:only-of-type {\n",
       "        vertical-align: middle;\n",
       "    }\n",
       "\n",
       "    .dataframe tbody tr th {\n",
       "        vertical-align: top;\n",
       "    }\n",
       "\n",
       "    .dataframe thead th {\n",
       "        text-align: right;\n",
       "    }\n",
       "</style>\n",
       "<table border=\"1\" class=\"dataframe\">\n",
       "  <thead>\n",
       "    <tr style=\"text-align: right;\">\n",
       "      <th></th>\n",
       "      <th>Country</th>\n",
       "      <th>CO2 Emissions</th>\n",
       "      <th>Urbanization</th>\n",
       "      <th>GDP Per Capita</th>\n",
       "    </tr>\n",
       "  </thead>\n",
       "  <tbody>\n",
       "    <tr>\n",
       "      <th>0</th>\n",
       "      <td>Afghanistan</td>\n",
       "      <td>9.067 million Mt  (2017 est.)</td>\n",
       "      <td>urban population:  25.5% of total population  ...</td>\n",
       "      <td>$2,000  (2017 est.)  $2,000  (2016 est.)  $2,0...</td>\n",
       "    </tr>\n",
       "    <tr>\n",
       "      <th>1</th>\n",
       "      <td>Albania</td>\n",
       "      <td>4.5 million Mt  (2017 est.)</td>\n",
       "      <td>urban population:  60.3% of total population  ...</td>\n",
       "      <td>$12,500  (2017 est.)  $12,100  (2016 est.)  $1...</td>\n",
       "    </tr>\n",
       "    <tr>\n",
       "      <th>2</th>\n",
       "      <td>Algeria</td>\n",
       "      <td>135.9 million Mt  (2017 est.)</td>\n",
       "      <td>urban population:  72.6% of total population  ...</td>\n",
       "      <td>$15,200  (2017 est.)  $15,200  (2016 est.)  $1...</td>\n",
       "    </tr>\n",
       "    <tr>\n",
       "      <th>3</th>\n",
       "      <td>American Samoa</td>\n",
       "      <td>361,100 Mt  (2017 est.)</td>\n",
       "      <td>urban population:  87.2% of total population  ...</td>\n",
       "      <td>$11,200  (2016 est.)  $11,300  (2015 est.)  $1...</td>\n",
       "    </tr>\n",
       "    <tr>\n",
       "      <th>4</th>\n",
       "      <td>Angola</td>\n",
       "      <td>20.95 million Mt  (2017 est.)</td>\n",
       "      <td>urban population:  65.5% of total population  ...</td>\n",
       "      <td>$6,800  (2017 est.)  $7,200  (2016 est.)  $7,6...</td>\n",
       "    </tr>\n",
       "  </tbody>\n",
       "</table>\n",
       "</div>"
      ],
      "text/plain": [
       "          Country                  CO2 Emissions  \\\n",
       "0     Afghanistan  9.067 million Mt  (2017 est.)   \n",
       "1         Albania    4.5 million Mt  (2017 est.)   \n",
       "2         Algeria  135.9 million Mt  (2017 est.)   \n",
       "3  American Samoa        361,100 Mt  (2017 est.)   \n",
       "4          Angola  20.95 million Mt  (2017 est.)   \n",
       "\n",
       "                                        Urbanization  \\\n",
       "0  urban population:  25.5% of total population  ...   \n",
       "1  urban population:  60.3% of total population  ...   \n",
       "2  urban population:  72.6% of total population  ...   \n",
       "3  urban population:  87.2% of total population  ...   \n",
       "4  urban population:  65.5% of total population  ...   \n",
       "\n",
       "                                      GDP Per Capita  \n",
       "0  $2,000  (2017 est.)  $2,000  (2016 est.)  $2,0...  \n",
       "1  $12,500  (2017 est.)  $12,100  (2016 est.)  $1...  \n",
       "2  $15,200  (2017 est.)  $15,200  (2016 est.)  $1...  \n",
       "3  $11,200  (2016 est.)  $11,300  (2015 est.)  $1...  \n",
       "4  $6,800  (2017 est.)  $7,200  (2016 est.)  $7,6...  "
      ]
     },
     "execution_count": 618,
     "metadata": {},
     "output_type": "execute_result"
    }
   ],
   "source": [
    "data.head()"
   ]
  },
  {
   "cell_type": "code",
   "execution_count": 619,
   "metadata": {},
   "outputs": [
    {
     "data": {
      "text/plain": [
       "Country           object\n",
       "CO2 Emissions     object\n",
       "Urbanization      object\n",
       "GDP Per Capita    object\n",
       "dtype: object"
      ]
     },
     "execution_count": 619,
     "metadata": {},
     "output_type": "execute_result"
    }
   ],
   "source": [
    "data.dtypes"
   ]
  },
  {
   "cell_type": "markdown",
   "metadata": {},
   "source": [
    "# 5. Cleaning the CO2 Emissions Column"
   ]
  },
  {
   "cell_type": "code",
   "execution_count": 620,
   "metadata": {},
   "outputs": [
    {
     "data": {
      "text/html": [
       "<div>\n",
       "<style scoped>\n",
       "    .dataframe tbody tr th:only-of-type {\n",
       "        vertical-align: middle;\n",
       "    }\n",
       "\n",
       "    .dataframe tbody tr th {\n",
       "        vertical-align: top;\n",
       "    }\n",
       "\n",
       "    .dataframe thead th {\n",
       "        text-align: right;\n",
       "    }\n",
       "</style>\n",
       "<table border=\"1\" class=\"dataframe\">\n",
       "  <thead>\n",
       "    <tr style=\"text-align: right;\">\n",
       "      <th></th>\n",
       "      <th>Country</th>\n",
       "      <th>CO2 Emissions</th>\n",
       "      <th>Urbanization</th>\n",
       "      <th>GDP Per Capita</th>\n",
       "      <th>CO2_Emissions_Number</th>\n",
       "    </tr>\n",
       "  </thead>\n",
       "  <tbody>\n",
       "    <tr>\n",
       "      <th>0</th>\n",
       "      <td>Afghanistan</td>\n",
       "      <td>9.067 million Mt  (2017 est.)</td>\n",
       "      <td>urban population:  25.5% of total population  ...</td>\n",
       "      <td>$2,000  (2017 est.)  $2,000  (2016 est.)  $2,0...</td>\n",
       "      <td>9.067 million</td>\n",
       "    </tr>\n",
       "    <tr>\n",
       "      <th>1</th>\n",
       "      <td>Albania</td>\n",
       "      <td>4.5 million Mt  (2017 est.)</td>\n",
       "      <td>urban population:  60.3% of total population  ...</td>\n",
       "      <td>$12,500  (2017 est.)  $12,100  (2016 est.)  $1...</td>\n",
       "      <td>4.5 million</td>\n",
       "    </tr>\n",
       "    <tr>\n",
       "      <th>2</th>\n",
       "      <td>Algeria</td>\n",
       "      <td>135.9 million Mt  (2017 est.)</td>\n",
       "      <td>urban population:  72.6% of total population  ...</td>\n",
       "      <td>$15,200  (2017 est.)  $15,200  (2016 est.)  $1...</td>\n",
       "      <td>135.9 million</td>\n",
       "    </tr>\n",
       "    <tr>\n",
       "      <th>3</th>\n",
       "      <td>American Samoa</td>\n",
       "      <td>361,100 Mt  (2017 est.)</td>\n",
       "      <td>urban population:  87.2% of total population  ...</td>\n",
       "      <td>$11,200  (2016 est.)  $11,300  (2015 est.)  $1...</td>\n",
       "      <td>361,100</td>\n",
       "    </tr>\n",
       "    <tr>\n",
       "      <th>4</th>\n",
       "      <td>Angola</td>\n",
       "      <td>20.95 million Mt  (2017 est.)</td>\n",
       "      <td>urban population:  65.5% of total population  ...</td>\n",
       "      <td>$6,800  (2017 est.)  $7,200  (2016 est.)  $7,6...</td>\n",
       "      <td>20.95 million</td>\n",
       "    </tr>\n",
       "  </tbody>\n",
       "</table>\n",
       "</div>"
      ],
      "text/plain": [
       "          Country                  CO2 Emissions  \\\n",
       "0     Afghanistan  9.067 million Mt  (2017 est.)   \n",
       "1         Albania    4.5 million Mt  (2017 est.)   \n",
       "2         Algeria  135.9 million Mt  (2017 est.)   \n",
       "3  American Samoa        361,100 Mt  (2017 est.)   \n",
       "4          Angola  20.95 million Mt  (2017 est.)   \n",
       "\n",
       "                                        Urbanization  \\\n",
       "0  urban population:  25.5% of total population  ...   \n",
       "1  urban population:  60.3% of total population  ...   \n",
       "2  urban population:  72.6% of total population  ...   \n",
       "3  urban population:  87.2% of total population  ...   \n",
       "4  urban population:  65.5% of total population  ...   \n",
       "\n",
       "                                      GDP Per Capita CO2_Emissions_Number  \n",
       "0  $2,000  (2017 est.)  $2,000  (2016 est.)  $2,0...        9.067 million  \n",
       "1  $12,500  (2017 est.)  $12,100  (2016 est.)  $1...          4.5 million  \n",
       "2  $15,200  (2017 est.)  $15,200  (2016 est.)  $1...        135.9 million  \n",
       "3  $11,200  (2016 est.)  $11,300  (2015 est.)  $1...              361,100  \n",
       "4  $6,800  (2017 est.)  $7,200  (2016 est.)  $7,6...        20.95 million  "
      ]
     },
     "execution_count": 620,
     "metadata": {},
     "output_type": "execute_result"
    }
   ],
   "source": [
    "#Split values after million\n",
    "emissionsnumber=[element.split(' Mt')[0] for element in data.iloc[:,1]]\n",
    "\n",
    "#Making the above list a new column:\n",
    "data=data.assign(CO2_Emissions_Number=emissionsnumber)\n",
    "\n",
    "#Checking\n",
    "data.head()"
   ]
  },
  {
   "cell_type": "code",
   "execution_count": 621,
   "metadata": {},
   "outputs": [],
   "source": [
    "# the new values have text, which tells the units, so we want to keep that somewhere\n",
    "\n",
    "units=[] #empty list\n",
    "\n",
    "for element in data.iloc[:,4]:\n",
    "  result=element.split(' ')\n",
    "  if len(result)>1:\n",
    "      units.append(result[1])  # add text\n",
    "  else:\n",
    "    units.append(1) # add '1'"
   ]
  },
  {
   "cell_type": "code",
   "execution_count": 622,
   "metadata": {},
   "outputs": [
    {
     "data": {
      "text/html": [
       "<div>\n",
       "<style scoped>\n",
       "    .dataframe tbody tr th:only-of-type {\n",
       "        vertical-align: middle;\n",
       "    }\n",
       "\n",
       "    .dataframe tbody tr th {\n",
       "        vertical-align: top;\n",
       "    }\n",
       "\n",
       "    .dataframe thead th {\n",
       "        text-align: right;\n",
       "    }\n",
       "</style>\n",
       "<table border=\"1\" class=\"dataframe\">\n",
       "  <thead>\n",
       "    <tr style=\"text-align: right;\">\n",
       "      <th></th>\n",
       "      <th>Country</th>\n",
       "      <th>CO2 Emissions</th>\n",
       "      <th>Urbanization</th>\n",
       "      <th>GDP Per Capita</th>\n",
       "      <th>CO2_Emissions_Number</th>\n",
       "      <th>units</th>\n",
       "    </tr>\n",
       "  </thead>\n",
       "  <tbody>\n",
       "    <tr>\n",
       "      <th>0</th>\n",
       "      <td>Afghanistan</td>\n",
       "      <td>9.067 million Mt  (2017 est.)</td>\n",
       "      <td>urban population:  25.5% of total population  ...</td>\n",
       "      <td>$2,000  (2017 est.)  $2,000  (2016 est.)  $2,0...</td>\n",
       "      <td>9.067 million</td>\n",
       "      <td>million</td>\n",
       "    </tr>\n",
       "    <tr>\n",
       "      <th>1</th>\n",
       "      <td>Albania</td>\n",
       "      <td>4.5 million Mt  (2017 est.)</td>\n",
       "      <td>urban population:  60.3% of total population  ...</td>\n",
       "      <td>$12,500  (2017 est.)  $12,100  (2016 est.)  $1...</td>\n",
       "      <td>4.5 million</td>\n",
       "      <td>million</td>\n",
       "    </tr>\n",
       "    <tr>\n",
       "      <th>2</th>\n",
       "      <td>Algeria</td>\n",
       "      <td>135.9 million Mt  (2017 est.)</td>\n",
       "      <td>urban population:  72.6% of total population  ...</td>\n",
       "      <td>$15,200  (2017 est.)  $15,200  (2016 est.)  $1...</td>\n",
       "      <td>135.9 million</td>\n",
       "      <td>million</td>\n",
       "    </tr>\n",
       "    <tr>\n",
       "      <th>3</th>\n",
       "      <td>American Samoa</td>\n",
       "      <td>361,100 Mt  (2017 est.)</td>\n",
       "      <td>urban population:  87.2% of total population  ...</td>\n",
       "      <td>$11,200  (2016 est.)  $11,300  (2015 est.)  $1...</td>\n",
       "      <td>361,100</td>\n",
       "      <td>1</td>\n",
       "    </tr>\n",
       "    <tr>\n",
       "      <th>4</th>\n",
       "      <td>Angola</td>\n",
       "      <td>20.95 million Mt  (2017 est.)</td>\n",
       "      <td>urban population:  65.5% of total population  ...</td>\n",
       "      <td>$6,800  (2017 est.)  $7,200  (2016 est.)  $7,6...</td>\n",
       "      <td>20.95 million</td>\n",
       "      <td>million</td>\n",
       "    </tr>\n",
       "  </tbody>\n",
       "</table>\n",
       "</div>"
      ],
      "text/plain": [
       "          Country                  CO2 Emissions  \\\n",
       "0     Afghanistan  9.067 million Mt  (2017 est.)   \n",
       "1         Albania    4.5 million Mt  (2017 est.)   \n",
       "2         Algeria  135.9 million Mt  (2017 est.)   \n",
       "3  American Samoa        361,100 Mt  (2017 est.)   \n",
       "4          Angola  20.95 million Mt  (2017 est.)   \n",
       "\n",
       "                                        Urbanization  \\\n",
       "0  urban population:  25.5% of total population  ...   \n",
       "1  urban population:  60.3% of total population  ...   \n",
       "2  urban population:  72.6% of total population  ...   \n",
       "3  urban population:  87.2% of total population  ...   \n",
       "4  urban population:  65.5% of total population  ...   \n",
       "\n",
       "                                      GDP Per Capita CO2_Emissions_Number  \\\n",
       "0  $2,000  (2017 est.)  $2,000  (2016 est.)  $2,0...        9.067 million   \n",
       "1  $12,500  (2017 est.)  $12,100  (2016 est.)  $1...          4.5 million   \n",
       "2  $15,200  (2017 est.)  $15,200  (2016 est.)  $1...        135.9 million   \n",
       "3  $11,200  (2016 est.)  $11,300  (2015 est.)  $1...              361,100   \n",
       "4  $6,800  (2017 est.)  $7,200  (2016 est.)  $7,6...        20.95 million   \n",
       "\n",
       "     units  \n",
       "0  million  \n",
       "1  million  \n",
       "2  million  \n",
       "3        1  \n",
       "4  million  "
      ]
     },
     "execution_count": 622,
     "metadata": {},
     "output_type": "execute_result"
    }
   ],
   "source": [
    "#Making the above list a new column:\n",
    "data=data.assign(units=units)\n",
    "data.head()"
   ]
  },
  {
   "cell_type": "code",
   "execution_count": 623,
   "metadata": {},
   "outputs": [
    {
     "data": {
      "text/html": [
       "<div>\n",
       "<style scoped>\n",
       "    .dataframe tbody tr th:only-of-type {\n",
       "        vertical-align: middle;\n",
       "    }\n",
       "\n",
       "    .dataframe tbody tr th {\n",
       "        vertical-align: top;\n",
       "    }\n",
       "\n",
       "    .dataframe thead th {\n",
       "        text-align: right;\n",
       "    }\n",
       "</style>\n",
       "<table border=\"1\" class=\"dataframe\">\n",
       "  <thead>\n",
       "    <tr style=\"text-align: right;\">\n",
       "      <th></th>\n",
       "      <th>Country</th>\n",
       "      <th>CO2 Emissions</th>\n",
       "      <th>Urbanization</th>\n",
       "      <th>GDP Per Capita</th>\n",
       "      <th>CO2_Emissions_Number</th>\n",
       "      <th>units</th>\n",
       "    </tr>\n",
       "  </thead>\n",
       "  <tbody>\n",
       "    <tr>\n",
       "      <th>0</th>\n",
       "      <td>Afghanistan</td>\n",
       "      <td>9.067 million Mt  (2017 est.)</td>\n",
       "      <td>urban population:  25.5% of total population  ...</td>\n",
       "      <td>$2,000  (2017 est.)  $2,000  (2016 est.)  $2,0...</td>\n",
       "      <td>9.067</td>\n",
       "      <td>million</td>\n",
       "    </tr>\n",
       "    <tr>\n",
       "      <th>1</th>\n",
       "      <td>Albania</td>\n",
       "      <td>4.5 million Mt  (2017 est.)</td>\n",
       "      <td>urban population:  60.3% of total population  ...</td>\n",
       "      <td>$12,500  (2017 est.)  $12,100  (2016 est.)  $1...</td>\n",
       "      <td>4.5</td>\n",
       "      <td>million</td>\n",
       "    </tr>\n",
       "    <tr>\n",
       "      <th>2</th>\n",
       "      <td>Algeria</td>\n",
       "      <td>135.9 million Mt  (2017 est.)</td>\n",
       "      <td>urban population:  72.6% of total population  ...</td>\n",
       "      <td>$15,200  (2017 est.)  $15,200  (2016 est.)  $1...</td>\n",
       "      <td>135.9</td>\n",
       "      <td>million</td>\n",
       "    </tr>\n",
       "    <tr>\n",
       "      <th>3</th>\n",
       "      <td>American Samoa</td>\n",
       "      <td>361,100 Mt  (2017 est.)</td>\n",
       "      <td>urban population:  87.2% of total population  ...</td>\n",
       "      <td>$11,200  (2016 est.)  $11,300  (2015 est.)  $1...</td>\n",
       "      <td>361,100</td>\n",
       "      <td>1</td>\n",
       "    </tr>\n",
       "    <tr>\n",
       "      <th>4</th>\n",
       "      <td>Angola</td>\n",
       "      <td>20.95 million Mt  (2017 est.)</td>\n",
       "      <td>urban population:  65.5% of total population  ...</td>\n",
       "      <td>$6,800  (2017 est.)  $7,200  (2016 est.)  $7,6...</td>\n",
       "      <td>20.95</td>\n",
       "      <td>million</td>\n",
       "    </tr>\n",
       "  </tbody>\n",
       "</table>\n",
       "</div>"
      ],
      "text/plain": [
       "          Country                  CO2 Emissions  \\\n",
       "0     Afghanistan  9.067 million Mt  (2017 est.)   \n",
       "1         Albania    4.5 million Mt  (2017 est.)   \n",
       "2         Algeria  135.9 million Mt  (2017 est.)   \n",
       "3  American Samoa        361,100 Mt  (2017 est.)   \n",
       "4          Angola  20.95 million Mt  (2017 est.)   \n",
       "\n",
       "                                        Urbanization  \\\n",
       "0  urban population:  25.5% of total population  ...   \n",
       "1  urban population:  60.3% of total population  ...   \n",
       "2  urban population:  72.6% of total population  ...   \n",
       "3  urban population:  87.2% of total population  ...   \n",
       "4  urban population:  65.5% of total population  ...   \n",
       "\n",
       "                                      GDP Per Capita CO2_Emissions_Number  \\\n",
       "0  $2,000  (2017 est.)  $2,000  (2016 est.)  $2,0...                9.067   \n",
       "1  $12,500  (2017 est.)  $12,100  (2016 est.)  $1...                  4.5   \n",
       "2  $15,200  (2017 est.)  $15,200  (2016 est.)  $1...                135.9   \n",
       "3  $11,200  (2016 est.)  $11,300  (2015 est.)  $1...              361,100   \n",
       "4  $6,800  (2017 est.)  $7,200  (2016 est.)  $7,6...                20.95   \n",
       "\n",
       "     units  \n",
       "0  million  \n",
       "1  million  \n",
       "2  million  \n",
       "3        1  \n",
       "4  million  "
      ]
     },
     "execution_count": 623,
     "metadata": {},
     "output_type": "execute_result"
    }
   ],
   "source": [
    "#Now I can keep the first element (number):\n",
    "emissionsnumber=[element.split(' ')[0] for element in data.iloc[:,4]]\n",
    "\n",
    "#Making the above list a new column:\n",
    "data=data.assign(CO2_Emissions_Number=emissionsnumber)\n",
    "data.head()"
   ]
  },
  {
   "cell_type": "code",
   "execution_count": 624,
   "metadata": {},
   "outputs": [
    {
     "data": {
      "text/plain": [
       "million    162\n",
       "1           46\n",
       "billion      6\n",
       "Name: units, dtype: int64"
      ]
     },
     "execution_count": 624,
     "metadata": {},
     "output_type": "execute_result"
    }
   ],
   "source": [
    "data.units.value_counts() # we need to turn this into numbers"
   ]
  },
  {
   "cell_type": "code",
   "execution_count": 625,
   "metadata": {},
   "outputs": [
    {
     "data": {
      "text/html": [
       "<div>\n",
       "<style scoped>\n",
       "    .dataframe tbody tr th:only-of-type {\n",
       "        vertical-align: middle;\n",
       "    }\n",
       "\n",
       "    .dataframe tbody tr th {\n",
       "        vertical-align: top;\n",
       "    }\n",
       "\n",
       "    .dataframe thead th {\n",
       "        text-align: right;\n",
       "    }\n",
       "</style>\n",
       "<table border=\"1\" class=\"dataframe\">\n",
       "  <thead>\n",
       "    <tr style=\"text-align: right;\">\n",
       "      <th></th>\n",
       "      <th>Country</th>\n",
       "      <th>CO2 Emissions</th>\n",
       "      <th>Urbanization</th>\n",
       "      <th>GDP Per Capita</th>\n",
       "      <th>CO2_Emissions_Number</th>\n",
       "      <th>units</th>\n",
       "    </tr>\n",
       "  </thead>\n",
       "  <tbody>\n",
       "    <tr>\n",
       "      <th>0</th>\n",
       "      <td>Afghanistan</td>\n",
       "      <td>9.067 million Mt  (2017 est.)</td>\n",
       "      <td>urban population:  25.5% of total population  ...</td>\n",
       "      <td>$2,000  (2017 est.)  $2,000  (2016 est.)  $2,0...</td>\n",
       "      <td>9.067</td>\n",
       "      <td>1000000</td>\n",
       "    </tr>\n",
       "    <tr>\n",
       "      <th>1</th>\n",
       "      <td>Albania</td>\n",
       "      <td>4.5 million Mt  (2017 est.)</td>\n",
       "      <td>urban population:  60.3% of total population  ...</td>\n",
       "      <td>$12,500  (2017 est.)  $12,100  (2016 est.)  $1...</td>\n",
       "      <td>4.5</td>\n",
       "      <td>1000000</td>\n",
       "    </tr>\n",
       "    <tr>\n",
       "      <th>2</th>\n",
       "      <td>Algeria</td>\n",
       "      <td>135.9 million Mt  (2017 est.)</td>\n",
       "      <td>urban population:  72.6% of total population  ...</td>\n",
       "      <td>$15,200  (2017 est.)  $15,200  (2016 est.)  $1...</td>\n",
       "      <td>135.9</td>\n",
       "      <td>1000000</td>\n",
       "    </tr>\n",
       "    <tr>\n",
       "      <th>3</th>\n",
       "      <td>American Samoa</td>\n",
       "      <td>361,100 Mt  (2017 est.)</td>\n",
       "      <td>urban population:  87.2% of total population  ...</td>\n",
       "      <td>$11,200  (2016 est.)  $11,300  (2015 est.)  $1...</td>\n",
       "      <td>361,100</td>\n",
       "      <td>1</td>\n",
       "    </tr>\n",
       "    <tr>\n",
       "      <th>4</th>\n",
       "      <td>Angola</td>\n",
       "      <td>20.95 million Mt  (2017 est.)</td>\n",
       "      <td>urban population:  65.5% of total population  ...</td>\n",
       "      <td>$6,800  (2017 est.)  $7,200  (2016 est.)  $7,6...</td>\n",
       "      <td>20.95</td>\n",
       "      <td>1000000</td>\n",
       "    </tr>\n",
       "  </tbody>\n",
       "</table>\n",
       "</div>"
      ],
      "text/plain": [
       "          Country                  CO2 Emissions  \\\n",
       "0     Afghanistan  9.067 million Mt  (2017 est.)   \n",
       "1         Albania    4.5 million Mt  (2017 est.)   \n",
       "2         Algeria  135.9 million Mt  (2017 est.)   \n",
       "3  American Samoa        361,100 Mt  (2017 est.)   \n",
       "4          Angola  20.95 million Mt  (2017 est.)   \n",
       "\n",
       "                                        Urbanization  \\\n",
       "0  urban population:  25.5% of total population  ...   \n",
       "1  urban population:  60.3% of total population  ...   \n",
       "2  urban population:  72.6% of total population  ...   \n",
       "3  urban population:  87.2% of total population  ...   \n",
       "4  urban population:  65.5% of total population  ...   \n",
       "\n",
       "                                      GDP Per Capita CO2_Emissions_Number  \\\n",
       "0  $2,000  (2017 est.)  $2,000  (2016 est.)  $2,0...                9.067   \n",
       "1  $12,500  (2017 est.)  $12,100  (2016 est.)  $1...                  4.5   \n",
       "2  $15,200  (2017 est.)  $15,200  (2016 est.)  $1...                135.9   \n",
       "3  $11,200  (2016 est.)  $11,300  (2015 est.)  $1...              361,100   \n",
       "4  $6,800  (2017 est.)  $7,200  (2016 est.)  $7,6...                20.95   \n",
       "\n",
       "     units  \n",
       "0  1000000  \n",
       "1  1000000  \n",
       "2  1000000  \n",
       "3        1  \n",
       "4  1000000  "
      ]
     },
     "execution_count": 625,
     "metadata": {},
     "output_type": "execute_result"
    }
   ],
   "source": [
    "newUnits=[10**6 if x=='million' else x for x in data.units] # first the millions\n",
    "newUnits=[10**9 if x=='billion' else x for x in newUnits] #then the billions\n",
    "# rewriting column\n",
    "data=data.assign(units=newUnits)\n",
    "data.head()"
   ]
  },
  {
   "cell_type": "code",
   "execution_count": 626,
   "metadata": {},
   "outputs": [
    {
     "data": {
      "text/plain": [
       "Country                 object\n",
       "CO2 Emissions           object\n",
       "Urbanization            object\n",
       "GDP Per Capita          object\n",
       "CO2_Emissions_Number    object\n",
       "units                    int64\n",
       "dtype: object"
      ]
     },
     "execution_count": 626,
     "metadata": {},
     "output_type": "execute_result"
    }
   ],
   "source": [
    "data.dtypes # checking data type"
   ]
  },
  {
   "cell_type": "code",
   "execution_count": 627,
   "metadata": {},
   "outputs": [
    {
     "data": {
      "text/plain": [
       "'1073002'"
      ]
     },
     "execution_count": 627,
     "metadata": {},
     "output_type": "execute_result"
    }
   ],
   "source": [
    "# there are values with commas, I need to:\n",
    "import re\n",
    "pattern='\\\\,'\n",
    "nothing=''\n",
    "testString='1,073,002'\n",
    "re.sub(pattern,nothing,testString)"
   ]
  },
  {
   "cell_type": "code",
   "execution_count": 628,
   "metadata": {},
   "outputs": [],
   "source": [
    "pattern='\\\\,'\n",
    "nothing=''\n",
    "\n",
    "newValues=[re.sub(pattern,nothing,oldValue) for oldValue in data.iloc[:,4]]"
   ]
  },
  {
   "cell_type": "code",
   "execution_count": 629,
   "metadata": {},
   "outputs": [
    {
     "data": {
      "text/html": [
       "<div>\n",
       "<style scoped>\n",
       "    .dataframe tbody tr th:only-of-type {\n",
       "        vertical-align: middle;\n",
       "    }\n",
       "\n",
       "    .dataframe tbody tr th {\n",
       "        vertical-align: top;\n",
       "    }\n",
       "\n",
       "    .dataframe thead th {\n",
       "        text-align: right;\n",
       "    }\n",
       "</style>\n",
       "<table border=\"1\" class=\"dataframe\">\n",
       "  <thead>\n",
       "    <tr style=\"text-align: right;\">\n",
       "      <th></th>\n",
       "      <th>Country</th>\n",
       "      <th>CO2 Emissions</th>\n",
       "      <th>Urbanization</th>\n",
       "      <th>GDP Per Capita</th>\n",
       "      <th>CO2_Emissions_Number</th>\n",
       "      <th>units</th>\n",
       "    </tr>\n",
       "  </thead>\n",
       "  <tbody>\n",
       "    <tr>\n",
       "      <th>0</th>\n",
       "      <td>Afghanistan</td>\n",
       "      <td>9.067 million Mt  (2017 est.)</td>\n",
       "      <td>urban population:  25.5% of total population  ...</td>\n",
       "      <td>$2,000  (2017 est.)  $2,000  (2016 est.)  $2,0...</td>\n",
       "      <td>9.067</td>\n",
       "      <td>1000000</td>\n",
       "    </tr>\n",
       "    <tr>\n",
       "      <th>1</th>\n",
       "      <td>Albania</td>\n",
       "      <td>4.5 million Mt  (2017 est.)</td>\n",
       "      <td>urban population:  60.3% of total population  ...</td>\n",
       "      <td>$12,500  (2017 est.)  $12,100  (2016 est.)  $1...</td>\n",
       "      <td>4.5</td>\n",
       "      <td>1000000</td>\n",
       "    </tr>\n",
       "    <tr>\n",
       "      <th>2</th>\n",
       "      <td>Algeria</td>\n",
       "      <td>135.9 million Mt  (2017 est.)</td>\n",
       "      <td>urban population:  72.6% of total population  ...</td>\n",
       "      <td>$15,200  (2017 est.)  $15,200  (2016 est.)  $1...</td>\n",
       "      <td>135.9</td>\n",
       "      <td>1000000</td>\n",
       "    </tr>\n",
       "    <tr>\n",
       "      <th>3</th>\n",
       "      <td>American Samoa</td>\n",
       "      <td>361,100 Mt  (2017 est.)</td>\n",
       "      <td>urban population:  87.2% of total population  ...</td>\n",
       "      <td>$11,200  (2016 est.)  $11,300  (2015 est.)  $1...</td>\n",
       "      <td>361100</td>\n",
       "      <td>1</td>\n",
       "    </tr>\n",
       "    <tr>\n",
       "      <th>4</th>\n",
       "      <td>Angola</td>\n",
       "      <td>20.95 million Mt  (2017 est.)</td>\n",
       "      <td>urban population:  65.5% of total population  ...</td>\n",
       "      <td>$6,800  (2017 est.)  $7,200  (2016 est.)  $7,6...</td>\n",
       "      <td>20.95</td>\n",
       "      <td>1000000</td>\n",
       "    </tr>\n",
       "  </tbody>\n",
       "</table>\n",
       "</div>"
      ],
      "text/plain": [
       "          Country                  CO2 Emissions  \\\n",
       "0     Afghanistan  9.067 million Mt  (2017 est.)   \n",
       "1         Albania    4.5 million Mt  (2017 est.)   \n",
       "2         Algeria  135.9 million Mt  (2017 est.)   \n",
       "3  American Samoa        361,100 Mt  (2017 est.)   \n",
       "4          Angola  20.95 million Mt  (2017 est.)   \n",
       "\n",
       "                                        Urbanization  \\\n",
       "0  urban population:  25.5% of total population  ...   \n",
       "1  urban population:  60.3% of total population  ...   \n",
       "2  urban population:  72.6% of total population  ...   \n",
       "3  urban population:  87.2% of total population  ...   \n",
       "4  urban population:  65.5% of total population  ...   \n",
       "\n",
       "                                      GDP Per Capita CO2_Emissions_Number  \\\n",
       "0  $2,000  (2017 est.)  $2,000  (2016 est.)  $2,0...                9.067   \n",
       "1  $12,500  (2017 est.)  $12,100  (2016 est.)  $1...                  4.5   \n",
       "2  $15,200  (2017 est.)  $15,200  (2016 est.)  $1...                135.9   \n",
       "3  $11,200  (2016 est.)  $11,300  (2015 est.)  $1...               361100   \n",
       "4  $6,800  (2017 est.)  $7,200  (2016 est.)  $7,6...                20.95   \n",
       "\n",
       "     units  \n",
       "0  1000000  \n",
       "1  1000000  \n",
       "2  1000000  \n",
       "3        1  \n",
       "4  1000000  "
      ]
     },
     "execution_count": 629,
     "metadata": {},
     "output_type": "execute_result"
    }
   ],
   "source": [
    "# now full numeric column\n",
    "data=data.assign(CO2_Emissions_Number=newValues)\n",
    "data.head()"
   ]
  },
  {
   "cell_type": "code",
   "execution_count": 630,
   "metadata": {},
   "outputs": [
    {
     "data": {
      "text/plain": [
       "Country                 object\n",
       "CO2 Emissions           object\n",
       "Urbanization            object\n",
       "GDP Per Capita          object\n",
       "CO2_Emissions_Number    object\n",
       "units                    int64\n",
       "dtype: object"
      ]
     },
     "execution_count": 630,
     "metadata": {},
     "output_type": "execute_result"
    }
   ],
   "source": [
    "data.dtypes # verify"
   ]
  },
  {
   "cell_type": "code",
   "execution_count": 631,
   "metadata": {},
   "outputs": [],
   "source": [
    "data.CO2_Emissions_Number=pd.to_numeric(data.CO2_Emissions_Number) # no errors will be shown"
   ]
  },
  {
   "cell_type": "code",
   "execution_count": 632,
   "metadata": {},
   "outputs": [
    {
     "data": {
      "text/plain": [
       "Country                  object\n",
       "CO2 Emissions            object\n",
       "Urbanization             object\n",
       "GDP Per Capita           object\n",
       "CO2_Emissions_Number    float64\n",
       "units                     int64\n",
       "dtype: object"
      ]
     },
     "execution_count": 632,
     "metadata": {},
     "output_type": "execute_result"
    }
   ],
   "source": [
    "data.dtypes"
   ]
  },
  {
   "cell_type": "code",
   "execution_count": 633,
   "metadata": {},
   "outputs": [
    {
     "data": {
      "text/html": [
       "<div>\n",
       "<style scoped>\n",
       "    .dataframe tbody tr th:only-of-type {\n",
       "        vertical-align: middle;\n",
       "    }\n",
       "\n",
       "    .dataframe tbody tr th {\n",
       "        vertical-align: top;\n",
       "    }\n",
       "\n",
       "    .dataframe thead th {\n",
       "        text-align: right;\n",
       "    }\n",
       "</style>\n",
       "<table border=\"1\" class=\"dataframe\">\n",
       "  <thead>\n",
       "    <tr style=\"text-align: right;\">\n",
       "      <th></th>\n",
       "      <th>Country</th>\n",
       "      <th>CO2 Emissions</th>\n",
       "      <th>Urbanization</th>\n",
       "      <th>GDP Per Capita</th>\n",
       "      <th>CO2_Emissions_Number</th>\n",
       "      <th>units</th>\n",
       "    </tr>\n",
       "  </thead>\n",
       "  <tbody>\n",
       "    <tr>\n",
       "      <th>0</th>\n",
       "      <td>Afghanistan</td>\n",
       "      <td>9.067 million Mt  (2017 est.)</td>\n",
       "      <td>urban population:  25.5% of total population  ...</td>\n",
       "      <td>$2,000  (2017 est.)  $2,000  (2016 est.)  $2,0...</td>\n",
       "      <td>9.067</td>\n",
       "      <td>1000000</td>\n",
       "    </tr>\n",
       "    <tr>\n",
       "      <th>1</th>\n",
       "      <td>Albania</td>\n",
       "      <td>4.5 million Mt  (2017 est.)</td>\n",
       "      <td>urban population:  60.3% of total population  ...</td>\n",
       "      <td>$12,500  (2017 est.)  $12,100  (2016 est.)  $1...</td>\n",
       "      <td>4.500</td>\n",
       "      <td>1000000</td>\n",
       "    </tr>\n",
       "    <tr>\n",
       "      <th>2</th>\n",
       "      <td>Algeria</td>\n",
       "      <td>135.9 million Mt  (2017 est.)</td>\n",
       "      <td>urban population:  72.6% of total population  ...</td>\n",
       "      <td>$15,200  (2017 est.)  $15,200  (2016 est.)  $1...</td>\n",
       "      <td>135.900</td>\n",
       "      <td>1000000</td>\n",
       "    </tr>\n",
       "    <tr>\n",
       "      <th>3</th>\n",
       "      <td>American Samoa</td>\n",
       "      <td>361,100 Mt  (2017 est.)</td>\n",
       "      <td>urban population:  87.2% of total population  ...</td>\n",
       "      <td>$11,200  (2016 est.)  $11,300  (2015 est.)  $1...</td>\n",
       "      <td>361100.000</td>\n",
       "      <td>1</td>\n",
       "    </tr>\n",
       "    <tr>\n",
       "      <th>4</th>\n",
       "      <td>Angola</td>\n",
       "      <td>20.95 million Mt  (2017 est.)</td>\n",
       "      <td>urban population:  65.5% of total population  ...</td>\n",
       "      <td>$6,800  (2017 est.)  $7,200  (2016 est.)  $7,6...</td>\n",
       "      <td>20.950</td>\n",
       "      <td>1000000</td>\n",
       "    </tr>\n",
       "  </tbody>\n",
       "</table>\n",
       "</div>"
      ],
      "text/plain": [
       "          Country                  CO2 Emissions  \\\n",
       "0     Afghanistan  9.067 million Mt  (2017 est.)   \n",
       "1         Albania    4.5 million Mt  (2017 est.)   \n",
       "2         Algeria  135.9 million Mt  (2017 est.)   \n",
       "3  American Samoa        361,100 Mt  (2017 est.)   \n",
       "4          Angola  20.95 million Mt  (2017 est.)   \n",
       "\n",
       "                                        Urbanization  \\\n",
       "0  urban population:  25.5% of total population  ...   \n",
       "1  urban population:  60.3% of total population  ...   \n",
       "2  urban population:  72.6% of total population  ...   \n",
       "3  urban population:  87.2% of total population  ...   \n",
       "4  urban population:  65.5% of total population  ...   \n",
       "\n",
       "                                      GDP Per Capita  CO2_Emissions_Number  \\\n",
       "0  $2,000  (2017 est.)  $2,000  (2016 est.)  $2,0...                 9.067   \n",
       "1  $12,500  (2017 est.)  $12,100  (2016 est.)  $1...                 4.500   \n",
       "2  $15,200  (2017 est.)  $15,200  (2016 est.)  $1...               135.900   \n",
       "3  $11,200  (2016 est.)  $11,300  (2015 est.)  $1...            361100.000   \n",
       "4  $6,800  (2017 est.)  $7,200  (2016 est.)  $7,6...                20.950   \n",
       "\n",
       "     units  \n",
       "0  1000000  \n",
       "1  1000000  \n",
       "2  1000000  \n",
       "3        1  \n",
       "4  1000000  "
      ]
     },
     "execution_count": 633,
     "metadata": {},
     "output_type": "execute_result"
    }
   ],
   "source": [
    "#CO2EmissionsNumber is now a column of real numbers.\n",
    "data.head()"
   ]
  },
  {
   "cell_type": "code",
   "execution_count": 634,
   "metadata": {},
   "outputs": [],
   "source": [
    "data.CO2_Emissions_Number=data.CO2_Emissions_Number*data.units"
   ]
  },
  {
   "cell_type": "code",
   "execution_count": 635,
   "metadata": {},
   "outputs": [
    {
     "data": {
      "text/html": [
       "<div>\n",
       "<style scoped>\n",
       "    .dataframe tbody tr th:only-of-type {\n",
       "        vertical-align: middle;\n",
       "    }\n",
       "\n",
       "    .dataframe tbody tr th {\n",
       "        vertical-align: top;\n",
       "    }\n",
       "\n",
       "    .dataframe thead th {\n",
       "        text-align: right;\n",
       "    }\n",
       "</style>\n",
       "<table border=\"1\" class=\"dataframe\">\n",
       "  <thead>\n",
       "    <tr style=\"text-align: right;\">\n",
       "      <th></th>\n",
       "      <th>Country</th>\n",
       "      <th>CO2 Emissions</th>\n",
       "      <th>Urbanization</th>\n",
       "      <th>GDP Per Capita</th>\n",
       "      <th>CO2_Emissions_Number</th>\n",
       "      <th>units</th>\n",
       "    </tr>\n",
       "  </thead>\n",
       "  <tbody>\n",
       "    <tr>\n",
       "      <th>0</th>\n",
       "      <td>Afghanistan</td>\n",
       "      <td>9.067 million Mt  (2017 est.)</td>\n",
       "      <td>urban population:  25.5% of total population  ...</td>\n",
       "      <td>$2,000  (2017 est.)  $2,000  (2016 est.)  $2,0...</td>\n",
       "      <td>9067000.0</td>\n",
       "      <td>1000000</td>\n",
       "    </tr>\n",
       "    <tr>\n",
       "      <th>1</th>\n",
       "      <td>Albania</td>\n",
       "      <td>4.5 million Mt  (2017 est.)</td>\n",
       "      <td>urban population:  60.3% of total population  ...</td>\n",
       "      <td>$12,500  (2017 est.)  $12,100  (2016 est.)  $1...</td>\n",
       "      <td>4500000.0</td>\n",
       "      <td>1000000</td>\n",
       "    </tr>\n",
       "    <tr>\n",
       "      <th>2</th>\n",
       "      <td>Algeria</td>\n",
       "      <td>135.9 million Mt  (2017 est.)</td>\n",
       "      <td>urban population:  72.6% of total population  ...</td>\n",
       "      <td>$15,200  (2017 est.)  $15,200  (2016 est.)  $1...</td>\n",
       "      <td>135900000.0</td>\n",
       "      <td>1000000</td>\n",
       "    </tr>\n",
       "    <tr>\n",
       "      <th>3</th>\n",
       "      <td>American Samoa</td>\n",
       "      <td>361,100 Mt  (2017 est.)</td>\n",
       "      <td>urban population:  87.2% of total population  ...</td>\n",
       "      <td>$11,200  (2016 est.)  $11,300  (2015 est.)  $1...</td>\n",
       "      <td>361100.0</td>\n",
       "      <td>1</td>\n",
       "    </tr>\n",
       "    <tr>\n",
       "      <th>4</th>\n",
       "      <td>Angola</td>\n",
       "      <td>20.95 million Mt  (2017 est.)</td>\n",
       "      <td>urban population:  65.5% of total population  ...</td>\n",
       "      <td>$6,800  (2017 est.)  $7,200  (2016 est.)  $7,6...</td>\n",
       "      <td>20950000.0</td>\n",
       "      <td>1000000</td>\n",
       "    </tr>\n",
       "  </tbody>\n",
       "</table>\n",
       "</div>"
      ],
      "text/plain": [
       "          Country                  CO2 Emissions  \\\n",
       "0     Afghanistan  9.067 million Mt  (2017 est.)   \n",
       "1         Albania    4.5 million Mt  (2017 est.)   \n",
       "2         Algeria  135.9 million Mt  (2017 est.)   \n",
       "3  American Samoa        361,100 Mt  (2017 est.)   \n",
       "4          Angola  20.95 million Mt  (2017 est.)   \n",
       "\n",
       "                                        Urbanization  \\\n",
       "0  urban population:  25.5% of total population  ...   \n",
       "1  urban population:  60.3% of total population  ...   \n",
       "2  urban population:  72.6% of total population  ...   \n",
       "3  urban population:  87.2% of total population  ...   \n",
       "4  urban population:  65.5% of total population  ...   \n",
       "\n",
       "                                      GDP Per Capita  CO2_Emissions_Number  \\\n",
       "0  $2,000  (2017 est.)  $2,000  (2016 est.)  $2,0...             9067000.0   \n",
       "1  $12,500  (2017 est.)  $12,100  (2016 est.)  $1...             4500000.0   \n",
       "2  $15,200  (2017 est.)  $15,200  (2016 est.)  $1...           135900000.0   \n",
       "3  $11,200  (2016 est.)  $11,300  (2015 est.)  $1...              361100.0   \n",
       "4  $6,800  (2017 est.)  $7,200  (2016 est.)  $7,6...            20950000.0   \n",
       "\n",
       "     units  \n",
       "0  1000000  \n",
       "1  1000000  \n",
       "2  1000000  \n",
       "3        1  \n",
       "4  1000000  "
      ]
     },
     "execution_count": 635,
     "metadata": {},
     "output_type": "execute_result"
    }
   ],
   "source": [
    "data.head()"
   ]
  },
  {
   "cell_type": "code",
   "execution_count": 636,
   "metadata": {
    "scrolled": true
   },
   "outputs": [],
   "source": [
    "#dropping the units column\n",
    "data=data.drop('units',axis=1)"
   ]
  },
  {
   "cell_type": "code",
   "execution_count": 637,
   "metadata": {},
   "outputs": [],
   "source": [
    "#then dropping the old CO2 Emissions column\n",
    "data=data.drop('CO2 Emissions',axis=1)"
   ]
  },
  {
   "cell_type": "code",
   "execution_count": 638,
   "metadata": {},
   "outputs": [
    {
     "data": {
      "text/html": [
       "<div>\n",
       "<style scoped>\n",
       "    .dataframe tbody tr th:only-of-type {\n",
       "        vertical-align: middle;\n",
       "    }\n",
       "\n",
       "    .dataframe tbody tr th {\n",
       "        vertical-align: top;\n",
       "    }\n",
       "\n",
       "    .dataframe thead th {\n",
       "        text-align: right;\n",
       "    }\n",
       "</style>\n",
       "<table border=\"1\" class=\"dataframe\">\n",
       "  <thead>\n",
       "    <tr style=\"text-align: right;\">\n",
       "      <th></th>\n",
       "      <th>Country</th>\n",
       "      <th>Urbanization</th>\n",
       "      <th>GDP Per Capita</th>\n",
       "      <th>CO2_Emissions_Number</th>\n",
       "    </tr>\n",
       "  </thead>\n",
       "  <tbody>\n",
       "    <tr>\n",
       "      <th>0</th>\n",
       "      <td>Afghanistan</td>\n",
       "      <td>urban population:  25.5% of total population  ...</td>\n",
       "      <td>$2,000  (2017 est.)  $2,000  (2016 est.)  $2,0...</td>\n",
       "      <td>9067000.0</td>\n",
       "    </tr>\n",
       "    <tr>\n",
       "      <th>1</th>\n",
       "      <td>Albania</td>\n",
       "      <td>urban population:  60.3% of total population  ...</td>\n",
       "      <td>$12,500  (2017 est.)  $12,100  (2016 est.)  $1...</td>\n",
       "      <td>4500000.0</td>\n",
       "    </tr>\n",
       "    <tr>\n",
       "      <th>2</th>\n",
       "      <td>Algeria</td>\n",
       "      <td>urban population:  72.6% of total population  ...</td>\n",
       "      <td>$15,200  (2017 est.)  $15,200  (2016 est.)  $1...</td>\n",
       "      <td>135900000.0</td>\n",
       "    </tr>\n",
       "    <tr>\n",
       "      <th>3</th>\n",
       "      <td>American Samoa</td>\n",
       "      <td>urban population:  87.2% of total population  ...</td>\n",
       "      <td>$11,200  (2016 est.)  $11,300  (2015 est.)  $1...</td>\n",
       "      <td>361100.0</td>\n",
       "    </tr>\n",
       "    <tr>\n",
       "      <th>4</th>\n",
       "      <td>Angola</td>\n",
       "      <td>urban population:  65.5% of total population  ...</td>\n",
       "      <td>$6,800  (2017 est.)  $7,200  (2016 est.)  $7,6...</td>\n",
       "      <td>20950000.0</td>\n",
       "    </tr>\n",
       "  </tbody>\n",
       "</table>\n",
       "</div>"
      ],
      "text/plain": [
       "          Country                                       Urbanization  \\\n",
       "0     Afghanistan  urban population:  25.5% of total population  ...   \n",
       "1         Albania  urban population:  60.3% of total population  ...   \n",
       "2         Algeria  urban population:  72.6% of total population  ...   \n",
       "3  American Samoa  urban population:  87.2% of total population  ...   \n",
       "4          Angola  urban population:  65.5% of total population  ...   \n",
       "\n",
       "                                      GDP Per Capita  CO2_Emissions_Number  \n",
       "0  $2,000  (2017 est.)  $2,000  (2016 est.)  $2,0...             9067000.0  \n",
       "1  $12,500  (2017 est.)  $12,100  (2016 est.)  $1...             4500000.0  \n",
       "2  $15,200  (2017 est.)  $15,200  (2016 est.)  $1...           135900000.0  \n",
       "3  $11,200  (2016 est.)  $11,300  (2015 est.)  $1...              361100.0  \n",
       "4  $6,800  (2017 est.)  $7,200  (2016 est.)  $7,6...            20950000.0  "
      ]
     },
     "execution_count": 638,
     "metadata": {},
     "output_type": "execute_result"
    }
   ],
   "source": [
    "data.head()"
   ]
  },
  {
   "cell_type": "markdown",
   "metadata": {},
   "source": [
    "## 6. Cleaning the Urbanization Column"
   ]
  },
  {
   "cell_type": "code",
   "execution_count": 639,
   "metadata": {},
   "outputs": [
    {
     "data": {
      "text/html": [
       "<div>\n",
       "<style scoped>\n",
       "    .dataframe tbody tr th:only-of-type {\n",
       "        vertical-align: middle;\n",
       "    }\n",
       "\n",
       "    .dataframe tbody tr th {\n",
       "        vertical-align: top;\n",
       "    }\n",
       "\n",
       "    .dataframe thead th {\n",
       "        text-align: right;\n",
       "    }\n",
       "</style>\n",
       "<table border=\"1\" class=\"dataframe\">\n",
       "  <thead>\n",
       "    <tr style=\"text-align: right;\">\n",
       "      <th></th>\n",
       "      <th>Country</th>\n",
       "      <th>Urbanization</th>\n",
       "      <th>GDP Per Capita</th>\n",
       "      <th>CO2_Emissions_Number</th>\n",
       "      <th>Urbanization1</th>\n",
       "    </tr>\n",
       "  </thead>\n",
       "  <tbody>\n",
       "    <tr>\n",
       "      <th>0</th>\n",
       "      <td>Afghanistan</td>\n",
       "      <td>urban population:  25.5% of total population  ...</td>\n",
       "      <td>$2,000  (2017 est.)  $2,000  (2016 est.)  $2,0...</td>\n",
       "      <td>9067000.0</td>\n",
       "      <td>urban population:  25.5</td>\n",
       "    </tr>\n",
       "    <tr>\n",
       "      <th>1</th>\n",
       "      <td>Albania</td>\n",
       "      <td>urban population:  60.3% of total population  ...</td>\n",
       "      <td>$12,500  (2017 est.)  $12,100  (2016 est.)  $1...</td>\n",
       "      <td>4500000.0</td>\n",
       "      <td>urban population:  60.3</td>\n",
       "    </tr>\n",
       "    <tr>\n",
       "      <th>2</th>\n",
       "      <td>Algeria</td>\n",
       "      <td>urban population:  72.6% of total population  ...</td>\n",
       "      <td>$15,200  (2017 est.)  $15,200  (2016 est.)  $1...</td>\n",
       "      <td>135900000.0</td>\n",
       "      <td>urban population:  72.6</td>\n",
       "    </tr>\n",
       "    <tr>\n",
       "      <th>3</th>\n",
       "      <td>American Samoa</td>\n",
       "      <td>urban population:  87.2% of total population  ...</td>\n",
       "      <td>$11,200  (2016 est.)  $11,300  (2015 est.)  $1...</td>\n",
       "      <td>361100.0</td>\n",
       "      <td>urban population:  87.2</td>\n",
       "    </tr>\n",
       "    <tr>\n",
       "      <th>4</th>\n",
       "      <td>Angola</td>\n",
       "      <td>urban population:  65.5% of total population  ...</td>\n",
       "      <td>$6,800  (2017 est.)  $7,200  (2016 est.)  $7,6...</td>\n",
       "      <td>20950000.0</td>\n",
       "      <td>urban population:  65.5</td>\n",
       "    </tr>\n",
       "  </tbody>\n",
       "</table>\n",
       "</div>"
      ],
      "text/plain": [
       "          Country                                       Urbanization  \\\n",
       "0     Afghanistan  urban population:  25.5% of total population  ...   \n",
       "1         Albania  urban population:  60.3% of total population  ...   \n",
       "2         Algeria  urban population:  72.6% of total population  ...   \n",
       "3  American Samoa  urban population:  87.2% of total population  ...   \n",
       "4          Angola  urban population:  65.5% of total population  ...   \n",
       "\n",
       "                                      GDP Per Capita  CO2_Emissions_Number  \\\n",
       "0  $2,000  (2017 est.)  $2,000  (2016 est.)  $2,0...             9067000.0   \n",
       "1  $12,500  (2017 est.)  $12,100  (2016 est.)  $1...             4500000.0   \n",
       "2  $15,200  (2017 est.)  $15,200  (2016 est.)  $1...           135900000.0   \n",
       "3  $11,200  (2016 est.)  $11,300  (2015 est.)  $1...              361100.0   \n",
       "4  $6,800  (2017 est.)  $7,200  (2016 est.)  $7,6...            20950000.0   \n",
       "\n",
       "             Urbanization1  \n",
       "0  urban population:  25.5  \n",
       "1  urban population:  60.3  \n",
       "2  urban population:  72.6  \n",
       "3  urban population:  87.2  \n",
       "4  urban population:  65.5  "
      ]
     },
     "execution_count": 639,
     "metadata": {},
     "output_type": "execute_result"
    }
   ],
   "source": [
    "urbanizationnumber=[element.split('%')[0] for element in data.Urbanization]\n",
    "data=data.assign(Urbanization1=urbanizationnumber)\n",
    "data.head()"
   ]
  },
  {
   "cell_type": "code",
   "execution_count": 640,
   "metadata": {},
   "outputs": [
    {
     "data": {
      "text/html": [
       "<div>\n",
       "<style scoped>\n",
       "    .dataframe tbody tr th:only-of-type {\n",
       "        vertical-align: middle;\n",
       "    }\n",
       "\n",
       "    .dataframe tbody tr th {\n",
       "        vertical-align: top;\n",
       "    }\n",
       "\n",
       "    .dataframe thead th {\n",
       "        text-align: right;\n",
       "    }\n",
       "</style>\n",
       "<table border=\"1\" class=\"dataframe\">\n",
       "  <thead>\n",
       "    <tr style=\"text-align: right;\">\n",
       "      <th></th>\n",
       "      <th>Country</th>\n",
       "      <th>Urbanization</th>\n",
       "      <th>GDP Per Capita</th>\n",
       "      <th>CO2_Emissions_Number</th>\n",
       "      <th>Urbanization1</th>\n",
       "      <th>Urbanization_Number</th>\n",
       "    </tr>\n",
       "  </thead>\n",
       "  <tbody>\n",
       "    <tr>\n",
       "      <th>0</th>\n",
       "      <td>Afghanistan</td>\n",
       "      <td>urban population:  25.5% of total population  ...</td>\n",
       "      <td>$2,000  (2017 est.)  $2,000  (2016 est.)  $2,0...</td>\n",
       "      <td>9067000.0</td>\n",
       "      <td>urban population:  25.5</td>\n",
       "      <td>25.5</td>\n",
       "    </tr>\n",
       "    <tr>\n",
       "      <th>1</th>\n",
       "      <td>Albania</td>\n",
       "      <td>urban population:  60.3% of total population  ...</td>\n",
       "      <td>$12,500  (2017 est.)  $12,100  (2016 est.)  $1...</td>\n",
       "      <td>4500000.0</td>\n",
       "      <td>urban population:  60.3</td>\n",
       "      <td>60.3</td>\n",
       "    </tr>\n",
       "    <tr>\n",
       "      <th>2</th>\n",
       "      <td>Algeria</td>\n",
       "      <td>urban population:  72.6% of total population  ...</td>\n",
       "      <td>$15,200  (2017 est.)  $15,200  (2016 est.)  $1...</td>\n",
       "      <td>135900000.0</td>\n",
       "      <td>urban population:  72.6</td>\n",
       "      <td>72.6</td>\n",
       "    </tr>\n",
       "    <tr>\n",
       "      <th>3</th>\n",
       "      <td>American Samoa</td>\n",
       "      <td>urban population:  87.2% of total population  ...</td>\n",
       "      <td>$11,200  (2016 est.)  $11,300  (2015 est.)  $1...</td>\n",
       "      <td>361100.0</td>\n",
       "      <td>urban population:  87.2</td>\n",
       "      <td>87.2</td>\n",
       "    </tr>\n",
       "    <tr>\n",
       "      <th>4</th>\n",
       "      <td>Angola</td>\n",
       "      <td>urban population:  65.5% of total population  ...</td>\n",
       "      <td>$6,800  (2017 est.)  $7,200  (2016 est.)  $7,6...</td>\n",
       "      <td>20950000.0</td>\n",
       "      <td>urban population:  65.5</td>\n",
       "      <td>65.5</td>\n",
       "    </tr>\n",
       "  </tbody>\n",
       "</table>\n",
       "</div>"
      ],
      "text/plain": [
       "          Country                                       Urbanization  \\\n",
       "0     Afghanistan  urban population:  25.5% of total population  ...   \n",
       "1         Albania  urban population:  60.3% of total population  ...   \n",
       "2         Algeria  urban population:  72.6% of total population  ...   \n",
       "3  American Samoa  urban population:  87.2% of total population  ...   \n",
       "4          Angola  urban population:  65.5% of total population  ...   \n",
       "\n",
       "                                      GDP Per Capita  CO2_Emissions_Number  \\\n",
       "0  $2,000  (2017 est.)  $2,000  (2016 est.)  $2,0...             9067000.0   \n",
       "1  $12,500  (2017 est.)  $12,100  (2016 est.)  $1...             4500000.0   \n",
       "2  $15,200  (2017 est.)  $15,200  (2016 est.)  $1...           135900000.0   \n",
       "3  $11,200  (2016 est.)  $11,300  (2015 est.)  $1...              361100.0   \n",
       "4  $6,800  (2017 est.)  $7,200  (2016 est.)  $7,6...            20950000.0   \n",
       "\n",
       "             Urbanization1 Urbanization_Number  \n",
       "0  urban population:  25.5                25.5  \n",
       "1  urban population:  60.3                60.3  \n",
       "2  urban population:  72.6                72.6  \n",
       "3  urban population:  87.2                87.2  \n",
       "4  urban population:  65.5                65.5  "
      ]
     },
     "execution_count": 640,
     "metadata": {},
     "output_type": "execute_result"
    }
   ],
   "source": [
    "urbanizationnumber=[element.split(':')[1] for element in data.Urbanization1]\n",
    "data=data.assign(Urbanization_Number=urbanizationnumber)\n",
    "data.head()"
   ]
  },
  {
   "cell_type": "code",
   "execution_count": 641,
   "metadata": {},
   "outputs": [
    {
     "data": {
      "text/plain": [
       "Country                  object\n",
       "Urbanization             object\n",
       "GDP Per Capita           object\n",
       "CO2_Emissions_Number    float64\n",
       "Urbanization1            object\n",
       "Urbanization_Number      object\n",
       "dtype: object"
      ]
     },
     "execution_count": 641,
     "metadata": {},
     "output_type": "execute_result"
    }
   ],
   "source": [
    "data.dtypes"
   ]
  },
  {
   "cell_type": "code",
   "execution_count": 642,
   "metadata": {},
   "outputs": [],
   "source": [
    "data.Urbanization_Number=pd.to_numeric(data.Urbanization_Number)"
   ]
  },
  {
   "cell_type": "code",
   "execution_count": 643,
   "metadata": {},
   "outputs": [
    {
     "data": {
      "text/plain": [
       "Country                  object\n",
       "Urbanization             object\n",
       "GDP Per Capita           object\n",
       "CO2_Emissions_Number    float64\n",
       "Urbanization1            object\n",
       "Urbanization_Number     float64\n",
       "dtype: object"
      ]
     },
     "execution_count": 643,
     "metadata": {},
     "output_type": "execute_result"
    }
   ],
   "source": [
    "data.dtypes"
   ]
  },
  {
   "cell_type": "code",
   "execution_count": 644,
   "metadata": {},
   "outputs": [],
   "source": [
    "#dropping old Urbanization columns\n",
    "data=data.drop(\"Urbanization\",axis=1).drop(\"Urbanization1\",axis=1)"
   ]
  },
  {
   "cell_type": "code",
   "execution_count": 645,
   "metadata": {},
   "outputs": [
    {
     "data": {
      "text/html": [
       "<div>\n",
       "<style scoped>\n",
       "    .dataframe tbody tr th:only-of-type {\n",
       "        vertical-align: middle;\n",
       "    }\n",
       "\n",
       "    .dataframe tbody tr th {\n",
       "        vertical-align: top;\n",
       "    }\n",
       "\n",
       "    .dataframe thead th {\n",
       "        text-align: right;\n",
       "    }\n",
       "</style>\n",
       "<table border=\"1\" class=\"dataframe\">\n",
       "  <thead>\n",
       "    <tr style=\"text-align: right;\">\n",
       "      <th></th>\n",
       "      <th>Country</th>\n",
       "      <th>GDP Per Capita</th>\n",
       "      <th>CO2_Emissions_Number</th>\n",
       "      <th>Urbanization_Number</th>\n",
       "    </tr>\n",
       "  </thead>\n",
       "  <tbody>\n",
       "    <tr>\n",
       "      <th>0</th>\n",
       "      <td>Afghanistan</td>\n",
       "      <td>$2,000  (2017 est.)  $2,000  (2016 est.)  $2,0...</td>\n",
       "      <td>9067000.0</td>\n",
       "      <td>25.5</td>\n",
       "    </tr>\n",
       "    <tr>\n",
       "      <th>1</th>\n",
       "      <td>Albania</td>\n",
       "      <td>$12,500  (2017 est.)  $12,100  (2016 est.)  $1...</td>\n",
       "      <td>4500000.0</td>\n",
       "      <td>60.3</td>\n",
       "    </tr>\n",
       "    <tr>\n",
       "      <th>2</th>\n",
       "      <td>Algeria</td>\n",
       "      <td>$15,200  (2017 est.)  $15,200  (2016 est.)  $1...</td>\n",
       "      <td>135900000.0</td>\n",
       "      <td>72.6</td>\n",
       "    </tr>\n",
       "    <tr>\n",
       "      <th>3</th>\n",
       "      <td>American Samoa</td>\n",
       "      <td>$11,200  (2016 est.)  $11,300  (2015 est.)  $1...</td>\n",
       "      <td>361100.0</td>\n",
       "      <td>87.2</td>\n",
       "    </tr>\n",
       "    <tr>\n",
       "      <th>4</th>\n",
       "      <td>Angola</td>\n",
       "      <td>$6,800  (2017 est.)  $7,200  (2016 est.)  $7,6...</td>\n",
       "      <td>20950000.0</td>\n",
       "      <td>65.5</td>\n",
       "    </tr>\n",
       "  </tbody>\n",
       "</table>\n",
       "</div>"
      ],
      "text/plain": [
       "          Country                                     GDP Per Capita  \\\n",
       "0     Afghanistan  $2,000  (2017 est.)  $2,000  (2016 est.)  $2,0...   \n",
       "1         Albania  $12,500  (2017 est.)  $12,100  (2016 est.)  $1...   \n",
       "2         Algeria  $15,200  (2017 est.)  $15,200  (2016 est.)  $1...   \n",
       "3  American Samoa  $11,200  (2016 est.)  $11,300  (2015 est.)  $1...   \n",
       "4          Angola  $6,800  (2017 est.)  $7,200  (2016 est.)  $7,6...   \n",
       "\n",
       "   CO2_Emissions_Number  Urbanization_Number  \n",
       "0             9067000.0                 25.5  \n",
       "1             4500000.0                 60.3  \n",
       "2           135900000.0                 72.6  \n",
       "3              361100.0                 87.2  \n",
       "4            20950000.0                 65.5  "
      ]
     },
     "execution_count": 645,
     "metadata": {},
     "output_type": "execute_result"
    }
   ],
   "source": [
    "data.head()"
   ]
  },
  {
   "cell_type": "markdown",
   "metadata": {},
   "source": [
    "## 7. Cleaning the GDP Per Capita Column"
   ]
  },
  {
   "cell_type": "code",
   "execution_count": 646,
   "metadata": {},
   "outputs": [
    {
     "data": {
      "text/html": [
       "<div>\n",
       "<style scoped>\n",
       "    .dataframe tbody tr th:only-of-type {\n",
       "        vertical-align: middle;\n",
       "    }\n",
       "\n",
       "    .dataframe tbody tr th {\n",
       "        vertical-align: top;\n",
       "    }\n",
       "\n",
       "    .dataframe thead th {\n",
       "        text-align: right;\n",
       "    }\n",
       "</style>\n",
       "<table border=\"1\" class=\"dataframe\">\n",
       "  <thead>\n",
       "    <tr style=\"text-align: right;\">\n",
       "      <th></th>\n",
       "      <th>Country</th>\n",
       "      <th>GDP Per Capita</th>\n",
       "      <th>CO2_Emissions_Number</th>\n",
       "      <th>Urbanization_Number</th>\n",
       "      <th>GDPPerCapita1</th>\n",
       "    </tr>\n",
       "  </thead>\n",
       "  <tbody>\n",
       "    <tr>\n",
       "      <th>0</th>\n",
       "      <td>Afghanistan</td>\n",
       "      <td>$2,000  (2017 est.)  $2,000  (2016 est.)  $2,0...</td>\n",
       "      <td>9067000.0</td>\n",
       "      <td>25.5</td>\n",
       "      <td>$2,000</td>\n",
       "    </tr>\n",
       "    <tr>\n",
       "      <th>1</th>\n",
       "      <td>Albania</td>\n",
       "      <td>$12,500  (2017 est.)  $12,100  (2016 est.)  $1...</td>\n",
       "      <td>4500000.0</td>\n",
       "      <td>60.3</td>\n",
       "      <td>$12,500</td>\n",
       "    </tr>\n",
       "    <tr>\n",
       "      <th>2</th>\n",
       "      <td>Algeria</td>\n",
       "      <td>$15,200  (2017 est.)  $15,200  (2016 est.)  $1...</td>\n",
       "      <td>135900000.0</td>\n",
       "      <td>72.6</td>\n",
       "      <td>$15,200</td>\n",
       "    </tr>\n",
       "    <tr>\n",
       "      <th>3</th>\n",
       "      <td>American Samoa</td>\n",
       "      <td>$11,200  (2016 est.)  $11,300  (2015 est.)  $1...</td>\n",
       "      <td>361100.0</td>\n",
       "      <td>87.2</td>\n",
       "      <td>$11,200</td>\n",
       "    </tr>\n",
       "    <tr>\n",
       "      <th>4</th>\n",
       "      <td>Angola</td>\n",
       "      <td>$6,800  (2017 est.)  $7,200  (2016 est.)  $7,6...</td>\n",
       "      <td>20950000.0</td>\n",
       "      <td>65.5</td>\n",
       "      <td>$6,800</td>\n",
       "    </tr>\n",
       "  </tbody>\n",
       "</table>\n",
       "</div>"
      ],
      "text/plain": [
       "          Country                                     GDP Per Capita  \\\n",
       "0     Afghanistan  $2,000  (2017 est.)  $2,000  (2016 est.)  $2,0...   \n",
       "1         Albania  $12,500  (2017 est.)  $12,100  (2016 est.)  $1...   \n",
       "2         Algeria  $15,200  (2017 est.)  $15,200  (2016 est.)  $1...   \n",
       "3  American Samoa  $11,200  (2016 est.)  $11,300  (2015 est.)  $1...   \n",
       "4          Angola  $6,800  (2017 est.)  $7,200  (2016 est.)  $7,6...   \n",
       "\n",
       "   CO2_Emissions_Number  Urbanization_Number GDPPerCapita1  \n",
       "0             9067000.0                 25.5      $2,000    \n",
       "1             4500000.0                 60.3     $12,500    \n",
       "2           135900000.0                 72.6     $15,200    \n",
       "3              361100.0                 87.2     $11,200    \n",
       "4            20950000.0                 65.5      $6,800    "
      ]
     },
     "execution_count": 646,
     "metadata": {},
     "output_type": "execute_result"
    }
   ],
   "source": [
    "#Split values after million\n",
    "gdppercapita=[element.split('(')[0] for element in data.iloc[:,1]]\n",
    "\n",
    "#Making the above list a new column:\n",
    "data=data.assign(GDPPerCapita1=gdppercapita)\n",
    "data.head()"
   ]
  },
  {
   "cell_type": "code",
   "execution_count": 647,
   "metadata": {
    "scrolled": true
   },
   "outputs": [
    {
     "data": {
      "text/html": [
       "<div>\n",
       "<style scoped>\n",
       "    .dataframe tbody tr th:only-of-type {\n",
       "        vertical-align: middle;\n",
       "    }\n",
       "\n",
       "    .dataframe tbody tr th {\n",
       "        vertical-align: top;\n",
       "    }\n",
       "\n",
       "    .dataframe thead th {\n",
       "        text-align: right;\n",
       "    }\n",
       "</style>\n",
       "<table border=\"1\" class=\"dataframe\">\n",
       "  <thead>\n",
       "    <tr style=\"text-align: right;\">\n",
       "      <th></th>\n",
       "      <th>Country</th>\n",
       "      <th>GDP Per Capita</th>\n",
       "      <th>CO2_Emissions_Number</th>\n",
       "      <th>Urbanization_Number</th>\n",
       "      <th>GDPPerCapita1</th>\n",
       "      <th>GDPPerCapita2</th>\n",
       "    </tr>\n",
       "  </thead>\n",
       "  <tbody>\n",
       "    <tr>\n",
       "      <th>0</th>\n",
       "      <td>Afghanistan</td>\n",
       "      <td>$2,000  (2017 est.)  $2,000  (2016 est.)  $2,0...</td>\n",
       "      <td>9067000.0</td>\n",
       "      <td>25.5</td>\n",
       "      <td>$2,000</td>\n",
       "      <td>2,000</td>\n",
       "    </tr>\n",
       "    <tr>\n",
       "      <th>1</th>\n",
       "      <td>Albania</td>\n",
       "      <td>$12,500  (2017 est.)  $12,100  (2016 est.)  $1...</td>\n",
       "      <td>4500000.0</td>\n",
       "      <td>60.3</td>\n",
       "      <td>$12,500</td>\n",
       "      <td>12,500</td>\n",
       "    </tr>\n",
       "    <tr>\n",
       "      <th>2</th>\n",
       "      <td>Algeria</td>\n",
       "      <td>$15,200  (2017 est.)  $15,200  (2016 est.)  $1...</td>\n",
       "      <td>135900000.0</td>\n",
       "      <td>72.6</td>\n",
       "      <td>$15,200</td>\n",
       "      <td>15,200</td>\n",
       "    </tr>\n",
       "    <tr>\n",
       "      <th>3</th>\n",
       "      <td>American Samoa</td>\n",
       "      <td>$11,200  (2016 est.)  $11,300  (2015 est.)  $1...</td>\n",
       "      <td>361100.0</td>\n",
       "      <td>87.2</td>\n",
       "      <td>$11,200</td>\n",
       "      <td>11,200</td>\n",
       "    </tr>\n",
       "    <tr>\n",
       "      <th>4</th>\n",
       "      <td>Angola</td>\n",
       "      <td>$6,800  (2017 est.)  $7,200  (2016 est.)  $7,6...</td>\n",
       "      <td>20950000.0</td>\n",
       "      <td>65.5</td>\n",
       "      <td>$6,800</td>\n",
       "      <td>6,800</td>\n",
       "    </tr>\n",
       "  </tbody>\n",
       "</table>\n",
       "</div>"
      ],
      "text/plain": [
       "          Country                                     GDP Per Capita  \\\n",
       "0     Afghanistan  $2,000  (2017 est.)  $2,000  (2016 est.)  $2,0...   \n",
       "1         Albania  $12,500  (2017 est.)  $12,100  (2016 est.)  $1...   \n",
       "2         Algeria  $15,200  (2017 est.)  $15,200  (2016 est.)  $1...   \n",
       "3  American Samoa  $11,200  (2016 est.)  $11,300  (2015 est.)  $1...   \n",
       "4          Angola  $6,800  (2017 est.)  $7,200  (2016 est.)  $7,6...   \n",
       "\n",
       "   CO2_Emissions_Number  Urbanization_Number GDPPerCapita1 GDPPerCapita2  \n",
       "0             9067000.0                 25.5      $2,000         2,000    \n",
       "1             4500000.0                 60.3     $12,500        12,500    \n",
       "2           135900000.0                 72.6     $15,200        15,200    \n",
       "3              361100.0                 87.2     $11,200        11,200    \n",
       "4            20950000.0                 65.5      $6,800         6,800    "
      ]
     },
     "execution_count": 647,
     "metadata": {},
     "output_type": "execute_result"
    }
   ],
   "source": [
    "#Split values after million\n",
    "gdppercapita=[element.split('$')[1] for element in data.GDPPerCapita1]\n",
    "\n",
    "#Making the above list a new column:\n",
    "data=data.assign(GDPPerCapita2=gdppercapita)\n",
    "data.head()"
   ]
  },
  {
   "cell_type": "code",
   "execution_count": 648,
   "metadata": {},
   "outputs": [
    {
     "data": {
      "text/plain": [
       "'2100'"
      ]
     },
     "execution_count": 648,
     "metadata": {},
     "output_type": "execute_result"
    }
   ],
   "source": [
    "pattern='\\\\,'\n",
    "nothing=''\n",
    "testString='2,100'\n",
    "re.sub(pattern,nothing,testString)"
   ]
  },
  {
   "cell_type": "code",
   "execution_count": 649,
   "metadata": {},
   "outputs": [],
   "source": [
    "#to get rid of the commas\n",
    "pattern='\\\\,'\n",
    "nothing=''\n",
    "newValues=[re.sub(pattern,nothing,oldValue) for oldValue in data.GDPPerCapita2]"
   ]
  },
  {
   "cell_type": "code",
   "execution_count": 650,
   "metadata": {
    "scrolled": true
   },
   "outputs": [
    {
     "data": {
      "text/html": [
       "<div>\n",
       "<style scoped>\n",
       "    .dataframe tbody tr th:only-of-type {\n",
       "        vertical-align: middle;\n",
       "    }\n",
       "\n",
       "    .dataframe tbody tr th {\n",
       "        vertical-align: top;\n",
       "    }\n",
       "\n",
       "    .dataframe thead th {\n",
       "        text-align: right;\n",
       "    }\n",
       "</style>\n",
       "<table border=\"1\" class=\"dataframe\">\n",
       "  <thead>\n",
       "    <tr style=\"text-align: right;\">\n",
       "      <th></th>\n",
       "      <th>Country</th>\n",
       "      <th>GDP Per Capita</th>\n",
       "      <th>CO2_Emissions_Number</th>\n",
       "      <th>Urbanization_Number</th>\n",
       "      <th>GDPPerCapita1</th>\n",
       "      <th>GDPPerCapita2</th>\n",
       "      <th>GDP_Per_Capita_Number</th>\n",
       "    </tr>\n",
       "  </thead>\n",
       "  <tbody>\n",
       "    <tr>\n",
       "      <th>0</th>\n",
       "      <td>Afghanistan</td>\n",
       "      <td>$2,000  (2017 est.)  $2,000  (2016 est.)  $2,0...</td>\n",
       "      <td>9067000.0</td>\n",
       "      <td>25.5</td>\n",
       "      <td>$2,000</td>\n",
       "      <td>2,000</td>\n",
       "      <td>2000</td>\n",
       "    </tr>\n",
       "    <tr>\n",
       "      <th>1</th>\n",
       "      <td>Albania</td>\n",
       "      <td>$12,500  (2017 est.)  $12,100  (2016 est.)  $1...</td>\n",
       "      <td>4500000.0</td>\n",
       "      <td>60.3</td>\n",
       "      <td>$12,500</td>\n",
       "      <td>12,500</td>\n",
       "      <td>12500</td>\n",
       "    </tr>\n",
       "    <tr>\n",
       "      <th>2</th>\n",
       "      <td>Algeria</td>\n",
       "      <td>$15,200  (2017 est.)  $15,200  (2016 est.)  $1...</td>\n",
       "      <td>135900000.0</td>\n",
       "      <td>72.6</td>\n",
       "      <td>$15,200</td>\n",
       "      <td>15,200</td>\n",
       "      <td>15200</td>\n",
       "    </tr>\n",
       "    <tr>\n",
       "      <th>3</th>\n",
       "      <td>American Samoa</td>\n",
       "      <td>$11,200  (2016 est.)  $11,300  (2015 est.)  $1...</td>\n",
       "      <td>361100.0</td>\n",
       "      <td>87.2</td>\n",
       "      <td>$11,200</td>\n",
       "      <td>11,200</td>\n",
       "      <td>11200</td>\n",
       "    </tr>\n",
       "    <tr>\n",
       "      <th>4</th>\n",
       "      <td>Angola</td>\n",
       "      <td>$6,800  (2017 est.)  $7,200  (2016 est.)  $7,6...</td>\n",
       "      <td>20950000.0</td>\n",
       "      <td>65.5</td>\n",
       "      <td>$6,800</td>\n",
       "      <td>6,800</td>\n",
       "      <td>6800</td>\n",
       "    </tr>\n",
       "  </tbody>\n",
       "</table>\n",
       "</div>"
      ],
      "text/plain": [
       "          Country                                     GDP Per Capita  \\\n",
       "0     Afghanistan  $2,000  (2017 est.)  $2,000  (2016 est.)  $2,0...   \n",
       "1         Albania  $12,500  (2017 est.)  $12,100  (2016 est.)  $1...   \n",
       "2         Algeria  $15,200  (2017 est.)  $15,200  (2016 est.)  $1...   \n",
       "3  American Samoa  $11,200  (2016 est.)  $11,300  (2015 est.)  $1...   \n",
       "4          Angola  $6,800  (2017 est.)  $7,200  (2016 est.)  $7,6...   \n",
       "\n",
       "   CO2_Emissions_Number  Urbanization_Number GDPPerCapita1 GDPPerCapita2  \\\n",
       "0             9067000.0                 25.5      $2,000         2,000     \n",
       "1             4500000.0                 60.3     $12,500        12,500     \n",
       "2           135900000.0                 72.6     $15,200        15,200     \n",
       "3              361100.0                 87.2     $11,200        11,200     \n",
       "4            20950000.0                 65.5      $6,800         6,800     \n",
       "\n",
       "  GDP_Per_Capita_Number  \n",
       "0                2000    \n",
       "1               12500    \n",
       "2               15200    \n",
       "3               11200    \n",
       "4                6800    "
      ]
     },
     "execution_count": 650,
     "metadata": {},
     "output_type": "execute_result"
    }
   ],
   "source": [
    "data=data.assign(GDP_Per_Capita_Number=newValues)\n",
    "data.head()"
   ]
  },
  {
   "cell_type": "code",
   "execution_count": 651,
   "metadata": {},
   "outputs": [],
   "source": [
    "#dropping old GDP columnns\n",
    "data=data.drop(\"GDP Per Capita\",axis=1).drop(\"GDPPerCapita1\",axis=1).drop(\"GDPPerCapita2\",axis=1)"
   ]
  },
  {
   "cell_type": "code",
   "execution_count": 652,
   "metadata": {
    "scrolled": true
   },
   "outputs": [
    {
     "data": {
      "text/plain": [
       "Country                   object\n",
       "CO2_Emissions_Number     float64\n",
       "Urbanization_Number      float64\n",
       "GDP_Per_Capita_Number     object\n",
       "dtype: object"
      ]
     },
     "execution_count": 652,
     "metadata": {},
     "output_type": "execute_result"
    }
   ],
   "source": [
    "data.dtypes"
   ]
  },
  {
   "cell_type": "code",
   "execution_count": 653,
   "metadata": {},
   "outputs": [
    {
     "data": {
      "text/plain": [
       "''"
      ]
     },
     "execution_count": 653,
     "metadata": {},
     "output_type": "execute_result"
    }
   ],
   "source": [
    "#need to replace NA values with nothing\n",
    "pattern='NA'\n",
    "nothing=''\n",
    "testString='NA'\n",
    "re.sub(pattern,nothing,testString)"
   ]
  },
  {
   "cell_type": "code",
   "execution_count": 654,
   "metadata": {},
   "outputs": [],
   "source": [
    "#to get rid of the NA's\n",
    "pattern='NA'\n",
    "nothing=''\n",
    "newValues=[re.sub(pattern,nothing,oldValue) for oldValue in data.GDP_Per_Capita_Number]"
   ]
  },
  {
   "cell_type": "code",
   "execution_count": 655,
   "metadata": {},
   "outputs": [
    {
     "data": {
      "text/html": [
       "<div>\n",
       "<style scoped>\n",
       "    .dataframe tbody tr th:only-of-type {\n",
       "        vertical-align: middle;\n",
       "    }\n",
       "\n",
       "    .dataframe tbody tr th {\n",
       "        vertical-align: top;\n",
       "    }\n",
       "\n",
       "    .dataframe thead th {\n",
       "        text-align: right;\n",
       "    }\n",
       "</style>\n",
       "<table border=\"1\" class=\"dataframe\">\n",
       "  <thead>\n",
       "    <tr style=\"text-align: right;\">\n",
       "      <th></th>\n",
       "      <th>Country</th>\n",
       "      <th>CO2_Emissions_Number</th>\n",
       "      <th>Urbanization_Number</th>\n",
       "      <th>GDP_Per_Capita_Number</th>\n",
       "    </tr>\n",
       "  </thead>\n",
       "  <tbody>\n",
       "    <tr>\n",
       "      <th>0</th>\n",
       "      <td>Afghanistan</td>\n",
       "      <td>9067000.0</td>\n",
       "      <td>25.5</td>\n",
       "      <td>2000</td>\n",
       "    </tr>\n",
       "    <tr>\n",
       "      <th>1</th>\n",
       "      <td>Albania</td>\n",
       "      <td>4500000.0</td>\n",
       "      <td>60.3</td>\n",
       "      <td>12500</td>\n",
       "    </tr>\n",
       "    <tr>\n",
       "      <th>2</th>\n",
       "      <td>Algeria</td>\n",
       "      <td>135900000.0</td>\n",
       "      <td>72.6</td>\n",
       "      <td>15200</td>\n",
       "    </tr>\n",
       "    <tr>\n",
       "      <th>3</th>\n",
       "      <td>American Samoa</td>\n",
       "      <td>361100.0</td>\n",
       "      <td>87.2</td>\n",
       "      <td>11200</td>\n",
       "    </tr>\n",
       "    <tr>\n",
       "      <th>4</th>\n",
       "      <td>Angola</td>\n",
       "      <td>20950000.0</td>\n",
       "      <td>65.5</td>\n",
       "      <td>6800</td>\n",
       "    </tr>\n",
       "  </tbody>\n",
       "</table>\n",
       "</div>"
      ],
      "text/plain": [
       "          Country  CO2_Emissions_Number  Urbanization_Number  \\\n",
       "0     Afghanistan             9067000.0                 25.5   \n",
       "1         Albania             4500000.0                 60.3   \n",
       "2         Algeria           135900000.0                 72.6   \n",
       "3  American Samoa              361100.0                 87.2   \n",
       "4          Angola            20950000.0                 65.5   \n",
       "\n",
       "  GDP_Per_Capita_Number  \n",
       "0                2000    \n",
       "1               12500    \n",
       "2               15200    \n",
       "3               11200    \n",
       "4                6800    "
      ]
     },
     "execution_count": 655,
     "metadata": {},
     "output_type": "execute_result"
    }
   ],
   "source": [
    "data=data.assign(GDP_Per_Capita_Number=newValues)\n",
    "data.head()"
   ]
  },
  {
   "cell_type": "code",
   "execution_count": 656,
   "metadata": {},
   "outputs": [
    {
     "data": {
      "text/plain": [
       "'NA'"
      ]
     },
     "execution_count": 656,
     "metadata": {},
     "output_type": "execute_result"
    }
   ],
   "source": [
    "pattern=' '\n",
    "nothing=''\n",
    "testString=' NA '\n",
    "re.sub(pattern,nothing,testString)"
   ]
  },
  {
   "cell_type": "code",
   "execution_count": 657,
   "metadata": {},
   "outputs": [],
   "source": [
    "#to get rid of the NA's\n",
    "pattern=' '\n",
    "nothing=''\n",
    "newValues=[re.sub(pattern,nothing,oldValue) for oldValue in data.GDP_Per_Capita_Number]"
   ]
  },
  {
   "cell_type": "code",
   "execution_count": 658,
   "metadata": {},
   "outputs": [
    {
     "data": {
      "text/html": [
       "<div>\n",
       "<style scoped>\n",
       "    .dataframe tbody tr th:only-of-type {\n",
       "        vertical-align: middle;\n",
       "    }\n",
       "\n",
       "    .dataframe tbody tr th {\n",
       "        vertical-align: top;\n",
       "    }\n",
       "\n",
       "    .dataframe thead th {\n",
       "        text-align: right;\n",
       "    }\n",
       "</style>\n",
       "<table border=\"1\" class=\"dataframe\">\n",
       "  <thead>\n",
       "    <tr style=\"text-align: right;\">\n",
       "      <th></th>\n",
       "      <th>Country</th>\n",
       "      <th>CO2_Emissions_Number</th>\n",
       "      <th>Urbanization_Number</th>\n",
       "      <th>GDP_Per_Capita_Number</th>\n",
       "    </tr>\n",
       "  </thead>\n",
       "  <tbody>\n",
       "    <tr>\n",
       "      <th>0</th>\n",
       "      <td>Afghanistan</td>\n",
       "      <td>9067000.0</td>\n",
       "      <td>25.5</td>\n",
       "      <td>2000</td>\n",
       "    </tr>\n",
       "    <tr>\n",
       "      <th>1</th>\n",
       "      <td>Albania</td>\n",
       "      <td>4500000.0</td>\n",
       "      <td>60.3</td>\n",
       "      <td>12500</td>\n",
       "    </tr>\n",
       "    <tr>\n",
       "      <th>2</th>\n",
       "      <td>Algeria</td>\n",
       "      <td>135900000.0</td>\n",
       "      <td>72.6</td>\n",
       "      <td>15200</td>\n",
       "    </tr>\n",
       "    <tr>\n",
       "      <th>3</th>\n",
       "      <td>American Samoa</td>\n",
       "      <td>361100.0</td>\n",
       "      <td>87.2</td>\n",
       "      <td>11200</td>\n",
       "    </tr>\n",
       "    <tr>\n",
       "      <th>4</th>\n",
       "      <td>Angola</td>\n",
       "      <td>20950000.0</td>\n",
       "      <td>65.5</td>\n",
       "      <td>6800</td>\n",
       "    </tr>\n",
       "  </tbody>\n",
       "</table>\n",
       "</div>"
      ],
      "text/plain": [
       "          Country  CO2_Emissions_Number  Urbanization_Number  \\\n",
       "0     Afghanistan             9067000.0                 25.5   \n",
       "1         Albania             4500000.0                 60.3   \n",
       "2         Algeria           135900000.0                 72.6   \n",
       "3  American Samoa              361100.0                 87.2   \n",
       "4          Angola            20950000.0                 65.5   \n",
       "\n",
       "  GDP_Per_Capita_Number  \n",
       "0                  2000  \n",
       "1                 12500  \n",
       "2                 15200  \n",
       "3                 11200  \n",
       "4                  6800  "
      ]
     },
     "execution_count": 658,
     "metadata": {},
     "output_type": "execute_result"
    }
   ],
   "source": [
    "data=data.assign(GDP_Per_Capita_Number=newValues)\n",
    "data.head()"
   ]
  },
  {
   "cell_type": "code",
   "execution_count": 659,
   "metadata": {},
   "outputs": [],
   "source": [
    "data.GDP_Per_Capita_Number=pd.to_numeric(data.GDP_Per_Capita_Number)"
   ]
  },
  {
   "cell_type": "code",
   "execution_count": 660,
   "metadata": {},
   "outputs": [
    {
     "data": {
      "text/plain": [
       "Country                   object\n",
       "CO2_Emissions_Number     float64\n",
       "Urbanization_Number      float64\n",
       "GDP_Per_Capita_Number    float64\n",
       "dtype: object"
      ]
     },
     "execution_count": 660,
     "metadata": {},
     "output_type": "execute_result"
    }
   ],
   "source": [
    "data.dtypes"
   ]
  },
  {
   "cell_type": "markdown",
   "metadata": {},
   "source": [
    "## 8. Saving File for R"
   ]
  },
  {
   "cell_type": "code",
   "execution_count": 661,
   "metadata": {},
   "outputs": [],
   "source": [
    "data.to_csv(\"FinalProject.csv\",index=None)"
   ]
  },
  {
   "cell_type": "code",
   "execution_count": null,
   "metadata": {},
   "outputs": [],
   "source": []
  }
 ],
 "metadata": {
  "kernelspec": {
   "display_name": "Python 3",
   "language": "python",
   "name": "python3"
  },
  "language_info": {
   "codemirror_mode": {
    "name": "ipython",
    "version": 3
   },
   "file_extension": ".py",
   "mimetype": "text/x-python",
   "name": "python",
   "nbconvert_exporter": "python",
   "pygments_lexer": "ipython3",
   "version": "3.7.1"
  }
 },
 "nbformat": 4,
 "nbformat_minor": 2
}
