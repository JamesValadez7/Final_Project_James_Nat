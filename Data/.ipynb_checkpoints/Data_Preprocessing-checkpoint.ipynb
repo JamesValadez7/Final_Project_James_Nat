{
 "cells": [
  {
   "cell_type": "markdown",
   "metadata": {},
   "source": [
    "# 1. Data to be used"
   ]
  },
  {
   "cell_type": "markdown",
   "metadata": {},
   "source": [
    "All data is from the CIA World Factbook (https://www.cia.gov/library/publications/resources/the-world-factbook/)\n",
    "\n",
    "1. 'emissions' reports millions of megatons of carbon dioxide emitted nationally from consumption of energy\n",
    "2. 'urban' is the percent of total population living in urban areas\n",
    "3. 'gdp' is the gross domestic product per capita in US dollars\n",
    "4. 'population' reports number of people"
   ]
  },
  {
   "cell_type": "markdown",
   "metadata": {},
   "source": [
    "Links to the tables of data:\n",
    "\n",
    "1. emissions = https://www.cia.gov/library/publications/resources/the-world-factbook/fields/274.html\n",
    "2. urban = https://www.cia.gov/library/publications/resources/the-world-factbook/fields/349.html\n",
    "3. gdp = https://www.cia.gov/library/publications/resources/the-world-factbook/fields/211.html\n",
    "4. pop= https://www.cia.gov/library/publications/resources/the-world-factbook/fields/335.html"
   ]
  },
  {
   "cell_type": "markdown",
   "metadata": {},
   "source": [
    "# 2. Reading the data"
   ]
  },
  {
   "cell_type": "code",
   "execution_count": 2,
   "metadata": {},
   "outputs": [],
   "source": [
    "import pandas as pd"
   ]
  },
  {
   "cell_type": "code",
   "execution_count": 3,
   "metadata": {},
   "outputs": [
    {
     "data": {
      "text/html": [
       "<div>\n",
       "<style scoped>\n",
       "    .dataframe tbody tr th:only-of-type {\n",
       "        vertical-align: middle;\n",
       "    }\n",
       "\n",
       "    .dataframe tbody tr th {\n",
       "        vertical-align: top;\n",
       "    }\n",
       "\n",
       "    .dataframe thead th {\n",
       "        text-align: right;\n",
       "    }\n",
       "</style>\n",
       "<table border=\"1\" class=\"dataframe\">\n",
       "  <thead>\n",
       "    <tr style=\"text-align: right;\">\n",
       "      <th></th>\n",
       "      <th>Country</th>\n",
       "      <th>Carbon dioxide emissions from consumption of energy</th>\n",
       "    </tr>\n",
       "  </thead>\n",
       "  <tbody>\n",
       "    <tr>\n",
       "      <th>0</th>\n",
       "      <td>Afghanistan</td>\n",
       "      <td>9.067 million Mt  (2017 est.)</td>\n",
       "    </tr>\n",
       "    <tr>\n",
       "      <th>1</th>\n",
       "      <td>Albania</td>\n",
       "      <td>4.5 million Mt  (2017 est.)</td>\n",
       "    </tr>\n",
       "    <tr>\n",
       "      <th>2</th>\n",
       "      <td>Algeria</td>\n",
       "      <td>135.9 million Mt  (2017 est.)</td>\n",
       "    </tr>\n",
       "    <tr>\n",
       "      <th>3</th>\n",
       "      <td>American Samoa</td>\n",
       "      <td>361,100 Mt  (2017 est.)</td>\n",
       "    </tr>\n",
       "    <tr>\n",
       "      <th>4</th>\n",
       "      <td>Angola</td>\n",
       "      <td>20.95 million Mt  (2017 est.)</td>\n",
       "    </tr>\n",
       "  </tbody>\n",
       "</table>\n",
       "</div>"
      ],
      "text/plain": [
       "          Country Carbon dioxide emissions from consumption of energy\n",
       "0     Afghanistan                      9.067 million Mt  (2017 est.) \n",
       "1         Albania                        4.5 million Mt  (2017 est.) \n",
       "2         Algeria                      135.9 million Mt  (2017 est.) \n",
       "3  American Samoa                            361,100 Mt  (2017 est.) \n",
       "4          Angola                      20.95 million Mt  (2017 est.) "
      ]
     },
     "execution_count": 3,
     "metadata": {},
     "output_type": "execute_result"
    }
   ],
   "source": [
    "#creating a dataframe of CO2 emmissions\n",
    "link1=\"https://www.cia.gov/library/publications/resources/the-world-factbook/fields/274.html\"\n",
    "emissions=pd.read_html(link1,header=0,flavor='bs4',attrs={'id': 'fieldListing'})[0]\n",
    "emissions.head()"
   ]
  },
  {
   "cell_type": "code",
   "execution_count": 4,
   "metadata": {},
   "outputs": [
    {
     "data": {
      "text/html": [
       "<div>\n",
       "<style scoped>\n",
       "    .dataframe tbody tr th:only-of-type {\n",
       "        vertical-align: middle;\n",
       "    }\n",
       "\n",
       "    .dataframe tbody tr th {\n",
       "        vertical-align: top;\n",
       "    }\n",
       "\n",
       "    .dataframe thead th {\n",
       "        text-align: right;\n",
       "    }\n",
       "</style>\n",
       "<table border=\"1\" class=\"dataframe\">\n",
       "  <thead>\n",
       "    <tr style=\"text-align: right;\">\n",
       "      <th></th>\n",
       "      <th>Country</th>\n",
       "      <th>Urbanization</th>\n",
       "    </tr>\n",
       "  </thead>\n",
       "  <tbody>\n",
       "    <tr>\n",
       "      <th>0</th>\n",
       "      <td>Afghanistan</td>\n",
       "      <td>urban population:  25.5% of total population  ...</td>\n",
       "    </tr>\n",
       "    <tr>\n",
       "      <th>1</th>\n",
       "      <td>Albania</td>\n",
       "      <td>urban population:  60.3% of total population  ...</td>\n",
       "    </tr>\n",
       "    <tr>\n",
       "      <th>2</th>\n",
       "      <td>Algeria</td>\n",
       "      <td>urban population:  72.6% of total population  ...</td>\n",
       "    </tr>\n",
       "    <tr>\n",
       "      <th>3</th>\n",
       "      <td>American Samoa</td>\n",
       "      <td>urban population:  87.2% of total population  ...</td>\n",
       "    </tr>\n",
       "    <tr>\n",
       "      <th>4</th>\n",
       "      <td>Andorra</td>\n",
       "      <td>urban population:  88.1% of total population  ...</td>\n",
       "    </tr>\n",
       "  </tbody>\n",
       "</table>\n",
       "</div>"
      ],
      "text/plain": [
       "          Country                                       Urbanization\n",
       "0     Afghanistan  urban population:  25.5% of total population  ...\n",
       "1         Albania  urban population:  60.3% of total population  ...\n",
       "2         Algeria  urban population:  72.6% of total population  ...\n",
       "3  American Samoa  urban population:  87.2% of total population  ...\n",
       "4         Andorra  urban population:  88.1% of total population  ..."
      ]
     },
     "execution_count": 4,
     "metadata": {},
     "output_type": "execute_result"
    }
   ],
   "source": [
    "#creating a dataframe of percent urbanization\n",
    "link2=\"https://www.cia.gov/library/publications/resources/the-world-factbook/fields/349.html\"\n",
    "urban=pd.read_html(link2,header=0,flavor='bs4',attrs={'id': 'fieldListing'})[0]\n",
    "urban.head()"
   ]
  },
  {
   "cell_type": "code",
   "execution_count": 5,
   "metadata": {},
   "outputs": [
    {
     "data": {
      "text/plain": [
       "(232, 2)"
      ]
     },
     "execution_count": 5,
     "metadata": {},
     "output_type": "execute_result"
    }
   ],
   "source": [
    "#creating a dataframe of GDP per capita\n",
    "link3=\"https://www.cia.gov/library/publications/resources/the-world-factbook/fields/211.html\"\n",
    "gdp=pd.read_html(link3,header=0,flavor='bs4',attrs={'id': 'fieldListing'})[0]\n",
    "gdp.shape"
   ]
  },
  {
   "cell_type": "code",
   "execution_count": 6,
   "metadata": {},
   "outputs": [
    {
     "data": {
      "text/plain": [
       "(262, 2)"
      ]
     },
     "execution_count": 6,
     "metadata": {},
     "output_type": "execute_result"
    }
   ],
   "source": [
    "#creating a data frame of population\n",
    "link4=\"https://www.cia.gov/library/publications/resources/the-world-factbook/fields/335.html\"\n",
    "pop=pd.read_html(link4,header=0,flavor='bs4',attrs={'id': 'fieldListing'})[0]\n",
    "pop.shape"
   ]
  },
  {
   "cell_type": "markdown",
   "metadata": {},
   "source": [
    "# 3. Merging data sets"
   ]
  },
  {
   "cell_type": "code",
   "execution_count": 7,
   "metadata": {},
   "outputs": [
    {
     "data": {
      "text/html": [
       "<div>\n",
       "<style scoped>\n",
       "    .dataframe tbody tr th:only-of-type {\n",
       "        vertical-align: middle;\n",
       "    }\n",
       "\n",
       "    .dataframe tbody tr th {\n",
       "        vertical-align: top;\n",
       "    }\n",
       "\n",
       "    .dataframe thead th {\n",
       "        text-align: right;\n",
       "    }\n",
       "</style>\n",
       "<table border=\"1\" class=\"dataframe\">\n",
       "  <thead>\n",
       "    <tr style=\"text-align: right;\">\n",
       "      <th></th>\n",
       "      <th>Country</th>\n",
       "      <th>Carbon dioxide emissions from consumption of energy</th>\n",
       "      <th>Urbanization</th>\n",
       "    </tr>\n",
       "  </thead>\n",
       "  <tbody>\n",
       "    <tr>\n",
       "      <th>0</th>\n",
       "      <td>Afghanistan</td>\n",
       "      <td>9.067 million Mt  (2017 est.)</td>\n",
       "      <td>urban population:  25.5% of total population  ...</td>\n",
       "    </tr>\n",
       "    <tr>\n",
       "      <th>1</th>\n",
       "      <td>Albania</td>\n",
       "      <td>4.5 million Mt  (2017 est.)</td>\n",
       "      <td>urban population:  60.3% of total population  ...</td>\n",
       "    </tr>\n",
       "    <tr>\n",
       "      <th>2</th>\n",
       "      <td>Algeria</td>\n",
       "      <td>135.9 million Mt  (2017 est.)</td>\n",
       "      <td>urban population:  72.6% of total population  ...</td>\n",
       "    </tr>\n",
       "    <tr>\n",
       "      <th>3</th>\n",
       "      <td>American Samoa</td>\n",
       "      <td>361,100 Mt  (2017 est.)</td>\n",
       "      <td>urban population:  87.2% of total population  ...</td>\n",
       "    </tr>\n",
       "    <tr>\n",
       "      <th>4</th>\n",
       "      <td>Angola</td>\n",
       "      <td>20.95 million Mt  (2017 est.)</td>\n",
       "      <td>urban population:  65.5% of total population  ...</td>\n",
       "    </tr>\n",
       "  </tbody>\n",
       "</table>\n",
       "</div>"
      ],
      "text/plain": [
       "          Country Carbon dioxide emissions from consumption of energy  \\\n",
       "0     Afghanistan                      9.067 million Mt  (2017 est.)    \n",
       "1         Albania                        4.5 million Mt  (2017 est.)    \n",
       "2         Algeria                      135.9 million Mt  (2017 est.)    \n",
       "3  American Samoa                            361,100 Mt  (2017 est.)    \n",
       "4          Angola                      20.95 million Mt  (2017 est.)    \n",
       "\n",
       "                                        Urbanization  \n",
       "0  urban population:  25.5% of total population  ...  \n",
       "1  urban population:  60.3% of total population  ...  \n",
       "2  urban population:  72.6% of total population  ...  \n",
       "3  urban population:  87.2% of total population  ...  \n",
       "4  urban population:  65.5% of total population  ...  "
      ]
     },
     "execution_count": 7,
     "metadata": {},
     "output_type": "execute_result"
    }
   ],
   "source": [
    "#1st merge. Confirm that country data is lining up. \n",
    "join1=pd.merge(emissions,urban,left_on='Country',right_on='Country')\n",
    "join1.head()"
   ]
  },
  {
   "cell_type": "code",
   "execution_count": 8,
   "metadata": {},
   "outputs": [
    {
     "data": {
      "text/plain": [
       "(214, 3)"
      ]
     },
     "execution_count": 8,
     "metadata": {},
     "output_type": "execute_result"
    }
   ],
   "source": [
    "#18 countries that didn't show up in both dataframes being merged were dropped.\n",
    "join1.shape"
   ]
  },
  {
   "cell_type": "code",
   "execution_count": 9,
   "metadata": {},
   "outputs": [
    {
     "data": {
      "text/plain": [
       "(214, 4)"
      ]
     },
     "execution_count": 9,
     "metadata": {},
     "output_type": "execute_result"
    }
   ],
   "source": [
    "#2nd merge. Confirm that country data is lining up. \n",
    "join2=pd.merge(join1,gdp,on='Country')\n",
    "join2.shape"
   ]
  },
  {
   "cell_type": "code",
   "execution_count": 10,
   "metadata": {},
   "outputs": [
    {
     "data": {
      "text/html": [
       "<div>\n",
       "<style scoped>\n",
       "    .dataframe tbody tr th:only-of-type {\n",
       "        vertical-align: middle;\n",
       "    }\n",
       "\n",
       "    .dataframe tbody tr th {\n",
       "        vertical-align: top;\n",
       "    }\n",
       "\n",
       "    .dataframe thead th {\n",
       "        text-align: right;\n",
       "    }\n",
       "</style>\n",
       "<table border=\"1\" class=\"dataframe\">\n",
       "  <thead>\n",
       "    <tr style=\"text-align: right;\">\n",
       "      <th></th>\n",
       "      <th>Country</th>\n",
       "      <th>Carbon dioxide emissions from consumption of energy</th>\n",
       "      <th>Urbanization</th>\n",
       "      <th>GDP - per capita (PPP)</th>\n",
       "      <th>Population</th>\n",
       "    </tr>\n",
       "  </thead>\n",
       "  <tbody>\n",
       "    <tr>\n",
       "      <th>0</th>\n",
       "      <td>Afghanistan</td>\n",
       "      <td>9.067 million Mt  (2017 est.)</td>\n",
       "      <td>urban population:  25.5% of total population  ...</td>\n",
       "      <td>$2,000  (2017 est.)  $2,000  (2016 est.)  $2,0...</td>\n",
       "      <td>34,940,837  (July 2018 est.)</td>\n",
       "    </tr>\n",
       "    <tr>\n",
       "      <th>1</th>\n",
       "      <td>Albania</td>\n",
       "      <td>4.5 million Mt  (2017 est.)</td>\n",
       "      <td>urban population:  60.3% of total population  ...</td>\n",
       "      <td>$12,500  (2017 est.)  $12,100  (2016 est.)  $1...</td>\n",
       "      <td>3,057,220  (July 2018 est.)</td>\n",
       "    </tr>\n",
       "    <tr>\n",
       "      <th>2</th>\n",
       "      <td>Algeria</td>\n",
       "      <td>135.9 million Mt  (2017 est.)</td>\n",
       "      <td>urban population:  72.6% of total population  ...</td>\n",
       "      <td>$15,200  (2017 est.)  $15,200  (2016 est.)  $1...</td>\n",
       "      <td>41,657,488  (July 2018 est.)</td>\n",
       "    </tr>\n",
       "    <tr>\n",
       "      <th>3</th>\n",
       "      <td>American Samoa</td>\n",
       "      <td>361,100 Mt  (2017 est.)</td>\n",
       "      <td>urban population:  87.2% of total population  ...</td>\n",
       "      <td>$11,200  (2016 est.)  $11,300  (2015 est.)  $1...</td>\n",
       "      <td>50,826  (July 2018 est.)</td>\n",
       "    </tr>\n",
       "    <tr>\n",
       "      <th>4</th>\n",
       "      <td>Angola</td>\n",
       "      <td>20.95 million Mt  (2017 est.)</td>\n",
       "      <td>urban population:  65.5% of total population  ...</td>\n",
       "      <td>$6,800  (2017 est.)  $7,200  (2016 est.)  $7,6...</td>\n",
       "      <td>30,355,880  (July 2017 est.)  (July 2018 est.)...</td>\n",
       "    </tr>\n",
       "  </tbody>\n",
       "</table>\n",
       "</div>"
      ],
      "text/plain": [
       "          Country Carbon dioxide emissions from consumption of energy  \\\n",
       "0     Afghanistan                      9.067 million Mt  (2017 est.)    \n",
       "1         Albania                        4.5 million Mt  (2017 est.)    \n",
       "2         Algeria                      135.9 million Mt  (2017 est.)    \n",
       "3  American Samoa                            361,100 Mt  (2017 est.)    \n",
       "4          Angola                      20.95 million Mt  (2017 est.)    \n",
       "\n",
       "                                        Urbanization  \\\n",
       "0  urban population:  25.5% of total population  ...   \n",
       "1  urban population:  60.3% of total population  ...   \n",
       "2  urban population:  72.6% of total population  ...   \n",
       "3  urban population:  87.2% of total population  ...   \n",
       "4  urban population:  65.5% of total population  ...   \n",
       "\n",
       "                              GDP - per capita (PPP)  \\\n",
       "0  $2,000  (2017 est.)  $2,000  (2016 est.)  $2,0...   \n",
       "1  $12,500  (2017 est.)  $12,100  (2016 est.)  $1...   \n",
       "2  $15,200  (2017 est.)  $15,200  (2016 est.)  $1...   \n",
       "3  $11,200  (2016 est.)  $11,300  (2015 est.)  $1...   \n",
       "4  $6,800  (2017 est.)  $7,200  (2016 est.)  $7,6...   \n",
       "\n",
       "                                          Population  \n",
       "0                       34,940,837  (July 2018 est.)  \n",
       "1                        3,057,220  (July 2018 est.)  \n",
       "2                       41,657,488  (July 2018 est.)  \n",
       "3                           50,826  (July 2018 est.)  \n",
       "4  30,355,880  (July 2017 est.)  (July 2018 est.)...  "
      ]
     },
     "execution_count": 10,
     "metadata": {},
     "output_type": "execute_result"
    }
   ],
   "source": [
    "#3rd merge. Confirm that country data is lining up. \n",
    "data=pd.merge(join2,pop,on='Country')\n",
    "data.head()"
   ]
  },
  {
   "cell_type": "code",
   "execution_count": 11,
   "metadata": {},
   "outputs": [
    {
     "data": {
      "text/plain": [
       "(214, 5)"
      ]
     },
     "execution_count": 11,
     "metadata": {},
     "output_type": "execute_result"
    }
   ],
   "source": [
    "data.shape"
   ]
  },
  {
   "cell_type": "markdown",
   "metadata": {},
   "source": [
    "# 4. Renaming columns"
   ]
  },
  {
   "cell_type": "code",
   "execution_count": 12,
   "metadata": {},
   "outputs": [
    {
     "name": "stdout",
     "output_type": "stream",
     "text": [
      "<class 'pandas.core.frame.DataFrame'>\n",
      "Int64Index: 214 entries, 0 to 213\n",
      "Data columns (total 5 columns):\n",
      "Country                                                214 non-null object\n",
      "Carbon dioxide emissions from consumption of energy    214 non-null object\n",
      "Urbanization                                           214 non-null object\n",
      "GDP - per capita (PPP)                                 214 non-null object\n",
      "Population                                             214 non-null object\n",
      "dtypes: object(5)\n",
      "memory usage: 10.0+ KB\n"
     ]
    }
   ],
   "source": [
    "data.info()"
   ]
  },
  {
   "cell_type": "code",
   "execution_count": 13,
   "metadata": {},
   "outputs": [
    {
     "data": {
      "text/plain": [
       "Index(['Country', 'Carbon dioxide emissions from consumption of energy',\n",
       "       'Urbanization', 'GDP - per capita (PPP)', 'Population'],\n",
       "      dtype='object')"
      ]
     },
     "execution_count": 13,
     "metadata": {},
     "output_type": "execute_result"
    }
   ],
   "source": [
    "data.columns"
   ]
  },
  {
   "cell_type": "code",
   "execution_count": 14,
   "metadata": {},
   "outputs": [],
   "source": [
    "newNames=['Country','CO2_Emissions','Urbanization','GDP_Per_Capita']"
   ]
  },
  {
   "cell_type": "code",
   "execution_count": 15,
   "metadata": {},
   "outputs": [],
   "source": [
    "nameChanges={old:new for old,new in zip(data.columns,newNames)}"
   ]
  },
  {
   "cell_type": "code",
   "execution_count": 16,
   "metadata": {},
   "outputs": [],
   "source": [
    "data.rename(nameChanges,axis=1,inplace=True)"
   ]
  },
  {
   "cell_type": "code",
   "execution_count": 17,
   "metadata": {},
   "outputs": [
    {
     "data": {
      "text/html": [
       "<div>\n",
       "<style scoped>\n",
       "    .dataframe tbody tr th:only-of-type {\n",
       "        vertical-align: middle;\n",
       "    }\n",
       "\n",
       "    .dataframe tbody tr th {\n",
       "        vertical-align: top;\n",
       "    }\n",
       "\n",
       "    .dataframe thead th {\n",
       "        text-align: right;\n",
       "    }\n",
       "</style>\n",
       "<table border=\"1\" class=\"dataframe\">\n",
       "  <thead>\n",
       "    <tr style=\"text-align: right;\">\n",
       "      <th></th>\n",
       "      <th>Country</th>\n",
       "      <th>CO2_Emissions</th>\n",
       "      <th>Urbanization</th>\n",
       "      <th>GDP_Per_Capita</th>\n",
       "      <th>Population</th>\n",
       "    </tr>\n",
       "  </thead>\n",
       "  <tbody>\n",
       "    <tr>\n",
       "      <th>0</th>\n",
       "      <td>Afghanistan</td>\n",
       "      <td>9.067 million Mt  (2017 est.)</td>\n",
       "      <td>urban population:  25.5% of total population  ...</td>\n",
       "      <td>$2,000  (2017 est.)  $2,000  (2016 est.)  $2,0...</td>\n",
       "      <td>34,940,837  (July 2018 est.)</td>\n",
       "    </tr>\n",
       "    <tr>\n",
       "      <th>1</th>\n",
       "      <td>Albania</td>\n",
       "      <td>4.5 million Mt  (2017 est.)</td>\n",
       "      <td>urban population:  60.3% of total population  ...</td>\n",
       "      <td>$12,500  (2017 est.)  $12,100  (2016 est.)  $1...</td>\n",
       "      <td>3,057,220  (July 2018 est.)</td>\n",
       "    </tr>\n",
       "    <tr>\n",
       "      <th>2</th>\n",
       "      <td>Algeria</td>\n",
       "      <td>135.9 million Mt  (2017 est.)</td>\n",
       "      <td>urban population:  72.6% of total population  ...</td>\n",
       "      <td>$15,200  (2017 est.)  $15,200  (2016 est.)  $1...</td>\n",
       "      <td>41,657,488  (July 2018 est.)</td>\n",
       "    </tr>\n",
       "    <tr>\n",
       "      <th>3</th>\n",
       "      <td>American Samoa</td>\n",
       "      <td>361,100 Mt  (2017 est.)</td>\n",
       "      <td>urban population:  87.2% of total population  ...</td>\n",
       "      <td>$11,200  (2016 est.)  $11,300  (2015 est.)  $1...</td>\n",
       "      <td>50,826  (July 2018 est.)</td>\n",
       "    </tr>\n",
       "    <tr>\n",
       "      <th>4</th>\n",
       "      <td>Angola</td>\n",
       "      <td>20.95 million Mt  (2017 est.)</td>\n",
       "      <td>urban population:  65.5% of total population  ...</td>\n",
       "      <td>$6,800  (2017 est.)  $7,200  (2016 est.)  $7,6...</td>\n",
       "      <td>30,355,880  (July 2017 est.)  (July 2018 est.)...</td>\n",
       "    </tr>\n",
       "  </tbody>\n",
       "</table>\n",
       "</div>"
      ],
      "text/plain": [
       "          Country                  CO2_Emissions  \\\n",
       "0     Afghanistan  9.067 million Mt  (2017 est.)   \n",
       "1         Albania    4.5 million Mt  (2017 est.)   \n",
       "2         Algeria  135.9 million Mt  (2017 est.)   \n",
       "3  American Samoa        361,100 Mt  (2017 est.)   \n",
       "4          Angola  20.95 million Mt  (2017 est.)   \n",
       "\n",
       "                                        Urbanization  \\\n",
       "0  urban population:  25.5% of total population  ...   \n",
       "1  urban population:  60.3% of total population  ...   \n",
       "2  urban population:  72.6% of total population  ...   \n",
       "3  urban population:  87.2% of total population  ...   \n",
       "4  urban population:  65.5% of total population  ...   \n",
       "\n",
       "                                      GDP_Per_Capita  \\\n",
       "0  $2,000  (2017 est.)  $2,000  (2016 est.)  $2,0...   \n",
       "1  $12,500  (2017 est.)  $12,100  (2016 est.)  $1...   \n",
       "2  $15,200  (2017 est.)  $15,200  (2016 est.)  $1...   \n",
       "3  $11,200  (2016 est.)  $11,300  (2015 est.)  $1...   \n",
       "4  $6,800  (2017 est.)  $7,200  (2016 est.)  $7,6...   \n",
       "\n",
       "                                          Population  \n",
       "0                       34,940,837  (July 2018 est.)  \n",
       "1                        3,057,220  (July 2018 est.)  \n",
       "2                       41,657,488  (July 2018 est.)  \n",
       "3                           50,826  (July 2018 est.)  \n",
       "4  30,355,880  (July 2017 est.)  (July 2018 est.)...  "
      ]
     },
     "execution_count": 17,
     "metadata": {},
     "output_type": "execute_result"
    }
   ],
   "source": [
    "data.head()"
   ]
  },
  {
   "cell_type": "code",
   "execution_count": 18,
   "metadata": {},
   "outputs": [
    {
     "data": {
      "text/plain": [
       "Country           object\n",
       "CO2_Emissions     object\n",
       "Urbanization      object\n",
       "GDP_Per_Capita    object\n",
       "Population        object\n",
       "dtype: object"
      ]
     },
     "execution_count": 18,
     "metadata": {},
     "output_type": "execute_result"
    }
   ],
   "source": [
    "data.dtypes"
   ]
  },
  {
   "cell_type": "markdown",
   "metadata": {},
   "source": [
    "## 5. Cleaning the Country Column"
   ]
  },
  {
   "cell_type": "code",
   "execution_count": 19,
   "metadata": {},
   "outputs": [
    {
     "ename": "NameError",
     "evalue": "name 're' is not defined",
     "output_type": "error",
     "traceback": [
      "\u001b[0;31m---------------------------------------------------------------------------\u001b[0m",
      "\u001b[0;31mNameError\u001b[0m                                 Traceback (most recent call last)",
      "\u001b[0;32m<ipython-input-19-b14a7981c65c>\u001b[0m in \u001b[0;36m<module>\u001b[0;34m\u001b[0m\n\u001b[1;32m      3\u001b[0m \u001b[0mnothing\u001b[0m\u001b[0;34m=\u001b[0m\u001b[0;34m''\u001b[0m\u001b[0;34m\u001b[0m\u001b[0;34m\u001b[0m\u001b[0m\n\u001b[1;32m      4\u001b[0m \u001b[0mtestString\u001b[0m\u001b[0;34m=\u001b[0m\u001b[0;34m'World '\u001b[0m\u001b[0;34m\u001b[0m\u001b[0;34m\u001b[0m\u001b[0m\n\u001b[0;32m----> 5\u001b[0;31m \u001b[0mre\u001b[0m\u001b[0;34m.\u001b[0m\u001b[0msub\u001b[0m\u001b[0;34m(\u001b[0m\u001b[0mpattern\u001b[0m\u001b[0;34m,\u001b[0m\u001b[0mnothing\u001b[0m\u001b[0;34m,\u001b[0m\u001b[0mtestString\u001b[0m\u001b[0;34m)\u001b[0m\u001b[0;34m\u001b[0m\u001b[0;34m\u001b[0m\u001b[0m\n\u001b[0m",
      "\u001b[0;31mNameError\u001b[0m: name 're' is not defined"
     ]
    }
   ],
   "source": [
    "#Getting rid of spaces\n",
    "pattern='\\\\ '\n",
    "nothing=''\n",
    "testString='World '\n",
    "re.sub(pattern,nothing,testString)"
   ]
  },
  {
   "cell_type": "code",
   "execution_count": null,
   "metadata": {},
   "outputs": [],
   "source": [
    "pattern='\\\\ '\n",
    "nothing=''\n",
    "newValues=[re.sub(pattern,nothing,oldValue) for oldValue in data.Country]"
   ]
  },
  {
   "cell_type": "code",
   "execution_count": null,
   "metadata": {},
   "outputs": [],
   "source": [
    "data=data.assign(Country=newValues)\n",
    "data.head()"
   ]
  },
  {
   "cell_type": "markdown",
   "metadata": {},
   "source": [
    "# 6. Cleaning the CO2 Emissions Column"
   ]
  },
  {
   "cell_type": "code",
   "execution_count": null,
   "metadata": {},
   "outputs": [],
   "source": [
    "#Split values after million\n",
    "emissionsnumber=[element.split(' Mt')[0] for element in data.CO2_Emissions]\n",
    "\n",
    "#Making the above list a new column:\n",
    "data=data.assign(CO2_Emissions_Number=emissionsnumber)\n",
    "data.head()"
   ]
  },
  {
   "cell_type": "code",
   "execution_count": null,
   "metadata": {},
   "outputs": [],
   "source": [
    "# the new values have text, which tells the units, so we want to keep that somewhere\n",
    "\n",
    "units=[] #empty list\n",
    "\n",
    "for element in data.CO2_Emissions_Number:\n",
    "  result=element.split(' ')\n",
    "  if len(result)>1:\n",
    "      units.append(result[1])  # add text\n",
    "  else:\n",
    "    units.append(1) # add '1'"
   ]
  },
  {
   "cell_type": "code",
   "execution_count": null,
   "metadata": {},
   "outputs": [],
   "source": [
    "#Making the above list a new column:\n",
    "data=data.assign(units=units)\n",
    "data.head()"
   ]
  },
  {
   "cell_type": "code",
   "execution_count": null,
   "metadata": {},
   "outputs": [],
   "source": [
    "#Now I can keep the first element (number):\n",
    "emissionsnumber=[element.split(' ')[0] for element in data.CO2_Emissions_Number]\n",
    "\n",
    "#Making the above list a new column:\n",
    "data=data.assign(CO2_Emissions_Number=emissionsnumber)\n",
    "data.head()"
   ]
  },
  {
   "cell_type": "code",
   "execution_count": null,
   "metadata": {},
   "outputs": [],
   "source": [
    "data.units.value_counts() # we need to turn this into numbers"
   ]
  },
  {
   "cell_type": "code",
   "execution_count": null,
   "metadata": {},
   "outputs": [],
   "source": [
    "newUnits=[10**6 if x=='million' else x for x in data.units] # first the millions\n",
    "newUnits=[10**9 if x=='billion' else x for x in newUnits] #then the billions\n",
    "# rewriting column\n",
    "data=data.assign(units=newUnits)\n",
    "data.head()"
   ]
  },
  {
   "cell_type": "code",
   "execution_count": 20,
   "metadata": {},
   "outputs": [
    {
     "data": {
      "text/plain": [
       "Country           object\n",
       "CO2_Emissions     object\n",
       "Urbanization      object\n",
       "GDP_Per_Capita    object\n",
       "Population        object\n",
       "dtype: object"
      ]
     },
     "execution_count": 20,
     "metadata": {},
     "output_type": "execute_result"
    }
   ],
   "source": [
    "data.dtypes # checking data type"
   ]
  },
  {
   "cell_type": "code",
   "execution_count": 21,
   "metadata": {},
   "outputs": [
    {
     "data": {
      "text/plain": [
       "'1073002'"
      ]
     },
     "execution_count": 21,
     "metadata": {},
     "output_type": "execute_result"
    }
   ],
   "source": [
    "# there are values with commas, I need to:\n",
    "import re\n",
    "pattern='\\\\,'\n",
    "nothing=''\n",
    "testString='1,073,002'\n",
    "re.sub(pattern,nothing,testString)"
   ]
  },
  {
   "cell_type": "code",
   "execution_count": 22,
   "metadata": {},
   "outputs": [
    {
     "ename": "AttributeError",
     "evalue": "'DataFrame' object has no attribute 'CO2_Emissions_Number'",
     "output_type": "error",
     "traceback": [
      "\u001b[0;31m---------------------------------------------------------------------------\u001b[0m",
      "\u001b[0;31mAttributeError\u001b[0m                            Traceback (most recent call last)",
      "\u001b[0;32m<ipython-input-22-3470ee8b1715>\u001b[0m in \u001b[0;36m<module>\u001b[0;34m\u001b[0m\n\u001b[1;32m      2\u001b[0m \u001b[0mnothing\u001b[0m\u001b[0;34m=\u001b[0m\u001b[0;34m''\u001b[0m\u001b[0;34m\u001b[0m\u001b[0;34m\u001b[0m\u001b[0m\n\u001b[1;32m      3\u001b[0m \u001b[0;34m\u001b[0m\u001b[0m\n\u001b[0;32m----> 4\u001b[0;31m \u001b[0mnewValues\u001b[0m\u001b[0;34m=\u001b[0m\u001b[0;34m[\u001b[0m\u001b[0mre\u001b[0m\u001b[0;34m.\u001b[0m\u001b[0msub\u001b[0m\u001b[0;34m(\u001b[0m\u001b[0mpattern\u001b[0m\u001b[0;34m,\u001b[0m\u001b[0mnothing\u001b[0m\u001b[0;34m,\u001b[0m\u001b[0moldValue\u001b[0m\u001b[0;34m)\u001b[0m \u001b[0;32mfor\u001b[0m \u001b[0moldValue\u001b[0m \u001b[0;32min\u001b[0m \u001b[0mdata\u001b[0m\u001b[0;34m.\u001b[0m\u001b[0mCO2_Emissions_Number\u001b[0m\u001b[0;34m]\u001b[0m\u001b[0;34m\u001b[0m\u001b[0;34m\u001b[0m\u001b[0m\n\u001b[0m",
      "\u001b[0;32m~/anaconda3/lib/python3.7/site-packages/pandas/core/generic.py\u001b[0m in \u001b[0;36m__getattr__\u001b[0;34m(self, name)\u001b[0m\n\u001b[1;32m   4374\u001b[0m             \u001b[0;32mif\u001b[0m \u001b[0mself\u001b[0m\u001b[0;34m.\u001b[0m\u001b[0m_info_axis\u001b[0m\u001b[0;34m.\u001b[0m\u001b[0m_can_hold_identifiers_and_holds_name\u001b[0m\u001b[0;34m(\u001b[0m\u001b[0mname\u001b[0m\u001b[0;34m)\u001b[0m\u001b[0;34m:\u001b[0m\u001b[0;34m\u001b[0m\u001b[0;34m\u001b[0m\u001b[0m\n\u001b[1;32m   4375\u001b[0m                 \u001b[0;32mreturn\u001b[0m \u001b[0mself\u001b[0m\u001b[0;34m[\u001b[0m\u001b[0mname\u001b[0m\u001b[0;34m]\u001b[0m\u001b[0;34m\u001b[0m\u001b[0;34m\u001b[0m\u001b[0m\n\u001b[0;32m-> 4376\u001b[0;31m             \u001b[0;32mreturn\u001b[0m \u001b[0mobject\u001b[0m\u001b[0;34m.\u001b[0m\u001b[0m__getattribute__\u001b[0m\u001b[0;34m(\u001b[0m\u001b[0mself\u001b[0m\u001b[0;34m,\u001b[0m \u001b[0mname\u001b[0m\u001b[0;34m)\u001b[0m\u001b[0;34m\u001b[0m\u001b[0;34m\u001b[0m\u001b[0m\n\u001b[0m\u001b[1;32m   4377\u001b[0m \u001b[0;34m\u001b[0m\u001b[0m\n\u001b[1;32m   4378\u001b[0m     \u001b[0;32mdef\u001b[0m \u001b[0m__setattr__\u001b[0m\u001b[0;34m(\u001b[0m\u001b[0mself\u001b[0m\u001b[0;34m,\u001b[0m \u001b[0mname\u001b[0m\u001b[0;34m,\u001b[0m \u001b[0mvalue\u001b[0m\u001b[0;34m)\u001b[0m\u001b[0;34m:\u001b[0m\u001b[0;34m\u001b[0m\u001b[0;34m\u001b[0m\u001b[0m\n",
      "\u001b[0;31mAttributeError\u001b[0m: 'DataFrame' object has no attribute 'CO2_Emissions_Number'"
     ]
    }
   ],
   "source": [
    "pattern='\\\\,'\n",
    "nothing=''\n",
    "\n",
    "newValues=[re.sub(pattern,nothing,oldValue) for oldValue in data.CO2_Emissions_Number]"
   ]
  },
  {
   "cell_type": "code",
   "execution_count": 23,
   "metadata": {},
   "outputs": [
    {
     "ename": "NameError",
     "evalue": "name 'newValues' is not defined",
     "output_type": "error",
     "traceback": [
      "\u001b[0;31m---------------------------------------------------------------------------\u001b[0m",
      "\u001b[0;31mNameError\u001b[0m                                 Traceback (most recent call last)",
      "\u001b[0;32m<ipython-input-23-3febccb93124>\u001b[0m in \u001b[0;36m<module>\u001b[0;34m\u001b[0m\n\u001b[1;32m      1\u001b[0m \u001b[0;31m# now full numeric column\u001b[0m\u001b[0;34m\u001b[0m\u001b[0;34m\u001b[0m\u001b[0;34m\u001b[0m\u001b[0m\n\u001b[0;32m----> 2\u001b[0;31m \u001b[0mdata\u001b[0m\u001b[0;34m=\u001b[0m\u001b[0mdata\u001b[0m\u001b[0;34m.\u001b[0m\u001b[0massign\u001b[0m\u001b[0;34m(\u001b[0m\u001b[0mCO2_Emissions_Number\u001b[0m\u001b[0;34m=\u001b[0m\u001b[0mnewValues\u001b[0m\u001b[0;34m)\u001b[0m\u001b[0;34m\u001b[0m\u001b[0;34m\u001b[0m\u001b[0m\n\u001b[0m\u001b[1;32m      3\u001b[0m \u001b[0mdata\u001b[0m\u001b[0;34m.\u001b[0m\u001b[0mhead\u001b[0m\u001b[0;34m(\u001b[0m\u001b[0;34m)\u001b[0m\u001b[0;34m\u001b[0m\u001b[0;34m\u001b[0m\u001b[0m\n",
      "\u001b[0;31mNameError\u001b[0m: name 'newValues' is not defined"
     ]
    }
   ],
   "source": [
    "# now full numeric column\n",
    "data=data.assign(CO2_Emissions_Number=newValues)\n",
    "data.head()"
   ]
  },
  {
   "cell_type": "code",
   "execution_count": 24,
   "metadata": {},
   "outputs": [
    {
     "data": {
      "text/plain": [
       "Country           object\n",
       "CO2_Emissions     object\n",
       "Urbanization      object\n",
       "GDP_Per_Capita    object\n",
       "Population        object\n",
       "dtype: object"
      ]
     },
     "execution_count": 24,
     "metadata": {},
     "output_type": "execute_result"
    }
   ],
   "source": [
    "data.dtypes #to see that CO2_Emissions Number is not yet float64 numbers"
   ]
  },
  {
   "cell_type": "code",
   "execution_count": 25,
   "metadata": {},
   "outputs": [
    {
     "ename": "AttributeError",
     "evalue": "'DataFrame' object has no attribute 'CO2_Emissions_Number'",
     "output_type": "error",
     "traceback": [
      "\u001b[0;31m---------------------------------------------------------------------------\u001b[0m",
      "\u001b[0;31mAttributeError\u001b[0m                            Traceback (most recent call last)",
      "\u001b[0;32m<ipython-input-25-e26246cedea5>\u001b[0m in \u001b[0;36m<module>\u001b[0;34m\u001b[0m\n\u001b[0;32m----> 1\u001b[0;31m \u001b[0mdata\u001b[0m\u001b[0;34m.\u001b[0m\u001b[0mCO2_Emissions_Number\u001b[0m\u001b[0;34m=\u001b[0m\u001b[0mpd\u001b[0m\u001b[0;34m.\u001b[0m\u001b[0mto_numeric\u001b[0m\u001b[0;34m(\u001b[0m\u001b[0mdata\u001b[0m\u001b[0;34m.\u001b[0m\u001b[0mCO2_Emissions_Number\u001b[0m\u001b[0;34m)\u001b[0m \u001b[0;31m#to convert to float64 numbers\u001b[0m\u001b[0;34m\u001b[0m\u001b[0;34m\u001b[0m\u001b[0m\n\u001b[0m",
      "\u001b[0;32m~/anaconda3/lib/python3.7/site-packages/pandas/core/generic.py\u001b[0m in \u001b[0;36m__getattr__\u001b[0;34m(self, name)\u001b[0m\n\u001b[1;32m   4374\u001b[0m             \u001b[0;32mif\u001b[0m \u001b[0mself\u001b[0m\u001b[0;34m.\u001b[0m\u001b[0m_info_axis\u001b[0m\u001b[0;34m.\u001b[0m\u001b[0m_can_hold_identifiers_and_holds_name\u001b[0m\u001b[0;34m(\u001b[0m\u001b[0mname\u001b[0m\u001b[0;34m)\u001b[0m\u001b[0;34m:\u001b[0m\u001b[0;34m\u001b[0m\u001b[0;34m\u001b[0m\u001b[0m\n\u001b[1;32m   4375\u001b[0m                 \u001b[0;32mreturn\u001b[0m \u001b[0mself\u001b[0m\u001b[0;34m[\u001b[0m\u001b[0mname\u001b[0m\u001b[0;34m]\u001b[0m\u001b[0;34m\u001b[0m\u001b[0;34m\u001b[0m\u001b[0m\n\u001b[0;32m-> 4376\u001b[0;31m             \u001b[0;32mreturn\u001b[0m \u001b[0mobject\u001b[0m\u001b[0;34m.\u001b[0m\u001b[0m__getattribute__\u001b[0m\u001b[0;34m(\u001b[0m\u001b[0mself\u001b[0m\u001b[0;34m,\u001b[0m \u001b[0mname\u001b[0m\u001b[0;34m)\u001b[0m\u001b[0;34m\u001b[0m\u001b[0;34m\u001b[0m\u001b[0m\n\u001b[0m\u001b[1;32m   4377\u001b[0m \u001b[0;34m\u001b[0m\u001b[0m\n\u001b[1;32m   4378\u001b[0m     \u001b[0;32mdef\u001b[0m \u001b[0m__setattr__\u001b[0m\u001b[0;34m(\u001b[0m\u001b[0mself\u001b[0m\u001b[0;34m,\u001b[0m \u001b[0mname\u001b[0m\u001b[0;34m,\u001b[0m \u001b[0mvalue\u001b[0m\u001b[0;34m)\u001b[0m\u001b[0;34m:\u001b[0m\u001b[0;34m\u001b[0m\u001b[0;34m\u001b[0m\u001b[0m\n",
      "\u001b[0;31mAttributeError\u001b[0m: 'DataFrame' object has no attribute 'CO2_Emissions_Number'"
     ]
    }
   ],
   "source": [
    "data.CO2_Emissions_Number=pd.to_numeric(data.CO2_Emissions_Number) #to convert to float64 numbers"
   ]
  },
  {
   "cell_type": "code",
   "execution_count": 26,
   "metadata": {
    "scrolled": true
   },
   "outputs": [
    {
     "data": {
      "text/plain": [
       "Country           object\n",
       "CO2_Emissions     object\n",
       "Urbanization      object\n",
       "GDP_Per_Capita    object\n",
       "Population        object\n",
       "dtype: object"
      ]
     },
     "execution_count": 26,
     "metadata": {},
     "output_type": "execute_result"
    }
   ],
   "source": [
    "data.dtypes #make sure it worked"
   ]
  },
  {
   "cell_type": "code",
   "execution_count": 27,
   "metadata": {},
   "outputs": [
    {
     "data": {
      "text/html": [
       "<div>\n",
       "<style scoped>\n",
       "    .dataframe tbody tr th:only-of-type {\n",
       "        vertical-align: middle;\n",
       "    }\n",
       "\n",
       "    .dataframe tbody tr th {\n",
       "        vertical-align: top;\n",
       "    }\n",
       "\n",
       "    .dataframe thead th {\n",
       "        text-align: right;\n",
       "    }\n",
       "</style>\n",
       "<table border=\"1\" class=\"dataframe\">\n",
       "  <thead>\n",
       "    <tr style=\"text-align: right;\">\n",
       "      <th></th>\n",
       "      <th>Country</th>\n",
       "      <th>CO2_Emissions</th>\n",
       "      <th>Urbanization</th>\n",
       "      <th>GDP_Per_Capita</th>\n",
       "      <th>Population</th>\n",
       "    </tr>\n",
       "  </thead>\n",
       "  <tbody>\n",
       "    <tr>\n",
       "      <th>0</th>\n",
       "      <td>Afghanistan</td>\n",
       "      <td>9.067 million Mt  (2017 est.)</td>\n",
       "      <td>urban population:  25.5% of total population  ...</td>\n",
       "      <td>$2,000  (2017 est.)  $2,000  (2016 est.)  $2,0...</td>\n",
       "      <td>34,940,837  (July 2018 est.)</td>\n",
       "    </tr>\n",
       "    <tr>\n",
       "      <th>1</th>\n",
       "      <td>Albania</td>\n",
       "      <td>4.5 million Mt  (2017 est.)</td>\n",
       "      <td>urban population:  60.3% of total population  ...</td>\n",
       "      <td>$12,500  (2017 est.)  $12,100  (2016 est.)  $1...</td>\n",
       "      <td>3,057,220  (July 2018 est.)</td>\n",
       "    </tr>\n",
       "    <tr>\n",
       "      <th>2</th>\n",
       "      <td>Algeria</td>\n",
       "      <td>135.9 million Mt  (2017 est.)</td>\n",
       "      <td>urban population:  72.6% of total population  ...</td>\n",
       "      <td>$15,200  (2017 est.)  $15,200  (2016 est.)  $1...</td>\n",
       "      <td>41,657,488  (July 2018 est.)</td>\n",
       "    </tr>\n",
       "    <tr>\n",
       "      <th>3</th>\n",
       "      <td>American Samoa</td>\n",
       "      <td>361,100 Mt  (2017 est.)</td>\n",
       "      <td>urban population:  87.2% of total population  ...</td>\n",
       "      <td>$11,200  (2016 est.)  $11,300  (2015 est.)  $1...</td>\n",
       "      <td>50,826  (July 2018 est.)</td>\n",
       "    </tr>\n",
       "    <tr>\n",
       "      <th>4</th>\n",
       "      <td>Angola</td>\n",
       "      <td>20.95 million Mt  (2017 est.)</td>\n",
       "      <td>urban population:  65.5% of total population  ...</td>\n",
       "      <td>$6,800  (2017 est.)  $7,200  (2016 est.)  $7,6...</td>\n",
       "      <td>30,355,880  (July 2017 est.)  (July 2018 est.)...</td>\n",
       "    </tr>\n",
       "  </tbody>\n",
       "</table>\n",
       "</div>"
      ],
      "text/plain": [
       "          Country                  CO2_Emissions  \\\n",
       "0     Afghanistan  9.067 million Mt  (2017 est.)   \n",
       "1         Albania    4.5 million Mt  (2017 est.)   \n",
       "2         Algeria  135.9 million Mt  (2017 est.)   \n",
       "3  American Samoa        361,100 Mt  (2017 est.)   \n",
       "4          Angola  20.95 million Mt  (2017 est.)   \n",
       "\n",
       "                                        Urbanization  \\\n",
       "0  urban population:  25.5% of total population  ...   \n",
       "1  urban population:  60.3% of total population  ...   \n",
       "2  urban population:  72.6% of total population  ...   \n",
       "3  urban population:  87.2% of total population  ...   \n",
       "4  urban population:  65.5% of total population  ...   \n",
       "\n",
       "                                      GDP_Per_Capita  \\\n",
       "0  $2,000  (2017 est.)  $2,000  (2016 est.)  $2,0...   \n",
       "1  $12,500  (2017 est.)  $12,100  (2016 est.)  $1...   \n",
       "2  $15,200  (2017 est.)  $15,200  (2016 est.)  $1...   \n",
       "3  $11,200  (2016 est.)  $11,300  (2015 est.)  $1...   \n",
       "4  $6,800  (2017 est.)  $7,200  (2016 est.)  $7,6...   \n",
       "\n",
       "                                          Population  \n",
       "0                       34,940,837  (July 2018 est.)  \n",
       "1                        3,057,220  (July 2018 est.)  \n",
       "2                       41,657,488  (July 2018 est.)  \n",
       "3                           50,826  (July 2018 est.)  \n",
       "4  30,355,880  (July 2017 est.)  (July 2018 est.)...  "
      ]
     },
     "execution_count": 27,
     "metadata": {},
     "output_type": "execute_result"
    }
   ],
   "source": [
    "data.head()"
   ]
  },
  {
   "cell_type": "code",
   "execution_count": 28,
   "metadata": {},
   "outputs": [
    {
     "ename": "AttributeError",
     "evalue": "'DataFrame' object has no attribute 'CO2_Emissions_Number'",
     "output_type": "error",
     "traceback": [
      "\u001b[0;31m---------------------------------------------------------------------------\u001b[0m",
      "\u001b[0;31mAttributeError\u001b[0m                            Traceback (most recent call last)",
      "\u001b[0;32m<ipython-input-28-5edba9c29116>\u001b[0m in \u001b[0;36m<module>\u001b[0;34m\u001b[0m\n\u001b[1;32m      1\u001b[0m \u001b[0;31m#Multiply units and CO2_Emissions_Number to get the entire number\u001b[0m\u001b[0;34m\u001b[0m\u001b[0;34m\u001b[0m\u001b[0;34m\u001b[0m\u001b[0m\n\u001b[0;32m----> 2\u001b[0;31m \u001b[0mdata\u001b[0m\u001b[0;34m.\u001b[0m\u001b[0mCO2_Emissions_Number\u001b[0m\u001b[0;34m=\u001b[0m\u001b[0mdata\u001b[0m\u001b[0;34m.\u001b[0m\u001b[0mCO2_Emissions_Number\u001b[0m\u001b[0;34m*\u001b[0m\u001b[0mdata\u001b[0m\u001b[0;34m.\u001b[0m\u001b[0munits\u001b[0m\u001b[0;34m\u001b[0m\u001b[0;34m\u001b[0m\u001b[0m\n\u001b[0m",
      "\u001b[0;32m~/anaconda3/lib/python3.7/site-packages/pandas/core/generic.py\u001b[0m in \u001b[0;36m__getattr__\u001b[0;34m(self, name)\u001b[0m\n\u001b[1;32m   4374\u001b[0m             \u001b[0;32mif\u001b[0m \u001b[0mself\u001b[0m\u001b[0;34m.\u001b[0m\u001b[0m_info_axis\u001b[0m\u001b[0;34m.\u001b[0m\u001b[0m_can_hold_identifiers_and_holds_name\u001b[0m\u001b[0;34m(\u001b[0m\u001b[0mname\u001b[0m\u001b[0;34m)\u001b[0m\u001b[0;34m:\u001b[0m\u001b[0;34m\u001b[0m\u001b[0;34m\u001b[0m\u001b[0m\n\u001b[1;32m   4375\u001b[0m                 \u001b[0;32mreturn\u001b[0m \u001b[0mself\u001b[0m\u001b[0;34m[\u001b[0m\u001b[0mname\u001b[0m\u001b[0;34m]\u001b[0m\u001b[0;34m\u001b[0m\u001b[0;34m\u001b[0m\u001b[0m\n\u001b[0;32m-> 4376\u001b[0;31m             \u001b[0;32mreturn\u001b[0m \u001b[0mobject\u001b[0m\u001b[0;34m.\u001b[0m\u001b[0m__getattribute__\u001b[0m\u001b[0;34m(\u001b[0m\u001b[0mself\u001b[0m\u001b[0;34m,\u001b[0m \u001b[0mname\u001b[0m\u001b[0;34m)\u001b[0m\u001b[0;34m\u001b[0m\u001b[0;34m\u001b[0m\u001b[0m\n\u001b[0m\u001b[1;32m   4377\u001b[0m \u001b[0;34m\u001b[0m\u001b[0m\n\u001b[1;32m   4378\u001b[0m     \u001b[0;32mdef\u001b[0m \u001b[0m__setattr__\u001b[0m\u001b[0;34m(\u001b[0m\u001b[0mself\u001b[0m\u001b[0;34m,\u001b[0m \u001b[0mname\u001b[0m\u001b[0;34m,\u001b[0m \u001b[0mvalue\u001b[0m\u001b[0;34m)\u001b[0m\u001b[0;34m:\u001b[0m\u001b[0;34m\u001b[0m\u001b[0;34m\u001b[0m\u001b[0m\n",
      "\u001b[0;31mAttributeError\u001b[0m: 'DataFrame' object has no attribute 'CO2_Emissions_Number'"
     ]
    }
   ],
   "source": [
    "#Multiply units and CO2_Emissions_Number to get the entire number\n",
    "data.CO2_Emissions_Number=data.CO2_Emissions_Number*data.units"
   ]
  },
  {
   "cell_type": "code",
   "execution_count": 29,
   "metadata": {},
   "outputs": [
    {
     "data": {
      "text/html": [
       "<div>\n",
       "<style scoped>\n",
       "    .dataframe tbody tr th:only-of-type {\n",
       "        vertical-align: middle;\n",
       "    }\n",
       "\n",
       "    .dataframe tbody tr th {\n",
       "        vertical-align: top;\n",
       "    }\n",
       "\n",
       "    .dataframe thead th {\n",
       "        text-align: right;\n",
       "    }\n",
       "</style>\n",
       "<table border=\"1\" class=\"dataframe\">\n",
       "  <thead>\n",
       "    <tr style=\"text-align: right;\">\n",
       "      <th></th>\n",
       "      <th>Country</th>\n",
       "      <th>CO2_Emissions</th>\n",
       "      <th>Urbanization</th>\n",
       "      <th>GDP_Per_Capita</th>\n",
       "      <th>Population</th>\n",
       "    </tr>\n",
       "  </thead>\n",
       "  <tbody>\n",
       "    <tr>\n",
       "      <th>0</th>\n",
       "      <td>Afghanistan</td>\n",
       "      <td>9.067 million Mt  (2017 est.)</td>\n",
       "      <td>urban population:  25.5% of total population  ...</td>\n",
       "      <td>$2,000  (2017 est.)  $2,000  (2016 est.)  $2,0...</td>\n",
       "      <td>34,940,837  (July 2018 est.)</td>\n",
       "    </tr>\n",
       "    <tr>\n",
       "      <th>1</th>\n",
       "      <td>Albania</td>\n",
       "      <td>4.5 million Mt  (2017 est.)</td>\n",
       "      <td>urban population:  60.3% of total population  ...</td>\n",
       "      <td>$12,500  (2017 est.)  $12,100  (2016 est.)  $1...</td>\n",
       "      <td>3,057,220  (July 2018 est.)</td>\n",
       "    </tr>\n",
       "    <tr>\n",
       "      <th>2</th>\n",
       "      <td>Algeria</td>\n",
       "      <td>135.9 million Mt  (2017 est.)</td>\n",
       "      <td>urban population:  72.6% of total population  ...</td>\n",
       "      <td>$15,200  (2017 est.)  $15,200  (2016 est.)  $1...</td>\n",
       "      <td>41,657,488  (July 2018 est.)</td>\n",
       "    </tr>\n",
       "    <tr>\n",
       "      <th>3</th>\n",
       "      <td>American Samoa</td>\n",
       "      <td>361,100 Mt  (2017 est.)</td>\n",
       "      <td>urban population:  87.2% of total population  ...</td>\n",
       "      <td>$11,200  (2016 est.)  $11,300  (2015 est.)  $1...</td>\n",
       "      <td>50,826  (July 2018 est.)</td>\n",
       "    </tr>\n",
       "    <tr>\n",
       "      <th>4</th>\n",
       "      <td>Angola</td>\n",
       "      <td>20.95 million Mt  (2017 est.)</td>\n",
       "      <td>urban population:  65.5% of total population  ...</td>\n",
       "      <td>$6,800  (2017 est.)  $7,200  (2016 est.)  $7,6...</td>\n",
       "      <td>30,355,880  (July 2017 est.)  (July 2018 est.)...</td>\n",
       "    </tr>\n",
       "  </tbody>\n",
       "</table>\n",
       "</div>"
      ],
      "text/plain": [
       "          Country                  CO2_Emissions  \\\n",
       "0     Afghanistan  9.067 million Mt  (2017 est.)   \n",
       "1         Albania    4.5 million Mt  (2017 est.)   \n",
       "2         Algeria  135.9 million Mt  (2017 est.)   \n",
       "3  American Samoa        361,100 Mt  (2017 est.)   \n",
       "4          Angola  20.95 million Mt  (2017 est.)   \n",
       "\n",
       "                                        Urbanization  \\\n",
       "0  urban population:  25.5% of total population  ...   \n",
       "1  urban population:  60.3% of total population  ...   \n",
       "2  urban population:  72.6% of total population  ...   \n",
       "3  urban population:  87.2% of total population  ...   \n",
       "4  urban population:  65.5% of total population  ...   \n",
       "\n",
       "                                      GDP_Per_Capita  \\\n",
       "0  $2,000  (2017 est.)  $2,000  (2016 est.)  $2,0...   \n",
       "1  $12,500  (2017 est.)  $12,100  (2016 est.)  $1...   \n",
       "2  $15,200  (2017 est.)  $15,200  (2016 est.)  $1...   \n",
       "3  $11,200  (2016 est.)  $11,300  (2015 est.)  $1...   \n",
       "4  $6,800  (2017 est.)  $7,200  (2016 est.)  $7,6...   \n",
       "\n",
       "                                          Population  \n",
       "0                       34,940,837  (July 2018 est.)  \n",
       "1                        3,057,220  (July 2018 est.)  \n",
       "2                       41,657,488  (July 2018 est.)  \n",
       "3                           50,826  (July 2018 est.)  \n",
       "4  30,355,880  (July 2017 est.)  (July 2018 est.)...  "
      ]
     },
     "execution_count": 29,
     "metadata": {},
     "output_type": "execute_result"
    }
   ],
   "source": [
    "data.head()"
   ]
  },
  {
   "cell_type": "code",
   "execution_count": 30,
   "metadata": {
    "scrolled": true
   },
   "outputs": [
    {
     "ename": "KeyError",
     "evalue": "\"['units'] not found in axis\"",
     "output_type": "error",
     "traceback": [
      "\u001b[0;31m---------------------------------------------------------------------------\u001b[0m",
      "\u001b[0;31mKeyError\u001b[0m                                  Traceback (most recent call last)",
      "\u001b[0;32m<ipython-input-30-3c127a0dbc75>\u001b[0m in \u001b[0;36m<module>\u001b[0;34m\u001b[0m\n\u001b[1;32m      1\u001b[0m \u001b[0;31m#dropping the old CO2 Emissions columns\u001b[0m\u001b[0;34m\u001b[0m\u001b[0;34m\u001b[0m\u001b[0;34m\u001b[0m\u001b[0m\n\u001b[0;32m----> 2\u001b[0;31m \u001b[0mdata\u001b[0m\u001b[0;34m=\u001b[0m\u001b[0mdata\u001b[0m\u001b[0;34m.\u001b[0m\u001b[0mdrop\u001b[0m\u001b[0;34m(\u001b[0m\u001b[0;34m'units'\u001b[0m\u001b[0;34m,\u001b[0m\u001b[0maxis\u001b[0m\u001b[0;34m=\u001b[0m\u001b[0;36m1\u001b[0m\u001b[0;34m)\u001b[0m\u001b[0;34m.\u001b[0m\u001b[0mdrop\u001b[0m\u001b[0;34m(\u001b[0m\u001b[0;34m'CO2_Emissions'\u001b[0m\u001b[0;34m,\u001b[0m\u001b[0maxis\u001b[0m\u001b[0;34m=\u001b[0m\u001b[0;36m1\u001b[0m\u001b[0;34m)\u001b[0m\u001b[0;34m\u001b[0m\u001b[0;34m\u001b[0m\u001b[0m\n\u001b[0m",
      "\u001b[0;32m~/anaconda3/lib/python3.7/site-packages/pandas/core/frame.py\u001b[0m in \u001b[0;36mdrop\u001b[0;34m(self, labels, axis, index, columns, level, inplace, errors)\u001b[0m\n\u001b[1;32m   3695\u001b[0m                                            \u001b[0mindex\u001b[0m\u001b[0;34m=\u001b[0m\u001b[0mindex\u001b[0m\u001b[0;34m,\u001b[0m \u001b[0mcolumns\u001b[0m\u001b[0;34m=\u001b[0m\u001b[0mcolumns\u001b[0m\u001b[0;34m,\u001b[0m\u001b[0;34m\u001b[0m\u001b[0;34m\u001b[0m\u001b[0m\n\u001b[1;32m   3696\u001b[0m                                            \u001b[0mlevel\u001b[0m\u001b[0;34m=\u001b[0m\u001b[0mlevel\u001b[0m\u001b[0;34m,\u001b[0m \u001b[0minplace\u001b[0m\u001b[0;34m=\u001b[0m\u001b[0minplace\u001b[0m\u001b[0;34m,\u001b[0m\u001b[0;34m\u001b[0m\u001b[0;34m\u001b[0m\u001b[0m\n\u001b[0;32m-> 3697\u001b[0;31m                                            errors=errors)\n\u001b[0m\u001b[1;32m   3698\u001b[0m \u001b[0;34m\u001b[0m\u001b[0m\n\u001b[1;32m   3699\u001b[0m     @rewrite_axis_style_signature('mapper', [('copy', True),\n",
      "\u001b[0;32m~/anaconda3/lib/python3.7/site-packages/pandas/core/generic.py\u001b[0m in \u001b[0;36mdrop\u001b[0;34m(self, labels, axis, index, columns, level, inplace, errors)\u001b[0m\n\u001b[1;32m   3109\u001b[0m         \u001b[0;32mfor\u001b[0m \u001b[0maxis\u001b[0m\u001b[0;34m,\u001b[0m \u001b[0mlabels\u001b[0m \u001b[0;32min\u001b[0m \u001b[0maxes\u001b[0m\u001b[0;34m.\u001b[0m\u001b[0mitems\u001b[0m\u001b[0;34m(\u001b[0m\u001b[0;34m)\u001b[0m\u001b[0;34m:\u001b[0m\u001b[0;34m\u001b[0m\u001b[0;34m\u001b[0m\u001b[0m\n\u001b[1;32m   3110\u001b[0m             \u001b[0;32mif\u001b[0m \u001b[0mlabels\u001b[0m \u001b[0;32mis\u001b[0m \u001b[0;32mnot\u001b[0m \u001b[0;32mNone\u001b[0m\u001b[0;34m:\u001b[0m\u001b[0;34m\u001b[0m\u001b[0;34m\u001b[0m\u001b[0m\n\u001b[0;32m-> 3111\u001b[0;31m                 \u001b[0mobj\u001b[0m \u001b[0;34m=\u001b[0m \u001b[0mobj\u001b[0m\u001b[0;34m.\u001b[0m\u001b[0m_drop_axis\u001b[0m\u001b[0;34m(\u001b[0m\u001b[0mlabels\u001b[0m\u001b[0;34m,\u001b[0m \u001b[0maxis\u001b[0m\u001b[0;34m,\u001b[0m \u001b[0mlevel\u001b[0m\u001b[0;34m=\u001b[0m\u001b[0mlevel\u001b[0m\u001b[0;34m,\u001b[0m \u001b[0merrors\u001b[0m\u001b[0;34m=\u001b[0m\u001b[0merrors\u001b[0m\u001b[0;34m)\u001b[0m\u001b[0;34m\u001b[0m\u001b[0;34m\u001b[0m\u001b[0m\n\u001b[0m\u001b[1;32m   3112\u001b[0m \u001b[0;34m\u001b[0m\u001b[0m\n\u001b[1;32m   3113\u001b[0m         \u001b[0;32mif\u001b[0m \u001b[0minplace\u001b[0m\u001b[0;34m:\u001b[0m\u001b[0;34m\u001b[0m\u001b[0;34m\u001b[0m\u001b[0m\n",
      "\u001b[0;32m~/anaconda3/lib/python3.7/site-packages/pandas/core/generic.py\u001b[0m in \u001b[0;36m_drop_axis\u001b[0;34m(self, labels, axis, level, errors)\u001b[0m\n\u001b[1;32m   3141\u001b[0m                 \u001b[0mnew_axis\u001b[0m \u001b[0;34m=\u001b[0m \u001b[0maxis\u001b[0m\u001b[0;34m.\u001b[0m\u001b[0mdrop\u001b[0m\u001b[0;34m(\u001b[0m\u001b[0mlabels\u001b[0m\u001b[0;34m,\u001b[0m \u001b[0mlevel\u001b[0m\u001b[0;34m=\u001b[0m\u001b[0mlevel\u001b[0m\u001b[0;34m,\u001b[0m \u001b[0merrors\u001b[0m\u001b[0;34m=\u001b[0m\u001b[0merrors\u001b[0m\u001b[0;34m)\u001b[0m\u001b[0;34m\u001b[0m\u001b[0;34m\u001b[0m\u001b[0m\n\u001b[1;32m   3142\u001b[0m             \u001b[0;32melse\u001b[0m\u001b[0;34m:\u001b[0m\u001b[0;34m\u001b[0m\u001b[0;34m\u001b[0m\u001b[0m\n\u001b[0;32m-> 3143\u001b[0;31m                 \u001b[0mnew_axis\u001b[0m \u001b[0;34m=\u001b[0m \u001b[0maxis\u001b[0m\u001b[0;34m.\u001b[0m\u001b[0mdrop\u001b[0m\u001b[0;34m(\u001b[0m\u001b[0mlabels\u001b[0m\u001b[0;34m,\u001b[0m \u001b[0merrors\u001b[0m\u001b[0;34m=\u001b[0m\u001b[0merrors\u001b[0m\u001b[0;34m)\u001b[0m\u001b[0;34m\u001b[0m\u001b[0;34m\u001b[0m\u001b[0m\n\u001b[0m\u001b[1;32m   3144\u001b[0m             \u001b[0mresult\u001b[0m \u001b[0;34m=\u001b[0m \u001b[0mself\u001b[0m\u001b[0;34m.\u001b[0m\u001b[0mreindex\u001b[0m\u001b[0;34m(\u001b[0m\u001b[0;34m**\u001b[0m\u001b[0;34m{\u001b[0m\u001b[0maxis_name\u001b[0m\u001b[0;34m:\u001b[0m \u001b[0mnew_axis\u001b[0m\u001b[0;34m}\u001b[0m\u001b[0;34m)\u001b[0m\u001b[0;34m\u001b[0m\u001b[0;34m\u001b[0m\u001b[0m\n\u001b[1;32m   3145\u001b[0m \u001b[0;34m\u001b[0m\u001b[0m\n",
      "\u001b[0;32m~/anaconda3/lib/python3.7/site-packages/pandas/core/indexes/base.py\u001b[0m in \u001b[0;36mdrop\u001b[0;34m(self, labels, errors)\u001b[0m\n\u001b[1;32m   4402\u001b[0m             \u001b[0;32mif\u001b[0m \u001b[0merrors\u001b[0m \u001b[0;34m!=\u001b[0m \u001b[0;34m'ignore'\u001b[0m\u001b[0;34m:\u001b[0m\u001b[0;34m\u001b[0m\u001b[0;34m\u001b[0m\u001b[0m\n\u001b[1;32m   4403\u001b[0m                 raise KeyError(\n\u001b[0;32m-> 4404\u001b[0;31m                     '{} not found in axis'.format(labels[mask]))\n\u001b[0m\u001b[1;32m   4405\u001b[0m             \u001b[0mindexer\u001b[0m \u001b[0;34m=\u001b[0m \u001b[0mindexer\u001b[0m\u001b[0;34m[\u001b[0m\u001b[0;34m~\u001b[0m\u001b[0mmask\u001b[0m\u001b[0;34m]\u001b[0m\u001b[0;34m\u001b[0m\u001b[0;34m\u001b[0m\u001b[0m\n\u001b[1;32m   4406\u001b[0m         \u001b[0;32mreturn\u001b[0m \u001b[0mself\u001b[0m\u001b[0;34m.\u001b[0m\u001b[0mdelete\u001b[0m\u001b[0;34m(\u001b[0m\u001b[0mindexer\u001b[0m\u001b[0;34m)\u001b[0m\u001b[0;34m\u001b[0m\u001b[0;34m\u001b[0m\u001b[0m\n",
      "\u001b[0;31mKeyError\u001b[0m: \"['units'] not found in axis\""
     ]
    }
   ],
   "source": [
    "#dropping the old CO2 Emissions columns\n",
    "data=data.drop('units',axis=1).drop('CO2_Emissions',axis=1)"
   ]
  },
  {
   "cell_type": "code",
   "execution_count": 31,
   "metadata": {},
   "outputs": [
    {
     "data": {
      "text/html": [
       "<div>\n",
       "<style scoped>\n",
       "    .dataframe tbody tr th:only-of-type {\n",
       "        vertical-align: middle;\n",
       "    }\n",
       "\n",
       "    .dataframe tbody tr th {\n",
       "        vertical-align: top;\n",
       "    }\n",
       "\n",
       "    .dataframe thead th {\n",
       "        text-align: right;\n",
       "    }\n",
       "</style>\n",
       "<table border=\"1\" class=\"dataframe\">\n",
       "  <thead>\n",
       "    <tr style=\"text-align: right;\">\n",
       "      <th></th>\n",
       "      <th>Country</th>\n",
       "      <th>CO2_Emissions</th>\n",
       "      <th>Urbanization</th>\n",
       "      <th>GDP_Per_Capita</th>\n",
       "      <th>Population</th>\n",
       "    </tr>\n",
       "  </thead>\n",
       "  <tbody>\n",
       "    <tr>\n",
       "      <th>0</th>\n",
       "      <td>Afghanistan</td>\n",
       "      <td>9.067 million Mt  (2017 est.)</td>\n",
       "      <td>urban population:  25.5% of total population  ...</td>\n",
       "      <td>$2,000  (2017 est.)  $2,000  (2016 est.)  $2,0...</td>\n",
       "      <td>34,940,837  (July 2018 est.)</td>\n",
       "    </tr>\n",
       "    <tr>\n",
       "      <th>1</th>\n",
       "      <td>Albania</td>\n",
       "      <td>4.5 million Mt  (2017 est.)</td>\n",
       "      <td>urban population:  60.3% of total population  ...</td>\n",
       "      <td>$12,500  (2017 est.)  $12,100  (2016 est.)  $1...</td>\n",
       "      <td>3,057,220  (July 2018 est.)</td>\n",
       "    </tr>\n",
       "    <tr>\n",
       "      <th>2</th>\n",
       "      <td>Algeria</td>\n",
       "      <td>135.9 million Mt  (2017 est.)</td>\n",
       "      <td>urban population:  72.6% of total population  ...</td>\n",
       "      <td>$15,200  (2017 est.)  $15,200  (2016 est.)  $1...</td>\n",
       "      <td>41,657,488  (July 2018 est.)</td>\n",
       "    </tr>\n",
       "    <tr>\n",
       "      <th>3</th>\n",
       "      <td>American Samoa</td>\n",
       "      <td>361,100 Mt  (2017 est.)</td>\n",
       "      <td>urban population:  87.2% of total population  ...</td>\n",
       "      <td>$11,200  (2016 est.)  $11,300  (2015 est.)  $1...</td>\n",
       "      <td>50,826  (July 2018 est.)</td>\n",
       "    </tr>\n",
       "    <tr>\n",
       "      <th>4</th>\n",
       "      <td>Angola</td>\n",
       "      <td>20.95 million Mt  (2017 est.)</td>\n",
       "      <td>urban population:  65.5% of total population  ...</td>\n",
       "      <td>$6,800  (2017 est.)  $7,200  (2016 est.)  $7,6...</td>\n",
       "      <td>30,355,880  (July 2017 est.)  (July 2018 est.)...</td>\n",
       "    </tr>\n",
       "  </tbody>\n",
       "</table>\n",
       "</div>"
      ],
      "text/plain": [
       "          Country                  CO2_Emissions  \\\n",
       "0     Afghanistan  9.067 million Mt  (2017 est.)   \n",
       "1         Albania    4.5 million Mt  (2017 est.)   \n",
       "2         Algeria  135.9 million Mt  (2017 est.)   \n",
       "3  American Samoa        361,100 Mt  (2017 est.)   \n",
       "4          Angola  20.95 million Mt  (2017 est.)   \n",
       "\n",
       "                                        Urbanization  \\\n",
       "0  urban population:  25.5% of total population  ...   \n",
       "1  urban population:  60.3% of total population  ...   \n",
       "2  urban population:  72.6% of total population  ...   \n",
       "3  urban population:  87.2% of total population  ...   \n",
       "4  urban population:  65.5% of total population  ...   \n",
       "\n",
       "                                      GDP_Per_Capita  \\\n",
       "0  $2,000  (2017 est.)  $2,000  (2016 est.)  $2,0...   \n",
       "1  $12,500  (2017 est.)  $12,100  (2016 est.)  $1...   \n",
       "2  $15,200  (2017 est.)  $15,200  (2016 est.)  $1...   \n",
       "3  $11,200  (2016 est.)  $11,300  (2015 est.)  $1...   \n",
       "4  $6,800  (2017 est.)  $7,200  (2016 est.)  $7,6...   \n",
       "\n",
       "                                          Population  \n",
       "0                       34,940,837  (July 2018 est.)  \n",
       "1                        3,057,220  (July 2018 est.)  \n",
       "2                       41,657,488  (July 2018 est.)  \n",
       "3                           50,826  (July 2018 est.)  \n",
       "4  30,355,880  (July 2017 est.)  (July 2018 est.)...  "
      ]
     },
     "execution_count": 31,
     "metadata": {},
     "output_type": "execute_result"
    }
   ],
   "source": [
    "data.head()"
   ]
  },
  {
   "cell_type": "markdown",
   "metadata": {},
   "source": [
    "## 7. Cleaning the Urbanization Column"
   ]
  },
  {
   "cell_type": "code",
   "execution_count": 32,
   "metadata": {},
   "outputs": [
    {
     "data": {
      "text/html": [
       "<div>\n",
       "<style scoped>\n",
       "    .dataframe tbody tr th:only-of-type {\n",
       "        vertical-align: middle;\n",
       "    }\n",
       "\n",
       "    .dataframe tbody tr th {\n",
       "        vertical-align: top;\n",
       "    }\n",
       "\n",
       "    .dataframe thead th {\n",
       "        text-align: right;\n",
       "    }\n",
       "</style>\n",
       "<table border=\"1\" class=\"dataframe\">\n",
       "  <thead>\n",
       "    <tr style=\"text-align: right;\">\n",
       "      <th></th>\n",
       "      <th>Country</th>\n",
       "      <th>CO2_Emissions</th>\n",
       "      <th>Urbanization</th>\n",
       "      <th>GDP_Per_Capita</th>\n",
       "      <th>Population</th>\n",
       "      <th>Urbanization1</th>\n",
       "    </tr>\n",
       "  </thead>\n",
       "  <tbody>\n",
       "    <tr>\n",
       "      <th>0</th>\n",
       "      <td>Afghanistan</td>\n",
       "      <td>9.067 million Mt  (2017 est.)</td>\n",
       "      <td>urban population:  25.5% of total population  ...</td>\n",
       "      <td>$2,000  (2017 est.)  $2,000  (2016 est.)  $2,0...</td>\n",
       "      <td>34,940,837  (July 2018 est.)</td>\n",
       "      <td>urban population:  25.5</td>\n",
       "    </tr>\n",
       "    <tr>\n",
       "      <th>1</th>\n",
       "      <td>Albania</td>\n",
       "      <td>4.5 million Mt  (2017 est.)</td>\n",
       "      <td>urban population:  60.3% of total population  ...</td>\n",
       "      <td>$12,500  (2017 est.)  $12,100  (2016 est.)  $1...</td>\n",
       "      <td>3,057,220  (July 2018 est.)</td>\n",
       "      <td>urban population:  60.3</td>\n",
       "    </tr>\n",
       "    <tr>\n",
       "      <th>2</th>\n",
       "      <td>Algeria</td>\n",
       "      <td>135.9 million Mt  (2017 est.)</td>\n",
       "      <td>urban population:  72.6% of total population  ...</td>\n",
       "      <td>$15,200  (2017 est.)  $15,200  (2016 est.)  $1...</td>\n",
       "      <td>41,657,488  (July 2018 est.)</td>\n",
       "      <td>urban population:  72.6</td>\n",
       "    </tr>\n",
       "    <tr>\n",
       "      <th>3</th>\n",
       "      <td>American Samoa</td>\n",
       "      <td>361,100 Mt  (2017 est.)</td>\n",
       "      <td>urban population:  87.2% of total population  ...</td>\n",
       "      <td>$11,200  (2016 est.)  $11,300  (2015 est.)  $1...</td>\n",
       "      <td>50,826  (July 2018 est.)</td>\n",
       "      <td>urban population:  87.2</td>\n",
       "    </tr>\n",
       "    <tr>\n",
       "      <th>4</th>\n",
       "      <td>Angola</td>\n",
       "      <td>20.95 million Mt  (2017 est.)</td>\n",
       "      <td>urban population:  65.5% of total population  ...</td>\n",
       "      <td>$6,800  (2017 est.)  $7,200  (2016 est.)  $7,6...</td>\n",
       "      <td>30,355,880  (July 2017 est.)  (July 2018 est.)...</td>\n",
       "      <td>urban population:  65.5</td>\n",
       "    </tr>\n",
       "  </tbody>\n",
       "</table>\n",
       "</div>"
      ],
      "text/plain": [
       "          Country                  CO2_Emissions  \\\n",
       "0     Afghanistan  9.067 million Mt  (2017 est.)   \n",
       "1         Albania    4.5 million Mt  (2017 est.)   \n",
       "2         Algeria  135.9 million Mt  (2017 est.)   \n",
       "3  American Samoa        361,100 Mt  (2017 est.)   \n",
       "4          Angola  20.95 million Mt  (2017 est.)   \n",
       "\n",
       "                                        Urbanization  \\\n",
       "0  urban population:  25.5% of total population  ...   \n",
       "1  urban population:  60.3% of total population  ...   \n",
       "2  urban population:  72.6% of total population  ...   \n",
       "3  urban population:  87.2% of total population  ...   \n",
       "4  urban population:  65.5% of total population  ...   \n",
       "\n",
       "                                      GDP_Per_Capita  \\\n",
       "0  $2,000  (2017 est.)  $2,000  (2016 est.)  $2,0...   \n",
       "1  $12,500  (2017 est.)  $12,100  (2016 est.)  $1...   \n",
       "2  $15,200  (2017 est.)  $15,200  (2016 est.)  $1...   \n",
       "3  $11,200  (2016 est.)  $11,300  (2015 est.)  $1...   \n",
       "4  $6,800  (2017 est.)  $7,200  (2016 est.)  $7,6...   \n",
       "\n",
       "                                          Population            Urbanization1  \n",
       "0                       34,940,837  (July 2018 est.)  urban population:  25.5  \n",
       "1                        3,057,220  (July 2018 est.)  urban population:  60.3  \n",
       "2                       41,657,488  (July 2018 est.)  urban population:  72.6  \n",
       "3                           50,826  (July 2018 est.)  urban population:  87.2  \n",
       "4  30,355,880  (July 2017 est.)  (July 2018 est.)...  urban population:  65.5  "
      ]
     },
     "execution_count": 32,
     "metadata": {},
     "output_type": "execute_result"
    }
   ],
   "source": [
    "urbanizationnumber=[element.split('%')[0] for element in data.Urbanization]\n",
    "data=data.assign(Urbanization1=urbanizationnumber)\n",
    "data.head()"
   ]
  },
  {
   "cell_type": "code",
   "execution_count": 33,
   "metadata": {},
   "outputs": [
    {
     "data": {
      "text/html": [
       "<div>\n",
       "<style scoped>\n",
       "    .dataframe tbody tr th:only-of-type {\n",
       "        vertical-align: middle;\n",
       "    }\n",
       "\n",
       "    .dataframe tbody tr th {\n",
       "        vertical-align: top;\n",
       "    }\n",
       "\n",
       "    .dataframe thead th {\n",
       "        text-align: right;\n",
       "    }\n",
       "</style>\n",
       "<table border=\"1\" class=\"dataframe\">\n",
       "  <thead>\n",
       "    <tr style=\"text-align: right;\">\n",
       "      <th></th>\n",
       "      <th>Country</th>\n",
       "      <th>CO2_Emissions</th>\n",
       "      <th>Urbanization</th>\n",
       "      <th>GDP_Per_Capita</th>\n",
       "      <th>Population</th>\n",
       "      <th>Urbanization1</th>\n",
       "      <th>Urbanization_Percentage</th>\n",
       "    </tr>\n",
       "  </thead>\n",
       "  <tbody>\n",
       "    <tr>\n",
       "      <th>0</th>\n",
       "      <td>Afghanistan</td>\n",
       "      <td>9.067 million Mt  (2017 est.)</td>\n",
       "      <td>urban population:  25.5% of total population  ...</td>\n",
       "      <td>$2,000  (2017 est.)  $2,000  (2016 est.)  $2,0...</td>\n",
       "      <td>34,940,837  (July 2018 est.)</td>\n",
       "      <td>urban population:  25.5</td>\n",
       "      <td>25.5</td>\n",
       "    </tr>\n",
       "    <tr>\n",
       "      <th>1</th>\n",
       "      <td>Albania</td>\n",
       "      <td>4.5 million Mt  (2017 est.)</td>\n",
       "      <td>urban population:  60.3% of total population  ...</td>\n",
       "      <td>$12,500  (2017 est.)  $12,100  (2016 est.)  $1...</td>\n",
       "      <td>3,057,220  (July 2018 est.)</td>\n",
       "      <td>urban population:  60.3</td>\n",
       "      <td>60.3</td>\n",
       "    </tr>\n",
       "    <tr>\n",
       "      <th>2</th>\n",
       "      <td>Algeria</td>\n",
       "      <td>135.9 million Mt  (2017 est.)</td>\n",
       "      <td>urban population:  72.6% of total population  ...</td>\n",
       "      <td>$15,200  (2017 est.)  $15,200  (2016 est.)  $1...</td>\n",
       "      <td>41,657,488  (July 2018 est.)</td>\n",
       "      <td>urban population:  72.6</td>\n",
       "      <td>72.6</td>\n",
       "    </tr>\n",
       "    <tr>\n",
       "      <th>3</th>\n",
       "      <td>American Samoa</td>\n",
       "      <td>361,100 Mt  (2017 est.)</td>\n",
       "      <td>urban population:  87.2% of total population  ...</td>\n",
       "      <td>$11,200  (2016 est.)  $11,300  (2015 est.)  $1...</td>\n",
       "      <td>50,826  (July 2018 est.)</td>\n",
       "      <td>urban population:  87.2</td>\n",
       "      <td>87.2</td>\n",
       "    </tr>\n",
       "    <tr>\n",
       "      <th>4</th>\n",
       "      <td>Angola</td>\n",
       "      <td>20.95 million Mt  (2017 est.)</td>\n",
       "      <td>urban population:  65.5% of total population  ...</td>\n",
       "      <td>$6,800  (2017 est.)  $7,200  (2016 est.)  $7,6...</td>\n",
       "      <td>30,355,880  (July 2017 est.)  (July 2018 est.)...</td>\n",
       "      <td>urban population:  65.5</td>\n",
       "      <td>65.5</td>\n",
       "    </tr>\n",
       "  </tbody>\n",
       "</table>\n",
       "</div>"
      ],
      "text/plain": [
       "          Country                  CO2_Emissions  \\\n",
       "0     Afghanistan  9.067 million Mt  (2017 est.)   \n",
       "1         Albania    4.5 million Mt  (2017 est.)   \n",
       "2         Algeria  135.9 million Mt  (2017 est.)   \n",
       "3  American Samoa        361,100 Mt  (2017 est.)   \n",
       "4          Angola  20.95 million Mt  (2017 est.)   \n",
       "\n",
       "                                        Urbanization  \\\n",
       "0  urban population:  25.5% of total population  ...   \n",
       "1  urban population:  60.3% of total population  ...   \n",
       "2  urban population:  72.6% of total population  ...   \n",
       "3  urban population:  87.2% of total population  ...   \n",
       "4  urban population:  65.5% of total population  ...   \n",
       "\n",
       "                                      GDP_Per_Capita  \\\n",
       "0  $2,000  (2017 est.)  $2,000  (2016 est.)  $2,0...   \n",
       "1  $12,500  (2017 est.)  $12,100  (2016 est.)  $1...   \n",
       "2  $15,200  (2017 est.)  $15,200  (2016 est.)  $1...   \n",
       "3  $11,200  (2016 est.)  $11,300  (2015 est.)  $1...   \n",
       "4  $6,800  (2017 est.)  $7,200  (2016 est.)  $7,6...   \n",
       "\n",
       "                                          Population            Urbanization1  \\\n",
       "0                       34,940,837  (July 2018 est.)  urban population:  25.5   \n",
       "1                        3,057,220  (July 2018 est.)  urban population:  60.3   \n",
       "2                       41,657,488  (July 2018 est.)  urban population:  72.6   \n",
       "3                           50,826  (July 2018 est.)  urban population:  87.2   \n",
       "4  30,355,880  (July 2017 est.)  (July 2018 est.)...  urban population:  65.5   \n",
       "\n",
       "  Urbanization_Percentage  \n",
       "0                    25.5  \n",
       "1                    60.3  \n",
       "2                    72.6  \n",
       "3                    87.2  \n",
       "4                    65.5  "
      ]
     },
     "execution_count": 33,
     "metadata": {},
     "output_type": "execute_result"
    }
   ],
   "source": [
    "urbanizationnumber=[element.split(':')[1] for element in data.Urbanization1]\n",
    "data=data.assign(Urbanization_Percentage=urbanizationnumber)\n",
    "data.head()"
   ]
  },
  {
   "cell_type": "code",
   "execution_count": 34,
   "metadata": {},
   "outputs": [
    {
     "data": {
      "text/plain": [
       "Country                    object\n",
       "CO2_Emissions              object\n",
       "Urbanization               object\n",
       "GDP_Per_Capita             object\n",
       "Population                 object\n",
       "Urbanization1              object\n",
       "Urbanization_Percentage    object\n",
       "dtype: object"
      ]
     },
     "execution_count": 34,
     "metadata": {},
     "output_type": "execute_result"
    }
   ],
   "source": [
    "data.dtypes"
   ]
  },
  {
   "cell_type": "code",
   "execution_count": 35,
   "metadata": {},
   "outputs": [],
   "source": [
    "data.Urbanization_Percentage=pd.to_numeric(data.Urbanization_Percentage)"
   ]
  },
  {
   "cell_type": "code",
   "execution_count": 36,
   "metadata": {},
   "outputs": [
    {
     "data": {
      "text/plain": [
       "Country                     object\n",
       "CO2_Emissions               object\n",
       "Urbanization                object\n",
       "GDP_Per_Capita              object\n",
       "Population                  object\n",
       "Urbanization1               object\n",
       "Urbanization_Percentage    float64\n",
       "dtype: object"
      ]
     },
     "execution_count": 36,
     "metadata": {},
     "output_type": "execute_result"
    }
   ],
   "source": [
    "data.dtypes"
   ]
  },
  {
   "cell_type": "code",
   "execution_count": 37,
   "metadata": {},
   "outputs": [],
   "source": [
    "#dropping old Urbanization columns\n",
    "data=data.drop(\"Urbanization\",axis=1).drop(\"Urbanization1\",axis=1)"
   ]
  },
  {
   "cell_type": "code",
   "execution_count": 38,
   "metadata": {},
   "outputs": [
    {
     "data": {
      "text/html": [
       "<div>\n",
       "<style scoped>\n",
       "    .dataframe tbody tr th:only-of-type {\n",
       "        vertical-align: middle;\n",
       "    }\n",
       "\n",
       "    .dataframe tbody tr th {\n",
       "        vertical-align: top;\n",
       "    }\n",
       "\n",
       "    .dataframe thead th {\n",
       "        text-align: right;\n",
       "    }\n",
       "</style>\n",
       "<table border=\"1\" class=\"dataframe\">\n",
       "  <thead>\n",
       "    <tr style=\"text-align: right;\">\n",
       "      <th></th>\n",
       "      <th>Country</th>\n",
       "      <th>CO2_Emissions</th>\n",
       "      <th>GDP_Per_Capita</th>\n",
       "      <th>Population</th>\n",
       "      <th>Urbanization_Percentage</th>\n",
       "    </tr>\n",
       "  </thead>\n",
       "  <tbody>\n",
       "    <tr>\n",
       "      <th>0</th>\n",
       "      <td>Afghanistan</td>\n",
       "      <td>9.067 million Mt  (2017 est.)</td>\n",
       "      <td>$2,000  (2017 est.)  $2,000  (2016 est.)  $2,0...</td>\n",
       "      <td>34,940,837  (July 2018 est.)</td>\n",
       "      <td>25.5</td>\n",
       "    </tr>\n",
       "    <tr>\n",
       "      <th>1</th>\n",
       "      <td>Albania</td>\n",
       "      <td>4.5 million Mt  (2017 est.)</td>\n",
       "      <td>$12,500  (2017 est.)  $12,100  (2016 est.)  $1...</td>\n",
       "      <td>3,057,220  (July 2018 est.)</td>\n",
       "      <td>60.3</td>\n",
       "    </tr>\n",
       "    <tr>\n",
       "      <th>2</th>\n",
       "      <td>Algeria</td>\n",
       "      <td>135.9 million Mt  (2017 est.)</td>\n",
       "      <td>$15,200  (2017 est.)  $15,200  (2016 est.)  $1...</td>\n",
       "      <td>41,657,488  (July 2018 est.)</td>\n",
       "      <td>72.6</td>\n",
       "    </tr>\n",
       "    <tr>\n",
       "      <th>3</th>\n",
       "      <td>American Samoa</td>\n",
       "      <td>361,100 Mt  (2017 est.)</td>\n",
       "      <td>$11,200  (2016 est.)  $11,300  (2015 est.)  $1...</td>\n",
       "      <td>50,826  (July 2018 est.)</td>\n",
       "      <td>87.2</td>\n",
       "    </tr>\n",
       "    <tr>\n",
       "      <th>4</th>\n",
       "      <td>Angola</td>\n",
       "      <td>20.95 million Mt  (2017 est.)</td>\n",
       "      <td>$6,800  (2017 est.)  $7,200  (2016 est.)  $7,6...</td>\n",
       "      <td>30,355,880  (July 2017 est.)  (July 2018 est.)...</td>\n",
       "      <td>65.5</td>\n",
       "    </tr>\n",
       "  </tbody>\n",
       "</table>\n",
       "</div>"
      ],
      "text/plain": [
       "          Country                  CO2_Emissions  \\\n",
       "0     Afghanistan  9.067 million Mt  (2017 est.)   \n",
       "1         Albania    4.5 million Mt  (2017 est.)   \n",
       "2         Algeria  135.9 million Mt  (2017 est.)   \n",
       "3  American Samoa        361,100 Mt  (2017 est.)   \n",
       "4          Angola  20.95 million Mt  (2017 est.)   \n",
       "\n",
       "                                      GDP_Per_Capita  \\\n",
       "0  $2,000  (2017 est.)  $2,000  (2016 est.)  $2,0...   \n",
       "1  $12,500  (2017 est.)  $12,100  (2016 est.)  $1...   \n",
       "2  $15,200  (2017 est.)  $15,200  (2016 est.)  $1...   \n",
       "3  $11,200  (2016 est.)  $11,300  (2015 est.)  $1...   \n",
       "4  $6,800  (2017 est.)  $7,200  (2016 est.)  $7,6...   \n",
       "\n",
       "                                          Population  Urbanization_Percentage  \n",
       "0                       34,940,837  (July 2018 est.)                     25.5  \n",
       "1                        3,057,220  (July 2018 est.)                     60.3  \n",
       "2                       41,657,488  (July 2018 est.)                     72.6  \n",
       "3                           50,826  (July 2018 est.)                     87.2  \n",
       "4  30,355,880  (July 2017 est.)  (July 2018 est.)...                     65.5  "
      ]
     },
     "execution_count": 38,
     "metadata": {},
     "output_type": "execute_result"
    }
   ],
   "source": [
    "data.head()"
   ]
  },
  {
   "cell_type": "markdown",
   "metadata": {},
   "source": [
    "## 8. Cleaning the GDP Per Capita Column"
   ]
  },
  {
   "cell_type": "code",
   "execution_count": 39,
   "metadata": {},
   "outputs": [
    {
     "data": {
      "text/html": [
       "<div>\n",
       "<style scoped>\n",
       "    .dataframe tbody tr th:only-of-type {\n",
       "        vertical-align: middle;\n",
       "    }\n",
       "\n",
       "    .dataframe tbody tr th {\n",
       "        vertical-align: top;\n",
       "    }\n",
       "\n",
       "    .dataframe thead th {\n",
       "        text-align: right;\n",
       "    }\n",
       "</style>\n",
       "<table border=\"1\" class=\"dataframe\">\n",
       "  <thead>\n",
       "    <tr style=\"text-align: right;\">\n",
       "      <th></th>\n",
       "      <th>Country</th>\n",
       "      <th>CO2_Emissions</th>\n",
       "      <th>GDP_Per_Capita</th>\n",
       "      <th>Population</th>\n",
       "      <th>Urbanization_Percentage</th>\n",
       "      <th>GDPPerCapita1</th>\n",
       "    </tr>\n",
       "  </thead>\n",
       "  <tbody>\n",
       "    <tr>\n",
       "      <th>0</th>\n",
       "      <td>Afghanistan</td>\n",
       "      <td>9.067 million Mt  (2017 est.)</td>\n",
       "      <td>$2,000  (2017 est.)  $2,000  (2016 est.)  $2,0...</td>\n",
       "      <td>34,940,837  (July 2018 est.)</td>\n",
       "      <td>25.5</td>\n",
       "      <td>$2,000</td>\n",
       "    </tr>\n",
       "    <tr>\n",
       "      <th>1</th>\n",
       "      <td>Albania</td>\n",
       "      <td>4.5 million Mt  (2017 est.)</td>\n",
       "      <td>$12,500  (2017 est.)  $12,100  (2016 est.)  $1...</td>\n",
       "      <td>3,057,220  (July 2018 est.)</td>\n",
       "      <td>60.3</td>\n",
       "      <td>$12,500</td>\n",
       "    </tr>\n",
       "    <tr>\n",
       "      <th>2</th>\n",
       "      <td>Algeria</td>\n",
       "      <td>135.9 million Mt  (2017 est.)</td>\n",
       "      <td>$15,200  (2017 est.)  $15,200  (2016 est.)  $1...</td>\n",
       "      <td>41,657,488  (July 2018 est.)</td>\n",
       "      <td>72.6</td>\n",
       "      <td>$15,200</td>\n",
       "    </tr>\n",
       "    <tr>\n",
       "      <th>3</th>\n",
       "      <td>American Samoa</td>\n",
       "      <td>361,100 Mt  (2017 est.)</td>\n",
       "      <td>$11,200  (2016 est.)  $11,300  (2015 est.)  $1...</td>\n",
       "      <td>50,826  (July 2018 est.)</td>\n",
       "      <td>87.2</td>\n",
       "      <td>$11,200</td>\n",
       "    </tr>\n",
       "    <tr>\n",
       "      <th>4</th>\n",
       "      <td>Angola</td>\n",
       "      <td>20.95 million Mt  (2017 est.)</td>\n",
       "      <td>$6,800  (2017 est.)  $7,200  (2016 est.)  $7,6...</td>\n",
       "      <td>30,355,880  (July 2017 est.)  (July 2018 est.)...</td>\n",
       "      <td>65.5</td>\n",
       "      <td>$6,800</td>\n",
       "    </tr>\n",
       "  </tbody>\n",
       "</table>\n",
       "</div>"
      ],
      "text/plain": [
       "          Country                  CO2_Emissions  \\\n",
       "0     Afghanistan  9.067 million Mt  (2017 est.)   \n",
       "1         Albania    4.5 million Mt  (2017 est.)   \n",
       "2         Algeria  135.9 million Mt  (2017 est.)   \n",
       "3  American Samoa        361,100 Mt  (2017 est.)   \n",
       "4          Angola  20.95 million Mt  (2017 est.)   \n",
       "\n",
       "                                      GDP_Per_Capita  \\\n",
       "0  $2,000  (2017 est.)  $2,000  (2016 est.)  $2,0...   \n",
       "1  $12,500  (2017 est.)  $12,100  (2016 est.)  $1...   \n",
       "2  $15,200  (2017 est.)  $15,200  (2016 est.)  $1...   \n",
       "3  $11,200  (2016 est.)  $11,300  (2015 est.)  $1...   \n",
       "4  $6,800  (2017 est.)  $7,200  (2016 est.)  $7,6...   \n",
       "\n",
       "                                          Population  Urbanization_Percentage  \\\n",
       "0                       34,940,837  (July 2018 est.)                     25.5   \n",
       "1                        3,057,220  (July 2018 est.)                     60.3   \n",
       "2                       41,657,488  (July 2018 est.)                     72.6   \n",
       "3                           50,826  (July 2018 est.)                     87.2   \n",
       "4  30,355,880  (July 2017 est.)  (July 2018 est.)...                     65.5   \n",
       "\n",
       "  GDPPerCapita1  \n",
       "0      $2,000    \n",
       "1     $12,500    \n",
       "2     $15,200    \n",
       "3     $11,200    \n",
       "4      $6,800    "
      ]
     },
     "execution_count": 39,
     "metadata": {},
     "output_type": "execute_result"
    }
   ],
   "source": [
    "#Split values after million\n",
    "gdppercapita=[element.split('(')[0] for element in data.GDP_Per_Capita]\n",
    "\n",
    "#Making the above list a new column:\n",
    "data=data.assign(GDPPerCapita1=gdppercapita)\n",
    "data.head()"
   ]
  },
  {
   "cell_type": "code",
   "execution_count": 40,
   "metadata": {
    "scrolled": true
   },
   "outputs": [
    {
     "data": {
      "text/html": [
       "<div>\n",
       "<style scoped>\n",
       "    .dataframe tbody tr th:only-of-type {\n",
       "        vertical-align: middle;\n",
       "    }\n",
       "\n",
       "    .dataframe tbody tr th {\n",
       "        vertical-align: top;\n",
       "    }\n",
       "\n",
       "    .dataframe thead th {\n",
       "        text-align: right;\n",
       "    }\n",
       "</style>\n",
       "<table border=\"1\" class=\"dataframe\">\n",
       "  <thead>\n",
       "    <tr style=\"text-align: right;\">\n",
       "      <th></th>\n",
       "      <th>Country</th>\n",
       "      <th>CO2_Emissions</th>\n",
       "      <th>GDP_Per_Capita</th>\n",
       "      <th>Population</th>\n",
       "      <th>Urbanization_Percentage</th>\n",
       "      <th>GDPPerCapita1</th>\n",
       "      <th>GDPPerCapita2</th>\n",
       "    </tr>\n",
       "  </thead>\n",
       "  <tbody>\n",
       "    <tr>\n",
       "      <th>0</th>\n",
       "      <td>Afghanistan</td>\n",
       "      <td>9.067 million Mt  (2017 est.)</td>\n",
       "      <td>$2,000  (2017 est.)  $2,000  (2016 est.)  $2,0...</td>\n",
       "      <td>34,940,837  (July 2018 est.)</td>\n",
       "      <td>25.5</td>\n",
       "      <td>$2,000</td>\n",
       "      <td>2,000</td>\n",
       "    </tr>\n",
       "    <tr>\n",
       "      <th>1</th>\n",
       "      <td>Albania</td>\n",
       "      <td>4.5 million Mt  (2017 est.)</td>\n",
       "      <td>$12,500  (2017 est.)  $12,100  (2016 est.)  $1...</td>\n",
       "      <td>3,057,220  (July 2018 est.)</td>\n",
       "      <td>60.3</td>\n",
       "      <td>$12,500</td>\n",
       "      <td>12,500</td>\n",
       "    </tr>\n",
       "    <tr>\n",
       "      <th>2</th>\n",
       "      <td>Algeria</td>\n",
       "      <td>135.9 million Mt  (2017 est.)</td>\n",
       "      <td>$15,200  (2017 est.)  $15,200  (2016 est.)  $1...</td>\n",
       "      <td>41,657,488  (July 2018 est.)</td>\n",
       "      <td>72.6</td>\n",
       "      <td>$15,200</td>\n",
       "      <td>15,200</td>\n",
       "    </tr>\n",
       "    <tr>\n",
       "      <th>3</th>\n",
       "      <td>American Samoa</td>\n",
       "      <td>361,100 Mt  (2017 est.)</td>\n",
       "      <td>$11,200  (2016 est.)  $11,300  (2015 est.)  $1...</td>\n",
       "      <td>50,826  (July 2018 est.)</td>\n",
       "      <td>87.2</td>\n",
       "      <td>$11,200</td>\n",
       "      <td>11,200</td>\n",
       "    </tr>\n",
       "    <tr>\n",
       "      <th>4</th>\n",
       "      <td>Angola</td>\n",
       "      <td>20.95 million Mt  (2017 est.)</td>\n",
       "      <td>$6,800  (2017 est.)  $7,200  (2016 est.)  $7,6...</td>\n",
       "      <td>30,355,880  (July 2017 est.)  (July 2018 est.)...</td>\n",
       "      <td>65.5</td>\n",
       "      <td>$6,800</td>\n",
       "      <td>6,800</td>\n",
       "    </tr>\n",
       "  </tbody>\n",
       "</table>\n",
       "</div>"
      ],
      "text/plain": [
       "          Country                  CO2_Emissions  \\\n",
       "0     Afghanistan  9.067 million Mt  (2017 est.)   \n",
       "1         Albania    4.5 million Mt  (2017 est.)   \n",
       "2         Algeria  135.9 million Mt  (2017 est.)   \n",
       "3  American Samoa        361,100 Mt  (2017 est.)   \n",
       "4          Angola  20.95 million Mt  (2017 est.)   \n",
       "\n",
       "                                      GDP_Per_Capita  \\\n",
       "0  $2,000  (2017 est.)  $2,000  (2016 est.)  $2,0...   \n",
       "1  $12,500  (2017 est.)  $12,100  (2016 est.)  $1...   \n",
       "2  $15,200  (2017 est.)  $15,200  (2016 est.)  $1...   \n",
       "3  $11,200  (2016 est.)  $11,300  (2015 est.)  $1...   \n",
       "4  $6,800  (2017 est.)  $7,200  (2016 est.)  $7,6...   \n",
       "\n",
       "                                          Population  Urbanization_Percentage  \\\n",
       "0                       34,940,837  (July 2018 est.)                     25.5   \n",
       "1                        3,057,220  (July 2018 est.)                     60.3   \n",
       "2                       41,657,488  (July 2018 est.)                     72.6   \n",
       "3                           50,826  (July 2018 est.)                     87.2   \n",
       "4  30,355,880  (July 2017 est.)  (July 2018 est.)...                     65.5   \n",
       "\n",
       "  GDPPerCapita1 GDPPerCapita2  \n",
       "0      $2,000         2,000    \n",
       "1     $12,500        12,500    \n",
       "2     $15,200        15,200    \n",
       "3     $11,200        11,200    \n",
       "4      $6,800         6,800    "
      ]
     },
     "execution_count": 40,
     "metadata": {},
     "output_type": "execute_result"
    }
   ],
   "source": [
    "#Split values after million\n",
    "gdppercapita=[element.split('$')[1] for element in data.GDPPerCapita1]\n",
    "\n",
    "#Making the above list a new column:\n",
    "data=data.assign(GDPPerCapita2=gdppercapita)\n",
    "data.head()"
   ]
  },
  {
   "cell_type": "code",
   "execution_count": 41,
   "metadata": {},
   "outputs": [
    {
     "data": {
      "text/plain": [
       "'2100'"
      ]
     },
     "execution_count": 41,
     "metadata": {},
     "output_type": "execute_result"
    }
   ],
   "source": [
    "pattern='\\\\,'\n",
    "nothing=''\n",
    "testString='2,100'\n",
    "re.sub(pattern,nothing,testString)"
   ]
  },
  {
   "cell_type": "code",
   "execution_count": 42,
   "metadata": {},
   "outputs": [],
   "source": [
    "#to get rid of the commas\n",
    "pattern='\\\\,'\n",
    "nothing=''\n",
    "newValues=[re.sub(pattern,nothing,oldValue) for oldValue in data.GDPPerCapita2]"
   ]
  },
  {
   "cell_type": "code",
   "execution_count": 43,
   "metadata": {
    "scrolled": true
   },
   "outputs": [
    {
     "data": {
      "text/html": [
       "<div>\n",
       "<style scoped>\n",
       "    .dataframe tbody tr th:only-of-type {\n",
       "        vertical-align: middle;\n",
       "    }\n",
       "\n",
       "    .dataframe tbody tr th {\n",
       "        vertical-align: top;\n",
       "    }\n",
       "\n",
       "    .dataframe thead th {\n",
       "        text-align: right;\n",
       "    }\n",
       "</style>\n",
       "<table border=\"1\" class=\"dataframe\">\n",
       "  <thead>\n",
       "    <tr style=\"text-align: right;\">\n",
       "      <th></th>\n",
       "      <th>Country</th>\n",
       "      <th>CO2_Emissions</th>\n",
       "      <th>GDP_Per_Capita</th>\n",
       "      <th>Population</th>\n",
       "      <th>Urbanization_Percentage</th>\n",
       "      <th>GDPPerCapita1</th>\n",
       "      <th>GDPPerCapita2</th>\n",
       "      <th>GDP_Per_Capita_Number</th>\n",
       "    </tr>\n",
       "  </thead>\n",
       "  <tbody>\n",
       "    <tr>\n",
       "      <th>0</th>\n",
       "      <td>Afghanistan</td>\n",
       "      <td>9.067 million Mt  (2017 est.)</td>\n",
       "      <td>$2,000  (2017 est.)  $2,000  (2016 est.)  $2,0...</td>\n",
       "      <td>34,940,837  (July 2018 est.)</td>\n",
       "      <td>25.5</td>\n",
       "      <td>$2,000</td>\n",
       "      <td>2,000</td>\n",
       "      <td>2000</td>\n",
       "    </tr>\n",
       "    <tr>\n",
       "      <th>1</th>\n",
       "      <td>Albania</td>\n",
       "      <td>4.5 million Mt  (2017 est.)</td>\n",
       "      <td>$12,500  (2017 est.)  $12,100  (2016 est.)  $1...</td>\n",
       "      <td>3,057,220  (July 2018 est.)</td>\n",
       "      <td>60.3</td>\n",
       "      <td>$12,500</td>\n",
       "      <td>12,500</td>\n",
       "      <td>12500</td>\n",
       "    </tr>\n",
       "    <tr>\n",
       "      <th>2</th>\n",
       "      <td>Algeria</td>\n",
       "      <td>135.9 million Mt  (2017 est.)</td>\n",
       "      <td>$15,200  (2017 est.)  $15,200  (2016 est.)  $1...</td>\n",
       "      <td>41,657,488  (July 2018 est.)</td>\n",
       "      <td>72.6</td>\n",
       "      <td>$15,200</td>\n",
       "      <td>15,200</td>\n",
       "      <td>15200</td>\n",
       "    </tr>\n",
       "    <tr>\n",
       "      <th>3</th>\n",
       "      <td>American Samoa</td>\n",
       "      <td>361,100 Mt  (2017 est.)</td>\n",
       "      <td>$11,200  (2016 est.)  $11,300  (2015 est.)  $1...</td>\n",
       "      <td>50,826  (July 2018 est.)</td>\n",
       "      <td>87.2</td>\n",
       "      <td>$11,200</td>\n",
       "      <td>11,200</td>\n",
       "      <td>11200</td>\n",
       "    </tr>\n",
       "    <tr>\n",
       "      <th>4</th>\n",
       "      <td>Angola</td>\n",
       "      <td>20.95 million Mt  (2017 est.)</td>\n",
       "      <td>$6,800  (2017 est.)  $7,200  (2016 est.)  $7,6...</td>\n",
       "      <td>30,355,880  (July 2017 est.)  (July 2018 est.)...</td>\n",
       "      <td>65.5</td>\n",
       "      <td>$6,800</td>\n",
       "      <td>6,800</td>\n",
       "      <td>6800</td>\n",
       "    </tr>\n",
       "  </tbody>\n",
       "</table>\n",
       "</div>"
      ],
      "text/plain": [
       "          Country                  CO2_Emissions  \\\n",
       "0     Afghanistan  9.067 million Mt  (2017 est.)   \n",
       "1         Albania    4.5 million Mt  (2017 est.)   \n",
       "2         Algeria  135.9 million Mt  (2017 est.)   \n",
       "3  American Samoa        361,100 Mt  (2017 est.)   \n",
       "4          Angola  20.95 million Mt  (2017 est.)   \n",
       "\n",
       "                                      GDP_Per_Capita  \\\n",
       "0  $2,000  (2017 est.)  $2,000  (2016 est.)  $2,0...   \n",
       "1  $12,500  (2017 est.)  $12,100  (2016 est.)  $1...   \n",
       "2  $15,200  (2017 est.)  $15,200  (2016 est.)  $1...   \n",
       "3  $11,200  (2016 est.)  $11,300  (2015 est.)  $1...   \n",
       "4  $6,800  (2017 est.)  $7,200  (2016 est.)  $7,6...   \n",
       "\n",
       "                                          Population  Urbanization_Percentage  \\\n",
       "0                       34,940,837  (July 2018 est.)                     25.5   \n",
       "1                        3,057,220  (July 2018 est.)                     60.3   \n",
       "2                       41,657,488  (July 2018 est.)                     72.6   \n",
       "3                           50,826  (July 2018 est.)                     87.2   \n",
       "4  30,355,880  (July 2017 est.)  (July 2018 est.)...                     65.5   \n",
       "\n",
       "  GDPPerCapita1 GDPPerCapita2 GDP_Per_Capita_Number  \n",
       "0      $2,000         2,000                  2000    \n",
       "1     $12,500        12,500                 12500    \n",
       "2     $15,200        15,200                 15200    \n",
       "3     $11,200        11,200                 11200    \n",
       "4      $6,800         6,800                  6800    "
      ]
     },
     "execution_count": 43,
     "metadata": {},
     "output_type": "execute_result"
    }
   ],
   "source": [
    "data=data.assign(GDP_Per_Capita_Number=newValues)\n",
    "data.head()"
   ]
  },
  {
   "cell_type": "code",
   "execution_count": 44,
   "metadata": {},
   "outputs": [],
   "source": [
    "#dropping old GDP columnns\n",
    "data=data.drop(\"GDP_Per_Capita\",axis=1).drop(\"GDPPerCapita1\",axis=1).drop(\"GDPPerCapita2\",axis=1)"
   ]
  },
  {
   "cell_type": "code",
   "execution_count": 45,
   "metadata": {
    "scrolled": true
   },
   "outputs": [
    {
     "data": {
      "text/plain": [
       "Country                     object\n",
       "CO2_Emissions               object\n",
       "Population                  object\n",
       "Urbanization_Percentage    float64\n",
       "GDP_Per_Capita_Number       object\n",
       "dtype: object"
      ]
     },
     "execution_count": 45,
     "metadata": {},
     "output_type": "execute_result"
    }
   ],
   "source": [
    "data.dtypes"
   ]
  },
  {
   "cell_type": "code",
   "execution_count": 46,
   "metadata": {},
   "outputs": [
    {
     "data": {
      "text/plain": [
       "''"
      ]
     },
     "execution_count": 46,
     "metadata": {},
     "output_type": "execute_result"
    }
   ],
   "source": [
    "#need to replace NA values with nothing\n",
    "pattern='NA'\n",
    "nothing=''\n",
    "testString='NA'\n",
    "re.sub(pattern,nothing,testString)"
   ]
  },
  {
   "cell_type": "code",
   "execution_count": 47,
   "metadata": {},
   "outputs": [],
   "source": [
    "#to get rid of the NA's\n",
    "pattern='NA'\n",
    "nothing=''\n",
    "newValues=[re.sub(pattern,nothing,oldValue) for oldValue in data.GDP_Per_Capita_Number]"
   ]
  },
  {
   "cell_type": "code",
   "execution_count": 48,
   "metadata": {},
   "outputs": [
    {
     "data": {
      "text/html": [
       "<div>\n",
       "<style scoped>\n",
       "    .dataframe tbody tr th:only-of-type {\n",
       "        vertical-align: middle;\n",
       "    }\n",
       "\n",
       "    .dataframe tbody tr th {\n",
       "        vertical-align: top;\n",
       "    }\n",
       "\n",
       "    .dataframe thead th {\n",
       "        text-align: right;\n",
       "    }\n",
       "</style>\n",
       "<table border=\"1\" class=\"dataframe\">\n",
       "  <thead>\n",
       "    <tr style=\"text-align: right;\">\n",
       "      <th></th>\n",
       "      <th>Country</th>\n",
       "      <th>CO2_Emissions</th>\n",
       "      <th>Population</th>\n",
       "      <th>Urbanization_Percentage</th>\n",
       "      <th>GDP_Per_Capita_Number</th>\n",
       "    </tr>\n",
       "  </thead>\n",
       "  <tbody>\n",
       "    <tr>\n",
       "      <th>0</th>\n",
       "      <td>Afghanistan</td>\n",
       "      <td>9.067 million Mt  (2017 est.)</td>\n",
       "      <td>34,940,837  (July 2018 est.)</td>\n",
       "      <td>25.5</td>\n",
       "      <td>2000</td>\n",
       "    </tr>\n",
       "    <tr>\n",
       "      <th>1</th>\n",
       "      <td>Albania</td>\n",
       "      <td>4.5 million Mt  (2017 est.)</td>\n",
       "      <td>3,057,220  (July 2018 est.)</td>\n",
       "      <td>60.3</td>\n",
       "      <td>12500</td>\n",
       "    </tr>\n",
       "    <tr>\n",
       "      <th>2</th>\n",
       "      <td>Algeria</td>\n",
       "      <td>135.9 million Mt  (2017 est.)</td>\n",
       "      <td>41,657,488  (July 2018 est.)</td>\n",
       "      <td>72.6</td>\n",
       "      <td>15200</td>\n",
       "    </tr>\n",
       "    <tr>\n",
       "      <th>3</th>\n",
       "      <td>American Samoa</td>\n",
       "      <td>361,100 Mt  (2017 est.)</td>\n",
       "      <td>50,826  (July 2018 est.)</td>\n",
       "      <td>87.2</td>\n",
       "      <td>11200</td>\n",
       "    </tr>\n",
       "    <tr>\n",
       "      <th>4</th>\n",
       "      <td>Angola</td>\n",
       "      <td>20.95 million Mt  (2017 est.)</td>\n",
       "      <td>30,355,880  (July 2017 est.)  (July 2018 est.)...</td>\n",
       "      <td>65.5</td>\n",
       "      <td>6800</td>\n",
       "    </tr>\n",
       "  </tbody>\n",
       "</table>\n",
       "</div>"
      ],
      "text/plain": [
       "          Country                  CO2_Emissions  \\\n",
       "0     Afghanistan  9.067 million Mt  (2017 est.)   \n",
       "1         Albania    4.5 million Mt  (2017 est.)   \n",
       "2         Algeria  135.9 million Mt  (2017 est.)   \n",
       "3  American Samoa        361,100 Mt  (2017 est.)   \n",
       "4          Angola  20.95 million Mt  (2017 est.)   \n",
       "\n",
       "                                          Population  Urbanization_Percentage  \\\n",
       "0                       34,940,837  (July 2018 est.)                     25.5   \n",
       "1                        3,057,220  (July 2018 est.)                     60.3   \n",
       "2                       41,657,488  (July 2018 est.)                     72.6   \n",
       "3                           50,826  (July 2018 est.)                     87.2   \n",
       "4  30,355,880  (July 2017 est.)  (July 2018 est.)...                     65.5   \n",
       "\n",
       "  GDP_Per_Capita_Number  \n",
       "0                2000    \n",
       "1               12500    \n",
       "2               15200    \n",
       "3               11200    \n",
       "4                6800    "
      ]
     },
     "execution_count": 48,
     "metadata": {},
     "output_type": "execute_result"
    }
   ],
   "source": [
    "data=data.assign(GDP_Per_Capita_Number=newValues)\n",
    "data.head()"
   ]
  },
  {
   "cell_type": "code",
   "execution_count": 49,
   "metadata": {},
   "outputs": [
    {
     "data": {
      "text/plain": [
       "'NA'"
      ]
     },
     "execution_count": 49,
     "metadata": {},
     "output_type": "execute_result"
    }
   ],
   "source": [
    "pattern=' '\n",
    "nothing=''\n",
    "testString=' NA '\n",
    "re.sub(pattern,nothing,testString)"
   ]
  },
  {
   "cell_type": "code",
   "execution_count": 50,
   "metadata": {},
   "outputs": [],
   "source": [
    "#to get rid of the NA's\n",
    "pattern=' '\n",
    "nothing=''\n",
    "newValues=[re.sub(pattern,nothing,oldValue) for oldValue in data.GDP_Per_Capita_Number]"
   ]
  },
  {
   "cell_type": "code",
   "execution_count": 51,
   "metadata": {},
   "outputs": [
    {
     "data": {
      "text/html": [
       "<div>\n",
       "<style scoped>\n",
       "    .dataframe tbody tr th:only-of-type {\n",
       "        vertical-align: middle;\n",
       "    }\n",
       "\n",
       "    .dataframe tbody tr th {\n",
       "        vertical-align: top;\n",
       "    }\n",
       "\n",
       "    .dataframe thead th {\n",
       "        text-align: right;\n",
       "    }\n",
       "</style>\n",
       "<table border=\"1\" class=\"dataframe\">\n",
       "  <thead>\n",
       "    <tr style=\"text-align: right;\">\n",
       "      <th></th>\n",
       "      <th>Country</th>\n",
       "      <th>CO2_Emissions</th>\n",
       "      <th>Population</th>\n",
       "      <th>Urbanization_Percentage</th>\n",
       "      <th>GDP_Per_Capita_Number</th>\n",
       "    </tr>\n",
       "  </thead>\n",
       "  <tbody>\n",
       "    <tr>\n",
       "      <th>0</th>\n",
       "      <td>Afghanistan</td>\n",
       "      <td>9.067 million Mt  (2017 est.)</td>\n",
       "      <td>34,940,837  (July 2018 est.)</td>\n",
       "      <td>25.5</td>\n",
       "      <td>2000</td>\n",
       "    </tr>\n",
       "    <tr>\n",
       "      <th>1</th>\n",
       "      <td>Albania</td>\n",
       "      <td>4.5 million Mt  (2017 est.)</td>\n",
       "      <td>3,057,220  (July 2018 est.)</td>\n",
       "      <td>60.3</td>\n",
       "      <td>12500</td>\n",
       "    </tr>\n",
       "    <tr>\n",
       "      <th>2</th>\n",
       "      <td>Algeria</td>\n",
       "      <td>135.9 million Mt  (2017 est.)</td>\n",
       "      <td>41,657,488  (July 2018 est.)</td>\n",
       "      <td>72.6</td>\n",
       "      <td>15200</td>\n",
       "    </tr>\n",
       "    <tr>\n",
       "      <th>3</th>\n",
       "      <td>American Samoa</td>\n",
       "      <td>361,100 Mt  (2017 est.)</td>\n",
       "      <td>50,826  (July 2018 est.)</td>\n",
       "      <td>87.2</td>\n",
       "      <td>11200</td>\n",
       "    </tr>\n",
       "    <tr>\n",
       "      <th>4</th>\n",
       "      <td>Angola</td>\n",
       "      <td>20.95 million Mt  (2017 est.)</td>\n",
       "      <td>30,355,880  (July 2017 est.)  (July 2018 est.)...</td>\n",
       "      <td>65.5</td>\n",
       "      <td>6800</td>\n",
       "    </tr>\n",
       "  </tbody>\n",
       "</table>\n",
       "</div>"
      ],
      "text/plain": [
       "          Country                  CO2_Emissions  \\\n",
       "0     Afghanistan  9.067 million Mt  (2017 est.)   \n",
       "1         Albania    4.5 million Mt  (2017 est.)   \n",
       "2         Algeria  135.9 million Mt  (2017 est.)   \n",
       "3  American Samoa        361,100 Mt  (2017 est.)   \n",
       "4          Angola  20.95 million Mt  (2017 est.)   \n",
       "\n",
       "                                          Population  Urbanization_Percentage  \\\n",
       "0                       34,940,837  (July 2018 est.)                     25.5   \n",
       "1                        3,057,220  (July 2018 est.)                     60.3   \n",
       "2                       41,657,488  (July 2018 est.)                     72.6   \n",
       "3                           50,826  (July 2018 est.)                     87.2   \n",
       "4  30,355,880  (July 2017 est.)  (July 2018 est.)...                     65.5   \n",
       "\n",
       "  GDP_Per_Capita_Number  \n",
       "0                  2000  \n",
       "1                 12500  \n",
       "2                 15200  \n",
       "3                 11200  \n",
       "4                  6800  "
      ]
     },
     "execution_count": 51,
     "metadata": {},
     "output_type": "execute_result"
    }
   ],
   "source": [
    "data=data.assign(GDP_Per_Capita_Number=newValues)\n",
    "data.head()"
   ]
  },
  {
   "cell_type": "code",
   "execution_count": 52,
   "metadata": {},
   "outputs": [],
   "source": [
    "data.GDP_Per_Capita_Number=pd.to_numeric(data.GDP_Per_Capita_Number)"
   ]
  },
  {
   "cell_type": "code",
   "execution_count": 53,
   "metadata": {
    "scrolled": true
   },
   "outputs": [
    {
     "data": {
      "text/html": [
       "<div>\n",
       "<style scoped>\n",
       "    .dataframe tbody tr th:only-of-type {\n",
       "        vertical-align: middle;\n",
       "    }\n",
       "\n",
       "    .dataframe tbody tr th {\n",
       "        vertical-align: top;\n",
       "    }\n",
       "\n",
       "    .dataframe thead th {\n",
       "        text-align: right;\n",
       "    }\n",
       "</style>\n",
       "<table border=\"1\" class=\"dataframe\">\n",
       "  <thead>\n",
       "    <tr style=\"text-align: right;\">\n",
       "      <th></th>\n",
       "      <th>Country</th>\n",
       "      <th>CO2_Emissions</th>\n",
       "      <th>Population</th>\n",
       "      <th>Urbanization_Percentage</th>\n",
       "      <th>GDP_Per_Capita_Number</th>\n",
       "    </tr>\n",
       "  </thead>\n",
       "  <tbody>\n",
       "    <tr>\n",
       "      <th>0</th>\n",
       "      <td>Afghanistan</td>\n",
       "      <td>9.067 million Mt  (2017 est.)</td>\n",
       "      <td>34,940,837  (July 2018 est.)</td>\n",
       "      <td>25.5</td>\n",
       "      <td>2000.0</td>\n",
       "    </tr>\n",
       "    <tr>\n",
       "      <th>1</th>\n",
       "      <td>Albania</td>\n",
       "      <td>4.5 million Mt  (2017 est.)</td>\n",
       "      <td>3,057,220  (July 2018 est.)</td>\n",
       "      <td>60.3</td>\n",
       "      <td>12500.0</td>\n",
       "    </tr>\n",
       "    <tr>\n",
       "      <th>2</th>\n",
       "      <td>Algeria</td>\n",
       "      <td>135.9 million Mt  (2017 est.)</td>\n",
       "      <td>41,657,488  (July 2018 est.)</td>\n",
       "      <td>72.6</td>\n",
       "      <td>15200.0</td>\n",
       "    </tr>\n",
       "    <tr>\n",
       "      <th>3</th>\n",
       "      <td>American Samoa</td>\n",
       "      <td>361,100 Mt  (2017 est.)</td>\n",
       "      <td>50,826  (July 2018 est.)</td>\n",
       "      <td>87.2</td>\n",
       "      <td>11200.0</td>\n",
       "    </tr>\n",
       "    <tr>\n",
       "      <th>4</th>\n",
       "      <td>Angola</td>\n",
       "      <td>20.95 million Mt  (2017 est.)</td>\n",
       "      <td>30,355,880  (July 2017 est.)  (July 2018 est.)...</td>\n",
       "      <td>65.5</td>\n",
       "      <td>6800.0</td>\n",
       "    </tr>\n",
       "  </tbody>\n",
       "</table>\n",
       "</div>"
      ],
      "text/plain": [
       "          Country                  CO2_Emissions  \\\n",
       "0     Afghanistan  9.067 million Mt  (2017 est.)   \n",
       "1         Albania    4.5 million Mt  (2017 est.)   \n",
       "2         Algeria  135.9 million Mt  (2017 est.)   \n",
       "3  American Samoa        361,100 Mt  (2017 est.)   \n",
       "4          Angola  20.95 million Mt  (2017 est.)   \n",
       "\n",
       "                                          Population  Urbanization_Percentage  \\\n",
       "0                       34,940,837  (July 2018 est.)                     25.5   \n",
       "1                        3,057,220  (July 2018 est.)                     60.3   \n",
       "2                       41,657,488  (July 2018 est.)                     72.6   \n",
       "3                           50,826  (July 2018 est.)                     87.2   \n",
       "4  30,355,880  (July 2017 est.)  (July 2018 est.)...                     65.5   \n",
       "\n",
       "   GDP_Per_Capita_Number  \n",
       "0                 2000.0  \n",
       "1                12500.0  \n",
       "2                15200.0  \n",
       "3                11200.0  \n",
       "4                 6800.0  "
      ]
     },
     "execution_count": 53,
     "metadata": {},
     "output_type": "execute_result"
    }
   ],
   "source": [
    "data.head()"
   ]
  },
  {
   "cell_type": "markdown",
   "metadata": {},
   "source": [
    "## 9. Cleaning the Population Column"
   ]
  },
  {
   "cell_type": "code",
   "execution_count": 54,
   "metadata": {},
   "outputs": [
    {
     "data": {
      "text/html": [
       "<div>\n",
       "<style scoped>\n",
       "    .dataframe tbody tr th:only-of-type {\n",
       "        vertical-align: middle;\n",
       "    }\n",
       "\n",
       "    .dataframe tbody tr th {\n",
       "        vertical-align: top;\n",
       "    }\n",
       "\n",
       "    .dataframe thead th {\n",
       "        text-align: right;\n",
       "    }\n",
       "</style>\n",
       "<table border=\"1\" class=\"dataframe\">\n",
       "  <thead>\n",
       "    <tr style=\"text-align: right;\">\n",
       "      <th></th>\n",
       "      <th>Country</th>\n",
       "      <th>CO2_Emissions</th>\n",
       "      <th>Population</th>\n",
       "      <th>Urbanization_Percentage</th>\n",
       "      <th>GDP_Per_Capita_Number</th>\n",
       "      <th>Population1</th>\n",
       "    </tr>\n",
       "  </thead>\n",
       "  <tbody>\n",
       "    <tr>\n",
       "      <th>0</th>\n",
       "      <td>Afghanistan</td>\n",
       "      <td>9.067 million Mt  (2017 est.)</td>\n",
       "      <td>34,940,837  (July 2018 est.)</td>\n",
       "      <td>25.5</td>\n",
       "      <td>2000.0</td>\n",
       "      <td>34,940,837</td>\n",
       "    </tr>\n",
       "    <tr>\n",
       "      <th>1</th>\n",
       "      <td>Albania</td>\n",
       "      <td>4.5 million Mt  (2017 est.)</td>\n",
       "      <td>3,057,220  (July 2018 est.)</td>\n",
       "      <td>60.3</td>\n",
       "      <td>12500.0</td>\n",
       "      <td>3,057,220</td>\n",
       "    </tr>\n",
       "    <tr>\n",
       "      <th>2</th>\n",
       "      <td>Algeria</td>\n",
       "      <td>135.9 million Mt  (2017 est.)</td>\n",
       "      <td>41,657,488  (July 2018 est.)</td>\n",
       "      <td>72.6</td>\n",
       "      <td>15200.0</td>\n",
       "      <td>41,657,488</td>\n",
       "    </tr>\n",
       "    <tr>\n",
       "      <th>3</th>\n",
       "      <td>American Samoa</td>\n",
       "      <td>361,100 Mt  (2017 est.)</td>\n",
       "      <td>50,826  (July 2018 est.)</td>\n",
       "      <td>87.2</td>\n",
       "      <td>11200.0</td>\n",
       "      <td>50,826</td>\n",
       "    </tr>\n",
       "    <tr>\n",
       "      <th>4</th>\n",
       "      <td>Angola</td>\n",
       "      <td>20.95 million Mt  (2017 est.)</td>\n",
       "      <td>30,355,880  (July 2017 est.)  (July 2018 est.)...</td>\n",
       "      <td>65.5</td>\n",
       "      <td>6800.0</td>\n",
       "      <td>30,355,880</td>\n",
       "    </tr>\n",
       "  </tbody>\n",
       "</table>\n",
       "</div>"
      ],
      "text/plain": [
       "          Country                  CO2_Emissions  \\\n",
       "0     Afghanistan  9.067 million Mt  (2017 est.)   \n",
       "1         Albania    4.5 million Mt  (2017 est.)   \n",
       "2         Algeria  135.9 million Mt  (2017 est.)   \n",
       "3  American Samoa        361,100 Mt  (2017 est.)   \n",
       "4          Angola  20.95 million Mt  (2017 est.)   \n",
       "\n",
       "                                          Population  Urbanization_Percentage  \\\n",
       "0                       34,940,837  (July 2018 est.)                     25.5   \n",
       "1                        3,057,220  (July 2018 est.)                     60.3   \n",
       "2                       41,657,488  (July 2018 est.)                     72.6   \n",
       "3                           50,826  (July 2018 est.)                     87.2   \n",
       "4  30,355,880  (July 2017 est.)  (July 2018 est.)...                     65.5   \n",
       "\n",
       "   GDP_Per_Capita_Number  Population1  \n",
       "0                 2000.0  34,940,837   \n",
       "1                12500.0   3,057,220   \n",
       "2                15200.0  41,657,488   \n",
       "3                11200.0      50,826   \n",
       "4                 6800.0  30,355,880   "
      ]
     },
     "execution_count": 54,
     "metadata": {},
     "output_type": "execute_result"
    }
   ],
   "source": [
    "#split values at (\n",
    "popnumber=[element.split(' (')[0] for element in data.Population]\n",
    "\n",
    "#Making the above list a new column:\n",
    "data=data.assign(Population1=popnumber)\n",
    "data.head()"
   ]
  },
  {
   "cell_type": "code",
   "execution_count": 55,
   "metadata": {},
   "outputs": [
    {
     "data": {
      "text/plain": [
       "'198450'"
      ]
     },
     "execution_count": 55,
     "metadata": {},
     "output_type": "execute_result"
    }
   ],
   "source": [
    "# getting rid of commas\n",
    "pattern='\\\\,'\n",
    "nothing=''\n",
    "testString='198,450'\n",
    "re.sub(pattern,nothing,testString)"
   ]
  },
  {
   "cell_type": "code",
   "execution_count": 56,
   "metadata": {},
   "outputs": [],
   "source": [
    "# getting rid of commas in all values and creating newValues container\n",
    "pattern='\\\\,'\n",
    "nothing=''\n",
    "\n",
    "newValues=[re.sub(pattern,nothing,oldValue) for oldValue in data.Population1]"
   ]
  },
  {
   "cell_type": "code",
   "execution_count": 57,
   "metadata": {},
   "outputs": [
    {
     "data": {
      "text/html": [
       "<div>\n",
       "<style scoped>\n",
       "    .dataframe tbody tr th:only-of-type {\n",
       "        vertical-align: middle;\n",
       "    }\n",
       "\n",
       "    .dataframe tbody tr th {\n",
       "        vertical-align: top;\n",
       "    }\n",
       "\n",
       "    .dataframe thead th {\n",
       "        text-align: right;\n",
       "    }\n",
       "</style>\n",
       "<table border=\"1\" class=\"dataframe\">\n",
       "  <thead>\n",
       "    <tr style=\"text-align: right;\">\n",
       "      <th></th>\n",
       "      <th>Country</th>\n",
       "      <th>CO2_Emissions</th>\n",
       "      <th>Population</th>\n",
       "      <th>Urbanization_Percentage</th>\n",
       "      <th>GDP_Per_Capita_Number</th>\n",
       "      <th>Population1</th>\n",
       "    </tr>\n",
       "  </thead>\n",
       "  <tbody>\n",
       "    <tr>\n",
       "      <th>0</th>\n",
       "      <td>Afghanistan</td>\n",
       "      <td>9.067 million Mt  (2017 est.)</td>\n",
       "      <td>34,940,837  (July 2018 est.)</td>\n",
       "      <td>25.5</td>\n",
       "      <td>2000.0</td>\n",
       "      <td>34940837</td>\n",
       "    </tr>\n",
       "    <tr>\n",
       "      <th>1</th>\n",
       "      <td>Albania</td>\n",
       "      <td>4.5 million Mt  (2017 est.)</td>\n",
       "      <td>3,057,220  (July 2018 est.)</td>\n",
       "      <td>60.3</td>\n",
       "      <td>12500.0</td>\n",
       "      <td>3057220</td>\n",
       "    </tr>\n",
       "    <tr>\n",
       "      <th>2</th>\n",
       "      <td>Algeria</td>\n",
       "      <td>135.9 million Mt  (2017 est.)</td>\n",
       "      <td>41,657,488  (July 2018 est.)</td>\n",
       "      <td>72.6</td>\n",
       "      <td>15200.0</td>\n",
       "      <td>41657488</td>\n",
       "    </tr>\n",
       "    <tr>\n",
       "      <th>3</th>\n",
       "      <td>American Samoa</td>\n",
       "      <td>361,100 Mt  (2017 est.)</td>\n",
       "      <td>50,826  (July 2018 est.)</td>\n",
       "      <td>87.2</td>\n",
       "      <td>11200.0</td>\n",
       "      <td>50826</td>\n",
       "    </tr>\n",
       "    <tr>\n",
       "      <th>4</th>\n",
       "      <td>Angola</td>\n",
       "      <td>20.95 million Mt  (2017 est.)</td>\n",
       "      <td>30,355,880  (July 2017 est.)  (July 2018 est.)...</td>\n",
       "      <td>65.5</td>\n",
       "      <td>6800.0</td>\n",
       "      <td>30355880</td>\n",
       "    </tr>\n",
       "  </tbody>\n",
       "</table>\n",
       "</div>"
      ],
      "text/plain": [
       "          Country                  CO2_Emissions  \\\n",
       "0     Afghanistan  9.067 million Mt  (2017 est.)   \n",
       "1         Albania    4.5 million Mt  (2017 est.)   \n",
       "2         Algeria  135.9 million Mt  (2017 est.)   \n",
       "3  American Samoa        361,100 Mt  (2017 est.)   \n",
       "4          Angola  20.95 million Mt  (2017 est.)   \n",
       "\n",
       "                                          Population  Urbanization_Percentage  \\\n",
       "0                       34,940,837  (July 2018 est.)                     25.5   \n",
       "1                        3,057,220  (July 2018 est.)                     60.3   \n",
       "2                       41,657,488  (July 2018 est.)                     72.6   \n",
       "3                           50,826  (July 2018 est.)                     87.2   \n",
       "4  30,355,880  (July 2017 est.)  (July 2018 est.)...                     65.5   \n",
       "\n",
       "   GDP_Per_Capita_Number Population1  \n",
       "0                 2000.0   34940837   \n",
       "1                12500.0    3057220   \n",
       "2                15200.0   41657488   \n",
       "3                11200.0      50826   \n",
       "4                 6800.0   30355880   "
      ]
     },
     "execution_count": 57,
     "metadata": {},
     "output_type": "execute_result"
    }
   ],
   "source": [
    "#replacing old column, Population1 with newValues\n",
    "data=data.assign(Population1=newValues)\n",
    "data.head()"
   ]
  },
  {
   "cell_type": "code",
   "execution_count": 58,
   "metadata": {
    "scrolled": true
   },
   "outputs": [
    {
     "data": {
      "text/html": [
       "<div>\n",
       "<style scoped>\n",
       "    .dataframe tbody tr th:only-of-type {\n",
       "        vertical-align: middle;\n",
       "    }\n",
       "\n",
       "    .dataframe tbody tr th {\n",
       "        vertical-align: top;\n",
       "    }\n",
       "\n",
       "    .dataframe thead th {\n",
       "        text-align: right;\n",
       "    }\n",
       "</style>\n",
       "<table border=\"1\" class=\"dataframe\">\n",
       "  <thead>\n",
       "    <tr style=\"text-align: right;\">\n",
       "      <th></th>\n",
       "      <th>Country</th>\n",
       "      <th>CO2_Emissions</th>\n",
       "      <th>Population</th>\n",
       "      <th>Urbanization_Percentage</th>\n",
       "      <th>GDP_Per_Capita_Number</th>\n",
       "      <th>Population1</th>\n",
       "      <th>Population_Number</th>\n",
       "    </tr>\n",
       "  </thead>\n",
       "  <tbody>\n",
       "    <tr>\n",
       "      <th>0</th>\n",
       "      <td>Afghanistan</td>\n",
       "      <td>9.067 million Mt  (2017 est.)</td>\n",
       "      <td>34,940,837  (July 2018 est.)</td>\n",
       "      <td>25.5</td>\n",
       "      <td>2000.0</td>\n",
       "      <td>34940837</td>\n",
       "      <td>34940837</td>\n",
       "    </tr>\n",
       "    <tr>\n",
       "      <th>1</th>\n",
       "      <td>Albania</td>\n",
       "      <td>4.5 million Mt  (2017 est.)</td>\n",
       "      <td>3,057,220  (July 2018 est.)</td>\n",
       "      <td>60.3</td>\n",
       "      <td>12500.0</td>\n",
       "      <td>3057220</td>\n",
       "      <td>3057220</td>\n",
       "    </tr>\n",
       "    <tr>\n",
       "      <th>2</th>\n",
       "      <td>Algeria</td>\n",
       "      <td>135.9 million Mt  (2017 est.)</td>\n",
       "      <td>41,657,488  (July 2018 est.)</td>\n",
       "      <td>72.6</td>\n",
       "      <td>15200.0</td>\n",
       "      <td>41657488</td>\n",
       "      <td>41657488</td>\n",
       "    </tr>\n",
       "    <tr>\n",
       "      <th>3</th>\n",
       "      <td>American Samoa</td>\n",
       "      <td>361,100 Mt  (2017 est.)</td>\n",
       "      <td>50,826  (July 2018 est.)</td>\n",
       "      <td>87.2</td>\n",
       "      <td>11200.0</td>\n",
       "      <td>50826</td>\n",
       "      <td>50826</td>\n",
       "    </tr>\n",
       "    <tr>\n",
       "      <th>4</th>\n",
       "      <td>Angola</td>\n",
       "      <td>20.95 million Mt  (2017 est.)</td>\n",
       "      <td>30,355,880  (July 2017 est.)  (July 2018 est.)...</td>\n",
       "      <td>65.5</td>\n",
       "      <td>6800.0</td>\n",
       "      <td>30355880</td>\n",
       "      <td>30355880</td>\n",
       "    </tr>\n",
       "  </tbody>\n",
       "</table>\n",
       "</div>"
      ],
      "text/plain": [
       "          Country                  CO2_Emissions  \\\n",
       "0     Afghanistan  9.067 million Mt  (2017 est.)   \n",
       "1         Albania    4.5 million Mt  (2017 est.)   \n",
       "2         Algeria  135.9 million Mt  (2017 est.)   \n",
       "3  American Samoa        361,100 Mt  (2017 est.)   \n",
       "4          Angola  20.95 million Mt  (2017 est.)   \n",
       "\n",
       "                                          Population  Urbanization_Percentage  \\\n",
       "0                       34,940,837  (July 2018 est.)                     25.5   \n",
       "1                        3,057,220  (July 2018 est.)                     60.3   \n",
       "2                       41,657,488  (July 2018 est.)                     72.6   \n",
       "3                           50,826  (July 2018 est.)                     87.2   \n",
       "4  30,355,880  (July 2017 est.)  (July 2018 est.)...                     65.5   \n",
       "\n",
       "   GDP_Per_Capita_Number Population1 Population_Number  \n",
       "0                 2000.0   34940837           34940837  \n",
       "1                12500.0    3057220            3057220  \n",
       "2                15200.0   41657488           41657488  \n",
       "3                11200.0      50826              50826  \n",
       "4                 6800.0   30355880           30355880  "
      ]
     },
     "execution_count": 58,
     "metadata": {},
     "output_type": "execute_result"
    }
   ],
   "source": [
    "#some of the values still aren't just numbers so going to split again at spaces\n",
    "popnumber=[element.split(' ')[0] for element in data.Population1]\n",
    "\n",
    "#Making the above list a new column:\n",
    "data=data.assign(Population_Number=popnumber)\n",
    "data.head()"
   ]
  },
  {
   "cell_type": "code",
   "execution_count": 59,
   "metadata": {},
   "outputs": [
    {
     "data": {
      "text/plain": [
       "Country                     object\n",
       "CO2_Emissions               object\n",
       "Population                  object\n",
       "Urbanization_Percentage    float64\n",
       "GDP_Per_Capita_Number      float64\n",
       "Population1                 object\n",
       "Population_Number           object\n",
       "dtype: object"
      ]
     },
     "execution_count": 59,
     "metadata": {},
     "output_type": "execute_result"
    }
   ],
   "source": [
    "data.dtypes"
   ]
  },
  {
   "cell_type": "code",
   "execution_count": 60,
   "metadata": {},
   "outputs": [],
   "source": [
    "#converting Population_Number from object to float64\n",
    "data.Population_Number=pd.to_numeric(data.Population_Number)"
   ]
  },
  {
   "cell_type": "code",
   "execution_count": 61,
   "metadata": {},
   "outputs": [],
   "source": [
    "#dropping old population columns\n",
    "data=data.drop(\"Population\",axis=1).drop(\"Population1\",axis=1)"
   ]
  },
  {
   "cell_type": "code",
   "execution_count": 62,
   "metadata": {},
   "outputs": [
    {
     "data": {
      "text/html": [
       "<div>\n",
       "<style scoped>\n",
       "    .dataframe tbody tr th:only-of-type {\n",
       "        vertical-align: middle;\n",
       "    }\n",
       "\n",
       "    .dataframe tbody tr th {\n",
       "        vertical-align: top;\n",
       "    }\n",
       "\n",
       "    .dataframe thead th {\n",
       "        text-align: right;\n",
       "    }\n",
       "</style>\n",
       "<table border=\"1\" class=\"dataframe\">\n",
       "  <thead>\n",
       "    <tr style=\"text-align: right;\">\n",
       "      <th></th>\n",
       "      <th>Country</th>\n",
       "      <th>CO2_Emissions</th>\n",
       "      <th>Urbanization_Percentage</th>\n",
       "      <th>GDP_Per_Capita_Number</th>\n",
       "      <th>Population_Number</th>\n",
       "    </tr>\n",
       "  </thead>\n",
       "  <tbody>\n",
       "    <tr>\n",
       "      <th>0</th>\n",
       "      <td>Afghanistan</td>\n",
       "      <td>9.067 million Mt  (2017 est.)</td>\n",
       "      <td>25.5</td>\n",
       "      <td>2000.0</td>\n",
       "      <td>34940837</td>\n",
       "    </tr>\n",
       "    <tr>\n",
       "      <th>1</th>\n",
       "      <td>Albania</td>\n",
       "      <td>4.5 million Mt  (2017 est.)</td>\n",
       "      <td>60.3</td>\n",
       "      <td>12500.0</td>\n",
       "      <td>3057220</td>\n",
       "    </tr>\n",
       "    <tr>\n",
       "      <th>2</th>\n",
       "      <td>Algeria</td>\n",
       "      <td>135.9 million Mt  (2017 est.)</td>\n",
       "      <td>72.6</td>\n",
       "      <td>15200.0</td>\n",
       "      <td>41657488</td>\n",
       "    </tr>\n",
       "    <tr>\n",
       "      <th>3</th>\n",
       "      <td>American Samoa</td>\n",
       "      <td>361,100 Mt  (2017 est.)</td>\n",
       "      <td>87.2</td>\n",
       "      <td>11200.0</td>\n",
       "      <td>50826</td>\n",
       "    </tr>\n",
       "    <tr>\n",
       "      <th>4</th>\n",
       "      <td>Angola</td>\n",
       "      <td>20.95 million Mt  (2017 est.)</td>\n",
       "      <td>65.5</td>\n",
       "      <td>6800.0</td>\n",
       "      <td>30355880</td>\n",
       "    </tr>\n",
       "  </tbody>\n",
       "</table>\n",
       "</div>"
      ],
      "text/plain": [
       "          Country                  CO2_Emissions  Urbanization_Percentage  \\\n",
       "0     Afghanistan  9.067 million Mt  (2017 est.)                     25.5   \n",
       "1         Albania    4.5 million Mt  (2017 est.)                     60.3   \n",
       "2         Algeria  135.9 million Mt  (2017 est.)                     72.6   \n",
       "3  American Samoa        361,100 Mt  (2017 est.)                     87.2   \n",
       "4          Angola  20.95 million Mt  (2017 est.)                     65.5   \n",
       "\n",
       "   GDP_Per_Capita_Number  Population_Number  \n",
       "0                 2000.0           34940837  \n",
       "1                12500.0            3057220  \n",
       "2                15200.0           41657488  \n",
       "3                11200.0              50826  \n",
       "4                 6800.0           30355880  "
      ]
     },
     "execution_count": 62,
     "metadata": {},
     "output_type": "execute_result"
    }
   ],
   "source": [
    "data.head()"
   ]
  },
  {
   "cell_type": "markdown",
   "metadata": {},
   "source": [
    "## 10. Creating an Emissions Per Capita Column"
   ]
  },
  {
   "cell_type": "code",
   "execution_count": 63,
   "metadata": {},
   "outputs": [
    {
     "ename": "AttributeError",
     "evalue": "'DataFrame' object has no attribute 'CO2_Emissions_Number'",
     "output_type": "error",
     "traceback": [
      "\u001b[0;31m---------------------------------------------------------------------------\u001b[0m",
      "\u001b[0;31mAttributeError\u001b[0m                            Traceback (most recent call last)",
      "\u001b[0;32m<ipython-input-63-ab1e5d3c75cf>\u001b[0m in \u001b[0;36m<module>\u001b[0;34m\u001b[0m\n\u001b[1;32m      1\u001b[0m \u001b[0;32mfrom\u001b[0m \u001b[0m__future__\u001b[0m \u001b[0;32mimport\u001b[0m \u001b[0mdivision\u001b[0m\u001b[0;34m\u001b[0m\u001b[0;34m\u001b[0m\u001b[0m\n\u001b[0;32m----> 2\u001b[0;31m \u001b[0memissionspercap\u001b[0m\u001b[0;34m=\u001b[0m\u001b[0;34m(\u001b[0m\u001b[0mdata\u001b[0m\u001b[0;34m.\u001b[0m\u001b[0mCO2_Emissions_Number\u001b[0m\u001b[0;34m/\u001b[0m\u001b[0mdata\u001b[0m\u001b[0;34m.\u001b[0m\u001b[0mPopulation_Number\u001b[0m\u001b[0;34m)\u001b[0m\u001b[0;34m\u001b[0m\u001b[0;34m\u001b[0m\u001b[0m\n\u001b[0m",
      "\u001b[0;32m~/anaconda3/lib/python3.7/site-packages/pandas/core/generic.py\u001b[0m in \u001b[0;36m__getattr__\u001b[0;34m(self, name)\u001b[0m\n\u001b[1;32m   4374\u001b[0m             \u001b[0;32mif\u001b[0m \u001b[0mself\u001b[0m\u001b[0;34m.\u001b[0m\u001b[0m_info_axis\u001b[0m\u001b[0;34m.\u001b[0m\u001b[0m_can_hold_identifiers_and_holds_name\u001b[0m\u001b[0;34m(\u001b[0m\u001b[0mname\u001b[0m\u001b[0;34m)\u001b[0m\u001b[0;34m:\u001b[0m\u001b[0;34m\u001b[0m\u001b[0;34m\u001b[0m\u001b[0m\n\u001b[1;32m   4375\u001b[0m                 \u001b[0;32mreturn\u001b[0m \u001b[0mself\u001b[0m\u001b[0;34m[\u001b[0m\u001b[0mname\u001b[0m\u001b[0;34m]\u001b[0m\u001b[0;34m\u001b[0m\u001b[0;34m\u001b[0m\u001b[0m\n\u001b[0;32m-> 4376\u001b[0;31m             \u001b[0;32mreturn\u001b[0m \u001b[0mobject\u001b[0m\u001b[0;34m.\u001b[0m\u001b[0m__getattribute__\u001b[0m\u001b[0;34m(\u001b[0m\u001b[0mself\u001b[0m\u001b[0;34m,\u001b[0m \u001b[0mname\u001b[0m\u001b[0;34m)\u001b[0m\u001b[0;34m\u001b[0m\u001b[0;34m\u001b[0m\u001b[0m\n\u001b[0m\u001b[1;32m   4377\u001b[0m \u001b[0;34m\u001b[0m\u001b[0m\n\u001b[1;32m   4378\u001b[0m     \u001b[0;32mdef\u001b[0m \u001b[0m__setattr__\u001b[0m\u001b[0;34m(\u001b[0m\u001b[0mself\u001b[0m\u001b[0;34m,\u001b[0m \u001b[0mname\u001b[0m\u001b[0;34m,\u001b[0m \u001b[0mvalue\u001b[0m\u001b[0;34m)\u001b[0m\u001b[0;34m:\u001b[0m\u001b[0;34m\u001b[0m\u001b[0;34m\u001b[0m\u001b[0m\n",
      "\u001b[0;31mAttributeError\u001b[0m: 'DataFrame' object has no attribute 'CO2_Emissions_Number'"
     ]
    }
   ],
   "source": [
    "from __future__ import division\n",
    "emissionspercap=(data.CO2_Emissions_Number/data.Population_Number)"
   ]
  },
  {
   "cell_type": "code",
   "execution_count": 64,
   "metadata": {},
   "outputs": [
    {
     "ename": "NameError",
     "evalue": "name 'emissionspercap' is not defined",
     "output_type": "error",
     "traceback": [
      "\u001b[0;31m---------------------------------------------------------------------------\u001b[0m",
      "\u001b[0;31mNameError\u001b[0m                                 Traceback (most recent call last)",
      "\u001b[0;32m<ipython-input-64-612b66804da5>\u001b[0m in \u001b[0;36m<module>\u001b[0;34m\u001b[0m\n\u001b[0;32m----> 1\u001b[0;31m \u001b[0mdata\u001b[0m\u001b[0;34m=\u001b[0m\u001b[0mdata\u001b[0m\u001b[0;34m.\u001b[0m\u001b[0massign\u001b[0m\u001b[0;34m(\u001b[0m\u001b[0mCO2_Emissions_PerCapita\u001b[0m\u001b[0;34m=\u001b[0m\u001b[0memissionspercap\u001b[0m\u001b[0;34m)\u001b[0m\u001b[0;34m\u001b[0m\u001b[0;34m\u001b[0m\u001b[0m\n\u001b[0m",
      "\u001b[0;31mNameError\u001b[0m: name 'emissionspercap' is not defined"
     ]
    }
   ],
   "source": [
    "data=data.assign(CO2_Emissions_PerCapita=emissionspercap)"
   ]
  },
  {
   "cell_type": "code",
   "execution_count": 65,
   "metadata": {},
   "outputs": [
    {
     "data": {
      "text/html": [
       "<div>\n",
       "<style scoped>\n",
       "    .dataframe tbody tr th:only-of-type {\n",
       "        vertical-align: middle;\n",
       "    }\n",
       "\n",
       "    .dataframe tbody tr th {\n",
       "        vertical-align: top;\n",
       "    }\n",
       "\n",
       "    .dataframe thead th {\n",
       "        text-align: right;\n",
       "    }\n",
       "</style>\n",
       "<table border=\"1\" class=\"dataframe\">\n",
       "  <thead>\n",
       "    <tr style=\"text-align: right;\">\n",
       "      <th></th>\n",
       "      <th>Country</th>\n",
       "      <th>CO2_Emissions</th>\n",
       "      <th>Urbanization_Percentage</th>\n",
       "      <th>GDP_Per_Capita_Number</th>\n",
       "      <th>Population_Number</th>\n",
       "    </tr>\n",
       "  </thead>\n",
       "  <tbody>\n",
       "    <tr>\n",
       "      <th>0</th>\n",
       "      <td>Afghanistan</td>\n",
       "      <td>9.067 million Mt  (2017 est.)</td>\n",
       "      <td>25.5</td>\n",
       "      <td>2000.0</td>\n",
       "      <td>34940837</td>\n",
       "    </tr>\n",
       "    <tr>\n",
       "      <th>1</th>\n",
       "      <td>Albania</td>\n",
       "      <td>4.5 million Mt  (2017 est.)</td>\n",
       "      <td>60.3</td>\n",
       "      <td>12500.0</td>\n",
       "      <td>3057220</td>\n",
       "    </tr>\n",
       "    <tr>\n",
       "      <th>2</th>\n",
       "      <td>Algeria</td>\n",
       "      <td>135.9 million Mt  (2017 est.)</td>\n",
       "      <td>72.6</td>\n",
       "      <td>15200.0</td>\n",
       "      <td>41657488</td>\n",
       "    </tr>\n",
       "    <tr>\n",
       "      <th>3</th>\n",
       "      <td>American Samoa</td>\n",
       "      <td>361,100 Mt  (2017 est.)</td>\n",
       "      <td>87.2</td>\n",
       "      <td>11200.0</td>\n",
       "      <td>50826</td>\n",
       "    </tr>\n",
       "    <tr>\n",
       "      <th>4</th>\n",
       "      <td>Angola</td>\n",
       "      <td>20.95 million Mt  (2017 est.)</td>\n",
       "      <td>65.5</td>\n",
       "      <td>6800.0</td>\n",
       "      <td>30355880</td>\n",
       "    </tr>\n",
       "  </tbody>\n",
       "</table>\n",
       "</div>"
      ],
      "text/plain": [
       "          Country                  CO2_Emissions  Urbanization_Percentage  \\\n",
       "0     Afghanistan  9.067 million Mt  (2017 est.)                     25.5   \n",
       "1         Albania    4.5 million Mt  (2017 est.)                     60.3   \n",
       "2         Algeria  135.9 million Mt  (2017 est.)                     72.6   \n",
       "3  American Samoa        361,100 Mt  (2017 est.)                     87.2   \n",
       "4          Angola  20.95 million Mt  (2017 est.)                     65.5   \n",
       "\n",
       "   GDP_Per_Capita_Number  Population_Number  \n",
       "0                 2000.0           34940837  \n",
       "1                12500.0            3057220  \n",
       "2                15200.0           41657488  \n",
       "3                11200.0              50826  \n",
       "4                 6800.0           30355880  "
      ]
     },
     "execution_count": 65,
     "metadata": {},
     "output_type": "execute_result"
    }
   ],
   "source": [
    "data.head()"
   ]
  },
  {
   "cell_type": "markdown",
   "metadata": {},
   "source": [
    "## 11. Dropping the World Row"
   ]
  },
  {
   "cell_type": "code",
   "execution_count": 66,
   "metadata": {
    "scrolled": true
   },
   "outputs": [
    {
     "data": {
      "text/plain": [
       "Country                                            World\n",
       "CO2_Emissions              33.62 billion Mt  (2013 est.)\n",
       "Urbanization_Percentage                             55.3\n",
       "GDP_Per_Capita_Number                              17500\n",
       "Population_Number                             7405107650\n",
       "Name: 210, dtype: object"
      ]
     },
     "execution_count": 66,
     "metadata": {},
     "output_type": "execute_result"
    }
   ],
   "source": [
    "data.iloc[210,:]"
   ]
  },
  {
   "cell_type": "code",
   "execution_count": 67,
   "metadata": {},
   "outputs": [],
   "source": [
    "data.drop(210,axis=0,inplace=True)"
   ]
  },
  {
   "cell_type": "code",
   "execution_count": 68,
   "metadata": {},
   "outputs": [
    {
     "data": {
      "text/html": [
       "<div>\n",
       "<style scoped>\n",
       "    .dataframe tbody tr th:only-of-type {\n",
       "        vertical-align: middle;\n",
       "    }\n",
       "\n",
       "    .dataframe tbody tr th {\n",
       "        vertical-align: top;\n",
       "    }\n",
       "\n",
       "    .dataframe thead th {\n",
       "        text-align: right;\n",
       "    }\n",
       "</style>\n",
       "<table border=\"1\" class=\"dataframe\">\n",
       "  <thead>\n",
       "    <tr style=\"text-align: right;\">\n",
       "      <th></th>\n",
       "      <th>Country</th>\n",
       "      <th>CO2_Emissions</th>\n",
       "      <th>Urbanization_Percentage</th>\n",
       "      <th>GDP_Per_Capita_Number</th>\n",
       "      <th>Population_Number</th>\n",
       "    </tr>\n",
       "  </thead>\n",
       "  <tbody>\n",
       "    <tr>\n",
       "      <th>208</th>\n",
       "      <td>West Bank</td>\n",
       "      <td>3.113 million Mt  (2017 est.)</td>\n",
       "      <td>76.2</td>\n",
       "      <td>4300.0</td>\n",
       "      <td>2798494</td>\n",
       "    </tr>\n",
       "    <tr>\n",
       "      <th>209</th>\n",
       "      <td>Western Sahara</td>\n",
       "      <td>268,400 Mt  (2017 est.)</td>\n",
       "      <td>86.7</td>\n",
       "      <td>2500.0</td>\n",
       "      <td>619551</td>\n",
       "    </tr>\n",
       "    <tr>\n",
       "      <th>211</th>\n",
       "      <td>Yemen</td>\n",
       "      <td>13.68 million Mt  (2017 est.)</td>\n",
       "      <td>36.6</td>\n",
       "      <td>2500.0</td>\n",
       "      <td>28667230</td>\n",
       "    </tr>\n",
       "    <tr>\n",
       "      <th>212</th>\n",
       "      <td>Zambia</td>\n",
       "      <td>3.777 million Mt  (2017 est.)</td>\n",
       "      <td>43.5</td>\n",
       "      <td>4000.0</td>\n",
       "      <td>16445079</td>\n",
       "    </tr>\n",
       "  </tbody>\n",
       "</table>\n",
       "</div>"
      ],
      "text/plain": [
       "            Country                  CO2_Emissions  Urbanization_Percentage  \\\n",
       "208       West Bank  3.113 million Mt  (2017 est.)                     76.2   \n",
       "209  Western Sahara        268,400 Mt  (2017 est.)                     86.7   \n",
       "211           Yemen  13.68 million Mt  (2017 est.)                     36.6   \n",
       "212          Zambia  3.777 million Mt  (2017 est.)                     43.5   \n",
       "\n",
       "     GDP_Per_Capita_Number  Population_Number  \n",
       "208                 4300.0            2798494  \n",
       "209                 2500.0             619551  \n",
       "211                 2500.0           28667230  \n",
       "212                 4000.0           16445079  "
      ]
     },
     "execution_count": 68,
     "metadata": {},
     "output_type": "execute_result"
    }
   ],
   "source": [
    "#checking\n",
    "data.iloc[208:212,:]"
   ]
  },
  {
   "cell_type": "markdown",
   "metadata": {},
   "source": [
    "## 12. Dropping Somalia because GDP Per Capita Number is Missing"
   ]
  },
  {
   "cell_type": "code",
   "execution_count": 70,
   "metadata": {},
   "outputs": [
    {
     "data": {
      "text/plain": [
       "Country                                    Somalia\n",
       "CO2_Emissions              852,500 Mt  (2017 est.)\n",
       "Urbanization_Percentage                         45\n",
       "GDP_Per_Capita_Number                          NaN\n",
       "Population_Number                         11259029\n",
       "Name: 175, dtype: object"
      ]
     },
     "execution_count": 70,
     "metadata": {},
     "output_type": "execute_result"
    }
   ],
   "source": [
    "data.iloc[175,:]"
   ]
  },
  {
   "cell_type": "code",
   "execution_count": 71,
   "metadata": {},
   "outputs": [],
   "source": [
    "data.drop(175,axis=0,inplace=True)"
   ]
  },
  {
   "cell_type": "code",
   "execution_count": 72,
   "metadata": {},
   "outputs": [
    {
     "data": {
      "text/html": [
       "<div>\n",
       "<style scoped>\n",
       "    .dataframe tbody tr th:only-of-type {\n",
       "        vertical-align: middle;\n",
       "    }\n",
       "\n",
       "    .dataframe tbody tr th {\n",
       "        vertical-align: top;\n",
       "    }\n",
       "\n",
       "    .dataframe thead th {\n",
       "        text-align: right;\n",
       "    }\n",
       "</style>\n",
       "<table border=\"1\" class=\"dataframe\">\n",
       "  <thead>\n",
       "    <tr style=\"text-align: right;\">\n",
       "      <th></th>\n",
       "      <th>Country</th>\n",
       "      <th>CO2_Emissions</th>\n",
       "      <th>Urbanization_Percentage</th>\n",
       "      <th>GDP_Per_Capita_Number</th>\n",
       "      <th>Population_Number</th>\n",
       "    </tr>\n",
       "  </thead>\n",
       "  <tbody>\n",
       "    <tr>\n",
       "      <th>172</th>\n",
       "      <td>Slovakia</td>\n",
       "      <td>34.86 million Mt  (2017 est.)</td>\n",
       "      <td>53.7</td>\n",
       "      <td>33100.0</td>\n",
       "      <td>5445040</td>\n",
       "    </tr>\n",
       "    <tr>\n",
       "      <th>173</th>\n",
       "      <td>Slovenia</td>\n",
       "      <td>14.37 million Mt  (2017 est.)</td>\n",
       "      <td>54.5</td>\n",
       "      <td>34500.0</td>\n",
       "      <td>2102126</td>\n",
       "    </tr>\n",
       "    <tr>\n",
       "      <th>174</th>\n",
       "      <td>Solomon Islands</td>\n",
       "      <td>233,500 Mt  (2017 est.)</td>\n",
       "      <td>23.7</td>\n",
       "      <td>2200.0</td>\n",
       "      <td>660121</td>\n",
       "    </tr>\n",
       "    <tr>\n",
       "      <th>176</th>\n",
       "      <td>South Africa</td>\n",
       "      <td>572.3 million Mt  (2017 est.)</td>\n",
       "      <td>66.4</td>\n",
       "      <td>13600.0</td>\n",
       "      <td>55380210</td>\n",
       "    </tr>\n",
       "    <tr>\n",
       "      <th>177</th>\n",
       "      <td>South Sudan</td>\n",
       "      <td>1.224 million Mt  (2017 est.)</td>\n",
       "      <td>19.6</td>\n",
       "      <td>1600.0</td>\n",
       "      <td>10204581</td>\n",
       "    </tr>\n",
       "    <tr>\n",
       "      <th>178</th>\n",
       "      <td>Spain</td>\n",
       "      <td>286.7 million Mt  (2017 est.)</td>\n",
       "      <td>80.3</td>\n",
       "      <td>38400.0</td>\n",
       "      <td>49331076</td>\n",
       "    </tr>\n",
       "  </tbody>\n",
       "</table>\n",
       "</div>"
      ],
      "text/plain": [
       "             Country                  CO2_Emissions  Urbanization_Percentage  \\\n",
       "172         Slovakia  34.86 million Mt  (2017 est.)                     53.7   \n",
       "173         Slovenia  14.37 million Mt  (2017 est.)                     54.5   \n",
       "174  Solomon Islands        233,500 Mt  (2017 est.)                     23.7   \n",
       "176     South Africa  572.3 million Mt  (2017 est.)                     66.4   \n",
       "177      South Sudan  1.224 million Mt  (2017 est.)                     19.6   \n",
       "178            Spain  286.7 million Mt  (2017 est.)                     80.3   \n",
       "\n",
       "     GDP_Per_Capita_Number  Population_Number  \n",
       "172                33100.0            5445040  \n",
       "173                34500.0            2102126  \n",
       "174                 2200.0             660121  \n",
       "176                13600.0           55380210  \n",
       "177                 1600.0           10204581  \n",
       "178                38400.0           49331076  "
      ]
     },
     "execution_count": 72,
     "metadata": {},
     "output_type": "execute_result"
    }
   ],
   "source": [
    "#checking\n",
    "data.iloc[172:178,:]"
   ]
  },
  {
   "cell_type": "markdown",
   "metadata": {},
   "source": [
    "## 12. Saving File for R"
   ]
  },
  {
   "cell_type": "code",
   "execution_count": 73,
   "metadata": {},
   "outputs": [],
   "source": [
    "data.to_csv(\"Cleaned_Data.csv\",index=None)"
   ]
  }
 ],
 "metadata": {
  "kernelspec": {
   "display_name": "Python 3",
   "language": "python",
   "name": "python3"
  },
  "language_info": {
   "codemirror_mode": {
    "name": "ipython",
    "version": 3
   },
   "file_extension": ".py",
   "mimetype": "text/x-python",
   "name": "python",
   "nbconvert_exporter": "python",
   "pygments_lexer": "ipython3",
   "version": "3.7.1"
  }
 },
 "nbformat": 4,
 "nbformat_minor": 2
}
