{
 "cells": [
  {
   "cell_type": "markdown",
   "metadata": {},
   "source": [
    "# 1. Data to be used"
   ]
  },
  {
   "cell_type": "markdown",
   "metadata": {},
   "source": [
    "All data is from the CIA World Factbook (https://www.cia.gov/library/publications/resources/the-world-factbook/)\n",
    "\n",
    "1. 'emissions' reports millions of megatons of carbon dioxide emitted nationally from consumption of energy\n",
    "2. 'urban' is the percent of total population living in urban areas\n",
    "3. 'gdp' is the gross domestic product per capita in US dollars\n",
    "4. 'pop' reports number of people"
   ]
  },
  {
   "cell_type": "markdown",
   "metadata": {},
   "source": [
    "Links to the tables of data:\n",
    "\n",
    "1. emissions = https://www.cia.gov/library/publications/resources/the-world-factbook/fields/274.html\n",
    "2. urban = https://www.cia.gov/library/publications/resources/the-world-factbook/fields/349.html\n",
    "3. gdp = https://www.cia.gov/library/publications/resources/the-world-factbook/fields/211.html\n",
    "4. pop = https://www.cia.gov/library/publications/resources/the-world-factbook/fields/335.html"
   ]
  },
  {
   "cell_type": "markdown",
   "metadata": {},
   "source": [
    "# 2. Reading the data"
   ]
  },
  {
   "cell_type": "code",
   "execution_count": 1,
   "metadata": {},
   "outputs": [],
   "source": [
    "import pandas as pd"
   ]
  },
  {
   "cell_type": "code",
   "execution_count": 2,
   "metadata": {},
   "outputs": [
    {
     "data": {
      "text/html": [
       "<div>\n",
       "<style scoped>\n",
       "    .dataframe tbody tr th:only-of-type {\n",
       "        vertical-align: middle;\n",
       "    }\n",
       "\n",
       "    .dataframe tbody tr th {\n",
       "        vertical-align: top;\n",
       "    }\n",
       "\n",
       "    .dataframe thead th {\n",
       "        text-align: right;\n",
       "    }\n",
       "</style>\n",
       "<table border=\"1\" class=\"dataframe\">\n",
       "  <thead>\n",
       "    <tr style=\"text-align: right;\">\n",
       "      <th></th>\n",
       "      <th>Country</th>\n",
       "      <th>Carbon dioxide emissions from consumption of energy</th>\n",
       "    </tr>\n",
       "  </thead>\n",
       "  <tbody>\n",
       "    <tr>\n",
       "      <th>0</th>\n",
       "      <td>Afghanistan</td>\n",
       "      <td>9.067 million Mt  (2017 est.)</td>\n",
       "    </tr>\n",
       "    <tr>\n",
       "      <th>1</th>\n",
       "      <td>Albania</td>\n",
       "      <td>4.5 million Mt  (2017 est.)</td>\n",
       "    </tr>\n",
       "    <tr>\n",
       "      <th>2</th>\n",
       "      <td>Algeria</td>\n",
       "      <td>135.9 million Mt  (2017 est.)</td>\n",
       "    </tr>\n",
       "    <tr>\n",
       "      <th>3</th>\n",
       "      <td>American Samoa</td>\n",
       "      <td>361,100 Mt  (2017 est.)</td>\n",
       "    </tr>\n",
       "    <tr>\n",
       "      <th>4</th>\n",
       "      <td>Angola</td>\n",
       "      <td>20.95 million Mt  (2017 est.)</td>\n",
       "    </tr>\n",
       "  </tbody>\n",
       "</table>\n",
       "</div>"
      ],
      "text/plain": [
       "          Country Carbon dioxide emissions from consumption of energy\n",
       "0     Afghanistan                      9.067 million Mt  (2017 est.) \n",
       "1         Albania                        4.5 million Mt  (2017 est.) \n",
       "2         Algeria                      135.9 million Mt  (2017 est.) \n",
       "3  American Samoa                            361,100 Mt  (2017 est.) \n",
       "4          Angola                      20.95 million Mt  (2017 est.) "
      ]
     },
     "execution_count": 2,
     "metadata": {},
     "output_type": "execute_result"
    }
   ],
   "source": [
    "#Creating a dataframe of CO2 emmissions\n",
    "link1=\"https://www.cia.gov/library/publications/resources/the-world-factbook/fields/274.html\"\n",
    "emissions=pd.read_html(link1,header=0,flavor='bs4',attrs={'id': 'fieldListing'})[0]\n",
    "emissions.head()"
   ]
  },
  {
   "cell_type": "code",
   "execution_count": 3,
   "metadata": {},
   "outputs": [
    {
     "data": {
      "text/html": [
       "<div>\n",
       "<style scoped>\n",
       "    .dataframe tbody tr th:only-of-type {\n",
       "        vertical-align: middle;\n",
       "    }\n",
       "\n",
       "    .dataframe tbody tr th {\n",
       "        vertical-align: top;\n",
       "    }\n",
       "\n",
       "    .dataframe thead th {\n",
       "        text-align: right;\n",
       "    }\n",
       "</style>\n",
       "<table border=\"1\" class=\"dataframe\">\n",
       "  <thead>\n",
       "    <tr style=\"text-align: right;\">\n",
       "      <th></th>\n",
       "      <th>Country</th>\n",
       "      <th>Urbanization</th>\n",
       "    </tr>\n",
       "  </thead>\n",
       "  <tbody>\n",
       "    <tr>\n",
       "      <th>0</th>\n",
       "      <td>Afghanistan</td>\n",
       "      <td>urban population:  25.5% of total population  ...</td>\n",
       "    </tr>\n",
       "    <tr>\n",
       "      <th>1</th>\n",
       "      <td>Albania</td>\n",
       "      <td>urban population:  60.3% of total population  ...</td>\n",
       "    </tr>\n",
       "    <tr>\n",
       "      <th>2</th>\n",
       "      <td>Algeria</td>\n",
       "      <td>urban population:  72.6% of total population  ...</td>\n",
       "    </tr>\n",
       "    <tr>\n",
       "      <th>3</th>\n",
       "      <td>American Samoa</td>\n",
       "      <td>urban population:  87.2% of total population  ...</td>\n",
       "    </tr>\n",
       "    <tr>\n",
       "      <th>4</th>\n",
       "      <td>Andorra</td>\n",
       "      <td>urban population:  88.1% of total population  ...</td>\n",
       "    </tr>\n",
       "  </tbody>\n",
       "</table>\n",
       "</div>"
      ],
      "text/plain": [
       "          Country                                       Urbanization\n",
       "0     Afghanistan  urban population:  25.5% of total population  ...\n",
       "1         Albania  urban population:  60.3% of total population  ...\n",
       "2         Algeria  urban population:  72.6% of total population  ...\n",
       "3  American Samoa  urban population:  87.2% of total population  ...\n",
       "4         Andorra  urban population:  88.1% of total population  ..."
      ]
     },
     "execution_count": 3,
     "metadata": {},
     "output_type": "execute_result"
    }
   ],
   "source": [
    "#creating a dataframe of percent urbanization\n",
    "link2=\"https://www.cia.gov/library/publications/resources/the-world-factbook/fields/349.html\"\n",
    "urban=pd.read_html(link2,header=0,flavor='bs4',attrs={'id': 'fieldListing'})[0]\n",
    "urban.head()"
   ]
  },
  {
   "cell_type": "code",
   "execution_count": 4,
   "metadata": {},
   "outputs": [
    {
     "data": {
      "text/plain": [
       "(232, 2)"
      ]
     },
     "execution_count": 4,
     "metadata": {},
     "output_type": "execute_result"
    }
   ],
   "source": [
    "#Creating a dataframe of GDP per capita\n",
    "link3=\"https://www.cia.gov/library/publications/resources/the-world-factbook/fields/211.html\"\n",
    "gdp=pd.read_html(link3,header=0,flavor='bs4',attrs={'id': 'fieldListing'})[0]\n",
    "gdp.shape"
   ]
  },
  {
   "cell_type": "code",
   "execution_count": 5,
   "metadata": {},
   "outputs": [
    {
     "data": {
      "text/plain": [
       "(262, 2)"
      ]
     },
     "execution_count": 5,
     "metadata": {},
     "output_type": "execute_result"
    }
   ],
   "source": [
    "#Creating a data frame of population\n",
    "link4=\"https://www.cia.gov/library/publications/resources/the-world-factbook/fields/335.html\"\n",
    "pop=pd.read_html(link4,header=0,flavor='bs4',attrs={'id': 'fieldListing'})[0]\n",
    "pop.shape"
   ]
  },
  {
   "cell_type": "markdown",
   "metadata": {},
   "source": [
    "# 3. Merging data sets"
   ]
  },
  {
   "cell_type": "code",
   "execution_count": 6,
   "metadata": {},
   "outputs": [
    {
     "data": {
      "text/html": [
       "<div>\n",
       "<style scoped>\n",
       "    .dataframe tbody tr th:only-of-type {\n",
       "        vertical-align: middle;\n",
       "    }\n",
       "\n",
       "    .dataframe tbody tr th {\n",
       "        vertical-align: top;\n",
       "    }\n",
       "\n",
       "    .dataframe thead th {\n",
       "        text-align: right;\n",
       "    }\n",
       "</style>\n",
       "<table border=\"1\" class=\"dataframe\">\n",
       "  <thead>\n",
       "    <tr style=\"text-align: right;\">\n",
       "      <th></th>\n",
       "      <th>Country</th>\n",
       "      <th>Carbon dioxide emissions from consumption of energy</th>\n",
       "      <th>Urbanization</th>\n",
       "    </tr>\n",
       "  </thead>\n",
       "  <tbody>\n",
       "    <tr>\n",
       "      <th>0</th>\n",
       "      <td>Afghanistan</td>\n",
       "      <td>9.067 million Mt  (2017 est.)</td>\n",
       "      <td>urban population:  25.5% of total population  ...</td>\n",
       "    </tr>\n",
       "    <tr>\n",
       "      <th>1</th>\n",
       "      <td>Albania</td>\n",
       "      <td>4.5 million Mt  (2017 est.)</td>\n",
       "      <td>urban population:  60.3% of total population  ...</td>\n",
       "    </tr>\n",
       "    <tr>\n",
       "      <th>2</th>\n",
       "      <td>Algeria</td>\n",
       "      <td>135.9 million Mt  (2017 est.)</td>\n",
       "      <td>urban population:  72.6% of total population  ...</td>\n",
       "    </tr>\n",
       "    <tr>\n",
       "      <th>3</th>\n",
       "      <td>American Samoa</td>\n",
       "      <td>361,100 Mt  (2017 est.)</td>\n",
       "      <td>urban population:  87.2% of total population  ...</td>\n",
       "    </tr>\n",
       "    <tr>\n",
       "      <th>4</th>\n",
       "      <td>Angola</td>\n",
       "      <td>20.95 million Mt  (2017 est.)</td>\n",
       "      <td>urban population:  65.5% of total population  ...</td>\n",
       "    </tr>\n",
       "  </tbody>\n",
       "</table>\n",
       "</div>"
      ],
      "text/plain": [
       "          Country Carbon dioxide emissions from consumption of energy  \\\n",
       "0     Afghanistan                      9.067 million Mt  (2017 est.)    \n",
       "1         Albania                        4.5 million Mt  (2017 est.)    \n",
       "2         Algeria                      135.9 million Mt  (2017 est.)    \n",
       "3  American Samoa                            361,100 Mt  (2017 est.)    \n",
       "4          Angola                      20.95 million Mt  (2017 est.)    \n",
       "\n",
       "                                        Urbanization  \n",
       "0  urban population:  25.5% of total population  ...  \n",
       "1  urban population:  60.3% of total population  ...  \n",
       "2  urban population:  72.6% of total population  ...  \n",
       "3  urban population:  87.2% of total population  ...  \n",
       "4  urban population:  65.5% of total population  ...  "
      ]
     },
     "execution_count": 6,
     "metadata": {},
     "output_type": "execute_result"
    }
   ],
   "source": [
    "#1st merge. Confirm that country data is lining up. \n",
    "join1=pd.merge(emissions,urban,left_on='Country',right_on='Country')\n",
    "join1.head()"
   ]
  },
  {
   "cell_type": "code",
   "execution_count": 7,
   "metadata": {},
   "outputs": [
    {
     "data": {
      "text/plain": [
       "(214, 3)"
      ]
     },
     "execution_count": 7,
     "metadata": {},
     "output_type": "execute_result"
    }
   ],
   "source": [
    "join1.shape"
   ]
  },
  {
   "cell_type": "markdown",
   "metadata": {},
   "source": [
    "Looks like 18 countries that didn't show up in both dataframes being merged were dropped."
   ]
  },
  {
   "cell_type": "code",
   "execution_count": 8,
   "metadata": {},
   "outputs": [
    {
     "data": {
      "text/plain": [
       "(214, 4)"
      ]
     },
     "execution_count": 8,
     "metadata": {},
     "output_type": "execute_result"
    }
   ],
   "source": [
    "#2nd merge. Confirm that country data is lining up. \n",
    "join2=pd.merge(join1,gdp,on='Country')\n",
    "join2.shape"
   ]
  },
  {
   "cell_type": "code",
   "execution_count": 9,
   "metadata": {},
   "outputs": [
    {
     "data": {
      "text/html": [
       "<div>\n",
       "<style scoped>\n",
       "    .dataframe tbody tr th:only-of-type {\n",
       "        vertical-align: middle;\n",
       "    }\n",
       "\n",
       "    .dataframe tbody tr th {\n",
       "        vertical-align: top;\n",
       "    }\n",
       "\n",
       "    .dataframe thead th {\n",
       "        text-align: right;\n",
       "    }\n",
       "</style>\n",
       "<table border=\"1\" class=\"dataframe\">\n",
       "  <thead>\n",
       "    <tr style=\"text-align: right;\">\n",
       "      <th></th>\n",
       "      <th>Country</th>\n",
       "      <th>Carbon dioxide emissions from consumption of energy</th>\n",
       "      <th>Urbanization</th>\n",
       "      <th>GDP - per capita (PPP)</th>\n",
       "      <th>Population</th>\n",
       "    </tr>\n",
       "  </thead>\n",
       "  <tbody>\n",
       "    <tr>\n",
       "      <th>0</th>\n",
       "      <td>Afghanistan</td>\n",
       "      <td>9.067 million Mt  (2017 est.)</td>\n",
       "      <td>urban population:  25.5% of total population  ...</td>\n",
       "      <td>$2,000  (2017 est.)  $2,000  (2016 est.)  $2,0...</td>\n",
       "      <td>34,940,837  (July 2018 est.)</td>\n",
       "    </tr>\n",
       "    <tr>\n",
       "      <th>1</th>\n",
       "      <td>Albania</td>\n",
       "      <td>4.5 million Mt  (2017 est.)</td>\n",
       "      <td>urban population:  60.3% of total population  ...</td>\n",
       "      <td>$12,500  (2017 est.)  $12,100  (2016 est.)  $1...</td>\n",
       "      <td>3,057,220  (July 2018 est.)</td>\n",
       "    </tr>\n",
       "    <tr>\n",
       "      <th>2</th>\n",
       "      <td>Algeria</td>\n",
       "      <td>135.9 million Mt  (2017 est.)</td>\n",
       "      <td>urban population:  72.6% of total population  ...</td>\n",
       "      <td>$15,200  (2017 est.)  $15,200  (2016 est.)  $1...</td>\n",
       "      <td>41,657,488  (July 2018 est.)</td>\n",
       "    </tr>\n",
       "    <tr>\n",
       "      <th>3</th>\n",
       "      <td>American Samoa</td>\n",
       "      <td>361,100 Mt  (2017 est.)</td>\n",
       "      <td>urban population:  87.2% of total population  ...</td>\n",
       "      <td>$11,200  (2016 est.)  $11,300  (2015 est.)  $1...</td>\n",
       "      <td>50,826  (July 2018 est.)</td>\n",
       "    </tr>\n",
       "    <tr>\n",
       "      <th>4</th>\n",
       "      <td>Angola</td>\n",
       "      <td>20.95 million Mt  (2017 est.)</td>\n",
       "      <td>urban population:  65.5% of total population  ...</td>\n",
       "      <td>$6,800  (2017 est.)  $7,200  (2016 est.)  $7,6...</td>\n",
       "      <td>30,355,880  (July 2017 est.)  (July 2018 est.)...</td>\n",
       "    </tr>\n",
       "  </tbody>\n",
       "</table>\n",
       "</div>"
      ],
      "text/plain": [
       "          Country Carbon dioxide emissions from consumption of energy  \\\n",
       "0     Afghanistan                      9.067 million Mt  (2017 est.)    \n",
       "1         Albania                        4.5 million Mt  (2017 est.)    \n",
       "2         Algeria                      135.9 million Mt  (2017 est.)    \n",
       "3  American Samoa                            361,100 Mt  (2017 est.)    \n",
       "4          Angola                      20.95 million Mt  (2017 est.)    \n",
       "\n",
       "                                        Urbanization  \\\n",
       "0  urban population:  25.5% of total population  ...   \n",
       "1  urban population:  60.3% of total population  ...   \n",
       "2  urban population:  72.6% of total population  ...   \n",
       "3  urban population:  87.2% of total population  ...   \n",
       "4  urban population:  65.5% of total population  ...   \n",
       "\n",
       "                              GDP - per capita (PPP)  \\\n",
       "0  $2,000  (2017 est.)  $2,000  (2016 est.)  $2,0...   \n",
       "1  $12,500  (2017 est.)  $12,100  (2016 est.)  $1...   \n",
       "2  $15,200  (2017 est.)  $15,200  (2016 est.)  $1...   \n",
       "3  $11,200  (2016 est.)  $11,300  (2015 est.)  $1...   \n",
       "4  $6,800  (2017 est.)  $7,200  (2016 est.)  $7,6...   \n",
       "\n",
       "                                          Population  \n",
       "0                       34,940,837  (July 2018 est.)  \n",
       "1                        3,057,220  (July 2018 est.)  \n",
       "2                       41,657,488  (July 2018 est.)  \n",
       "3                           50,826  (July 2018 est.)  \n",
       "4  30,355,880  (July 2017 est.)  (July 2018 est.)...  "
      ]
     },
     "execution_count": 9,
     "metadata": {},
     "output_type": "execute_result"
    }
   ],
   "source": [
    "#3rd merge. Confirm that country data is lining up. \n",
    "data=pd.merge(join2,pop,on='Country')\n",
    "data.head()"
   ]
  },
  {
   "cell_type": "code",
   "execution_count": 10,
   "metadata": {},
   "outputs": [
    {
     "data": {
      "text/plain": [
       "(214, 5)"
      ]
     },
     "execution_count": 10,
     "metadata": {},
     "output_type": "execute_result"
    }
   ],
   "source": [
    "data.shape"
   ]
  },
  {
   "cell_type": "markdown",
   "metadata": {},
   "source": [
    "# 4. Renaming columns"
   ]
  },
  {
   "cell_type": "code",
   "execution_count": 11,
   "metadata": {},
   "outputs": [
    {
     "name": "stdout",
     "output_type": "stream",
     "text": [
      "<class 'pandas.core.frame.DataFrame'>\n",
      "Int64Index: 214 entries, 0 to 213\n",
      "Data columns (total 5 columns):\n",
      "Country                                                214 non-null object\n",
      "Carbon dioxide emissions from consumption of energy    214 non-null object\n",
      "Urbanization                                           214 non-null object\n",
      "GDP - per capita (PPP)                                 214 non-null object\n",
      "Population                                             214 non-null object\n",
      "dtypes: object(5)\n",
      "memory usage: 10.0+ KB\n"
     ]
    }
   ],
   "source": [
    "data.info()"
   ]
  },
  {
   "cell_type": "code",
   "execution_count": 12,
   "metadata": {},
   "outputs": [
    {
     "data": {
      "text/plain": [
       "Index(['Country', 'Carbon dioxide emissions from consumption of energy',\n",
       "       'Urbanization', 'GDP - per capita (PPP)', 'Population'],\n",
       "      dtype='object')"
      ]
     },
     "execution_count": 12,
     "metadata": {},
     "output_type": "execute_result"
    }
   ],
   "source": [
    "data.columns"
   ]
  },
  {
   "cell_type": "code",
   "execution_count": 13,
   "metadata": {},
   "outputs": [],
   "source": [
    "newNames=['Country','CO2_Emissions','Urbanization','GDP_Per_Capita']"
   ]
  },
  {
   "cell_type": "code",
   "execution_count": 14,
   "metadata": {},
   "outputs": [],
   "source": [
    "nameChanges={old:new for old,new in zip(data.columns,newNames)}"
   ]
  },
  {
   "cell_type": "code",
   "execution_count": 15,
   "metadata": {},
   "outputs": [],
   "source": [
    "data.rename(nameChanges,axis=1,inplace=True)"
   ]
  },
  {
   "cell_type": "code",
   "execution_count": 16,
   "metadata": {},
   "outputs": [
    {
     "data": {
      "text/html": [
       "<div>\n",
       "<style scoped>\n",
       "    .dataframe tbody tr th:only-of-type {\n",
       "        vertical-align: middle;\n",
       "    }\n",
       "\n",
       "    .dataframe tbody tr th {\n",
       "        vertical-align: top;\n",
       "    }\n",
       "\n",
       "    .dataframe thead th {\n",
       "        text-align: right;\n",
       "    }\n",
       "</style>\n",
       "<table border=\"1\" class=\"dataframe\">\n",
       "  <thead>\n",
       "    <tr style=\"text-align: right;\">\n",
       "      <th></th>\n",
       "      <th>Country</th>\n",
       "      <th>CO2_Emissions</th>\n",
       "      <th>Urbanization</th>\n",
       "      <th>GDP_Per_Capita</th>\n",
       "      <th>Population</th>\n",
       "    </tr>\n",
       "  </thead>\n",
       "  <tbody>\n",
       "    <tr>\n",
       "      <th>0</th>\n",
       "      <td>Afghanistan</td>\n",
       "      <td>9.067 million Mt  (2017 est.)</td>\n",
       "      <td>urban population:  25.5% of total population  ...</td>\n",
       "      <td>$2,000  (2017 est.)  $2,000  (2016 est.)  $2,0...</td>\n",
       "      <td>34,940,837  (July 2018 est.)</td>\n",
       "    </tr>\n",
       "    <tr>\n",
       "      <th>1</th>\n",
       "      <td>Albania</td>\n",
       "      <td>4.5 million Mt  (2017 est.)</td>\n",
       "      <td>urban population:  60.3% of total population  ...</td>\n",
       "      <td>$12,500  (2017 est.)  $12,100  (2016 est.)  $1...</td>\n",
       "      <td>3,057,220  (July 2018 est.)</td>\n",
       "    </tr>\n",
       "    <tr>\n",
       "      <th>2</th>\n",
       "      <td>Algeria</td>\n",
       "      <td>135.9 million Mt  (2017 est.)</td>\n",
       "      <td>urban population:  72.6% of total population  ...</td>\n",
       "      <td>$15,200  (2017 est.)  $15,200  (2016 est.)  $1...</td>\n",
       "      <td>41,657,488  (July 2018 est.)</td>\n",
       "    </tr>\n",
       "    <tr>\n",
       "      <th>3</th>\n",
       "      <td>American Samoa</td>\n",
       "      <td>361,100 Mt  (2017 est.)</td>\n",
       "      <td>urban population:  87.2% of total population  ...</td>\n",
       "      <td>$11,200  (2016 est.)  $11,300  (2015 est.)  $1...</td>\n",
       "      <td>50,826  (July 2018 est.)</td>\n",
       "    </tr>\n",
       "    <tr>\n",
       "      <th>4</th>\n",
       "      <td>Angola</td>\n",
       "      <td>20.95 million Mt  (2017 est.)</td>\n",
       "      <td>urban population:  65.5% of total population  ...</td>\n",
       "      <td>$6,800  (2017 est.)  $7,200  (2016 est.)  $7,6...</td>\n",
       "      <td>30,355,880  (July 2017 est.)  (July 2018 est.)...</td>\n",
       "    </tr>\n",
       "  </tbody>\n",
       "</table>\n",
       "</div>"
      ],
      "text/plain": [
       "          Country                  CO2_Emissions  \\\n",
       "0     Afghanistan  9.067 million Mt  (2017 est.)   \n",
       "1         Albania    4.5 million Mt  (2017 est.)   \n",
       "2         Algeria  135.9 million Mt  (2017 est.)   \n",
       "3  American Samoa        361,100 Mt  (2017 est.)   \n",
       "4          Angola  20.95 million Mt  (2017 est.)   \n",
       "\n",
       "                                        Urbanization  \\\n",
       "0  urban population:  25.5% of total population  ...   \n",
       "1  urban population:  60.3% of total population  ...   \n",
       "2  urban population:  72.6% of total population  ...   \n",
       "3  urban population:  87.2% of total population  ...   \n",
       "4  urban population:  65.5% of total population  ...   \n",
       "\n",
       "                                      GDP_Per_Capita  \\\n",
       "0  $2,000  (2017 est.)  $2,000  (2016 est.)  $2,0...   \n",
       "1  $12,500  (2017 est.)  $12,100  (2016 est.)  $1...   \n",
       "2  $15,200  (2017 est.)  $15,200  (2016 est.)  $1...   \n",
       "3  $11,200  (2016 est.)  $11,300  (2015 est.)  $1...   \n",
       "4  $6,800  (2017 est.)  $7,200  (2016 est.)  $7,6...   \n",
       "\n",
       "                                          Population  \n",
       "0                       34,940,837  (July 2018 est.)  \n",
       "1                        3,057,220  (July 2018 est.)  \n",
       "2                       41,657,488  (July 2018 est.)  \n",
       "3                           50,826  (July 2018 est.)  \n",
       "4  30,355,880  (July 2017 est.)  (July 2018 est.)...  "
      ]
     },
     "execution_count": 16,
     "metadata": {},
     "output_type": "execute_result"
    }
   ],
   "source": [
    "data.head()"
   ]
  },
  {
   "cell_type": "code",
   "execution_count": 17,
   "metadata": {},
   "outputs": [
    {
     "data": {
      "text/plain": [
       "Country           object\n",
       "CO2_Emissions     object\n",
       "Urbanization      object\n",
       "GDP_Per_Capita    object\n",
       "Population        object\n",
       "dtype: object"
      ]
     },
     "execution_count": 17,
     "metadata": {},
     "output_type": "execute_result"
    }
   ],
   "source": [
    "data.dtypes"
   ]
  },
  {
   "cell_type": "markdown",
   "metadata": {},
   "source": [
    "## 5. Cleaning the Country Column"
   ]
  },
  {
   "cell_type": "code",
   "execution_count": 18,
   "metadata": {},
   "outputs": [
    {
     "ename": "NameError",
     "evalue": "name 're' is not defined",
     "output_type": "error",
     "traceback": [
      "\u001b[0;31m---------------------------------------------------------------------------\u001b[0m",
      "\u001b[0;31mNameError\u001b[0m                                 Traceback (most recent call last)",
      "\u001b[0;32m<ipython-input-18-b14a7981c65c>\u001b[0m in \u001b[0;36m<module>\u001b[0;34m\u001b[0m\n\u001b[1;32m      3\u001b[0m \u001b[0mnothing\u001b[0m\u001b[0;34m=\u001b[0m\u001b[0;34m''\u001b[0m\u001b[0;34m\u001b[0m\u001b[0;34m\u001b[0m\u001b[0m\n\u001b[1;32m      4\u001b[0m \u001b[0mtestString\u001b[0m\u001b[0;34m=\u001b[0m\u001b[0;34m'World '\u001b[0m\u001b[0;34m\u001b[0m\u001b[0;34m\u001b[0m\u001b[0m\n\u001b[0;32m----> 5\u001b[0;31m \u001b[0mre\u001b[0m\u001b[0;34m.\u001b[0m\u001b[0msub\u001b[0m\u001b[0;34m(\u001b[0m\u001b[0mpattern\u001b[0m\u001b[0;34m,\u001b[0m\u001b[0mnothing\u001b[0m\u001b[0;34m,\u001b[0m\u001b[0mtestString\u001b[0m\u001b[0;34m)\u001b[0m\u001b[0;34m\u001b[0m\u001b[0;34m\u001b[0m\u001b[0m\n\u001b[0m",
      "\u001b[0;31mNameError\u001b[0m: name 're' is not defined"
     ]
    }
   ],
   "source": [
    "#Getting rid of spaces\n",
    "pattern='\\\\ '\n",
    "nothing=''\n",
    "testString='World '\n",
    "re.sub(pattern,nothing,testString)"
   ]
  },
  {
   "cell_type": "code",
   "execution_count": null,
   "metadata": {},
   "outputs": [],
   "source": [
    "pattern='\\\\ '\n",
    "nothing=''\n",
    "newValues=[re.sub(pattern,nothing,oldValue) for oldValue in data.Country]"
   ]
  },
  {
   "cell_type": "code",
   "execution_count": null,
   "metadata": {},
   "outputs": [],
   "source": [
    "data=data.assign(Country=newValues)\n",
    "data.head()"
   ]
  },
  {
   "cell_type": "markdown",
   "metadata": {},
   "source": [
    "# 6. Cleaning the CO2 Emissions Column"
   ]
  },
  {
   "cell_type": "code",
   "execution_count": 19,
   "metadata": {},
   "outputs": [
    {
     "data": {
      "text/html": [
       "<div>\n",
       "<style scoped>\n",
       "    .dataframe tbody tr th:only-of-type {\n",
       "        vertical-align: middle;\n",
       "    }\n",
       "\n",
       "    .dataframe tbody tr th {\n",
       "        vertical-align: top;\n",
       "    }\n",
       "\n",
       "    .dataframe thead th {\n",
       "        text-align: right;\n",
       "    }\n",
       "</style>\n",
       "<table border=\"1\" class=\"dataframe\">\n",
       "  <thead>\n",
       "    <tr style=\"text-align: right;\">\n",
       "      <th></th>\n",
       "      <th>Country</th>\n",
       "      <th>CO2_Emissions</th>\n",
       "      <th>Urbanization</th>\n",
       "      <th>GDP_Per_Capita</th>\n",
       "      <th>Population</th>\n",
       "      <th>CO2_Emissions_Number</th>\n",
       "    </tr>\n",
       "  </thead>\n",
       "  <tbody>\n",
       "    <tr>\n",
       "      <th>0</th>\n",
       "      <td>Afghanistan</td>\n",
       "      <td>9.067 million Mt  (2017 est.)</td>\n",
       "      <td>urban population:  25.5% of total population  ...</td>\n",
       "      <td>$2,000  (2017 est.)  $2,000  (2016 est.)  $2,0...</td>\n",
       "      <td>34,940,837  (July 2018 est.)</td>\n",
       "      <td>9.067 million</td>\n",
       "    </tr>\n",
       "    <tr>\n",
       "      <th>1</th>\n",
       "      <td>Albania</td>\n",
       "      <td>4.5 million Mt  (2017 est.)</td>\n",
       "      <td>urban population:  60.3% of total population  ...</td>\n",
       "      <td>$12,500  (2017 est.)  $12,100  (2016 est.)  $1...</td>\n",
       "      <td>3,057,220  (July 2018 est.)</td>\n",
       "      <td>4.5 million</td>\n",
       "    </tr>\n",
       "    <tr>\n",
       "      <th>2</th>\n",
       "      <td>Algeria</td>\n",
       "      <td>135.9 million Mt  (2017 est.)</td>\n",
       "      <td>urban population:  72.6% of total population  ...</td>\n",
       "      <td>$15,200  (2017 est.)  $15,200  (2016 est.)  $1...</td>\n",
       "      <td>41,657,488  (July 2018 est.)</td>\n",
       "      <td>135.9 million</td>\n",
       "    </tr>\n",
       "    <tr>\n",
       "      <th>3</th>\n",
       "      <td>American Samoa</td>\n",
       "      <td>361,100 Mt  (2017 est.)</td>\n",
       "      <td>urban population:  87.2% of total population  ...</td>\n",
       "      <td>$11,200  (2016 est.)  $11,300  (2015 est.)  $1...</td>\n",
       "      <td>50,826  (July 2018 est.)</td>\n",
       "      <td>361,100</td>\n",
       "    </tr>\n",
       "    <tr>\n",
       "      <th>4</th>\n",
       "      <td>Angola</td>\n",
       "      <td>20.95 million Mt  (2017 est.)</td>\n",
       "      <td>urban population:  65.5% of total population  ...</td>\n",
       "      <td>$6,800  (2017 est.)  $7,200  (2016 est.)  $7,6...</td>\n",
       "      <td>30,355,880  (July 2017 est.)  (July 2018 est.)...</td>\n",
       "      <td>20.95 million</td>\n",
       "    </tr>\n",
       "  </tbody>\n",
       "</table>\n",
       "</div>"
      ],
      "text/plain": [
       "          Country                  CO2_Emissions  \\\n",
       "0     Afghanistan  9.067 million Mt  (2017 est.)   \n",
       "1         Albania    4.5 million Mt  (2017 est.)   \n",
       "2         Algeria  135.9 million Mt  (2017 est.)   \n",
       "3  American Samoa        361,100 Mt  (2017 est.)   \n",
       "4          Angola  20.95 million Mt  (2017 est.)   \n",
       "\n",
       "                                        Urbanization  \\\n",
       "0  urban population:  25.5% of total population  ...   \n",
       "1  urban population:  60.3% of total population  ...   \n",
       "2  urban population:  72.6% of total population  ...   \n",
       "3  urban population:  87.2% of total population  ...   \n",
       "4  urban population:  65.5% of total population  ...   \n",
       "\n",
       "                                      GDP_Per_Capita  \\\n",
       "0  $2,000  (2017 est.)  $2,000  (2016 est.)  $2,0...   \n",
       "1  $12,500  (2017 est.)  $12,100  (2016 est.)  $1...   \n",
       "2  $15,200  (2017 est.)  $15,200  (2016 est.)  $1...   \n",
       "3  $11,200  (2016 est.)  $11,300  (2015 est.)  $1...   \n",
       "4  $6,800  (2017 est.)  $7,200  (2016 est.)  $7,6...   \n",
       "\n",
       "                                          Population CO2_Emissions_Number  \n",
       "0                       34,940,837  (July 2018 est.)        9.067 million  \n",
       "1                        3,057,220  (July 2018 est.)          4.5 million  \n",
       "2                       41,657,488  (July 2018 est.)        135.9 million  \n",
       "3                           50,826  (July 2018 est.)              361,100  \n",
       "4  30,355,880  (July 2017 est.)  (July 2018 est.)...        20.95 million  "
      ]
     },
     "execution_count": 19,
     "metadata": {},
     "output_type": "execute_result"
    }
   ],
   "source": [
    "#Split values after million\n",
    "emissionsnumber=[element.split(' Mt')[0] for element in data.CO2_Emissions]\n",
    "\n",
    "#Making the above list a new column:\n",
    "data=data.assign(CO2_Emissions_Number=emissionsnumber)\n",
    "data.head()"
   ]
  },
  {
   "cell_type": "code",
   "execution_count": 20,
   "metadata": {},
   "outputs": [],
   "source": [
    "#The new values have text, which tells the units, so we want to keep that somewhere. Let's put it in a new list:\n",
    "units=[] #empty list\n",
    "\n",
    "for element in data.CO2_Emissions_Number:\n",
    "  result=element.split(' ')\n",
    "  if len(result)>1:\n",
    "      units.append(result[1])  # add text\n",
    "  else:\n",
    "    units.append(1) # add '1'"
   ]
  },
  {
   "cell_type": "code",
   "execution_count": 21,
   "metadata": {},
   "outputs": [
    {
     "data": {
      "text/html": [
       "<div>\n",
       "<style scoped>\n",
       "    .dataframe tbody tr th:only-of-type {\n",
       "        vertical-align: middle;\n",
       "    }\n",
       "\n",
       "    .dataframe tbody tr th {\n",
       "        vertical-align: top;\n",
       "    }\n",
       "\n",
       "    .dataframe thead th {\n",
       "        text-align: right;\n",
       "    }\n",
       "</style>\n",
       "<table border=\"1\" class=\"dataframe\">\n",
       "  <thead>\n",
       "    <tr style=\"text-align: right;\">\n",
       "      <th></th>\n",
       "      <th>Country</th>\n",
       "      <th>CO2_Emissions</th>\n",
       "      <th>Urbanization</th>\n",
       "      <th>GDP_Per_Capita</th>\n",
       "      <th>Population</th>\n",
       "      <th>CO2_Emissions_Number</th>\n",
       "      <th>units</th>\n",
       "    </tr>\n",
       "  </thead>\n",
       "  <tbody>\n",
       "    <tr>\n",
       "      <th>0</th>\n",
       "      <td>Afghanistan</td>\n",
       "      <td>9.067 million Mt  (2017 est.)</td>\n",
       "      <td>urban population:  25.5% of total population  ...</td>\n",
       "      <td>$2,000  (2017 est.)  $2,000  (2016 est.)  $2,0...</td>\n",
       "      <td>34,940,837  (July 2018 est.)</td>\n",
       "      <td>9.067 million</td>\n",
       "      <td>million</td>\n",
       "    </tr>\n",
       "    <tr>\n",
       "      <th>1</th>\n",
       "      <td>Albania</td>\n",
       "      <td>4.5 million Mt  (2017 est.)</td>\n",
       "      <td>urban population:  60.3% of total population  ...</td>\n",
       "      <td>$12,500  (2017 est.)  $12,100  (2016 est.)  $1...</td>\n",
       "      <td>3,057,220  (July 2018 est.)</td>\n",
       "      <td>4.5 million</td>\n",
       "      <td>million</td>\n",
       "    </tr>\n",
       "    <tr>\n",
       "      <th>2</th>\n",
       "      <td>Algeria</td>\n",
       "      <td>135.9 million Mt  (2017 est.)</td>\n",
       "      <td>urban population:  72.6% of total population  ...</td>\n",
       "      <td>$15,200  (2017 est.)  $15,200  (2016 est.)  $1...</td>\n",
       "      <td>41,657,488  (July 2018 est.)</td>\n",
       "      <td>135.9 million</td>\n",
       "      <td>million</td>\n",
       "    </tr>\n",
       "    <tr>\n",
       "      <th>3</th>\n",
       "      <td>American Samoa</td>\n",
       "      <td>361,100 Mt  (2017 est.)</td>\n",
       "      <td>urban population:  87.2% of total population  ...</td>\n",
       "      <td>$11,200  (2016 est.)  $11,300  (2015 est.)  $1...</td>\n",
       "      <td>50,826  (July 2018 est.)</td>\n",
       "      <td>361,100</td>\n",
       "      <td>1</td>\n",
       "    </tr>\n",
       "    <tr>\n",
       "      <th>4</th>\n",
       "      <td>Angola</td>\n",
       "      <td>20.95 million Mt  (2017 est.)</td>\n",
       "      <td>urban population:  65.5% of total population  ...</td>\n",
       "      <td>$6,800  (2017 est.)  $7,200  (2016 est.)  $7,6...</td>\n",
       "      <td>30,355,880  (July 2017 est.)  (July 2018 est.)...</td>\n",
       "      <td>20.95 million</td>\n",
       "      <td>million</td>\n",
       "    </tr>\n",
       "  </tbody>\n",
       "</table>\n",
       "</div>"
      ],
      "text/plain": [
       "          Country                  CO2_Emissions  \\\n",
       "0     Afghanistan  9.067 million Mt  (2017 est.)   \n",
       "1         Albania    4.5 million Mt  (2017 est.)   \n",
       "2         Algeria  135.9 million Mt  (2017 est.)   \n",
       "3  American Samoa        361,100 Mt  (2017 est.)   \n",
       "4          Angola  20.95 million Mt  (2017 est.)   \n",
       "\n",
       "                                        Urbanization  \\\n",
       "0  urban population:  25.5% of total population  ...   \n",
       "1  urban population:  60.3% of total population  ...   \n",
       "2  urban population:  72.6% of total population  ...   \n",
       "3  urban population:  87.2% of total population  ...   \n",
       "4  urban population:  65.5% of total population  ...   \n",
       "\n",
       "                                      GDP_Per_Capita  \\\n",
       "0  $2,000  (2017 est.)  $2,000  (2016 est.)  $2,0...   \n",
       "1  $12,500  (2017 est.)  $12,100  (2016 est.)  $1...   \n",
       "2  $15,200  (2017 est.)  $15,200  (2016 est.)  $1...   \n",
       "3  $11,200  (2016 est.)  $11,300  (2015 est.)  $1...   \n",
       "4  $6,800  (2017 est.)  $7,200  (2016 est.)  $7,6...   \n",
       "\n",
       "                                          Population CO2_Emissions_Number  \\\n",
       "0                       34,940,837  (July 2018 est.)        9.067 million   \n",
       "1                        3,057,220  (July 2018 est.)          4.5 million   \n",
       "2                       41,657,488  (July 2018 est.)        135.9 million   \n",
       "3                           50,826  (July 2018 est.)              361,100   \n",
       "4  30,355,880  (July 2017 est.)  (July 2018 est.)...        20.95 million   \n",
       "\n",
       "     units  \n",
       "0  million  \n",
       "1  million  \n",
       "2  million  \n",
       "3        1  \n",
       "4  million  "
      ]
     },
     "execution_count": 21,
     "metadata": {},
     "output_type": "execute_result"
    }
   ],
   "source": [
    "#Adding the list of units to the dataframe:\n",
    "data=data.assign(units=units)\n",
    "data.head()"
   ]
  },
  {
   "cell_type": "code",
   "execution_count": 22,
   "metadata": {},
   "outputs": [
    {
     "data": {
      "text/html": [
       "<div>\n",
       "<style scoped>\n",
       "    .dataframe tbody tr th:only-of-type {\n",
       "        vertical-align: middle;\n",
       "    }\n",
       "\n",
       "    .dataframe tbody tr th {\n",
       "        vertical-align: top;\n",
       "    }\n",
       "\n",
       "    .dataframe thead th {\n",
       "        text-align: right;\n",
       "    }\n",
       "</style>\n",
       "<table border=\"1\" class=\"dataframe\">\n",
       "  <thead>\n",
       "    <tr style=\"text-align: right;\">\n",
       "      <th></th>\n",
       "      <th>Country</th>\n",
       "      <th>CO2_Emissions</th>\n",
       "      <th>Urbanization</th>\n",
       "      <th>GDP_Per_Capita</th>\n",
       "      <th>Population</th>\n",
       "      <th>CO2_Emissions_Number</th>\n",
       "      <th>units</th>\n",
       "    </tr>\n",
       "  </thead>\n",
       "  <tbody>\n",
       "    <tr>\n",
       "      <th>0</th>\n",
       "      <td>Afghanistan</td>\n",
       "      <td>9.067 million Mt  (2017 est.)</td>\n",
       "      <td>urban population:  25.5% of total population  ...</td>\n",
       "      <td>$2,000  (2017 est.)  $2,000  (2016 est.)  $2,0...</td>\n",
       "      <td>34,940,837  (July 2018 est.)</td>\n",
       "      <td>9.067</td>\n",
       "      <td>million</td>\n",
       "    </tr>\n",
       "    <tr>\n",
       "      <th>1</th>\n",
       "      <td>Albania</td>\n",
       "      <td>4.5 million Mt  (2017 est.)</td>\n",
       "      <td>urban population:  60.3% of total population  ...</td>\n",
       "      <td>$12,500  (2017 est.)  $12,100  (2016 est.)  $1...</td>\n",
       "      <td>3,057,220  (July 2018 est.)</td>\n",
       "      <td>4.5</td>\n",
       "      <td>million</td>\n",
       "    </tr>\n",
       "    <tr>\n",
       "      <th>2</th>\n",
       "      <td>Algeria</td>\n",
       "      <td>135.9 million Mt  (2017 est.)</td>\n",
       "      <td>urban population:  72.6% of total population  ...</td>\n",
       "      <td>$15,200  (2017 est.)  $15,200  (2016 est.)  $1...</td>\n",
       "      <td>41,657,488  (July 2018 est.)</td>\n",
       "      <td>135.9</td>\n",
       "      <td>million</td>\n",
       "    </tr>\n",
       "    <tr>\n",
       "      <th>3</th>\n",
       "      <td>American Samoa</td>\n",
       "      <td>361,100 Mt  (2017 est.)</td>\n",
       "      <td>urban population:  87.2% of total population  ...</td>\n",
       "      <td>$11,200  (2016 est.)  $11,300  (2015 est.)  $1...</td>\n",
       "      <td>50,826  (July 2018 est.)</td>\n",
       "      <td>361,100</td>\n",
       "      <td>1</td>\n",
       "    </tr>\n",
       "    <tr>\n",
       "      <th>4</th>\n",
       "      <td>Angola</td>\n",
       "      <td>20.95 million Mt  (2017 est.)</td>\n",
       "      <td>urban population:  65.5% of total population  ...</td>\n",
       "      <td>$6,800  (2017 est.)  $7,200  (2016 est.)  $7,6...</td>\n",
       "      <td>30,355,880  (July 2017 est.)  (July 2018 est.)...</td>\n",
       "      <td>20.95</td>\n",
       "      <td>million</td>\n",
       "    </tr>\n",
       "  </tbody>\n",
       "</table>\n",
       "</div>"
      ],
      "text/plain": [
       "          Country                  CO2_Emissions  \\\n",
       "0     Afghanistan  9.067 million Mt  (2017 est.)   \n",
       "1         Albania    4.5 million Mt  (2017 est.)   \n",
       "2         Algeria  135.9 million Mt  (2017 est.)   \n",
       "3  American Samoa        361,100 Mt  (2017 est.)   \n",
       "4          Angola  20.95 million Mt  (2017 est.)   \n",
       "\n",
       "                                        Urbanization  \\\n",
       "0  urban population:  25.5% of total population  ...   \n",
       "1  urban population:  60.3% of total population  ...   \n",
       "2  urban population:  72.6% of total population  ...   \n",
       "3  urban population:  87.2% of total population  ...   \n",
       "4  urban population:  65.5% of total population  ...   \n",
       "\n",
       "                                      GDP_Per_Capita  \\\n",
       "0  $2,000  (2017 est.)  $2,000  (2016 est.)  $2,0...   \n",
       "1  $12,500  (2017 est.)  $12,100  (2016 est.)  $1...   \n",
       "2  $15,200  (2017 est.)  $15,200  (2016 est.)  $1...   \n",
       "3  $11,200  (2016 est.)  $11,300  (2015 est.)  $1...   \n",
       "4  $6,800  (2017 est.)  $7,200  (2016 est.)  $7,6...   \n",
       "\n",
       "                                          Population CO2_Emissions_Number  \\\n",
       "0                       34,940,837  (July 2018 est.)                9.067   \n",
       "1                        3,057,220  (July 2018 est.)                  4.5   \n",
       "2                       41,657,488  (July 2018 est.)                135.9   \n",
       "3                           50,826  (July 2018 est.)              361,100   \n",
       "4  30,355,880  (July 2017 est.)  (July 2018 est.)...                20.95   \n",
       "\n",
       "     units  \n",
       "0  million  \n",
       "1  million  \n",
       "2  million  \n",
       "3        1  \n",
       "4  million  "
      ]
     },
     "execution_count": 22,
     "metadata": {},
     "output_type": "execute_result"
    }
   ],
   "source": [
    "#Now I can keep the first element (number):\n",
    "emissionsnumber=[element.split(' ')[0] for element in data.CO2_Emissions_Number]\n",
    "\n",
    "#Making the above list a new column:\n",
    "data=data.assign(CO2_Emissions_Number=emissionsnumber)\n",
    "data.head()"
   ]
  },
  {
   "cell_type": "code",
   "execution_count": 23,
   "metadata": {},
   "outputs": [
    {
     "data": {
      "text/plain": [
       "million    162\n",
       "1           46\n",
       "billion      6\n",
       "Name: units, dtype: int64"
      ]
     },
     "execution_count": 23,
     "metadata": {},
     "output_type": "execute_result"
    }
   ],
   "source": [
    "data.units.value_counts() #We need to turn this into numbers"
   ]
  },
  {
   "cell_type": "code",
   "execution_count": 24,
   "metadata": {},
   "outputs": [
    {
     "data": {
      "text/html": [
       "<div>\n",
       "<style scoped>\n",
       "    .dataframe tbody tr th:only-of-type {\n",
       "        vertical-align: middle;\n",
       "    }\n",
       "\n",
       "    .dataframe tbody tr th {\n",
       "        vertical-align: top;\n",
       "    }\n",
       "\n",
       "    .dataframe thead th {\n",
       "        text-align: right;\n",
       "    }\n",
       "</style>\n",
       "<table border=\"1\" class=\"dataframe\">\n",
       "  <thead>\n",
       "    <tr style=\"text-align: right;\">\n",
       "      <th></th>\n",
       "      <th>Country</th>\n",
       "      <th>CO2_Emissions</th>\n",
       "      <th>Urbanization</th>\n",
       "      <th>GDP_Per_Capita</th>\n",
       "      <th>Population</th>\n",
       "      <th>CO2_Emissions_Number</th>\n",
       "      <th>units</th>\n",
       "    </tr>\n",
       "  </thead>\n",
       "  <tbody>\n",
       "    <tr>\n",
       "      <th>0</th>\n",
       "      <td>Afghanistan</td>\n",
       "      <td>9.067 million Mt  (2017 est.)</td>\n",
       "      <td>urban population:  25.5% of total population  ...</td>\n",
       "      <td>$2,000  (2017 est.)  $2,000  (2016 est.)  $2,0...</td>\n",
       "      <td>34,940,837  (July 2018 est.)</td>\n",
       "      <td>9.067</td>\n",
       "      <td>1000000</td>\n",
       "    </tr>\n",
       "    <tr>\n",
       "      <th>1</th>\n",
       "      <td>Albania</td>\n",
       "      <td>4.5 million Mt  (2017 est.)</td>\n",
       "      <td>urban population:  60.3% of total population  ...</td>\n",
       "      <td>$12,500  (2017 est.)  $12,100  (2016 est.)  $1...</td>\n",
       "      <td>3,057,220  (July 2018 est.)</td>\n",
       "      <td>4.5</td>\n",
       "      <td>1000000</td>\n",
       "    </tr>\n",
       "    <tr>\n",
       "      <th>2</th>\n",
       "      <td>Algeria</td>\n",
       "      <td>135.9 million Mt  (2017 est.)</td>\n",
       "      <td>urban population:  72.6% of total population  ...</td>\n",
       "      <td>$15,200  (2017 est.)  $15,200  (2016 est.)  $1...</td>\n",
       "      <td>41,657,488  (July 2018 est.)</td>\n",
       "      <td>135.9</td>\n",
       "      <td>1000000</td>\n",
       "    </tr>\n",
       "    <tr>\n",
       "      <th>3</th>\n",
       "      <td>American Samoa</td>\n",
       "      <td>361,100 Mt  (2017 est.)</td>\n",
       "      <td>urban population:  87.2% of total population  ...</td>\n",
       "      <td>$11,200  (2016 est.)  $11,300  (2015 est.)  $1...</td>\n",
       "      <td>50,826  (July 2018 est.)</td>\n",
       "      <td>361,100</td>\n",
       "      <td>1</td>\n",
       "    </tr>\n",
       "    <tr>\n",
       "      <th>4</th>\n",
       "      <td>Angola</td>\n",
       "      <td>20.95 million Mt  (2017 est.)</td>\n",
       "      <td>urban population:  65.5% of total population  ...</td>\n",
       "      <td>$6,800  (2017 est.)  $7,200  (2016 est.)  $7,6...</td>\n",
       "      <td>30,355,880  (July 2017 est.)  (July 2018 est.)...</td>\n",
       "      <td>20.95</td>\n",
       "      <td>1000000</td>\n",
       "    </tr>\n",
       "  </tbody>\n",
       "</table>\n",
       "</div>"
      ],
      "text/plain": [
       "          Country                  CO2_Emissions  \\\n",
       "0     Afghanistan  9.067 million Mt  (2017 est.)   \n",
       "1         Albania    4.5 million Mt  (2017 est.)   \n",
       "2         Algeria  135.9 million Mt  (2017 est.)   \n",
       "3  American Samoa        361,100 Mt  (2017 est.)   \n",
       "4          Angola  20.95 million Mt  (2017 est.)   \n",
       "\n",
       "                                        Urbanization  \\\n",
       "0  urban population:  25.5% of total population  ...   \n",
       "1  urban population:  60.3% of total population  ...   \n",
       "2  urban population:  72.6% of total population  ...   \n",
       "3  urban population:  87.2% of total population  ...   \n",
       "4  urban population:  65.5% of total population  ...   \n",
       "\n",
       "                                      GDP_Per_Capita  \\\n",
       "0  $2,000  (2017 est.)  $2,000  (2016 est.)  $2,0...   \n",
       "1  $12,500  (2017 est.)  $12,100  (2016 est.)  $1...   \n",
       "2  $15,200  (2017 est.)  $15,200  (2016 est.)  $1...   \n",
       "3  $11,200  (2016 est.)  $11,300  (2015 est.)  $1...   \n",
       "4  $6,800  (2017 est.)  $7,200  (2016 est.)  $7,6...   \n",
       "\n",
       "                                          Population CO2_Emissions_Number  \\\n",
       "0                       34,940,837  (July 2018 est.)                9.067   \n",
       "1                        3,057,220  (July 2018 est.)                  4.5   \n",
       "2                       41,657,488  (July 2018 est.)                135.9   \n",
       "3                           50,826  (July 2018 est.)              361,100   \n",
       "4  30,355,880  (July 2017 est.)  (July 2018 est.)...                20.95   \n",
       "\n",
       "     units  \n",
       "0  1000000  \n",
       "1  1000000  \n",
       "2  1000000  \n",
       "3        1  \n",
       "4  1000000  "
      ]
     },
     "execution_count": 24,
     "metadata": {},
     "output_type": "execute_result"
    }
   ],
   "source": [
    "newUnits=[10**6 if x=='million' else x for x in data.units] # first the millions\n",
    "newUnits=[10**9 if x=='billion' else x for x in newUnits] #then the billions\n",
    "# rewriting column\n",
    "data=data.assign(units=newUnits)\n",
    "data.head()"
   ]
  },
  {
   "cell_type": "code",
   "execution_count": 25,
   "metadata": {},
   "outputs": [
    {
     "data": {
      "text/plain": [
       "Country                 object\n",
       "CO2_Emissions           object\n",
       "Urbanization            object\n",
       "GDP_Per_Capita          object\n",
       "Population              object\n",
       "CO2_Emissions_Number    object\n",
       "units                    int64\n",
       "dtype: object"
      ]
     },
     "execution_count": 25,
     "metadata": {},
     "output_type": "execute_result"
    }
   ],
   "source": [
    "data.dtypes #Checking data type"
   ]
  },
  {
   "cell_type": "code",
   "execution_count": 26,
   "metadata": {},
   "outputs": [
    {
     "data": {
      "text/plain": [
       "'1073002'"
      ]
     },
     "execution_count": 26,
     "metadata": {},
     "output_type": "execute_result"
    }
   ],
   "source": [
    "#Getting rid of commas test\n",
    "import re\n",
    "pattern='\\\\,'\n",
    "nothing=''\n",
    "testString='1,073,002'\n",
    "re.sub(pattern,nothing,testString)"
   ]
  },
  {
   "cell_type": "code",
   "execution_count": 27,
   "metadata": {},
   "outputs": [],
   "source": [
    "#Getting rid of commas\n",
    "pattern='\\\\,'\n",
    "nothing=''\n",
    "\n",
    "newValues=[re.sub(pattern,nothing,oldValue) for oldValue in data.CO2_Emissions_Number]"
   ]
  },
  {
   "cell_type": "code",
   "execution_count": 28,
   "metadata": {},
   "outputs": [
    {
     "data": {
      "text/html": [
       "<div>\n",
       "<style scoped>\n",
       "    .dataframe tbody tr th:only-of-type {\n",
       "        vertical-align: middle;\n",
       "    }\n",
       "\n",
       "    .dataframe tbody tr th {\n",
       "        vertical-align: top;\n",
       "    }\n",
       "\n",
       "    .dataframe thead th {\n",
       "        text-align: right;\n",
       "    }\n",
       "</style>\n",
       "<table border=\"1\" class=\"dataframe\">\n",
       "  <thead>\n",
       "    <tr style=\"text-align: right;\">\n",
       "      <th></th>\n",
       "      <th>Country</th>\n",
       "      <th>CO2_Emissions</th>\n",
       "      <th>Urbanization</th>\n",
       "      <th>GDP_Per_Capita</th>\n",
       "      <th>Population</th>\n",
       "      <th>CO2_Emissions_Number</th>\n",
       "      <th>units</th>\n",
       "    </tr>\n",
       "  </thead>\n",
       "  <tbody>\n",
       "    <tr>\n",
       "      <th>0</th>\n",
       "      <td>Afghanistan</td>\n",
       "      <td>9.067 million Mt  (2017 est.)</td>\n",
       "      <td>urban population:  25.5% of total population  ...</td>\n",
       "      <td>$2,000  (2017 est.)  $2,000  (2016 est.)  $2,0...</td>\n",
       "      <td>34,940,837  (July 2018 est.)</td>\n",
       "      <td>9.067</td>\n",
       "      <td>1000000</td>\n",
       "    </tr>\n",
       "    <tr>\n",
       "      <th>1</th>\n",
       "      <td>Albania</td>\n",
       "      <td>4.5 million Mt  (2017 est.)</td>\n",
       "      <td>urban population:  60.3% of total population  ...</td>\n",
       "      <td>$12,500  (2017 est.)  $12,100  (2016 est.)  $1...</td>\n",
       "      <td>3,057,220  (July 2018 est.)</td>\n",
       "      <td>4.5</td>\n",
       "      <td>1000000</td>\n",
       "    </tr>\n",
       "    <tr>\n",
       "      <th>2</th>\n",
       "      <td>Algeria</td>\n",
       "      <td>135.9 million Mt  (2017 est.)</td>\n",
       "      <td>urban population:  72.6% of total population  ...</td>\n",
       "      <td>$15,200  (2017 est.)  $15,200  (2016 est.)  $1...</td>\n",
       "      <td>41,657,488  (July 2018 est.)</td>\n",
       "      <td>135.9</td>\n",
       "      <td>1000000</td>\n",
       "    </tr>\n",
       "    <tr>\n",
       "      <th>3</th>\n",
       "      <td>American Samoa</td>\n",
       "      <td>361,100 Mt  (2017 est.)</td>\n",
       "      <td>urban population:  87.2% of total population  ...</td>\n",
       "      <td>$11,200  (2016 est.)  $11,300  (2015 est.)  $1...</td>\n",
       "      <td>50,826  (July 2018 est.)</td>\n",
       "      <td>361100</td>\n",
       "      <td>1</td>\n",
       "    </tr>\n",
       "    <tr>\n",
       "      <th>4</th>\n",
       "      <td>Angola</td>\n",
       "      <td>20.95 million Mt  (2017 est.)</td>\n",
       "      <td>urban population:  65.5% of total population  ...</td>\n",
       "      <td>$6,800  (2017 est.)  $7,200  (2016 est.)  $7,6...</td>\n",
       "      <td>30,355,880  (July 2017 est.)  (July 2018 est.)...</td>\n",
       "      <td>20.95</td>\n",
       "      <td>1000000</td>\n",
       "    </tr>\n",
       "  </tbody>\n",
       "</table>\n",
       "</div>"
      ],
      "text/plain": [
       "          Country                  CO2_Emissions  \\\n",
       "0     Afghanistan  9.067 million Mt  (2017 est.)   \n",
       "1         Albania    4.5 million Mt  (2017 est.)   \n",
       "2         Algeria  135.9 million Mt  (2017 est.)   \n",
       "3  American Samoa        361,100 Mt  (2017 est.)   \n",
       "4          Angola  20.95 million Mt  (2017 est.)   \n",
       "\n",
       "                                        Urbanization  \\\n",
       "0  urban population:  25.5% of total population  ...   \n",
       "1  urban population:  60.3% of total population  ...   \n",
       "2  urban population:  72.6% of total population  ...   \n",
       "3  urban population:  87.2% of total population  ...   \n",
       "4  urban population:  65.5% of total population  ...   \n",
       "\n",
       "                                      GDP_Per_Capita  \\\n",
       "0  $2,000  (2017 est.)  $2,000  (2016 est.)  $2,0...   \n",
       "1  $12,500  (2017 est.)  $12,100  (2016 est.)  $1...   \n",
       "2  $15,200  (2017 est.)  $15,200  (2016 est.)  $1...   \n",
       "3  $11,200  (2016 est.)  $11,300  (2015 est.)  $1...   \n",
       "4  $6,800  (2017 est.)  $7,200  (2016 est.)  $7,6...   \n",
       "\n",
       "                                          Population CO2_Emissions_Number  \\\n",
       "0                       34,940,837  (July 2018 est.)                9.067   \n",
       "1                        3,057,220  (July 2018 est.)                  4.5   \n",
       "2                       41,657,488  (July 2018 est.)                135.9   \n",
       "3                           50,826  (July 2018 est.)               361100   \n",
       "4  30,355,880  (July 2017 est.)  (July 2018 est.)...                20.95   \n",
       "\n",
       "     units  \n",
       "0  1000000  \n",
       "1  1000000  \n",
       "2  1000000  \n",
       "3        1  \n",
       "4  1000000  "
      ]
     },
     "execution_count": 28,
     "metadata": {},
     "output_type": "execute_result"
    }
   ],
   "source": [
    "data=data.assign(CO2_Emissions_Number=newValues)\n",
    "data.head()"
   ]
  },
  {
   "cell_type": "code",
   "execution_count": 29,
   "metadata": {},
   "outputs": [
    {
     "data": {
      "text/plain": [
       "Country                 object\n",
       "CO2_Emissions           object\n",
       "Urbanization            object\n",
       "GDP_Per_Capita          object\n",
       "Population              object\n",
       "CO2_Emissions_Number    object\n",
       "units                    int64\n",
       "dtype: object"
      ]
     },
     "execution_count": 29,
     "metadata": {},
     "output_type": "execute_result"
    }
   ],
   "source": [
    "data.dtypes #checking to see that CO2_Emissions Number is not yet float64 numbers"
   ]
  },
  {
   "cell_type": "code",
   "execution_count": 30,
   "metadata": {},
   "outputs": [],
   "source": [
    "data.CO2_Emissions_Number=pd.to_numeric(data.CO2_Emissions_Number) #to convert to float64 numbers"
   ]
  },
  {
   "cell_type": "code",
   "execution_count": 31,
   "metadata": {
    "scrolled": true
   },
   "outputs": [
    {
     "data": {
      "text/plain": [
       "Country                  object\n",
       "CO2_Emissions            object\n",
       "Urbanization             object\n",
       "GDP_Per_Capita           object\n",
       "Population               object\n",
       "CO2_Emissions_Number    float64\n",
       "units                     int64\n",
       "dtype: object"
      ]
     },
     "execution_count": 31,
     "metadata": {},
     "output_type": "execute_result"
    }
   ],
   "source": [
    "data.dtypes #make sure it worked"
   ]
  },
  {
   "cell_type": "code",
   "execution_count": 32,
   "metadata": {},
   "outputs": [
    {
     "data": {
      "text/html": [
       "<div>\n",
       "<style scoped>\n",
       "    .dataframe tbody tr th:only-of-type {\n",
       "        vertical-align: middle;\n",
       "    }\n",
       "\n",
       "    .dataframe tbody tr th {\n",
       "        vertical-align: top;\n",
       "    }\n",
       "\n",
       "    .dataframe thead th {\n",
       "        text-align: right;\n",
       "    }\n",
       "</style>\n",
       "<table border=\"1\" class=\"dataframe\">\n",
       "  <thead>\n",
       "    <tr style=\"text-align: right;\">\n",
       "      <th></th>\n",
       "      <th>Country</th>\n",
       "      <th>CO2_Emissions</th>\n",
       "      <th>Urbanization</th>\n",
       "      <th>GDP_Per_Capita</th>\n",
       "      <th>Population</th>\n",
       "      <th>CO2_Emissions_Number</th>\n",
       "      <th>units</th>\n",
       "    </tr>\n",
       "  </thead>\n",
       "  <tbody>\n",
       "    <tr>\n",
       "      <th>0</th>\n",
       "      <td>Afghanistan</td>\n",
       "      <td>9.067 million Mt  (2017 est.)</td>\n",
       "      <td>urban population:  25.5% of total population  ...</td>\n",
       "      <td>$2,000  (2017 est.)  $2,000  (2016 est.)  $2,0...</td>\n",
       "      <td>34,940,837  (July 2018 est.)</td>\n",
       "      <td>9.067</td>\n",
       "      <td>1000000</td>\n",
       "    </tr>\n",
       "    <tr>\n",
       "      <th>1</th>\n",
       "      <td>Albania</td>\n",
       "      <td>4.5 million Mt  (2017 est.)</td>\n",
       "      <td>urban population:  60.3% of total population  ...</td>\n",
       "      <td>$12,500  (2017 est.)  $12,100  (2016 est.)  $1...</td>\n",
       "      <td>3,057,220  (July 2018 est.)</td>\n",
       "      <td>4.500</td>\n",
       "      <td>1000000</td>\n",
       "    </tr>\n",
       "    <tr>\n",
       "      <th>2</th>\n",
       "      <td>Algeria</td>\n",
       "      <td>135.9 million Mt  (2017 est.)</td>\n",
       "      <td>urban population:  72.6% of total population  ...</td>\n",
       "      <td>$15,200  (2017 est.)  $15,200  (2016 est.)  $1...</td>\n",
       "      <td>41,657,488  (July 2018 est.)</td>\n",
       "      <td>135.900</td>\n",
       "      <td>1000000</td>\n",
       "    </tr>\n",
       "    <tr>\n",
       "      <th>3</th>\n",
       "      <td>American Samoa</td>\n",
       "      <td>361,100 Mt  (2017 est.)</td>\n",
       "      <td>urban population:  87.2% of total population  ...</td>\n",
       "      <td>$11,200  (2016 est.)  $11,300  (2015 est.)  $1...</td>\n",
       "      <td>50,826  (July 2018 est.)</td>\n",
       "      <td>361100.000</td>\n",
       "      <td>1</td>\n",
       "    </tr>\n",
       "    <tr>\n",
       "      <th>4</th>\n",
       "      <td>Angola</td>\n",
       "      <td>20.95 million Mt  (2017 est.)</td>\n",
       "      <td>urban population:  65.5% of total population  ...</td>\n",
       "      <td>$6,800  (2017 est.)  $7,200  (2016 est.)  $7,6...</td>\n",
       "      <td>30,355,880  (July 2017 est.)  (July 2018 est.)...</td>\n",
       "      <td>20.950</td>\n",
       "      <td>1000000</td>\n",
       "    </tr>\n",
       "  </tbody>\n",
       "</table>\n",
       "</div>"
      ],
      "text/plain": [
       "          Country                  CO2_Emissions  \\\n",
       "0     Afghanistan  9.067 million Mt  (2017 est.)   \n",
       "1         Albania    4.5 million Mt  (2017 est.)   \n",
       "2         Algeria  135.9 million Mt  (2017 est.)   \n",
       "3  American Samoa        361,100 Mt  (2017 est.)   \n",
       "4          Angola  20.95 million Mt  (2017 est.)   \n",
       "\n",
       "                                        Urbanization  \\\n",
       "0  urban population:  25.5% of total population  ...   \n",
       "1  urban population:  60.3% of total population  ...   \n",
       "2  urban population:  72.6% of total population  ...   \n",
       "3  urban population:  87.2% of total population  ...   \n",
       "4  urban population:  65.5% of total population  ...   \n",
       "\n",
       "                                      GDP_Per_Capita  \\\n",
       "0  $2,000  (2017 est.)  $2,000  (2016 est.)  $2,0...   \n",
       "1  $12,500  (2017 est.)  $12,100  (2016 est.)  $1...   \n",
       "2  $15,200  (2017 est.)  $15,200  (2016 est.)  $1...   \n",
       "3  $11,200  (2016 est.)  $11,300  (2015 est.)  $1...   \n",
       "4  $6,800  (2017 est.)  $7,200  (2016 est.)  $7,6...   \n",
       "\n",
       "                                          Population  CO2_Emissions_Number  \\\n",
       "0                       34,940,837  (July 2018 est.)                 9.067   \n",
       "1                        3,057,220  (July 2018 est.)                 4.500   \n",
       "2                       41,657,488  (July 2018 est.)               135.900   \n",
       "3                           50,826  (July 2018 est.)            361100.000   \n",
       "4  30,355,880  (July 2017 est.)  (July 2018 est.)...                20.950   \n",
       "\n",
       "     units  \n",
       "0  1000000  \n",
       "1  1000000  \n",
       "2  1000000  \n",
       "3        1  \n",
       "4  1000000  "
      ]
     },
     "execution_count": 32,
     "metadata": {},
     "output_type": "execute_result"
    }
   ],
   "source": [
    "data.head()"
   ]
  },
  {
   "cell_type": "code",
   "execution_count": 33,
   "metadata": {},
   "outputs": [],
   "source": [
    "#Multiply units and CO2_Emissions_Number to get the entire number\n",
    "data.CO2_Emissions_Number=data.CO2_Emissions_Number*data.units"
   ]
  },
  {
   "cell_type": "code",
   "execution_count": 34,
   "metadata": {},
   "outputs": [
    {
     "data": {
      "text/html": [
       "<div>\n",
       "<style scoped>\n",
       "    .dataframe tbody tr th:only-of-type {\n",
       "        vertical-align: middle;\n",
       "    }\n",
       "\n",
       "    .dataframe tbody tr th {\n",
       "        vertical-align: top;\n",
       "    }\n",
       "\n",
       "    .dataframe thead th {\n",
       "        text-align: right;\n",
       "    }\n",
       "</style>\n",
       "<table border=\"1\" class=\"dataframe\">\n",
       "  <thead>\n",
       "    <tr style=\"text-align: right;\">\n",
       "      <th></th>\n",
       "      <th>Country</th>\n",
       "      <th>CO2_Emissions</th>\n",
       "      <th>Urbanization</th>\n",
       "      <th>GDP_Per_Capita</th>\n",
       "      <th>Population</th>\n",
       "      <th>CO2_Emissions_Number</th>\n",
       "      <th>units</th>\n",
       "    </tr>\n",
       "  </thead>\n",
       "  <tbody>\n",
       "    <tr>\n",
       "      <th>0</th>\n",
       "      <td>Afghanistan</td>\n",
       "      <td>9.067 million Mt  (2017 est.)</td>\n",
       "      <td>urban population:  25.5% of total population  ...</td>\n",
       "      <td>$2,000  (2017 est.)  $2,000  (2016 est.)  $2,0...</td>\n",
       "      <td>34,940,837  (July 2018 est.)</td>\n",
       "      <td>9067000.0</td>\n",
       "      <td>1000000</td>\n",
       "    </tr>\n",
       "    <tr>\n",
       "      <th>1</th>\n",
       "      <td>Albania</td>\n",
       "      <td>4.5 million Mt  (2017 est.)</td>\n",
       "      <td>urban population:  60.3% of total population  ...</td>\n",
       "      <td>$12,500  (2017 est.)  $12,100  (2016 est.)  $1...</td>\n",
       "      <td>3,057,220  (July 2018 est.)</td>\n",
       "      <td>4500000.0</td>\n",
       "      <td>1000000</td>\n",
       "    </tr>\n",
       "    <tr>\n",
       "      <th>2</th>\n",
       "      <td>Algeria</td>\n",
       "      <td>135.9 million Mt  (2017 est.)</td>\n",
       "      <td>urban population:  72.6% of total population  ...</td>\n",
       "      <td>$15,200  (2017 est.)  $15,200  (2016 est.)  $1...</td>\n",
       "      <td>41,657,488  (July 2018 est.)</td>\n",
       "      <td>135900000.0</td>\n",
       "      <td>1000000</td>\n",
       "    </tr>\n",
       "    <tr>\n",
       "      <th>3</th>\n",
       "      <td>American Samoa</td>\n",
       "      <td>361,100 Mt  (2017 est.)</td>\n",
       "      <td>urban population:  87.2% of total population  ...</td>\n",
       "      <td>$11,200  (2016 est.)  $11,300  (2015 est.)  $1...</td>\n",
       "      <td>50,826  (July 2018 est.)</td>\n",
       "      <td>361100.0</td>\n",
       "      <td>1</td>\n",
       "    </tr>\n",
       "    <tr>\n",
       "      <th>4</th>\n",
       "      <td>Angola</td>\n",
       "      <td>20.95 million Mt  (2017 est.)</td>\n",
       "      <td>urban population:  65.5% of total population  ...</td>\n",
       "      <td>$6,800  (2017 est.)  $7,200  (2016 est.)  $7,6...</td>\n",
       "      <td>30,355,880  (July 2017 est.)  (July 2018 est.)...</td>\n",
       "      <td>20950000.0</td>\n",
       "      <td>1000000</td>\n",
       "    </tr>\n",
       "  </tbody>\n",
       "</table>\n",
       "</div>"
      ],
      "text/plain": [
       "          Country                  CO2_Emissions  \\\n",
       "0     Afghanistan  9.067 million Mt  (2017 est.)   \n",
       "1         Albania    4.5 million Mt  (2017 est.)   \n",
       "2         Algeria  135.9 million Mt  (2017 est.)   \n",
       "3  American Samoa        361,100 Mt  (2017 est.)   \n",
       "4          Angola  20.95 million Mt  (2017 est.)   \n",
       "\n",
       "                                        Urbanization  \\\n",
       "0  urban population:  25.5% of total population  ...   \n",
       "1  urban population:  60.3% of total population  ...   \n",
       "2  urban population:  72.6% of total population  ...   \n",
       "3  urban population:  87.2% of total population  ...   \n",
       "4  urban population:  65.5% of total population  ...   \n",
       "\n",
       "                                      GDP_Per_Capita  \\\n",
       "0  $2,000  (2017 est.)  $2,000  (2016 est.)  $2,0...   \n",
       "1  $12,500  (2017 est.)  $12,100  (2016 est.)  $1...   \n",
       "2  $15,200  (2017 est.)  $15,200  (2016 est.)  $1...   \n",
       "3  $11,200  (2016 est.)  $11,300  (2015 est.)  $1...   \n",
       "4  $6,800  (2017 est.)  $7,200  (2016 est.)  $7,6...   \n",
       "\n",
       "                                          Population  CO2_Emissions_Number  \\\n",
       "0                       34,940,837  (July 2018 est.)             9067000.0   \n",
       "1                        3,057,220  (July 2018 est.)             4500000.0   \n",
       "2                       41,657,488  (July 2018 est.)           135900000.0   \n",
       "3                           50,826  (July 2018 est.)              361100.0   \n",
       "4  30,355,880  (July 2017 est.)  (July 2018 est.)...            20950000.0   \n",
       "\n",
       "     units  \n",
       "0  1000000  \n",
       "1  1000000  \n",
       "2  1000000  \n",
       "3        1  \n",
       "4  1000000  "
      ]
     },
     "execution_count": 34,
     "metadata": {},
     "output_type": "execute_result"
    }
   ],
   "source": [
    "data.head()"
   ]
  },
  {
   "cell_type": "code",
   "execution_count": 35,
   "metadata": {
    "scrolled": true
   },
   "outputs": [],
   "source": [
    "#dropping the old CO2 Emissions columns\n",
    "data=data.drop('units',axis=1).drop('CO2_Emissions',axis=1)"
   ]
  },
  {
   "cell_type": "code",
   "execution_count": 36,
   "metadata": {},
   "outputs": [
    {
     "data": {
      "text/html": [
       "<div>\n",
       "<style scoped>\n",
       "    .dataframe tbody tr th:only-of-type {\n",
       "        vertical-align: middle;\n",
       "    }\n",
       "\n",
       "    .dataframe tbody tr th {\n",
       "        vertical-align: top;\n",
       "    }\n",
       "\n",
       "    .dataframe thead th {\n",
       "        text-align: right;\n",
       "    }\n",
       "</style>\n",
       "<table border=\"1\" class=\"dataframe\">\n",
       "  <thead>\n",
       "    <tr style=\"text-align: right;\">\n",
       "      <th></th>\n",
       "      <th>Country</th>\n",
       "      <th>Urbanization</th>\n",
       "      <th>GDP_Per_Capita</th>\n",
       "      <th>Population</th>\n",
       "      <th>CO2_Emissions_Number</th>\n",
       "    </tr>\n",
       "  </thead>\n",
       "  <tbody>\n",
       "    <tr>\n",
       "      <th>0</th>\n",
       "      <td>Afghanistan</td>\n",
       "      <td>urban population:  25.5% of total population  ...</td>\n",
       "      <td>$2,000  (2017 est.)  $2,000  (2016 est.)  $2,0...</td>\n",
       "      <td>34,940,837  (July 2018 est.)</td>\n",
       "      <td>9067000.0</td>\n",
       "    </tr>\n",
       "    <tr>\n",
       "      <th>1</th>\n",
       "      <td>Albania</td>\n",
       "      <td>urban population:  60.3% of total population  ...</td>\n",
       "      <td>$12,500  (2017 est.)  $12,100  (2016 est.)  $1...</td>\n",
       "      <td>3,057,220  (July 2018 est.)</td>\n",
       "      <td>4500000.0</td>\n",
       "    </tr>\n",
       "    <tr>\n",
       "      <th>2</th>\n",
       "      <td>Algeria</td>\n",
       "      <td>urban population:  72.6% of total population  ...</td>\n",
       "      <td>$15,200  (2017 est.)  $15,200  (2016 est.)  $1...</td>\n",
       "      <td>41,657,488  (July 2018 est.)</td>\n",
       "      <td>135900000.0</td>\n",
       "    </tr>\n",
       "    <tr>\n",
       "      <th>3</th>\n",
       "      <td>American Samoa</td>\n",
       "      <td>urban population:  87.2% of total population  ...</td>\n",
       "      <td>$11,200  (2016 est.)  $11,300  (2015 est.)  $1...</td>\n",
       "      <td>50,826  (July 2018 est.)</td>\n",
       "      <td>361100.0</td>\n",
       "    </tr>\n",
       "    <tr>\n",
       "      <th>4</th>\n",
       "      <td>Angola</td>\n",
       "      <td>urban population:  65.5% of total population  ...</td>\n",
       "      <td>$6,800  (2017 est.)  $7,200  (2016 est.)  $7,6...</td>\n",
       "      <td>30,355,880  (July 2017 est.)  (July 2018 est.)...</td>\n",
       "      <td>20950000.0</td>\n",
       "    </tr>\n",
       "  </tbody>\n",
       "</table>\n",
       "</div>"
      ],
      "text/plain": [
       "          Country                                       Urbanization  \\\n",
       "0     Afghanistan  urban population:  25.5% of total population  ...   \n",
       "1         Albania  urban population:  60.3% of total population  ...   \n",
       "2         Algeria  urban population:  72.6% of total population  ...   \n",
       "3  American Samoa  urban population:  87.2% of total population  ...   \n",
       "4          Angola  urban population:  65.5% of total population  ...   \n",
       "\n",
       "                                      GDP_Per_Capita  \\\n",
       "0  $2,000  (2017 est.)  $2,000  (2016 est.)  $2,0...   \n",
       "1  $12,500  (2017 est.)  $12,100  (2016 est.)  $1...   \n",
       "2  $15,200  (2017 est.)  $15,200  (2016 est.)  $1...   \n",
       "3  $11,200  (2016 est.)  $11,300  (2015 est.)  $1...   \n",
       "4  $6,800  (2017 est.)  $7,200  (2016 est.)  $7,6...   \n",
       "\n",
       "                                          Population  CO2_Emissions_Number  \n",
       "0                       34,940,837  (July 2018 est.)             9067000.0  \n",
       "1                        3,057,220  (July 2018 est.)             4500000.0  \n",
       "2                       41,657,488  (July 2018 est.)           135900000.0  \n",
       "3                           50,826  (July 2018 est.)              361100.0  \n",
       "4  30,355,880  (July 2017 est.)  (July 2018 est.)...            20950000.0  "
      ]
     },
     "execution_count": 36,
     "metadata": {},
     "output_type": "execute_result"
    }
   ],
   "source": [
    "data.head()"
   ]
  },
  {
   "cell_type": "markdown",
   "metadata": {},
   "source": [
    "## 7. Cleaning the Urbanization Column"
   ]
  },
  {
   "cell_type": "code",
   "execution_count": 37,
   "metadata": {},
   "outputs": [
    {
     "data": {
      "text/html": [
       "<div>\n",
       "<style scoped>\n",
       "    .dataframe tbody tr th:only-of-type {\n",
       "        vertical-align: middle;\n",
       "    }\n",
       "\n",
       "    .dataframe tbody tr th {\n",
       "        vertical-align: top;\n",
       "    }\n",
       "\n",
       "    .dataframe thead th {\n",
       "        text-align: right;\n",
       "    }\n",
       "</style>\n",
       "<table border=\"1\" class=\"dataframe\">\n",
       "  <thead>\n",
       "    <tr style=\"text-align: right;\">\n",
       "      <th></th>\n",
       "      <th>Country</th>\n",
       "      <th>Urbanization</th>\n",
       "      <th>GDP_Per_Capita</th>\n",
       "      <th>Population</th>\n",
       "      <th>CO2_Emissions_Number</th>\n",
       "      <th>Urbanization1</th>\n",
       "    </tr>\n",
       "  </thead>\n",
       "  <tbody>\n",
       "    <tr>\n",
       "      <th>0</th>\n",
       "      <td>Afghanistan</td>\n",
       "      <td>urban population:  25.5% of total population  ...</td>\n",
       "      <td>$2,000  (2017 est.)  $2,000  (2016 est.)  $2,0...</td>\n",
       "      <td>34,940,837  (July 2018 est.)</td>\n",
       "      <td>9067000.0</td>\n",
       "      <td>urban population:  25.5</td>\n",
       "    </tr>\n",
       "    <tr>\n",
       "      <th>1</th>\n",
       "      <td>Albania</td>\n",
       "      <td>urban population:  60.3% of total population  ...</td>\n",
       "      <td>$12,500  (2017 est.)  $12,100  (2016 est.)  $1...</td>\n",
       "      <td>3,057,220  (July 2018 est.)</td>\n",
       "      <td>4500000.0</td>\n",
       "      <td>urban population:  60.3</td>\n",
       "    </tr>\n",
       "    <tr>\n",
       "      <th>2</th>\n",
       "      <td>Algeria</td>\n",
       "      <td>urban population:  72.6% of total population  ...</td>\n",
       "      <td>$15,200  (2017 est.)  $15,200  (2016 est.)  $1...</td>\n",
       "      <td>41,657,488  (July 2018 est.)</td>\n",
       "      <td>135900000.0</td>\n",
       "      <td>urban population:  72.6</td>\n",
       "    </tr>\n",
       "    <tr>\n",
       "      <th>3</th>\n",
       "      <td>American Samoa</td>\n",
       "      <td>urban population:  87.2% of total population  ...</td>\n",
       "      <td>$11,200  (2016 est.)  $11,300  (2015 est.)  $1...</td>\n",
       "      <td>50,826  (July 2018 est.)</td>\n",
       "      <td>361100.0</td>\n",
       "      <td>urban population:  87.2</td>\n",
       "    </tr>\n",
       "    <tr>\n",
       "      <th>4</th>\n",
       "      <td>Angola</td>\n",
       "      <td>urban population:  65.5% of total population  ...</td>\n",
       "      <td>$6,800  (2017 est.)  $7,200  (2016 est.)  $7,6...</td>\n",
       "      <td>30,355,880  (July 2017 est.)  (July 2018 est.)...</td>\n",
       "      <td>20950000.0</td>\n",
       "      <td>urban population:  65.5</td>\n",
       "    </tr>\n",
       "  </tbody>\n",
       "</table>\n",
       "</div>"
      ],
      "text/plain": [
       "          Country                                       Urbanization  \\\n",
       "0     Afghanistan  urban population:  25.5% of total population  ...   \n",
       "1         Albania  urban population:  60.3% of total population  ...   \n",
       "2         Algeria  urban population:  72.6% of total population  ...   \n",
       "3  American Samoa  urban population:  87.2% of total population  ...   \n",
       "4          Angola  urban population:  65.5% of total population  ...   \n",
       "\n",
       "                                      GDP_Per_Capita  \\\n",
       "0  $2,000  (2017 est.)  $2,000  (2016 est.)  $2,0...   \n",
       "1  $12,500  (2017 est.)  $12,100  (2016 est.)  $1...   \n",
       "2  $15,200  (2017 est.)  $15,200  (2016 est.)  $1...   \n",
       "3  $11,200  (2016 est.)  $11,300  (2015 est.)  $1...   \n",
       "4  $6,800  (2017 est.)  $7,200  (2016 est.)  $7,6...   \n",
       "\n",
       "                                          Population  CO2_Emissions_Number  \\\n",
       "0                       34,940,837  (July 2018 est.)             9067000.0   \n",
       "1                        3,057,220  (July 2018 est.)             4500000.0   \n",
       "2                       41,657,488  (July 2018 est.)           135900000.0   \n",
       "3                           50,826  (July 2018 est.)              361100.0   \n",
       "4  30,355,880  (July 2017 est.)  (July 2018 est.)...            20950000.0   \n",
       "\n",
       "             Urbanization1  \n",
       "0  urban population:  25.5  \n",
       "1  urban population:  60.3  \n",
       "2  urban population:  72.6  \n",
       "3  urban population:  87.2  \n",
       "4  urban population:  65.5  "
      ]
     },
     "execution_count": 37,
     "metadata": {},
     "output_type": "execute_result"
    }
   ],
   "source": [
    "#Splitting values at '%'\n",
    "urbanizationnumber=[element.split('%')[0] for element in data.Urbanization]\n",
    "data=data.assign(Urbanization1=urbanizationnumber)\n",
    "data.head()"
   ]
  },
  {
   "cell_type": "code",
   "execution_count": 38,
   "metadata": {},
   "outputs": [
    {
     "data": {
      "text/html": [
       "<div>\n",
       "<style scoped>\n",
       "    .dataframe tbody tr th:only-of-type {\n",
       "        vertical-align: middle;\n",
       "    }\n",
       "\n",
       "    .dataframe tbody tr th {\n",
       "        vertical-align: top;\n",
       "    }\n",
       "\n",
       "    .dataframe thead th {\n",
       "        text-align: right;\n",
       "    }\n",
       "</style>\n",
       "<table border=\"1\" class=\"dataframe\">\n",
       "  <thead>\n",
       "    <tr style=\"text-align: right;\">\n",
       "      <th></th>\n",
       "      <th>Country</th>\n",
       "      <th>Urbanization</th>\n",
       "      <th>GDP_Per_Capita</th>\n",
       "      <th>Population</th>\n",
       "      <th>CO2_Emissions_Number</th>\n",
       "      <th>Urbanization1</th>\n",
       "      <th>Urbanization_Percentage</th>\n",
       "    </tr>\n",
       "  </thead>\n",
       "  <tbody>\n",
       "    <tr>\n",
       "      <th>0</th>\n",
       "      <td>Afghanistan</td>\n",
       "      <td>urban population:  25.5% of total population  ...</td>\n",
       "      <td>$2,000  (2017 est.)  $2,000  (2016 est.)  $2,0...</td>\n",
       "      <td>34,940,837  (July 2018 est.)</td>\n",
       "      <td>9067000.0</td>\n",
       "      <td>urban population:  25.5</td>\n",
       "      <td>25.5</td>\n",
       "    </tr>\n",
       "    <tr>\n",
       "      <th>1</th>\n",
       "      <td>Albania</td>\n",
       "      <td>urban population:  60.3% of total population  ...</td>\n",
       "      <td>$12,500  (2017 est.)  $12,100  (2016 est.)  $1...</td>\n",
       "      <td>3,057,220  (July 2018 est.)</td>\n",
       "      <td>4500000.0</td>\n",
       "      <td>urban population:  60.3</td>\n",
       "      <td>60.3</td>\n",
       "    </tr>\n",
       "    <tr>\n",
       "      <th>2</th>\n",
       "      <td>Algeria</td>\n",
       "      <td>urban population:  72.6% of total population  ...</td>\n",
       "      <td>$15,200  (2017 est.)  $15,200  (2016 est.)  $1...</td>\n",
       "      <td>41,657,488  (July 2018 est.)</td>\n",
       "      <td>135900000.0</td>\n",
       "      <td>urban population:  72.6</td>\n",
       "      <td>72.6</td>\n",
       "    </tr>\n",
       "    <tr>\n",
       "      <th>3</th>\n",
       "      <td>American Samoa</td>\n",
       "      <td>urban population:  87.2% of total population  ...</td>\n",
       "      <td>$11,200  (2016 est.)  $11,300  (2015 est.)  $1...</td>\n",
       "      <td>50,826  (July 2018 est.)</td>\n",
       "      <td>361100.0</td>\n",
       "      <td>urban population:  87.2</td>\n",
       "      <td>87.2</td>\n",
       "    </tr>\n",
       "    <tr>\n",
       "      <th>4</th>\n",
       "      <td>Angola</td>\n",
       "      <td>urban population:  65.5% of total population  ...</td>\n",
       "      <td>$6,800  (2017 est.)  $7,200  (2016 est.)  $7,6...</td>\n",
       "      <td>30,355,880  (July 2017 est.)  (July 2018 est.)...</td>\n",
       "      <td>20950000.0</td>\n",
       "      <td>urban population:  65.5</td>\n",
       "      <td>65.5</td>\n",
       "    </tr>\n",
       "  </tbody>\n",
       "</table>\n",
       "</div>"
      ],
      "text/plain": [
       "          Country                                       Urbanization  \\\n",
       "0     Afghanistan  urban population:  25.5% of total population  ...   \n",
       "1         Albania  urban population:  60.3% of total population  ...   \n",
       "2         Algeria  urban population:  72.6% of total population  ...   \n",
       "3  American Samoa  urban population:  87.2% of total population  ...   \n",
       "4          Angola  urban population:  65.5% of total population  ...   \n",
       "\n",
       "                                      GDP_Per_Capita  \\\n",
       "0  $2,000  (2017 est.)  $2,000  (2016 est.)  $2,0...   \n",
       "1  $12,500  (2017 est.)  $12,100  (2016 est.)  $1...   \n",
       "2  $15,200  (2017 est.)  $15,200  (2016 est.)  $1...   \n",
       "3  $11,200  (2016 est.)  $11,300  (2015 est.)  $1...   \n",
       "4  $6,800  (2017 est.)  $7,200  (2016 est.)  $7,6...   \n",
       "\n",
       "                                          Population  CO2_Emissions_Number  \\\n",
       "0                       34,940,837  (July 2018 est.)             9067000.0   \n",
       "1                        3,057,220  (July 2018 est.)             4500000.0   \n",
       "2                       41,657,488  (July 2018 est.)           135900000.0   \n",
       "3                           50,826  (July 2018 est.)              361100.0   \n",
       "4  30,355,880  (July 2017 est.)  (July 2018 est.)...            20950000.0   \n",
       "\n",
       "             Urbanization1 Urbanization_Percentage  \n",
       "0  urban population:  25.5                    25.5  \n",
       "1  urban population:  60.3                    60.3  \n",
       "2  urban population:  72.6                    72.6  \n",
       "3  urban population:  87.2                    87.2  \n",
       "4  urban population:  65.5                    65.5  "
      ]
     },
     "execution_count": 38,
     "metadata": {},
     "output_type": "execute_result"
    }
   ],
   "source": [
    "#Splitting values at ':'\n",
    "urbanizationnumber=[element.split(':')[1] for element in data.Urbanization1]\n",
    "data=data.assign(Urbanization_Percentage=urbanizationnumber)\n",
    "data.head()"
   ]
  },
  {
   "cell_type": "code",
   "execution_count": 39,
   "metadata": {},
   "outputs": [
    {
     "data": {
      "text/plain": [
       "Country                     object\n",
       "Urbanization                object\n",
       "GDP_Per_Capita              object\n",
       "Population                  object\n",
       "CO2_Emissions_Number       float64\n",
       "Urbanization1               object\n",
       "Urbanization_Percentage     object\n",
       "dtype: object"
      ]
     },
     "execution_count": 39,
     "metadata": {},
     "output_type": "execute_result"
    }
   ],
   "source": [
    "data.dtypes"
   ]
  },
  {
   "cell_type": "code",
   "execution_count": 40,
   "metadata": {},
   "outputs": [],
   "source": [
    "data.Urbanization_Percentage=pd.to_numeric(data.Urbanization_Percentage)"
   ]
  },
  {
   "cell_type": "code",
   "execution_count": 41,
   "metadata": {},
   "outputs": [
    {
     "data": {
      "text/plain": [
       "Country                     object\n",
       "Urbanization                object\n",
       "GDP_Per_Capita              object\n",
       "Population                  object\n",
       "CO2_Emissions_Number       float64\n",
       "Urbanization1               object\n",
       "Urbanization_Percentage    float64\n",
       "dtype: object"
      ]
     },
     "execution_count": 41,
     "metadata": {},
     "output_type": "execute_result"
    }
   ],
   "source": [
    "data.dtypes"
   ]
  },
  {
   "cell_type": "code",
   "execution_count": 42,
   "metadata": {},
   "outputs": [],
   "source": [
    "#Dropping old Urbanization columns\n",
    "data=data.drop(\"Urbanization\",axis=1).drop(\"Urbanization1\",axis=1)"
   ]
  },
  {
   "cell_type": "code",
   "execution_count": 43,
   "metadata": {},
   "outputs": [
    {
     "data": {
      "text/html": [
       "<div>\n",
       "<style scoped>\n",
       "    .dataframe tbody tr th:only-of-type {\n",
       "        vertical-align: middle;\n",
       "    }\n",
       "\n",
       "    .dataframe tbody tr th {\n",
       "        vertical-align: top;\n",
       "    }\n",
       "\n",
       "    .dataframe thead th {\n",
       "        text-align: right;\n",
       "    }\n",
       "</style>\n",
       "<table border=\"1\" class=\"dataframe\">\n",
       "  <thead>\n",
       "    <tr style=\"text-align: right;\">\n",
       "      <th></th>\n",
       "      <th>Country</th>\n",
       "      <th>GDP_Per_Capita</th>\n",
       "      <th>Population</th>\n",
       "      <th>CO2_Emissions_Number</th>\n",
       "      <th>Urbanization_Percentage</th>\n",
       "    </tr>\n",
       "  </thead>\n",
       "  <tbody>\n",
       "    <tr>\n",
       "      <th>0</th>\n",
       "      <td>Afghanistan</td>\n",
       "      <td>$2,000  (2017 est.)  $2,000  (2016 est.)  $2,0...</td>\n",
       "      <td>34,940,837  (July 2018 est.)</td>\n",
       "      <td>9067000.0</td>\n",
       "      <td>25.5</td>\n",
       "    </tr>\n",
       "    <tr>\n",
       "      <th>1</th>\n",
       "      <td>Albania</td>\n",
       "      <td>$12,500  (2017 est.)  $12,100  (2016 est.)  $1...</td>\n",
       "      <td>3,057,220  (July 2018 est.)</td>\n",
       "      <td>4500000.0</td>\n",
       "      <td>60.3</td>\n",
       "    </tr>\n",
       "    <tr>\n",
       "      <th>2</th>\n",
       "      <td>Algeria</td>\n",
       "      <td>$15,200  (2017 est.)  $15,200  (2016 est.)  $1...</td>\n",
       "      <td>41,657,488  (July 2018 est.)</td>\n",
       "      <td>135900000.0</td>\n",
       "      <td>72.6</td>\n",
       "    </tr>\n",
       "    <tr>\n",
       "      <th>3</th>\n",
       "      <td>American Samoa</td>\n",
       "      <td>$11,200  (2016 est.)  $11,300  (2015 est.)  $1...</td>\n",
       "      <td>50,826  (July 2018 est.)</td>\n",
       "      <td>361100.0</td>\n",
       "      <td>87.2</td>\n",
       "    </tr>\n",
       "    <tr>\n",
       "      <th>4</th>\n",
       "      <td>Angola</td>\n",
       "      <td>$6,800  (2017 est.)  $7,200  (2016 est.)  $7,6...</td>\n",
       "      <td>30,355,880  (July 2017 est.)  (July 2018 est.)...</td>\n",
       "      <td>20950000.0</td>\n",
       "      <td>65.5</td>\n",
       "    </tr>\n",
       "  </tbody>\n",
       "</table>\n",
       "</div>"
      ],
      "text/plain": [
       "          Country                                     GDP_Per_Capita  \\\n",
       "0     Afghanistan  $2,000  (2017 est.)  $2,000  (2016 est.)  $2,0...   \n",
       "1         Albania  $12,500  (2017 est.)  $12,100  (2016 est.)  $1...   \n",
       "2         Algeria  $15,200  (2017 est.)  $15,200  (2016 est.)  $1...   \n",
       "3  American Samoa  $11,200  (2016 est.)  $11,300  (2015 est.)  $1...   \n",
       "4          Angola  $6,800  (2017 est.)  $7,200  (2016 est.)  $7,6...   \n",
       "\n",
       "                                          Population  CO2_Emissions_Number  \\\n",
       "0                       34,940,837  (July 2018 est.)             9067000.0   \n",
       "1                        3,057,220  (July 2018 est.)             4500000.0   \n",
       "2                       41,657,488  (July 2018 est.)           135900000.0   \n",
       "3                           50,826  (July 2018 est.)              361100.0   \n",
       "4  30,355,880  (July 2017 est.)  (July 2018 est.)...            20950000.0   \n",
       "\n",
       "   Urbanization_Percentage  \n",
       "0                     25.5  \n",
       "1                     60.3  \n",
       "2                     72.6  \n",
       "3                     87.2  \n",
       "4                     65.5  "
      ]
     },
     "execution_count": 43,
     "metadata": {},
     "output_type": "execute_result"
    }
   ],
   "source": [
    "data.head()"
   ]
  },
  {
   "cell_type": "markdown",
   "metadata": {},
   "source": [
    "## 8. Cleaning the GDP Per Capita Column"
   ]
  },
  {
   "cell_type": "code",
   "execution_count": 44,
   "metadata": {},
   "outputs": [
    {
     "data": {
      "text/html": [
       "<div>\n",
       "<style scoped>\n",
       "    .dataframe tbody tr th:only-of-type {\n",
       "        vertical-align: middle;\n",
       "    }\n",
       "\n",
       "    .dataframe tbody tr th {\n",
       "        vertical-align: top;\n",
       "    }\n",
       "\n",
       "    .dataframe thead th {\n",
       "        text-align: right;\n",
       "    }\n",
       "</style>\n",
       "<table border=\"1\" class=\"dataframe\">\n",
       "  <thead>\n",
       "    <tr style=\"text-align: right;\">\n",
       "      <th></th>\n",
       "      <th>Country</th>\n",
       "      <th>GDP_Per_Capita</th>\n",
       "      <th>Population</th>\n",
       "      <th>CO2_Emissions_Number</th>\n",
       "      <th>Urbanization_Percentage</th>\n",
       "      <th>GDPPerCapita1</th>\n",
       "    </tr>\n",
       "  </thead>\n",
       "  <tbody>\n",
       "    <tr>\n",
       "      <th>0</th>\n",
       "      <td>Afghanistan</td>\n",
       "      <td>$2,000  (2017 est.)  $2,000  (2016 est.)  $2,0...</td>\n",
       "      <td>34,940,837  (July 2018 est.)</td>\n",
       "      <td>9067000.0</td>\n",
       "      <td>25.5</td>\n",
       "      <td>$2,000</td>\n",
       "    </tr>\n",
       "    <tr>\n",
       "      <th>1</th>\n",
       "      <td>Albania</td>\n",
       "      <td>$12,500  (2017 est.)  $12,100  (2016 est.)  $1...</td>\n",
       "      <td>3,057,220  (July 2018 est.)</td>\n",
       "      <td>4500000.0</td>\n",
       "      <td>60.3</td>\n",
       "      <td>$12,500</td>\n",
       "    </tr>\n",
       "    <tr>\n",
       "      <th>2</th>\n",
       "      <td>Algeria</td>\n",
       "      <td>$15,200  (2017 est.)  $15,200  (2016 est.)  $1...</td>\n",
       "      <td>41,657,488  (July 2018 est.)</td>\n",
       "      <td>135900000.0</td>\n",
       "      <td>72.6</td>\n",
       "      <td>$15,200</td>\n",
       "    </tr>\n",
       "    <tr>\n",
       "      <th>3</th>\n",
       "      <td>American Samoa</td>\n",
       "      <td>$11,200  (2016 est.)  $11,300  (2015 est.)  $1...</td>\n",
       "      <td>50,826  (July 2018 est.)</td>\n",
       "      <td>361100.0</td>\n",
       "      <td>87.2</td>\n",
       "      <td>$11,200</td>\n",
       "    </tr>\n",
       "    <tr>\n",
       "      <th>4</th>\n",
       "      <td>Angola</td>\n",
       "      <td>$6,800  (2017 est.)  $7,200  (2016 est.)  $7,6...</td>\n",
       "      <td>30,355,880  (July 2017 est.)  (July 2018 est.)...</td>\n",
       "      <td>20950000.0</td>\n",
       "      <td>65.5</td>\n",
       "      <td>$6,800</td>\n",
       "    </tr>\n",
       "  </tbody>\n",
       "</table>\n",
       "</div>"
      ],
      "text/plain": [
       "          Country                                     GDP_Per_Capita  \\\n",
       "0     Afghanistan  $2,000  (2017 est.)  $2,000  (2016 est.)  $2,0...   \n",
       "1         Albania  $12,500  (2017 est.)  $12,100  (2016 est.)  $1...   \n",
       "2         Algeria  $15,200  (2017 est.)  $15,200  (2016 est.)  $1...   \n",
       "3  American Samoa  $11,200  (2016 est.)  $11,300  (2015 est.)  $1...   \n",
       "4          Angola  $6,800  (2017 est.)  $7,200  (2016 est.)  $7,6...   \n",
       "\n",
       "                                          Population  CO2_Emissions_Number  \\\n",
       "0                       34,940,837  (July 2018 est.)             9067000.0   \n",
       "1                        3,057,220  (July 2018 est.)             4500000.0   \n",
       "2                       41,657,488  (July 2018 est.)           135900000.0   \n",
       "3                           50,826  (July 2018 est.)              361100.0   \n",
       "4  30,355,880  (July 2017 est.)  (July 2018 est.)...            20950000.0   \n",
       "\n",
       "   Urbanization_Percentage GDPPerCapita1  \n",
       "0                     25.5      $2,000    \n",
       "1                     60.3     $12,500    \n",
       "2                     72.6     $15,200    \n",
       "3                     87.2     $11,200    \n",
       "4                     65.5      $6,800    "
      ]
     },
     "execution_count": 44,
     "metadata": {},
     "output_type": "execute_result"
    }
   ],
   "source": [
    "#Split values after million\n",
    "gdppercapita=[element.split('(')[0] for element in data.GDP_Per_Capita]\n",
    "\n",
    "#Making the above list a new column\n",
    "data=data.assign(GDPPerCapita1=gdppercapita)\n",
    "data.head()"
   ]
  },
  {
   "cell_type": "code",
   "execution_count": 45,
   "metadata": {
    "scrolled": true
   },
   "outputs": [
    {
     "data": {
      "text/html": [
       "<div>\n",
       "<style scoped>\n",
       "    .dataframe tbody tr th:only-of-type {\n",
       "        vertical-align: middle;\n",
       "    }\n",
       "\n",
       "    .dataframe tbody tr th {\n",
       "        vertical-align: top;\n",
       "    }\n",
       "\n",
       "    .dataframe thead th {\n",
       "        text-align: right;\n",
       "    }\n",
       "</style>\n",
       "<table border=\"1\" class=\"dataframe\">\n",
       "  <thead>\n",
       "    <tr style=\"text-align: right;\">\n",
       "      <th></th>\n",
       "      <th>Country</th>\n",
       "      <th>GDP_Per_Capita</th>\n",
       "      <th>Population</th>\n",
       "      <th>CO2_Emissions_Number</th>\n",
       "      <th>Urbanization_Percentage</th>\n",
       "      <th>GDPPerCapita1</th>\n",
       "      <th>GDPPerCapita2</th>\n",
       "    </tr>\n",
       "  </thead>\n",
       "  <tbody>\n",
       "    <tr>\n",
       "      <th>0</th>\n",
       "      <td>Afghanistan</td>\n",
       "      <td>$2,000  (2017 est.)  $2,000  (2016 est.)  $2,0...</td>\n",
       "      <td>34,940,837  (July 2018 est.)</td>\n",
       "      <td>9067000.0</td>\n",
       "      <td>25.5</td>\n",
       "      <td>$2,000</td>\n",
       "      <td>2,000</td>\n",
       "    </tr>\n",
       "    <tr>\n",
       "      <th>1</th>\n",
       "      <td>Albania</td>\n",
       "      <td>$12,500  (2017 est.)  $12,100  (2016 est.)  $1...</td>\n",
       "      <td>3,057,220  (July 2018 est.)</td>\n",
       "      <td>4500000.0</td>\n",
       "      <td>60.3</td>\n",
       "      <td>$12,500</td>\n",
       "      <td>12,500</td>\n",
       "    </tr>\n",
       "    <tr>\n",
       "      <th>2</th>\n",
       "      <td>Algeria</td>\n",
       "      <td>$15,200  (2017 est.)  $15,200  (2016 est.)  $1...</td>\n",
       "      <td>41,657,488  (July 2018 est.)</td>\n",
       "      <td>135900000.0</td>\n",
       "      <td>72.6</td>\n",
       "      <td>$15,200</td>\n",
       "      <td>15,200</td>\n",
       "    </tr>\n",
       "    <tr>\n",
       "      <th>3</th>\n",
       "      <td>American Samoa</td>\n",
       "      <td>$11,200  (2016 est.)  $11,300  (2015 est.)  $1...</td>\n",
       "      <td>50,826  (July 2018 est.)</td>\n",
       "      <td>361100.0</td>\n",
       "      <td>87.2</td>\n",
       "      <td>$11,200</td>\n",
       "      <td>11,200</td>\n",
       "    </tr>\n",
       "    <tr>\n",
       "      <th>4</th>\n",
       "      <td>Angola</td>\n",
       "      <td>$6,800  (2017 est.)  $7,200  (2016 est.)  $7,6...</td>\n",
       "      <td>30,355,880  (July 2017 est.)  (July 2018 est.)...</td>\n",
       "      <td>20950000.0</td>\n",
       "      <td>65.5</td>\n",
       "      <td>$6,800</td>\n",
       "      <td>6,800</td>\n",
       "    </tr>\n",
       "  </tbody>\n",
       "</table>\n",
       "</div>"
      ],
      "text/plain": [
       "          Country                                     GDP_Per_Capita  \\\n",
       "0     Afghanistan  $2,000  (2017 est.)  $2,000  (2016 est.)  $2,0...   \n",
       "1         Albania  $12,500  (2017 est.)  $12,100  (2016 est.)  $1...   \n",
       "2         Algeria  $15,200  (2017 est.)  $15,200  (2016 est.)  $1...   \n",
       "3  American Samoa  $11,200  (2016 est.)  $11,300  (2015 est.)  $1...   \n",
       "4          Angola  $6,800  (2017 est.)  $7,200  (2016 est.)  $7,6...   \n",
       "\n",
       "                                          Population  CO2_Emissions_Number  \\\n",
       "0                       34,940,837  (July 2018 est.)             9067000.0   \n",
       "1                        3,057,220  (July 2018 est.)             4500000.0   \n",
       "2                       41,657,488  (July 2018 est.)           135900000.0   \n",
       "3                           50,826  (July 2018 est.)              361100.0   \n",
       "4  30,355,880  (July 2017 est.)  (July 2018 est.)...            20950000.0   \n",
       "\n",
       "   Urbanization_Percentage GDPPerCapita1 GDPPerCapita2  \n",
       "0                     25.5      $2,000         2,000    \n",
       "1                     60.3     $12,500        12,500    \n",
       "2                     72.6     $15,200        15,200    \n",
       "3                     87.2     $11,200        11,200    \n",
       "4                     65.5      $6,800         6,800    "
      ]
     },
     "execution_count": 45,
     "metadata": {},
     "output_type": "execute_result"
    }
   ],
   "source": [
    "#Split values after million\n",
    "gdppercapita=[element.split('$')[1] for element in data.GDPPerCapita1]\n",
    "\n",
    "#Making the above list a new column\n",
    "data=data.assign(GDPPerCapita2=gdppercapita)\n",
    "data.head()"
   ]
  },
  {
   "cell_type": "code",
   "execution_count": 46,
   "metadata": {},
   "outputs": [
    {
     "data": {
      "text/plain": [
       "'2100'"
      ]
     },
     "execution_count": 46,
     "metadata": {},
     "output_type": "execute_result"
    }
   ],
   "source": [
    "#test\n",
    "pattern='\\\\,'\n",
    "nothing=''\n",
    "testString='2,100'\n",
    "re.sub(pattern,nothing,testString)"
   ]
  },
  {
   "cell_type": "code",
   "execution_count": 47,
   "metadata": {},
   "outputs": [],
   "source": [
    "#Getting rid of the commas\n",
    "pattern='\\\\,'\n",
    "nothing=''\n",
    "newValues=[re.sub(pattern,nothing,oldValue) for oldValue in data.GDPPerCapita2]"
   ]
  },
  {
   "cell_type": "code",
   "execution_count": 48,
   "metadata": {
    "scrolled": true
   },
   "outputs": [
    {
     "data": {
      "text/html": [
       "<div>\n",
       "<style scoped>\n",
       "    .dataframe tbody tr th:only-of-type {\n",
       "        vertical-align: middle;\n",
       "    }\n",
       "\n",
       "    .dataframe tbody tr th {\n",
       "        vertical-align: top;\n",
       "    }\n",
       "\n",
       "    .dataframe thead th {\n",
       "        text-align: right;\n",
       "    }\n",
       "</style>\n",
       "<table border=\"1\" class=\"dataframe\">\n",
       "  <thead>\n",
       "    <tr style=\"text-align: right;\">\n",
       "      <th></th>\n",
       "      <th>Country</th>\n",
       "      <th>GDP_Per_Capita</th>\n",
       "      <th>Population</th>\n",
       "      <th>CO2_Emissions_Number</th>\n",
       "      <th>Urbanization_Percentage</th>\n",
       "      <th>GDPPerCapita1</th>\n",
       "      <th>GDPPerCapita2</th>\n",
       "      <th>GDP_Per_Capita_Number</th>\n",
       "    </tr>\n",
       "  </thead>\n",
       "  <tbody>\n",
       "    <tr>\n",
       "      <th>0</th>\n",
       "      <td>Afghanistan</td>\n",
       "      <td>$2,000  (2017 est.)  $2,000  (2016 est.)  $2,0...</td>\n",
       "      <td>34,940,837  (July 2018 est.)</td>\n",
       "      <td>9067000.0</td>\n",
       "      <td>25.5</td>\n",
       "      <td>$2,000</td>\n",
       "      <td>2,000</td>\n",
       "      <td>2000</td>\n",
       "    </tr>\n",
       "    <tr>\n",
       "      <th>1</th>\n",
       "      <td>Albania</td>\n",
       "      <td>$12,500  (2017 est.)  $12,100  (2016 est.)  $1...</td>\n",
       "      <td>3,057,220  (July 2018 est.)</td>\n",
       "      <td>4500000.0</td>\n",
       "      <td>60.3</td>\n",
       "      <td>$12,500</td>\n",
       "      <td>12,500</td>\n",
       "      <td>12500</td>\n",
       "    </tr>\n",
       "    <tr>\n",
       "      <th>2</th>\n",
       "      <td>Algeria</td>\n",
       "      <td>$15,200  (2017 est.)  $15,200  (2016 est.)  $1...</td>\n",
       "      <td>41,657,488  (July 2018 est.)</td>\n",
       "      <td>135900000.0</td>\n",
       "      <td>72.6</td>\n",
       "      <td>$15,200</td>\n",
       "      <td>15,200</td>\n",
       "      <td>15200</td>\n",
       "    </tr>\n",
       "    <tr>\n",
       "      <th>3</th>\n",
       "      <td>American Samoa</td>\n",
       "      <td>$11,200  (2016 est.)  $11,300  (2015 est.)  $1...</td>\n",
       "      <td>50,826  (July 2018 est.)</td>\n",
       "      <td>361100.0</td>\n",
       "      <td>87.2</td>\n",
       "      <td>$11,200</td>\n",
       "      <td>11,200</td>\n",
       "      <td>11200</td>\n",
       "    </tr>\n",
       "    <tr>\n",
       "      <th>4</th>\n",
       "      <td>Angola</td>\n",
       "      <td>$6,800  (2017 est.)  $7,200  (2016 est.)  $7,6...</td>\n",
       "      <td>30,355,880  (July 2017 est.)  (July 2018 est.)...</td>\n",
       "      <td>20950000.0</td>\n",
       "      <td>65.5</td>\n",
       "      <td>$6,800</td>\n",
       "      <td>6,800</td>\n",
       "      <td>6800</td>\n",
       "    </tr>\n",
       "  </tbody>\n",
       "</table>\n",
       "</div>"
      ],
      "text/plain": [
       "          Country                                     GDP_Per_Capita  \\\n",
       "0     Afghanistan  $2,000  (2017 est.)  $2,000  (2016 est.)  $2,0...   \n",
       "1         Albania  $12,500  (2017 est.)  $12,100  (2016 est.)  $1...   \n",
       "2         Algeria  $15,200  (2017 est.)  $15,200  (2016 est.)  $1...   \n",
       "3  American Samoa  $11,200  (2016 est.)  $11,300  (2015 est.)  $1...   \n",
       "4          Angola  $6,800  (2017 est.)  $7,200  (2016 est.)  $7,6...   \n",
       "\n",
       "                                          Population  CO2_Emissions_Number  \\\n",
       "0                       34,940,837  (July 2018 est.)             9067000.0   \n",
       "1                        3,057,220  (July 2018 est.)             4500000.0   \n",
       "2                       41,657,488  (July 2018 est.)           135900000.0   \n",
       "3                           50,826  (July 2018 est.)              361100.0   \n",
       "4  30,355,880  (July 2017 est.)  (July 2018 est.)...            20950000.0   \n",
       "\n",
       "   Urbanization_Percentage GDPPerCapita1 GDPPerCapita2 GDP_Per_Capita_Number  \n",
       "0                     25.5      $2,000         2,000                  2000    \n",
       "1                     60.3     $12,500        12,500                 12500    \n",
       "2                     72.6     $15,200        15,200                 15200    \n",
       "3                     87.2     $11,200        11,200                 11200    \n",
       "4                     65.5      $6,800         6,800                  6800    "
      ]
     },
     "execution_count": 48,
     "metadata": {},
     "output_type": "execute_result"
    }
   ],
   "source": [
    "#Substituting the new values\n",
    "data=data.assign(GDP_Per_Capita_Number=newValues)\n",
    "data.head()"
   ]
  },
  {
   "cell_type": "code",
   "execution_count": 49,
   "metadata": {},
   "outputs": [],
   "source": [
    "#Dropping old GDP columnns\n",
    "data=data.drop(\"GDP_Per_Capita\",axis=1).drop(\"GDPPerCapita1\",axis=1).drop(\"GDPPerCapita2\",axis=1)"
   ]
  },
  {
   "cell_type": "code",
   "execution_count": 50,
   "metadata": {
    "scrolled": true
   },
   "outputs": [
    {
     "data": {
      "text/plain": [
       "Country                     object\n",
       "Population                  object\n",
       "CO2_Emissions_Number       float64\n",
       "Urbanization_Percentage    float64\n",
       "GDP_Per_Capita_Number       object\n",
       "dtype: object"
      ]
     },
     "execution_count": 50,
     "metadata": {},
     "output_type": "execute_result"
    }
   ],
   "source": [
    "data.dtypes"
   ]
  },
  {
   "cell_type": "code",
   "execution_count": 51,
   "metadata": {},
   "outputs": [
    {
     "data": {
      "text/plain": [
       "''"
      ]
     },
     "execution_count": 51,
     "metadata": {},
     "output_type": "execute_result"
    }
   ],
   "source": [
    "#Need to replace NA values with nothing\n",
    "pattern='NA'\n",
    "nothing=''\n",
    "testString='NA'\n",
    "re.sub(pattern,nothing,testString)"
   ]
  },
  {
   "cell_type": "code",
   "execution_count": 52,
   "metadata": {},
   "outputs": [],
   "source": [
    "#To get rid of the NA's\n",
    "pattern='NA'\n",
    "nothing=''\n",
    "newValues=[re.sub(pattern,nothing,oldValue) for oldValue in data.GDP_Per_Capita_Number]"
   ]
  },
  {
   "cell_type": "code",
   "execution_count": 53,
   "metadata": {},
   "outputs": [
    {
     "data": {
      "text/html": [
       "<div>\n",
       "<style scoped>\n",
       "    .dataframe tbody tr th:only-of-type {\n",
       "        vertical-align: middle;\n",
       "    }\n",
       "\n",
       "    .dataframe tbody tr th {\n",
       "        vertical-align: top;\n",
       "    }\n",
       "\n",
       "    .dataframe thead th {\n",
       "        text-align: right;\n",
       "    }\n",
       "</style>\n",
       "<table border=\"1\" class=\"dataframe\">\n",
       "  <thead>\n",
       "    <tr style=\"text-align: right;\">\n",
       "      <th></th>\n",
       "      <th>Country</th>\n",
       "      <th>Population</th>\n",
       "      <th>CO2_Emissions_Number</th>\n",
       "      <th>Urbanization_Percentage</th>\n",
       "      <th>GDP_Per_Capita_Number</th>\n",
       "    </tr>\n",
       "  </thead>\n",
       "  <tbody>\n",
       "    <tr>\n",
       "      <th>0</th>\n",
       "      <td>Afghanistan</td>\n",
       "      <td>34,940,837  (July 2018 est.)</td>\n",
       "      <td>9067000.0</td>\n",
       "      <td>25.5</td>\n",
       "      <td>2000</td>\n",
       "    </tr>\n",
       "    <tr>\n",
       "      <th>1</th>\n",
       "      <td>Albania</td>\n",
       "      <td>3,057,220  (July 2018 est.)</td>\n",
       "      <td>4500000.0</td>\n",
       "      <td>60.3</td>\n",
       "      <td>12500</td>\n",
       "    </tr>\n",
       "    <tr>\n",
       "      <th>2</th>\n",
       "      <td>Algeria</td>\n",
       "      <td>41,657,488  (July 2018 est.)</td>\n",
       "      <td>135900000.0</td>\n",
       "      <td>72.6</td>\n",
       "      <td>15200</td>\n",
       "    </tr>\n",
       "    <tr>\n",
       "      <th>3</th>\n",
       "      <td>American Samoa</td>\n",
       "      <td>50,826  (July 2018 est.)</td>\n",
       "      <td>361100.0</td>\n",
       "      <td>87.2</td>\n",
       "      <td>11200</td>\n",
       "    </tr>\n",
       "    <tr>\n",
       "      <th>4</th>\n",
       "      <td>Angola</td>\n",
       "      <td>30,355,880  (July 2017 est.)  (July 2018 est.)...</td>\n",
       "      <td>20950000.0</td>\n",
       "      <td>65.5</td>\n",
       "      <td>6800</td>\n",
       "    </tr>\n",
       "  </tbody>\n",
       "</table>\n",
       "</div>"
      ],
      "text/plain": [
       "          Country                                         Population  \\\n",
       "0     Afghanistan                       34,940,837  (July 2018 est.)   \n",
       "1         Albania                        3,057,220  (July 2018 est.)   \n",
       "2         Algeria                       41,657,488  (July 2018 est.)   \n",
       "3  American Samoa                           50,826  (July 2018 est.)   \n",
       "4          Angola  30,355,880  (July 2017 est.)  (July 2018 est.)...   \n",
       "\n",
       "   CO2_Emissions_Number  Urbanization_Percentage GDP_Per_Capita_Number  \n",
       "0             9067000.0                     25.5                2000    \n",
       "1             4500000.0                     60.3               12500    \n",
       "2           135900000.0                     72.6               15200    \n",
       "3              361100.0                     87.2               11200    \n",
       "4            20950000.0                     65.5                6800    "
      ]
     },
     "execution_count": 53,
     "metadata": {},
     "output_type": "execute_result"
    }
   ],
   "source": [
    "data=data.assign(GDP_Per_Capita_Number=newValues)\n",
    "data.head()"
   ]
  },
  {
   "cell_type": "code",
   "execution_count": 54,
   "metadata": {},
   "outputs": [
    {
     "data": {
      "text/plain": [
       "'NA'"
      ]
     },
     "execution_count": 54,
     "metadata": {},
     "output_type": "execute_result"
    }
   ],
   "source": [
    "#Test\n",
    "pattern=' '\n",
    "nothing=''\n",
    "testString=' NA '\n",
    "re.sub(pattern,nothing,testString)"
   ]
  },
  {
   "cell_type": "code",
   "execution_count": 55,
   "metadata": {},
   "outputs": [],
   "source": [
    "#To get rid of the NA's\n",
    "pattern=' '\n",
    "nothing=''\n",
    "newValues=[re.sub(pattern,nothing,oldValue) for oldValue in data.GDP_Per_Capita_Number]"
   ]
  },
  {
   "cell_type": "code",
   "execution_count": 56,
   "metadata": {},
   "outputs": [
    {
     "data": {
      "text/html": [
       "<div>\n",
       "<style scoped>\n",
       "    .dataframe tbody tr th:only-of-type {\n",
       "        vertical-align: middle;\n",
       "    }\n",
       "\n",
       "    .dataframe tbody tr th {\n",
       "        vertical-align: top;\n",
       "    }\n",
       "\n",
       "    .dataframe thead th {\n",
       "        text-align: right;\n",
       "    }\n",
       "</style>\n",
       "<table border=\"1\" class=\"dataframe\">\n",
       "  <thead>\n",
       "    <tr style=\"text-align: right;\">\n",
       "      <th></th>\n",
       "      <th>Country</th>\n",
       "      <th>Population</th>\n",
       "      <th>CO2_Emissions_Number</th>\n",
       "      <th>Urbanization_Percentage</th>\n",
       "      <th>GDP_Per_Capita_Number</th>\n",
       "    </tr>\n",
       "  </thead>\n",
       "  <tbody>\n",
       "    <tr>\n",
       "      <th>0</th>\n",
       "      <td>Afghanistan</td>\n",
       "      <td>34,940,837  (July 2018 est.)</td>\n",
       "      <td>9067000.0</td>\n",
       "      <td>25.5</td>\n",
       "      <td>2000</td>\n",
       "    </tr>\n",
       "    <tr>\n",
       "      <th>1</th>\n",
       "      <td>Albania</td>\n",
       "      <td>3,057,220  (July 2018 est.)</td>\n",
       "      <td>4500000.0</td>\n",
       "      <td>60.3</td>\n",
       "      <td>12500</td>\n",
       "    </tr>\n",
       "    <tr>\n",
       "      <th>2</th>\n",
       "      <td>Algeria</td>\n",
       "      <td>41,657,488  (July 2018 est.)</td>\n",
       "      <td>135900000.0</td>\n",
       "      <td>72.6</td>\n",
       "      <td>15200</td>\n",
       "    </tr>\n",
       "    <tr>\n",
       "      <th>3</th>\n",
       "      <td>American Samoa</td>\n",
       "      <td>50,826  (July 2018 est.)</td>\n",
       "      <td>361100.0</td>\n",
       "      <td>87.2</td>\n",
       "      <td>11200</td>\n",
       "    </tr>\n",
       "    <tr>\n",
       "      <th>4</th>\n",
       "      <td>Angola</td>\n",
       "      <td>30,355,880  (July 2017 est.)  (July 2018 est.)...</td>\n",
       "      <td>20950000.0</td>\n",
       "      <td>65.5</td>\n",
       "      <td>6800</td>\n",
       "    </tr>\n",
       "  </tbody>\n",
       "</table>\n",
       "</div>"
      ],
      "text/plain": [
       "          Country                                         Population  \\\n",
       "0     Afghanistan                       34,940,837  (July 2018 est.)   \n",
       "1         Albania                        3,057,220  (July 2018 est.)   \n",
       "2         Algeria                       41,657,488  (July 2018 est.)   \n",
       "3  American Samoa                           50,826  (July 2018 est.)   \n",
       "4          Angola  30,355,880  (July 2017 est.)  (July 2018 est.)...   \n",
       "\n",
       "   CO2_Emissions_Number  Urbanization_Percentage GDP_Per_Capita_Number  \n",
       "0             9067000.0                     25.5                  2000  \n",
       "1             4500000.0                     60.3                 12500  \n",
       "2           135900000.0                     72.6                 15200  \n",
       "3              361100.0                     87.2                 11200  \n",
       "4            20950000.0                     65.5                  6800  "
      ]
     },
     "execution_count": 56,
     "metadata": {},
     "output_type": "execute_result"
    }
   ],
   "source": [
    "#Substituting new values\n",
    "data=data.assign(GDP_Per_Capita_Number=newValues)\n",
    "data.head()"
   ]
  },
  {
   "cell_type": "code",
   "execution_count": 57,
   "metadata": {},
   "outputs": [],
   "source": [
    "#Converting to numeric\n",
    "data.GDP_Per_Capita_Number=pd.to_numeric(data.GDP_Per_Capita_Number)"
   ]
  },
  {
   "cell_type": "code",
   "execution_count": 58,
   "metadata": {
    "scrolled": true
   },
   "outputs": [
    {
     "data": {
      "text/html": [
       "<div>\n",
       "<style scoped>\n",
       "    .dataframe tbody tr th:only-of-type {\n",
       "        vertical-align: middle;\n",
       "    }\n",
       "\n",
       "    .dataframe tbody tr th {\n",
       "        vertical-align: top;\n",
       "    }\n",
       "\n",
       "    .dataframe thead th {\n",
       "        text-align: right;\n",
       "    }\n",
       "</style>\n",
       "<table border=\"1\" class=\"dataframe\">\n",
       "  <thead>\n",
       "    <tr style=\"text-align: right;\">\n",
       "      <th></th>\n",
       "      <th>Country</th>\n",
       "      <th>Population</th>\n",
       "      <th>CO2_Emissions_Number</th>\n",
       "      <th>Urbanization_Percentage</th>\n",
       "      <th>GDP_Per_Capita_Number</th>\n",
       "    </tr>\n",
       "  </thead>\n",
       "  <tbody>\n",
       "    <tr>\n",
       "      <th>0</th>\n",
       "      <td>Afghanistan</td>\n",
       "      <td>34,940,837  (July 2018 est.)</td>\n",
       "      <td>9067000.0</td>\n",
       "      <td>25.5</td>\n",
       "      <td>2000.0</td>\n",
       "    </tr>\n",
       "    <tr>\n",
       "      <th>1</th>\n",
       "      <td>Albania</td>\n",
       "      <td>3,057,220  (July 2018 est.)</td>\n",
       "      <td>4500000.0</td>\n",
       "      <td>60.3</td>\n",
       "      <td>12500.0</td>\n",
       "    </tr>\n",
       "    <tr>\n",
       "      <th>2</th>\n",
       "      <td>Algeria</td>\n",
       "      <td>41,657,488  (July 2018 est.)</td>\n",
       "      <td>135900000.0</td>\n",
       "      <td>72.6</td>\n",
       "      <td>15200.0</td>\n",
       "    </tr>\n",
       "    <tr>\n",
       "      <th>3</th>\n",
       "      <td>American Samoa</td>\n",
       "      <td>50,826  (July 2018 est.)</td>\n",
       "      <td>361100.0</td>\n",
       "      <td>87.2</td>\n",
       "      <td>11200.0</td>\n",
       "    </tr>\n",
       "    <tr>\n",
       "      <th>4</th>\n",
       "      <td>Angola</td>\n",
       "      <td>30,355,880  (July 2017 est.)  (July 2018 est.)...</td>\n",
       "      <td>20950000.0</td>\n",
       "      <td>65.5</td>\n",
       "      <td>6800.0</td>\n",
       "    </tr>\n",
       "  </tbody>\n",
       "</table>\n",
       "</div>"
      ],
      "text/plain": [
       "          Country                                         Population  \\\n",
       "0     Afghanistan                       34,940,837  (July 2018 est.)   \n",
       "1         Albania                        3,057,220  (July 2018 est.)   \n",
       "2         Algeria                       41,657,488  (July 2018 est.)   \n",
       "3  American Samoa                           50,826  (July 2018 est.)   \n",
       "4          Angola  30,355,880  (July 2017 est.)  (July 2018 est.)...   \n",
       "\n",
       "   CO2_Emissions_Number  Urbanization_Percentage  GDP_Per_Capita_Number  \n",
       "0             9067000.0                     25.5                 2000.0  \n",
       "1             4500000.0                     60.3                12500.0  \n",
       "2           135900000.0                     72.6                15200.0  \n",
       "3              361100.0                     87.2                11200.0  \n",
       "4            20950000.0                     65.5                 6800.0  "
      ]
     },
     "execution_count": 58,
     "metadata": {},
     "output_type": "execute_result"
    }
   ],
   "source": [
    "data.head()"
   ]
  },
  {
   "cell_type": "markdown",
   "metadata": {},
   "source": [
    "## 9. Cleaning the Population Column"
   ]
  },
  {
   "cell_type": "code",
   "execution_count": 59,
   "metadata": {},
   "outputs": [
    {
     "data": {
      "text/html": [
       "<div>\n",
       "<style scoped>\n",
       "    .dataframe tbody tr th:only-of-type {\n",
       "        vertical-align: middle;\n",
       "    }\n",
       "\n",
       "    .dataframe tbody tr th {\n",
       "        vertical-align: top;\n",
       "    }\n",
       "\n",
       "    .dataframe thead th {\n",
       "        text-align: right;\n",
       "    }\n",
       "</style>\n",
       "<table border=\"1\" class=\"dataframe\">\n",
       "  <thead>\n",
       "    <tr style=\"text-align: right;\">\n",
       "      <th></th>\n",
       "      <th>Country</th>\n",
       "      <th>Population</th>\n",
       "      <th>CO2_Emissions_Number</th>\n",
       "      <th>Urbanization_Percentage</th>\n",
       "      <th>GDP_Per_Capita_Number</th>\n",
       "      <th>Population1</th>\n",
       "    </tr>\n",
       "  </thead>\n",
       "  <tbody>\n",
       "    <tr>\n",
       "      <th>0</th>\n",
       "      <td>Afghanistan</td>\n",
       "      <td>34,940,837  (July 2018 est.)</td>\n",
       "      <td>9067000.0</td>\n",
       "      <td>25.5</td>\n",
       "      <td>2000.0</td>\n",
       "      <td>34,940,837</td>\n",
       "    </tr>\n",
       "    <tr>\n",
       "      <th>1</th>\n",
       "      <td>Albania</td>\n",
       "      <td>3,057,220  (July 2018 est.)</td>\n",
       "      <td>4500000.0</td>\n",
       "      <td>60.3</td>\n",
       "      <td>12500.0</td>\n",
       "      <td>3,057,220</td>\n",
       "    </tr>\n",
       "    <tr>\n",
       "      <th>2</th>\n",
       "      <td>Algeria</td>\n",
       "      <td>41,657,488  (July 2018 est.)</td>\n",
       "      <td>135900000.0</td>\n",
       "      <td>72.6</td>\n",
       "      <td>15200.0</td>\n",
       "      <td>41,657,488</td>\n",
       "    </tr>\n",
       "    <tr>\n",
       "      <th>3</th>\n",
       "      <td>American Samoa</td>\n",
       "      <td>50,826  (July 2018 est.)</td>\n",
       "      <td>361100.0</td>\n",
       "      <td>87.2</td>\n",
       "      <td>11200.0</td>\n",
       "      <td>50,826</td>\n",
       "    </tr>\n",
       "    <tr>\n",
       "      <th>4</th>\n",
       "      <td>Angola</td>\n",
       "      <td>30,355,880  (July 2017 est.)  (July 2018 est.)...</td>\n",
       "      <td>20950000.0</td>\n",
       "      <td>65.5</td>\n",
       "      <td>6800.0</td>\n",
       "      <td>30,355,880</td>\n",
       "    </tr>\n",
       "  </tbody>\n",
       "</table>\n",
       "</div>"
      ],
      "text/plain": [
       "          Country                                         Population  \\\n",
       "0     Afghanistan                       34,940,837  (July 2018 est.)   \n",
       "1         Albania                        3,057,220  (July 2018 est.)   \n",
       "2         Algeria                       41,657,488  (July 2018 est.)   \n",
       "3  American Samoa                           50,826  (July 2018 est.)   \n",
       "4          Angola  30,355,880  (July 2017 est.)  (July 2018 est.)...   \n",
       "\n",
       "   CO2_Emissions_Number  Urbanization_Percentage  GDP_Per_Capita_Number  \\\n",
       "0             9067000.0                     25.5                 2000.0   \n",
       "1             4500000.0                     60.3                12500.0   \n",
       "2           135900000.0                     72.6                15200.0   \n",
       "3              361100.0                     87.2                11200.0   \n",
       "4            20950000.0                     65.5                 6800.0   \n",
       "\n",
       "   Population1  \n",
       "0  34,940,837   \n",
       "1   3,057,220   \n",
       "2  41,657,488   \n",
       "3      50,826   \n",
       "4  30,355,880   "
      ]
     },
     "execution_count": 59,
     "metadata": {},
     "output_type": "execute_result"
    }
   ],
   "source": [
    "#Split values at \"(\"\n",
    "popnumber=[element.split(' (')[0] for element in data.Population]\n",
    "\n",
    "#Making the above list a new column\n",
    "data=data.assign(Population1=popnumber)\n",
    "data.head()"
   ]
  },
  {
   "cell_type": "code",
   "execution_count": 60,
   "metadata": {},
   "outputs": [
    {
     "data": {
      "text/plain": [
       "'198450'"
      ]
     },
     "execution_count": 60,
     "metadata": {},
     "output_type": "execute_result"
    }
   ],
   "source": [
    "# Test\n",
    "pattern='\\\\,'\n",
    "nothing=''\n",
    "testString='198,450'\n",
    "re.sub(pattern,nothing,testString)"
   ]
  },
  {
   "cell_type": "code",
   "execution_count": 61,
   "metadata": {},
   "outputs": [],
   "source": [
    "# Getting rid of commas in all values and creating newValues container\n",
    "pattern='\\\\,'\n",
    "nothing=''\n",
    "\n",
    "newValues=[re.sub(pattern,nothing,oldValue) for oldValue in data.Population1]"
   ]
  },
  {
   "cell_type": "code",
   "execution_count": 62,
   "metadata": {},
   "outputs": [
    {
     "data": {
      "text/html": [
       "<div>\n",
       "<style scoped>\n",
       "    .dataframe tbody tr th:only-of-type {\n",
       "        vertical-align: middle;\n",
       "    }\n",
       "\n",
       "    .dataframe tbody tr th {\n",
       "        vertical-align: top;\n",
       "    }\n",
       "\n",
       "    .dataframe thead th {\n",
       "        text-align: right;\n",
       "    }\n",
       "</style>\n",
       "<table border=\"1\" class=\"dataframe\">\n",
       "  <thead>\n",
       "    <tr style=\"text-align: right;\">\n",
       "      <th></th>\n",
       "      <th>Country</th>\n",
       "      <th>Population</th>\n",
       "      <th>CO2_Emissions_Number</th>\n",
       "      <th>Urbanization_Percentage</th>\n",
       "      <th>GDP_Per_Capita_Number</th>\n",
       "      <th>Population1</th>\n",
       "    </tr>\n",
       "  </thead>\n",
       "  <tbody>\n",
       "    <tr>\n",
       "      <th>0</th>\n",
       "      <td>Afghanistan</td>\n",
       "      <td>34,940,837  (July 2018 est.)</td>\n",
       "      <td>9067000.0</td>\n",
       "      <td>25.5</td>\n",
       "      <td>2000.0</td>\n",
       "      <td>34940837</td>\n",
       "    </tr>\n",
       "    <tr>\n",
       "      <th>1</th>\n",
       "      <td>Albania</td>\n",
       "      <td>3,057,220  (July 2018 est.)</td>\n",
       "      <td>4500000.0</td>\n",
       "      <td>60.3</td>\n",
       "      <td>12500.0</td>\n",
       "      <td>3057220</td>\n",
       "    </tr>\n",
       "    <tr>\n",
       "      <th>2</th>\n",
       "      <td>Algeria</td>\n",
       "      <td>41,657,488  (July 2018 est.)</td>\n",
       "      <td>135900000.0</td>\n",
       "      <td>72.6</td>\n",
       "      <td>15200.0</td>\n",
       "      <td>41657488</td>\n",
       "    </tr>\n",
       "    <tr>\n",
       "      <th>3</th>\n",
       "      <td>American Samoa</td>\n",
       "      <td>50,826  (July 2018 est.)</td>\n",
       "      <td>361100.0</td>\n",
       "      <td>87.2</td>\n",
       "      <td>11200.0</td>\n",
       "      <td>50826</td>\n",
       "    </tr>\n",
       "    <tr>\n",
       "      <th>4</th>\n",
       "      <td>Angola</td>\n",
       "      <td>30,355,880  (July 2017 est.)  (July 2018 est.)...</td>\n",
       "      <td>20950000.0</td>\n",
       "      <td>65.5</td>\n",
       "      <td>6800.0</td>\n",
       "      <td>30355880</td>\n",
       "    </tr>\n",
       "  </tbody>\n",
       "</table>\n",
       "</div>"
      ],
      "text/plain": [
       "          Country                                         Population  \\\n",
       "0     Afghanistan                       34,940,837  (July 2018 est.)   \n",
       "1         Albania                        3,057,220  (July 2018 est.)   \n",
       "2         Algeria                       41,657,488  (July 2018 est.)   \n",
       "3  American Samoa                           50,826  (July 2018 est.)   \n",
       "4          Angola  30,355,880  (July 2017 est.)  (July 2018 est.)...   \n",
       "\n",
       "   CO2_Emissions_Number  Urbanization_Percentage  GDP_Per_Capita_Number  \\\n",
       "0             9067000.0                     25.5                 2000.0   \n",
       "1             4500000.0                     60.3                12500.0   \n",
       "2           135900000.0                     72.6                15200.0   \n",
       "3              361100.0                     87.2                11200.0   \n",
       "4            20950000.0                     65.5                 6800.0   \n",
       "\n",
       "  Population1  \n",
       "0   34940837   \n",
       "1    3057220   \n",
       "2   41657488   \n",
       "3      50826   \n",
       "4   30355880   "
      ]
     },
     "execution_count": 62,
     "metadata": {},
     "output_type": "execute_result"
    }
   ],
   "source": [
    "#Replacing old column, Population1 with newValues\n",
    "data=data.assign(Population1=newValues)\n",
    "data.head()"
   ]
  },
  {
   "cell_type": "code",
   "execution_count": 63,
   "metadata": {
    "scrolled": true
   },
   "outputs": [
    {
     "data": {
      "text/html": [
       "<div>\n",
       "<style scoped>\n",
       "    .dataframe tbody tr th:only-of-type {\n",
       "        vertical-align: middle;\n",
       "    }\n",
       "\n",
       "    .dataframe tbody tr th {\n",
       "        vertical-align: top;\n",
       "    }\n",
       "\n",
       "    .dataframe thead th {\n",
       "        text-align: right;\n",
       "    }\n",
       "</style>\n",
       "<table border=\"1\" class=\"dataframe\">\n",
       "  <thead>\n",
       "    <tr style=\"text-align: right;\">\n",
       "      <th></th>\n",
       "      <th>Country</th>\n",
       "      <th>Population</th>\n",
       "      <th>CO2_Emissions_Number</th>\n",
       "      <th>Urbanization_Percentage</th>\n",
       "      <th>GDP_Per_Capita_Number</th>\n",
       "      <th>Population1</th>\n",
       "      <th>Population_Number</th>\n",
       "    </tr>\n",
       "  </thead>\n",
       "  <tbody>\n",
       "    <tr>\n",
       "      <th>0</th>\n",
       "      <td>Afghanistan</td>\n",
       "      <td>34,940,837  (July 2018 est.)</td>\n",
       "      <td>9067000.0</td>\n",
       "      <td>25.5</td>\n",
       "      <td>2000.0</td>\n",
       "      <td>34940837</td>\n",
       "      <td>34940837</td>\n",
       "    </tr>\n",
       "    <tr>\n",
       "      <th>1</th>\n",
       "      <td>Albania</td>\n",
       "      <td>3,057,220  (July 2018 est.)</td>\n",
       "      <td>4500000.0</td>\n",
       "      <td>60.3</td>\n",
       "      <td>12500.0</td>\n",
       "      <td>3057220</td>\n",
       "      <td>3057220</td>\n",
       "    </tr>\n",
       "    <tr>\n",
       "      <th>2</th>\n",
       "      <td>Algeria</td>\n",
       "      <td>41,657,488  (July 2018 est.)</td>\n",
       "      <td>135900000.0</td>\n",
       "      <td>72.6</td>\n",
       "      <td>15200.0</td>\n",
       "      <td>41657488</td>\n",
       "      <td>41657488</td>\n",
       "    </tr>\n",
       "    <tr>\n",
       "      <th>3</th>\n",
       "      <td>American Samoa</td>\n",
       "      <td>50,826  (July 2018 est.)</td>\n",
       "      <td>361100.0</td>\n",
       "      <td>87.2</td>\n",
       "      <td>11200.0</td>\n",
       "      <td>50826</td>\n",
       "      <td>50826</td>\n",
       "    </tr>\n",
       "    <tr>\n",
       "      <th>4</th>\n",
       "      <td>Angola</td>\n",
       "      <td>30,355,880  (July 2017 est.)  (July 2018 est.)...</td>\n",
       "      <td>20950000.0</td>\n",
       "      <td>65.5</td>\n",
       "      <td>6800.0</td>\n",
       "      <td>30355880</td>\n",
       "      <td>30355880</td>\n",
       "    </tr>\n",
       "  </tbody>\n",
       "</table>\n",
       "</div>"
      ],
      "text/plain": [
       "          Country                                         Population  \\\n",
       "0     Afghanistan                       34,940,837  (July 2018 est.)   \n",
       "1         Albania                        3,057,220  (July 2018 est.)   \n",
       "2         Algeria                       41,657,488  (July 2018 est.)   \n",
       "3  American Samoa                           50,826  (July 2018 est.)   \n",
       "4          Angola  30,355,880  (July 2017 est.)  (July 2018 est.)...   \n",
       "\n",
       "   CO2_Emissions_Number  Urbanization_Percentage  GDP_Per_Capita_Number  \\\n",
       "0             9067000.0                     25.5                 2000.0   \n",
       "1             4500000.0                     60.3                12500.0   \n",
       "2           135900000.0                     72.6                15200.0   \n",
       "3              361100.0                     87.2                11200.0   \n",
       "4            20950000.0                     65.5                 6800.0   \n",
       "\n",
       "  Population1 Population_Number  \n",
       "0   34940837           34940837  \n",
       "1    3057220            3057220  \n",
       "2   41657488           41657488  \n",
       "3      50826              50826  \n",
       "4   30355880           30355880  "
      ]
     },
     "execution_count": 63,
     "metadata": {},
     "output_type": "execute_result"
    }
   ],
   "source": [
    "#Some of the values still aren't just numbers so going to split again at spaces\n",
    "popnumber=[element.split(' ')[0] for element in data.Population1]\n",
    "\n",
    "#Making the above list a new column\n",
    "data=data.assign(Population_Number=popnumber)\n",
    "data.head()"
   ]
  },
  {
   "cell_type": "code",
   "execution_count": 64,
   "metadata": {},
   "outputs": [
    {
     "data": {
      "text/plain": [
       "Country                     object\n",
       "Population                  object\n",
       "CO2_Emissions_Number       float64\n",
       "Urbanization_Percentage    float64\n",
       "GDP_Per_Capita_Number      float64\n",
       "Population1                 object\n",
       "Population_Number           object\n",
       "dtype: object"
      ]
     },
     "execution_count": 64,
     "metadata": {},
     "output_type": "execute_result"
    }
   ],
   "source": [
    "data.dtypes"
   ]
  },
  {
   "cell_type": "code",
   "execution_count": 65,
   "metadata": {},
   "outputs": [],
   "source": [
    "#Converting Population_Number from object to float64\n",
    "data.Population_Number=pd.to_numeric(data.Population_Number)"
   ]
  },
  {
   "cell_type": "code",
   "execution_count": 66,
   "metadata": {},
   "outputs": [],
   "source": [
    "#Dropping old population columns\n",
    "data=data.drop(\"Population\",axis=1).drop(\"Population1\",axis=1)"
   ]
  },
  {
   "cell_type": "code",
   "execution_count": 67,
   "metadata": {},
   "outputs": [
    {
     "data": {
      "text/html": [
       "<div>\n",
       "<style scoped>\n",
       "    .dataframe tbody tr th:only-of-type {\n",
       "        vertical-align: middle;\n",
       "    }\n",
       "\n",
       "    .dataframe tbody tr th {\n",
       "        vertical-align: top;\n",
       "    }\n",
       "\n",
       "    .dataframe thead th {\n",
       "        text-align: right;\n",
       "    }\n",
       "</style>\n",
       "<table border=\"1\" class=\"dataframe\">\n",
       "  <thead>\n",
       "    <tr style=\"text-align: right;\">\n",
       "      <th></th>\n",
       "      <th>Country</th>\n",
       "      <th>CO2_Emissions_Number</th>\n",
       "      <th>Urbanization_Percentage</th>\n",
       "      <th>GDP_Per_Capita_Number</th>\n",
       "      <th>Population_Number</th>\n",
       "    </tr>\n",
       "  </thead>\n",
       "  <tbody>\n",
       "    <tr>\n",
       "      <th>0</th>\n",
       "      <td>Afghanistan</td>\n",
       "      <td>9067000.0</td>\n",
       "      <td>25.5</td>\n",
       "      <td>2000.0</td>\n",
       "      <td>34940837</td>\n",
       "    </tr>\n",
       "    <tr>\n",
       "      <th>1</th>\n",
       "      <td>Albania</td>\n",
       "      <td>4500000.0</td>\n",
       "      <td>60.3</td>\n",
       "      <td>12500.0</td>\n",
       "      <td>3057220</td>\n",
       "    </tr>\n",
       "    <tr>\n",
       "      <th>2</th>\n",
       "      <td>Algeria</td>\n",
       "      <td>135900000.0</td>\n",
       "      <td>72.6</td>\n",
       "      <td>15200.0</td>\n",
       "      <td>41657488</td>\n",
       "    </tr>\n",
       "    <tr>\n",
       "      <th>3</th>\n",
       "      <td>American Samoa</td>\n",
       "      <td>361100.0</td>\n",
       "      <td>87.2</td>\n",
       "      <td>11200.0</td>\n",
       "      <td>50826</td>\n",
       "    </tr>\n",
       "    <tr>\n",
       "      <th>4</th>\n",
       "      <td>Angola</td>\n",
       "      <td>20950000.0</td>\n",
       "      <td>65.5</td>\n",
       "      <td>6800.0</td>\n",
       "      <td>30355880</td>\n",
       "    </tr>\n",
       "  </tbody>\n",
       "</table>\n",
       "</div>"
      ],
      "text/plain": [
       "          Country  CO2_Emissions_Number  Urbanization_Percentage  \\\n",
       "0     Afghanistan             9067000.0                     25.5   \n",
       "1         Albania             4500000.0                     60.3   \n",
       "2         Algeria           135900000.0                     72.6   \n",
       "3  American Samoa              361100.0                     87.2   \n",
       "4          Angola            20950000.0                     65.5   \n",
       "\n",
       "   GDP_Per_Capita_Number  Population_Number  \n",
       "0                 2000.0           34940837  \n",
       "1                12500.0            3057220  \n",
       "2                15200.0           41657488  \n",
       "3                11200.0              50826  \n",
       "4                 6800.0           30355880  "
      ]
     },
     "execution_count": 67,
     "metadata": {},
     "output_type": "execute_result"
    }
   ],
   "source": [
    "data.head()"
   ]
  },
  {
   "cell_type": "markdown",
   "metadata": {},
   "source": [
    "## 10. Creating an Emissions Per Capita Column"
   ]
  },
  {
   "cell_type": "code",
   "execution_count": 68,
   "metadata": {},
   "outputs": [],
   "source": [
    "#Dividing total CO2 emissions by population to get CO2 emissions per capita\n",
    "from __future__ import division\n",
    "emissionspercap=(data.CO2_Emissions_Number/data.Population_Number)"
   ]
  },
  {
   "cell_type": "code",
   "execution_count": 69,
   "metadata": {},
   "outputs": [],
   "source": [
    "#Substituting the new column into the dataframe\n",
    "data=data.assign(CO2_Emissions_PerCapita=emissionspercap)"
   ]
  },
  {
   "cell_type": "code",
   "execution_count": 70,
   "metadata": {},
   "outputs": [
    {
     "data": {
      "text/html": [
       "<div>\n",
       "<style scoped>\n",
       "    .dataframe tbody tr th:only-of-type {\n",
       "        vertical-align: middle;\n",
       "    }\n",
       "\n",
       "    .dataframe tbody tr th {\n",
       "        vertical-align: top;\n",
       "    }\n",
       "\n",
       "    .dataframe thead th {\n",
       "        text-align: right;\n",
       "    }\n",
       "</style>\n",
       "<table border=\"1\" class=\"dataframe\">\n",
       "  <thead>\n",
       "    <tr style=\"text-align: right;\">\n",
       "      <th></th>\n",
       "      <th>Country</th>\n",
       "      <th>CO2_Emissions_Number</th>\n",
       "      <th>Urbanization_Percentage</th>\n",
       "      <th>GDP_Per_Capita_Number</th>\n",
       "      <th>Population_Number</th>\n",
       "      <th>CO2_Emissions_PerCapita</th>\n",
       "    </tr>\n",
       "  </thead>\n",
       "  <tbody>\n",
       "    <tr>\n",
       "      <th>0</th>\n",
       "      <td>Afghanistan</td>\n",
       "      <td>9067000.0</td>\n",
       "      <td>25.5</td>\n",
       "      <td>2000.0</td>\n",
       "      <td>34940837</td>\n",
       "      <td>0.259496</td>\n",
       "    </tr>\n",
       "    <tr>\n",
       "      <th>1</th>\n",
       "      <td>Albania</td>\n",
       "      <td>4500000.0</td>\n",
       "      <td>60.3</td>\n",
       "      <td>12500.0</td>\n",
       "      <td>3057220</td>\n",
       "      <td>1.471925</td>\n",
       "    </tr>\n",
       "    <tr>\n",
       "      <th>2</th>\n",
       "      <td>Algeria</td>\n",
       "      <td>135900000.0</td>\n",
       "      <td>72.6</td>\n",
       "      <td>15200.0</td>\n",
       "      <td>41657488</td>\n",
       "      <td>3.262319</td>\n",
       "    </tr>\n",
       "    <tr>\n",
       "      <th>3</th>\n",
       "      <td>American Samoa</td>\n",
       "      <td>361100.0</td>\n",
       "      <td>87.2</td>\n",
       "      <td>11200.0</td>\n",
       "      <td>50826</td>\n",
       "      <td>7.104631</td>\n",
       "    </tr>\n",
       "    <tr>\n",
       "      <th>4</th>\n",
       "      <td>Angola</td>\n",
       "      <td>20950000.0</td>\n",
       "      <td>65.5</td>\n",
       "      <td>6800.0</td>\n",
       "      <td>30355880</td>\n",
       "      <td>0.690146</td>\n",
       "    </tr>\n",
       "  </tbody>\n",
       "</table>\n",
       "</div>"
      ],
      "text/plain": [
       "          Country  CO2_Emissions_Number  Urbanization_Percentage  \\\n",
       "0     Afghanistan             9067000.0                     25.5   \n",
       "1         Albania             4500000.0                     60.3   \n",
       "2         Algeria           135900000.0                     72.6   \n",
       "3  American Samoa              361100.0                     87.2   \n",
       "4          Angola            20950000.0                     65.5   \n",
       "\n",
       "   GDP_Per_Capita_Number  Population_Number  CO2_Emissions_PerCapita  \n",
       "0                 2000.0           34940837                 0.259496  \n",
       "1                12500.0            3057220                 1.471925  \n",
       "2                15200.0           41657488                 3.262319  \n",
       "3                11200.0              50826                 7.104631  \n",
       "4                 6800.0           30355880                 0.690146  "
      ]
     },
     "execution_count": 70,
     "metadata": {},
     "output_type": "execute_result"
    }
   ],
   "source": [
    "data.head()"
   ]
  },
  {
   "cell_type": "markdown",
   "metadata": {},
   "source": [
    "## 11. Dropping the World Row"
   ]
  },
  {
   "cell_type": "markdown",
   "metadata": {},
   "source": [
    "Get rid of the aggregated world row so it doesn't skew our results later."
   ]
  },
  {
   "cell_type": "code",
   "execution_count": 71,
   "metadata": {
    "scrolled": true
   },
   "outputs": [
    {
     "data": {
      "text/plain": [
       "Country                         World\n",
       "CO2_Emissions_Number        3.362e+10\n",
       "Urbanization_Percentage          55.3\n",
       "GDP_Per_Capita_Number           17500\n",
       "Population_Number          7405107650\n",
       "CO2_Emissions_PerCapita       4.54011\n",
       "Name: 210, dtype: object"
      ]
     },
     "execution_count": 71,
     "metadata": {},
     "output_type": "execute_result"
    }
   ],
   "source": [
    "#Locating\n",
    "data.iloc[210,:]"
   ]
  },
  {
   "cell_type": "code",
   "execution_count": 72,
   "metadata": {},
   "outputs": [],
   "source": [
    "#Dropping\n",
    "data.drop(210,axis=0,inplace=True)"
   ]
  },
  {
   "cell_type": "code",
   "execution_count": 73,
   "metadata": {},
   "outputs": [
    {
     "data": {
      "text/html": [
       "<div>\n",
       "<style scoped>\n",
       "    .dataframe tbody tr th:only-of-type {\n",
       "        vertical-align: middle;\n",
       "    }\n",
       "\n",
       "    .dataframe tbody tr th {\n",
       "        vertical-align: top;\n",
       "    }\n",
       "\n",
       "    .dataframe thead th {\n",
       "        text-align: right;\n",
       "    }\n",
       "</style>\n",
       "<table border=\"1\" class=\"dataframe\">\n",
       "  <thead>\n",
       "    <tr style=\"text-align: right;\">\n",
       "      <th></th>\n",
       "      <th>Country</th>\n",
       "      <th>CO2_Emissions_Number</th>\n",
       "      <th>Urbanization_Percentage</th>\n",
       "      <th>GDP_Per_Capita_Number</th>\n",
       "      <th>Population_Number</th>\n",
       "      <th>CO2_Emissions_PerCapita</th>\n",
       "    </tr>\n",
       "  </thead>\n",
       "  <tbody>\n",
       "    <tr>\n",
       "      <th>208</th>\n",
       "      <td>West Bank</td>\n",
       "      <td>3113000.0</td>\n",
       "      <td>76.2</td>\n",
       "      <td>4300.0</td>\n",
       "      <td>2798494</td>\n",
       "      <td>1.112384</td>\n",
       "    </tr>\n",
       "    <tr>\n",
       "      <th>209</th>\n",
       "      <td>Western Sahara</td>\n",
       "      <td>268400.0</td>\n",
       "      <td>86.7</td>\n",
       "      <td>2500.0</td>\n",
       "      <td>619551</td>\n",
       "      <td>0.433217</td>\n",
       "    </tr>\n",
       "    <tr>\n",
       "      <th>211</th>\n",
       "      <td>Yemen</td>\n",
       "      <td>13680000.0</td>\n",
       "      <td>36.6</td>\n",
       "      <td>2500.0</td>\n",
       "      <td>28667230</td>\n",
       "      <td>0.477200</td>\n",
       "    </tr>\n",
       "    <tr>\n",
       "      <th>212</th>\n",
       "      <td>Zambia</td>\n",
       "      <td>3777000.0</td>\n",
       "      <td>43.5</td>\n",
       "      <td>4000.0</td>\n",
       "      <td>16445079</td>\n",
       "      <td>0.229674</td>\n",
       "    </tr>\n",
       "  </tbody>\n",
       "</table>\n",
       "</div>"
      ],
      "text/plain": [
       "            Country  CO2_Emissions_Number  Urbanization_Percentage  \\\n",
       "208       West Bank             3113000.0                     76.2   \n",
       "209  Western Sahara              268400.0                     86.7   \n",
       "211           Yemen            13680000.0                     36.6   \n",
       "212          Zambia             3777000.0                     43.5   \n",
       "\n",
       "     GDP_Per_Capita_Number  Population_Number  CO2_Emissions_PerCapita  \n",
       "208                 4300.0            2798494                 1.112384  \n",
       "209                 2500.0             619551                 0.433217  \n",
       "211                 2500.0           28667230                 0.477200  \n",
       "212                 4000.0           16445079                 0.229674  "
      ]
     },
     "execution_count": 73,
     "metadata": {},
     "output_type": "execute_result"
    }
   ],
   "source": [
    "#Checking\n",
    "data.iloc[208:212,:]"
   ]
  },
  {
   "cell_type": "markdown",
   "metadata": {},
   "source": [
    "## 12. Dropping Somalia because GDP Per Capita Number is Missing"
   ]
  },
  {
   "cell_type": "code",
   "execution_count": 74,
   "metadata": {},
   "outputs": [
    {
     "data": {
      "text/plain": [
       "Country                     Somalia\n",
       "CO2_Emissions_Number         852500\n",
       "Urbanization_Percentage          45\n",
       "GDP_Per_Capita_Number           NaN\n",
       "Population_Number          11259029\n",
       "CO2_Emissions_PerCapita    0.075717\n",
       "Name: 175, dtype: object"
      ]
     },
     "execution_count": 74,
     "metadata": {},
     "output_type": "execute_result"
    }
   ],
   "source": [
    "#Locating\n",
    "data.iloc[175,:]"
   ]
  },
  {
   "cell_type": "code",
   "execution_count": 75,
   "metadata": {},
   "outputs": [],
   "source": [
    "#Dropping\n",
    "data.drop(175,axis=0,inplace=True)"
   ]
  },
  {
   "cell_type": "code",
   "execution_count": 76,
   "metadata": {},
   "outputs": [
    {
     "data": {
      "text/html": [
       "<div>\n",
       "<style scoped>\n",
       "    .dataframe tbody tr th:only-of-type {\n",
       "        vertical-align: middle;\n",
       "    }\n",
       "\n",
       "    .dataframe tbody tr th {\n",
       "        vertical-align: top;\n",
       "    }\n",
       "\n",
       "    .dataframe thead th {\n",
       "        text-align: right;\n",
       "    }\n",
       "</style>\n",
       "<table border=\"1\" class=\"dataframe\">\n",
       "  <thead>\n",
       "    <tr style=\"text-align: right;\">\n",
       "      <th></th>\n",
       "      <th>Country</th>\n",
       "      <th>CO2_Emissions_Number</th>\n",
       "      <th>Urbanization_Percentage</th>\n",
       "      <th>GDP_Per_Capita_Number</th>\n",
       "      <th>Population_Number</th>\n",
       "      <th>CO2_Emissions_PerCapita</th>\n",
       "    </tr>\n",
       "  </thead>\n",
       "  <tbody>\n",
       "    <tr>\n",
       "      <th>172</th>\n",
       "      <td>Slovakia</td>\n",
       "      <td>34860000.0</td>\n",
       "      <td>53.7</td>\n",
       "      <td>33100.0</td>\n",
       "      <td>5445040</td>\n",
       "      <td>6.402157</td>\n",
       "    </tr>\n",
       "    <tr>\n",
       "      <th>173</th>\n",
       "      <td>Slovenia</td>\n",
       "      <td>14370000.0</td>\n",
       "      <td>54.5</td>\n",
       "      <td>34500.0</td>\n",
       "      <td>2102126</td>\n",
       "      <td>6.835937</td>\n",
       "    </tr>\n",
       "    <tr>\n",
       "      <th>174</th>\n",
       "      <td>Solomon Islands</td>\n",
       "      <td>233500.0</td>\n",
       "      <td>23.7</td>\n",
       "      <td>2200.0</td>\n",
       "      <td>660121</td>\n",
       "      <td>0.353723</td>\n",
       "    </tr>\n",
       "    <tr>\n",
       "      <th>176</th>\n",
       "      <td>South Africa</td>\n",
       "      <td>572300000.0</td>\n",
       "      <td>66.4</td>\n",
       "      <td>13600.0</td>\n",
       "      <td>55380210</td>\n",
       "      <td>10.334016</td>\n",
       "    </tr>\n",
       "    <tr>\n",
       "      <th>177</th>\n",
       "      <td>South Sudan</td>\n",
       "      <td>1224000.0</td>\n",
       "      <td>19.6</td>\n",
       "      <td>1600.0</td>\n",
       "      <td>10204581</td>\n",
       "      <td>0.119946</td>\n",
       "    </tr>\n",
       "    <tr>\n",
       "      <th>178</th>\n",
       "      <td>Spain</td>\n",
       "      <td>286700000.0</td>\n",
       "      <td>80.3</td>\n",
       "      <td>38400.0</td>\n",
       "      <td>49331076</td>\n",
       "      <td>5.811752</td>\n",
       "    </tr>\n",
       "  </tbody>\n",
       "</table>\n",
       "</div>"
      ],
      "text/plain": [
       "             Country  CO2_Emissions_Number  Urbanization_Percentage  \\\n",
       "172         Slovakia            34860000.0                     53.7   \n",
       "173         Slovenia            14370000.0                     54.5   \n",
       "174  Solomon Islands              233500.0                     23.7   \n",
       "176     South Africa           572300000.0                     66.4   \n",
       "177      South Sudan             1224000.0                     19.6   \n",
       "178            Spain           286700000.0                     80.3   \n",
       "\n",
       "     GDP_Per_Capita_Number  Population_Number  CO2_Emissions_PerCapita  \n",
       "172                33100.0            5445040                 6.402157  \n",
       "173                34500.0            2102126                 6.835937  \n",
       "174                 2200.0             660121                 0.353723  \n",
       "176                13600.0           55380210                10.334016  \n",
       "177                 1600.0           10204581                 0.119946  \n",
       "178                38400.0           49331076                 5.811752  "
      ]
     },
     "execution_count": 76,
     "metadata": {},
     "output_type": "execute_result"
    }
   ],
   "source": [
    "#Checking\n",
    "data.iloc[172:178,:]"
   ]
  },
  {
   "cell_type": "markdown",
   "metadata": {},
   "source": [
    "## 12. Saving File for R"
   ]
  },
  {
   "cell_type": "code",
   "execution_count": 77,
   "metadata": {},
   "outputs": [],
   "source": [
    "data.to_csv(\"Cleaned_Data.csv\",index=None)"
   ]
  },
  {
   "cell_type": "code",
   "execution_count": null,
   "metadata": {},
   "outputs": [],
   "source": []
  }
 ],
 "metadata": {
  "kernelspec": {
   "display_name": "Python 3",
   "language": "python",
   "name": "python3"
  },
  "language_info": {
   "codemirror_mode": {
    "name": "ipython",
    "version": 3
   },
   "file_extension": ".py",
   "mimetype": "text/x-python",
   "name": "python",
   "nbconvert_exporter": "python",
   "pygments_lexer": "ipython3",
   "version": "3.7.1"
  }
 },
 "nbformat": 4,
 "nbformat_minor": 2
}
