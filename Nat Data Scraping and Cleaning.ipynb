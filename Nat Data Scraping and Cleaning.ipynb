{
 "cells": [
  {
   "cell_type": "markdown",
   "metadata": {},
   "source": [
    "# 1. Data to be used"
   ]
  },
  {
   "cell_type": "markdown",
   "metadata": {},
   "source": [
    "All data is from the CIA World Factbook (https://www.cia.gov/library/publications/resources/the-world-factbook/)\n",
    "\n",
    "1. 'emissions' reports millions of megatons of carbon dioxide emitted nationally from consumption of energy\n",
    "2. 'urban' is the percent of total population living in urban areas\n",
    "3. 'gdp' is the gross domestic product per capita in US dollars"
   ]
  },
  {
   "cell_type": "markdown",
   "metadata": {},
   "source": [
    "Links to the tables of data:\n",
    "\n",
    "1. emissions = https://www.cia.gov/library/publications/resources/the-world-factbook/fields/274.html\n",
    "2. urban = https://www.cia.gov/library/publications/resources/the-world-factbook/fields/349.html\n",
    "3. gdp = https://www.cia.gov/library/publications/resources/the-world-factbook/fields/211.html"
   ]
  },
  {
   "cell_type": "markdown",
   "metadata": {},
   "source": [
    "# 2. Reading the data"
   ]
  },
  {
   "cell_type": "code",
   "execution_count": 7,
   "metadata": {},
   "outputs": [
    {
     "data": {
      "text/html": [
       "<div>\n",
       "<style scoped>\n",
       "    .dataframe tbody tr th:only-of-type {\n",
       "        vertical-align: middle;\n",
       "    }\n",
       "\n",
       "    .dataframe tbody tr th {\n",
       "        vertical-align: top;\n",
       "    }\n",
       "\n",
       "    .dataframe thead th {\n",
       "        text-align: right;\n",
       "    }\n",
       "</style>\n",
       "<table border=\"1\" class=\"dataframe\">\n",
       "  <thead>\n",
       "    <tr style=\"text-align: right;\">\n",
       "      <th></th>\n",
       "      <th>Country</th>\n",
       "      <th>Carbon dioxide emissions from consumption of energy</th>\n",
       "    </tr>\n",
       "  </thead>\n",
       "  <tbody>\n",
       "    <tr>\n",
       "      <th>0</th>\n",
       "      <td>Afghanistan</td>\n",
       "      <td>9.067 million Mt  (2017 est.)</td>\n",
       "    </tr>\n",
       "    <tr>\n",
       "      <th>1</th>\n",
       "      <td>Albania</td>\n",
       "      <td>4.5 million Mt  (2017 est.)</td>\n",
       "    </tr>\n",
       "    <tr>\n",
       "      <th>2</th>\n",
       "      <td>Algeria</td>\n",
       "      <td>135.9 million Mt  (2017 est.)</td>\n",
       "    </tr>\n",
       "    <tr>\n",
       "      <th>3</th>\n",
       "      <td>American Samoa</td>\n",
       "      <td>361,100 Mt  (2017 est.)</td>\n",
       "    </tr>\n",
       "    <tr>\n",
       "      <th>4</th>\n",
       "      <td>Angola</td>\n",
       "      <td>20.95 million Mt  (2017 est.)</td>\n",
       "    </tr>\n",
       "  </tbody>\n",
       "</table>\n",
       "</div>"
      ],
      "text/plain": [
       "          Country Carbon dioxide emissions from consumption of energy\n",
       "0     Afghanistan                      9.067 million Mt  (2017 est.) \n",
       "1         Albania                        4.5 million Mt  (2017 est.) \n",
       "2         Algeria                      135.9 million Mt  (2017 est.) \n",
       "3  American Samoa                            361,100 Mt  (2017 est.) \n",
       "4          Angola                      20.95 million Mt  (2017 est.) "
      ]
     },
     "execution_count": 7,
     "metadata": {},
     "output_type": "execute_result"
    }
   ],
   "source": [
    "#creating a dataframe of CO2 emmissions\n",
    "import pandas as pd\n",
    "link1=\"https://www.cia.gov/library/publications/resources/the-world-factbook/fields/274.html\"\n",
    "emissions=pd.read_html(link1,header=0,flavor='bs4',attrs={'id': 'fieldListing'})[0]\n",
    "emissions.head()"
   ]
  },
  {
   "cell_type": "code",
   "execution_count": 8,
   "metadata": {},
   "outputs": [
    {
     "data": {
      "text/html": [
       "<div>\n",
       "<style scoped>\n",
       "    .dataframe tbody tr th:only-of-type {\n",
       "        vertical-align: middle;\n",
       "    }\n",
       "\n",
       "    .dataframe tbody tr th {\n",
       "        vertical-align: top;\n",
       "    }\n",
       "\n",
       "    .dataframe thead th {\n",
       "        text-align: right;\n",
       "    }\n",
       "</style>\n",
       "<table border=\"1\" class=\"dataframe\">\n",
       "  <thead>\n",
       "    <tr style=\"text-align: right;\">\n",
       "      <th></th>\n",
       "      <th>Country</th>\n",
       "      <th>Urbanization</th>\n",
       "    </tr>\n",
       "  </thead>\n",
       "  <tbody>\n",
       "    <tr>\n",
       "      <th>0</th>\n",
       "      <td>Afghanistan</td>\n",
       "      <td>urban population:  25.5% of total population  ...</td>\n",
       "    </tr>\n",
       "    <tr>\n",
       "      <th>1</th>\n",
       "      <td>Albania</td>\n",
       "      <td>urban population:  60.3% of total population  ...</td>\n",
       "    </tr>\n",
       "    <tr>\n",
       "      <th>2</th>\n",
       "      <td>Algeria</td>\n",
       "      <td>urban population:  72.6% of total population  ...</td>\n",
       "    </tr>\n",
       "    <tr>\n",
       "      <th>3</th>\n",
       "      <td>American Samoa</td>\n",
       "      <td>urban population:  87.2% of total population  ...</td>\n",
       "    </tr>\n",
       "    <tr>\n",
       "      <th>4</th>\n",
       "      <td>Andorra</td>\n",
       "      <td>urban population:  88.1% of total population  ...</td>\n",
       "    </tr>\n",
       "  </tbody>\n",
       "</table>\n",
       "</div>"
      ],
      "text/plain": [
       "          Country                                       Urbanization\n",
       "0     Afghanistan  urban population:  25.5% of total population  ...\n",
       "1         Albania  urban population:  60.3% of total population  ...\n",
       "2         Algeria  urban population:  72.6% of total population  ...\n",
       "3  American Samoa  urban population:  87.2% of total population  ...\n",
       "4         Andorra  urban population:  88.1% of total population  ..."
      ]
     },
     "execution_count": 8,
     "metadata": {},
     "output_type": "execute_result"
    }
   ],
   "source": [
    "#creating a dataframe of percent urbanization\n",
    "link2=\"https://www.cia.gov/library/publications/resources/the-world-factbook/fields/349.html\"\n",
    "urban=pd.read_html(link2,header=0,flavor='bs4',attrs={'id': 'fieldListing'})[0]\n",
    "urban.head()"
   ]
  },
  {
   "cell_type": "code",
   "execution_count": 9,
   "metadata": {},
   "outputs": [
    {
     "data": {
      "text/plain": [
       "(232, 2)"
      ]
     },
     "execution_count": 9,
     "metadata": {},
     "output_type": "execute_result"
    }
   ],
   "source": [
    "#creating a dataframe of GDP per capita\n",
    "link3=\"https://www.cia.gov/library/publications/resources/the-world-factbook/fields/211.html\"\n",
    "gdp=pd.read_html(link3,header=0,flavor='bs4',attrs={'id': 'fieldListing'})[0]\n",
    "gdp.shape"
   ]
  },
  {
   "cell_type": "markdown",
   "metadata": {},
   "source": [
    "# 3. Merging data sets"
   ]
  },
  {
   "cell_type": "code",
   "execution_count": 10,
   "metadata": {},
   "outputs": [
    {
     "data": {
      "text/html": [
       "<div>\n",
       "<style scoped>\n",
       "    .dataframe tbody tr th:only-of-type {\n",
       "        vertical-align: middle;\n",
       "    }\n",
       "\n",
       "    .dataframe tbody tr th {\n",
       "        vertical-align: top;\n",
       "    }\n",
       "\n",
       "    .dataframe thead th {\n",
       "        text-align: right;\n",
       "    }\n",
       "</style>\n",
       "<table border=\"1\" class=\"dataframe\">\n",
       "  <thead>\n",
       "    <tr style=\"text-align: right;\">\n",
       "      <th></th>\n",
       "      <th>Country</th>\n",
       "      <th>Carbon dioxide emissions from consumption of energy</th>\n",
       "      <th>Urbanization</th>\n",
       "    </tr>\n",
       "  </thead>\n",
       "  <tbody>\n",
       "    <tr>\n",
       "      <th>0</th>\n",
       "      <td>Afghanistan</td>\n",
       "      <td>9.067 million Mt  (2017 est.)</td>\n",
       "      <td>urban population:  25.5% of total population  ...</td>\n",
       "    </tr>\n",
       "    <tr>\n",
       "      <th>1</th>\n",
       "      <td>Albania</td>\n",
       "      <td>4.5 million Mt  (2017 est.)</td>\n",
       "      <td>urban population:  60.3% of total population  ...</td>\n",
       "    </tr>\n",
       "    <tr>\n",
       "      <th>2</th>\n",
       "      <td>Algeria</td>\n",
       "      <td>135.9 million Mt  (2017 est.)</td>\n",
       "      <td>urban population:  72.6% of total population  ...</td>\n",
       "    </tr>\n",
       "    <tr>\n",
       "      <th>3</th>\n",
       "      <td>American Samoa</td>\n",
       "      <td>361,100 Mt  (2017 est.)</td>\n",
       "      <td>urban population:  87.2% of total population  ...</td>\n",
       "    </tr>\n",
       "    <tr>\n",
       "      <th>4</th>\n",
       "      <td>Angola</td>\n",
       "      <td>20.95 million Mt  (2017 est.)</td>\n",
       "      <td>urban population:  65.5% of total population  ...</td>\n",
       "    </tr>\n",
       "  </tbody>\n",
       "</table>\n",
       "</div>"
      ],
      "text/plain": [
       "          Country Carbon dioxide emissions from consumption of energy  \\\n",
       "0     Afghanistan                      9.067 million Mt  (2017 est.)    \n",
       "1         Albania                        4.5 million Mt  (2017 est.)    \n",
       "2         Algeria                      135.9 million Mt  (2017 est.)    \n",
       "3  American Samoa                            361,100 Mt  (2017 est.)    \n",
       "4          Angola                      20.95 million Mt  (2017 est.)    \n",
       "\n",
       "                                        Urbanization  \n",
       "0  urban population:  25.5% of total population  ...  \n",
       "1  urban population:  60.3% of total population  ...  \n",
       "2  urban population:  72.6% of total population  ...  \n",
       "3  urban population:  87.2% of total population  ...  \n",
       "4  urban population:  65.5% of total population  ...  "
      ]
     },
     "execution_count": 10,
     "metadata": {},
     "output_type": "execute_result"
    }
   ],
   "source": [
    "#1st merge. Confirm that country data is lining up. \n",
    "join1=pd.merge(emissions,urban,left_on='Country',right_on='Country')\n",
    "join1.head()"
   ]
  },
  {
   "cell_type": "code",
   "execution_count": 11,
   "metadata": {},
   "outputs": [
    {
     "data": {
      "text/plain": [
       "(214, 3)"
      ]
     },
     "execution_count": 11,
     "metadata": {},
     "output_type": "execute_result"
    }
   ],
   "source": [
    "#18 countries that didn't show up in both dataframes being merged were dropped.\n",
    "join1.shape"
   ]
  },
  {
   "cell_type": "code",
   "execution_count": 12,
   "metadata": {},
   "outputs": [
    {
     "data": {
      "text/html": [
       "<div>\n",
       "<style scoped>\n",
       "    .dataframe tbody tr th:only-of-type {\n",
       "        vertical-align: middle;\n",
       "    }\n",
       "\n",
       "    .dataframe tbody tr th {\n",
       "        vertical-align: top;\n",
       "    }\n",
       "\n",
       "    .dataframe thead th {\n",
       "        text-align: right;\n",
       "    }\n",
       "</style>\n",
       "<table border=\"1\" class=\"dataframe\">\n",
       "  <thead>\n",
       "    <tr style=\"text-align: right;\">\n",
       "      <th></th>\n",
       "      <th>Country</th>\n",
       "      <th>Carbon dioxide emissions from consumption of energy</th>\n",
       "      <th>Urbanization</th>\n",
       "      <th>GDP - per capita (PPP)</th>\n",
       "    </tr>\n",
       "  </thead>\n",
       "  <tbody>\n",
       "    <tr>\n",
       "      <th>0</th>\n",
       "      <td>Afghanistan</td>\n",
       "      <td>9.067 million Mt  (2017 est.)</td>\n",
       "      <td>urban population:  25.5% of total population  ...</td>\n",
       "      <td>$2,000  (2017 est.)  $2,000  (2016 est.)  $2,0...</td>\n",
       "    </tr>\n",
       "    <tr>\n",
       "      <th>1</th>\n",
       "      <td>Albania</td>\n",
       "      <td>4.5 million Mt  (2017 est.)</td>\n",
       "      <td>urban population:  60.3% of total population  ...</td>\n",
       "      <td>$12,500  (2017 est.)  $12,100  (2016 est.)  $1...</td>\n",
       "    </tr>\n",
       "    <tr>\n",
       "      <th>2</th>\n",
       "      <td>Algeria</td>\n",
       "      <td>135.9 million Mt  (2017 est.)</td>\n",
       "      <td>urban population:  72.6% of total population  ...</td>\n",
       "      <td>$15,200  (2017 est.)  $15,200  (2016 est.)  $1...</td>\n",
       "    </tr>\n",
       "    <tr>\n",
       "      <th>3</th>\n",
       "      <td>American Samoa</td>\n",
       "      <td>361,100 Mt  (2017 est.)</td>\n",
       "      <td>urban population:  87.2% of total population  ...</td>\n",
       "      <td>$11,200  (2016 est.)  $11,300  (2015 est.)  $1...</td>\n",
       "    </tr>\n",
       "    <tr>\n",
       "      <th>4</th>\n",
       "      <td>Angola</td>\n",
       "      <td>20.95 million Mt  (2017 est.)</td>\n",
       "      <td>urban population:  65.5% of total population  ...</td>\n",
       "      <td>$6,800  (2017 est.)  $7,200  (2016 est.)  $7,6...</td>\n",
       "    </tr>\n",
       "  </tbody>\n",
       "</table>\n",
       "</div>"
      ],
      "text/plain": [
       "          Country Carbon dioxide emissions from consumption of energy  \\\n",
       "0     Afghanistan                      9.067 million Mt  (2017 est.)    \n",
       "1         Albania                        4.5 million Mt  (2017 est.)    \n",
       "2         Algeria                      135.9 million Mt  (2017 est.)    \n",
       "3  American Samoa                            361,100 Mt  (2017 est.)    \n",
       "4          Angola                      20.95 million Mt  (2017 est.)    \n",
       "\n",
       "                                        Urbanization  \\\n",
       "0  urban population:  25.5% of total population  ...   \n",
       "1  urban population:  60.3% of total population  ...   \n",
       "2  urban population:  72.6% of total population  ...   \n",
       "3  urban population:  87.2% of total population  ...   \n",
       "4  urban population:  65.5% of total population  ...   \n",
       "\n",
       "                              GDP - per capita (PPP)  \n",
       "0  $2,000  (2017 est.)  $2,000  (2016 est.)  $2,0...  \n",
       "1  $12,500  (2017 est.)  $12,100  (2016 est.)  $1...  \n",
       "2  $15,200  (2017 est.)  $15,200  (2016 est.)  $1...  \n",
       "3  $11,200  (2016 est.)  $11,300  (2015 est.)  $1...  \n",
       "4  $6,800  (2017 est.)  $7,200  (2016 est.)  $7,6...  "
      ]
     },
     "execution_count": 12,
     "metadata": {},
     "output_type": "execute_result"
    }
   ],
   "source": [
    "#2nd merge. Confirm that country data is lining up. \n",
    "data=pd.merge(join1,gdp,on='Country')\n",
    "data.head()"
   ]
  },
  {
   "cell_type": "code",
   "execution_count": 13,
   "metadata": {},
   "outputs": [
    {
     "data": {
      "text/plain": [
       "(214, 4)"
      ]
     },
     "execution_count": 13,
     "metadata": {},
     "output_type": "execute_result"
    }
   ],
   "source": [
    "data.shape"
   ]
  },
  {
   "cell_type": "markdown",
   "metadata": {},
   "source": [
    "# 4. Renaming columns"
   ]
  },
  {
   "cell_type": "code",
   "execution_count": 14,
   "metadata": {},
   "outputs": [
    {
     "name": "stdout",
     "output_type": "stream",
     "text": [
      "<class 'pandas.core.frame.DataFrame'>\n",
      "Int64Index: 214 entries, 0 to 213\n",
      "Data columns (total 4 columns):\n",
      "Country                                                214 non-null object\n",
      "Carbon dioxide emissions from consumption of energy    214 non-null object\n",
      "Urbanization                                           214 non-null object\n",
      "GDP - per capita (PPP)                                 214 non-null object\n",
      "dtypes: object(4)\n",
      "memory usage: 8.4+ KB\n"
     ]
    }
   ],
   "source": [
    "data.info()"
   ]
  },
  {
   "cell_type": "code",
   "execution_count": 15,
   "metadata": {},
   "outputs": [
    {
     "data": {
      "text/plain": [
       "Index(['Country', 'Carbon dioxide emissions from consumption of energy',\n",
       "       'Urbanization', 'GDP - per capita (PPP)'],\n",
       "      dtype='object')"
      ]
     },
     "execution_count": 15,
     "metadata": {},
     "output_type": "execute_result"
    }
   ],
   "source": [
    "data.columns"
   ]
  },
  {
   "cell_type": "code",
   "execution_count": 16,
   "metadata": {},
   "outputs": [],
   "source": [
    "newNames=['Country','CO2 Emissions','Urbanization','GDP Per Capita']"
   ]
  },
  {
   "cell_type": "code",
   "execution_count": 17,
   "metadata": {},
   "outputs": [],
   "source": [
    "nameChanges={old:new for old,new in zip(data.columns,newNames)}"
   ]
  },
  {
   "cell_type": "code",
   "execution_count": 18,
   "metadata": {},
   "outputs": [],
   "source": [
    "data.rename(nameChanges,axis=1,inplace=True)"
   ]
  },
  {
   "cell_type": "code",
   "execution_count": 19,
   "metadata": {},
   "outputs": [
    {
     "data": {
      "text/html": [
       "<div>\n",
       "<style scoped>\n",
       "    .dataframe tbody tr th:only-of-type {\n",
       "        vertical-align: middle;\n",
       "    }\n",
       "\n",
       "    .dataframe tbody tr th {\n",
       "        vertical-align: top;\n",
       "    }\n",
       "\n",
       "    .dataframe thead th {\n",
       "        text-align: right;\n",
       "    }\n",
       "</style>\n",
       "<table border=\"1\" class=\"dataframe\">\n",
       "  <thead>\n",
       "    <tr style=\"text-align: right;\">\n",
       "      <th></th>\n",
       "      <th>Country</th>\n",
       "      <th>CO2 Emissions</th>\n",
       "      <th>Urbanization</th>\n",
       "      <th>GDP Per Capita</th>\n",
       "    </tr>\n",
       "  </thead>\n",
       "  <tbody>\n",
       "    <tr>\n",
       "      <th>0</th>\n",
       "      <td>Afghanistan</td>\n",
       "      <td>9.067 million Mt  (2017 est.)</td>\n",
       "      <td>urban population:  25.5% of total population  ...</td>\n",
       "      <td>$2,000  (2017 est.)  $2,000  (2016 est.)  $2,0...</td>\n",
       "    </tr>\n",
       "    <tr>\n",
       "      <th>1</th>\n",
       "      <td>Albania</td>\n",
       "      <td>4.5 million Mt  (2017 est.)</td>\n",
       "      <td>urban population:  60.3% of total population  ...</td>\n",
       "      <td>$12,500  (2017 est.)  $12,100  (2016 est.)  $1...</td>\n",
       "    </tr>\n",
       "    <tr>\n",
       "      <th>2</th>\n",
       "      <td>Algeria</td>\n",
       "      <td>135.9 million Mt  (2017 est.)</td>\n",
       "      <td>urban population:  72.6% of total population  ...</td>\n",
       "      <td>$15,200  (2017 est.)  $15,200  (2016 est.)  $1...</td>\n",
       "    </tr>\n",
       "    <tr>\n",
       "      <th>3</th>\n",
       "      <td>American Samoa</td>\n",
       "      <td>361,100 Mt  (2017 est.)</td>\n",
       "      <td>urban population:  87.2% of total population  ...</td>\n",
       "      <td>$11,200  (2016 est.)  $11,300  (2015 est.)  $1...</td>\n",
       "    </tr>\n",
       "    <tr>\n",
       "      <th>4</th>\n",
       "      <td>Angola</td>\n",
       "      <td>20.95 million Mt  (2017 est.)</td>\n",
       "      <td>urban population:  65.5% of total population  ...</td>\n",
       "      <td>$6,800  (2017 est.)  $7,200  (2016 est.)  $7,6...</td>\n",
       "    </tr>\n",
       "  </tbody>\n",
       "</table>\n",
       "</div>"
      ],
      "text/plain": [
       "          Country                  CO2 Emissions  \\\n",
       "0     Afghanistan  9.067 million Mt  (2017 est.)   \n",
       "1         Albania    4.5 million Mt  (2017 est.)   \n",
       "2         Algeria  135.9 million Mt  (2017 est.)   \n",
       "3  American Samoa        361,100 Mt  (2017 est.)   \n",
       "4          Angola  20.95 million Mt  (2017 est.)   \n",
       "\n",
       "                                        Urbanization  \\\n",
       "0  urban population:  25.5% of total population  ...   \n",
       "1  urban population:  60.3% of total population  ...   \n",
       "2  urban population:  72.6% of total population  ...   \n",
       "3  urban population:  87.2% of total population  ...   \n",
       "4  urban population:  65.5% of total population  ...   \n",
       "\n",
       "                                      GDP Per Capita  \n",
       "0  $2,000  (2017 est.)  $2,000  (2016 est.)  $2,0...  \n",
       "1  $12,500  (2017 est.)  $12,100  (2016 est.)  $1...  \n",
       "2  $15,200  (2017 est.)  $15,200  (2016 est.)  $1...  \n",
       "3  $11,200  (2016 est.)  $11,300  (2015 est.)  $1...  \n",
       "4  $6,800  (2017 est.)  $7,200  (2016 est.)  $7,6...  "
      ]
     },
     "execution_count": 19,
     "metadata": {},
     "output_type": "execute_result"
    }
   ],
   "source": [
    "data.head()"
   ]
  },
  {
   "cell_type": "code",
   "execution_count": 29,
   "metadata": {},
   "outputs": [
    {
     "data": {
      "text/plain": [
       "Country           object\n",
       "CO2 Emissions     object\n",
       "Urbanization      object\n",
       "GDP Per Capita    object\n",
       "dtype: object"
      ]
     },
     "execution_count": 29,
     "metadata": {},
     "output_type": "execute_result"
    }
   ],
   "source": [
    "data.dtypes"
   ]
  },
  {
   "cell_type": "markdown",
   "metadata": {},
   "source": [
    "# 5. Simplifying contents"
   ]
  },
  {
   "cell_type": "code",
   "execution_count": 35,
   "metadata": {},
   "outputs": [
    {
     "data": {
      "text/html": [
       "<div>\n",
       "<style scoped>\n",
       "    .dataframe tbody tr th:only-of-type {\n",
       "        vertical-align: middle;\n",
       "    }\n",
       "\n",
       "    .dataframe tbody tr th {\n",
       "        vertical-align: top;\n",
       "    }\n",
       "\n",
       "    .dataframe thead th {\n",
       "        text-align: right;\n",
       "    }\n",
       "</style>\n",
       "<table border=\"1\" class=\"dataframe\">\n",
       "  <thead>\n",
       "    <tr style=\"text-align: right;\">\n",
       "      <th></th>\n",
       "      <th>Country</th>\n",
       "      <th>CO2 Emissions</th>\n",
       "      <th>Urbanization</th>\n",
       "      <th>GDP Per Capita</th>\n",
       "      <th>CO2EmissionsNumber</th>\n",
       "    </tr>\n",
       "  </thead>\n",
       "  <tbody>\n",
       "    <tr>\n",
       "      <th>0</th>\n",
       "      <td>Afghanistan</td>\n",
       "      <td>9.067 million Mt  (2017 est.)</td>\n",
       "      <td>urban population:  25.5% of total population  ...</td>\n",
       "      <td>$2,000  (2017 est.)  $2,000  (2016 est.)  $2,0...</td>\n",
       "      <td>9.067 million Mt  (2017 est.)</td>\n",
       "    </tr>\n",
       "    <tr>\n",
       "      <th>1</th>\n",
       "      <td>Albania</td>\n",
       "      <td>4.5 million Mt  (2017 est.)</td>\n",
       "      <td>urban population:  60.3% of total population  ...</td>\n",
       "      <td>$12,500  (2017 est.)  $12,100  (2016 est.)  $1...</td>\n",
       "      <td>4.5 million Mt  (2017 est.)</td>\n",
       "    </tr>\n",
       "    <tr>\n",
       "      <th>2</th>\n",
       "      <td>Algeria</td>\n",
       "      <td>135.9 million Mt  (2017 est.)</td>\n",
       "      <td>urban population:  72.6% of total population  ...</td>\n",
       "      <td>$15,200  (2017 est.)  $15,200  (2016 est.)  $1...</td>\n",
       "      <td>135.9 million Mt  (2017 est.)</td>\n",
       "    </tr>\n",
       "    <tr>\n",
       "      <th>3</th>\n",
       "      <td>American Samoa</td>\n",
       "      <td>361,100 Mt  (2017 est.)</td>\n",
       "      <td>urban population:  87.2% of total population  ...</td>\n",
       "      <td>$11,200  (2016 est.)  $11,300  (2015 est.)  $1...</td>\n",
       "      <td>361</td>\n",
       "    </tr>\n",
       "    <tr>\n",
       "      <th>4</th>\n",
       "      <td>Angola</td>\n",
       "      <td>20.95 million Mt  (2017 est.)</td>\n",
       "      <td>urban population:  65.5% of total population  ...</td>\n",
       "      <td>$6,800  (2017 est.)  $7,200  (2016 est.)  $7,6...</td>\n",
       "      <td>20.95 million Mt  (2017 est.)</td>\n",
       "    </tr>\n",
       "  </tbody>\n",
       "</table>\n",
       "</div>"
      ],
      "text/plain": [
       "          Country                  CO2 Emissions  \\\n",
       "0     Afghanistan  9.067 million Mt  (2017 est.)   \n",
       "1         Albania    4.5 million Mt  (2017 est.)   \n",
       "2         Algeria  135.9 million Mt  (2017 est.)   \n",
       "3  American Samoa        361,100 Mt  (2017 est.)   \n",
       "4          Angola  20.95 million Mt  (2017 est.)   \n",
       "\n",
       "                                        Urbanization  \\\n",
       "0  urban population:  25.5% of total population  ...   \n",
       "1  urban population:  60.3% of total population  ...   \n",
       "2  urban population:  72.6% of total population  ...   \n",
       "3  urban population:  87.2% of total population  ...   \n",
       "4  urban population:  65.5% of total population  ...   \n",
       "\n",
       "                                      GDP Per Capita  \\\n",
       "0  $2,000  (2017 est.)  $2,000  (2016 est.)  $2,0...   \n",
       "1  $12,500  (2017 est.)  $12,100  (2016 est.)  $1...   \n",
       "2  $15,200  (2017 est.)  $15,200  (2016 est.)  $1...   \n",
       "3  $11,200  (2016 est.)  $11,300  (2015 est.)  $1...   \n",
       "4  $6,800  (2017 est.)  $7,200  (2016 est.)  $7,6...   \n",
       "\n",
       "              CO2EmissionsNumber  \n",
       "0  9.067 million Mt  (2017 est.)  \n",
       "1    4.5 million Mt  (2017 est.)  \n",
       "2  135.9 million Mt  (2017 est.)  \n",
       "3                            361  \n",
       "4  20.95 million Mt  (2017 est.)  "
      ]
     },
     "execution_count": 35,
     "metadata": {},
     "output_type": "execute_result"
    }
   ],
   "source": [
    "#Saving every first element for each element in the column:\n",
    "emissionsnumber=[element.split(',')[0] for element in data.iloc[:,1]]\n",
    "\n",
    "#Making the above list a new column:\n",
    "data=data.assign(CO2EmissionsNumber=emissionsnumber)\n",
    "\n",
    "#Checking:\n",
    "data.head()"
   ]
  },
  {
   "cell_type": "code",
   "execution_count": null,
   "metadata": {},
   "outputs": [],
   "source": []
  }
 ],
 "metadata": {
  "kernelspec": {
   "display_name": "Python 3",
   "language": "python",
   "name": "python3"
  },
  "language_info": {
   "codemirror_mode": {
    "name": "ipython",
    "version": 3
   },
   "file_extension": ".py",
   "mimetype": "text/x-python",
   "name": "python",
   "nbconvert_exporter": "python",
   "pygments_lexer": "ipython3",
   "version": "3.7.1"
  }
 },
 "nbformat": 4,
 "nbformat_minor": 2
}
